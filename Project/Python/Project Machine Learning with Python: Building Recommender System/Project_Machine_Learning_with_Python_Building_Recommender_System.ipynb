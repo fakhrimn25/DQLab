{
  "nbformat": 4,
  "nbformat_minor": 0,
  "metadata": {
    "colab": {
      "name": "Project Machine Learning with Python: Building Recommender System",
      "provenance": [],
      "collapsed_sections": [],
      "toc_visible": true
    },
    "kernelspec": {
      "name": "python3",
      "display_name": "Python 3"
    },
    "language_info": {
      "name": "python"
    }
  },
  "cells": [
    {
      "cell_type": "markdown",
      "source": [
        "# Formula dari IMDB dengan Weighted Rating"
      ],
      "metadata": {
        "id": "lmxKmedbgDAe"
      }
    },
    {
      "cell_type": "markdown",
      "source": [
        "![image.png](data:image/png;base64,iVBORw0KGgoAAAANSUhEUgAAAvoAAABtCAIAAABfgVJQAAAgAElEQVR4nO2dd0AU1/bH71KVEgFRAVFBQBF7wP5DKXawPl8AjS1qiDWa2ONLYkDFkigaMZZoVCzBqM/YnoigEUERBQEDCghIcaUKyApbf3+cX+5v3mxhYXdZ3JzPX3Dnzp27O7Mz3znn3HM4EomEIAiCIAiC6C562p4AgiAIgiCIZkG5gyAIgiCIjoNyB0EQBEEQHQflDoIgCIIgOg7KHQRBEARBdByUOwiCIAiC6DgodxAEQRAE0XFQ7iAIgiAIouOg3EEQBEEQRMdBuYMgCIIgiI6DcgdBEARBEB0H5Q6CIAiCIDoOyh0EQRAEQXQclDsIgiAIgug4KHcQBEEQBNFxUO4gCIIgCKLjoNxBEARBEETHQbmDIAiCIIiOg3IHQRAEQRAdB+UOgiAIgiA6DsodBEEQBEF0HJQ7CIIgCILoOCh3EARBEATRcVDuIAiCIAii46DcQRAEQRBEx0G5gyAIgiCIjoNyB0EQBEEQHQflDoIgCIIgOg7KHQRBEARBdByUOwiCIAiC6DgodxAEQRAE0XFQ7iAIgiAIouOg3EEQBEEQRMdBuYMgCIIgiI6DcgdBEEQRfD7/+vXr+/btoy2vX79esWLF/v37tTgrpLVRUVFRW1sLfwuFwoKCAlaH2trat2/ftvi8kP8D5Q6CIIhsrly54uvra2lpOXHixJcvX9L2s2fP7tu3b9myZaWlpVqcHtIa2Lt3r6+vb4cOHaytrUtKSgghV69edXJycnBw+Oyzz6BPXV3d/PnzO3Xq1LVr18zMTK3O9+8Lyh0EQd5jHj9+rLnB/f39jxw5wuPxCCFjx46l7YGBgX379iWEvHjxQnNHbw08fPhQ21NQGy9fviwvL1f7sCtWrJg7d255eXnnzp179uwZGRm5cePG9u3bE0KOHz/O5/MrKir8/f2rq6v5fH5VVVV0dLTa59AayM3Nrays1PYsFGGg7QkgCII0h5qamoULF3bt2vXDDz/U3FHAJdGmTRtPT0/a2KlTp8uXLzs4OJibm2vu0Cpy9erVW7duKehgYmLStWvXLl26dOnSpUePHkZGRqwOIpEoNDS0R48eYWFh+vr6mpysxrl69eqaNWsuX75sbW2t9sFzc3MJIT4+PrGxsWfOnElKSrpz5864ceMaGhpqamqmTJmyZ8+eQYMGffjhhykpKXp674eVoa6u7u7du4mJiVwut6ysrLy8vGPHjr179+7Tp0+fPn1cXFwMDAxEItHSpUsXL17cv3//goKCadOmnTx5sn///tqeuxwkCIIg7xupqakuLi5Lly7V9IE2bNhACBk7dqz0Jhsbm8rKSk1PoNnU1dW9evUqJSVl/fr1rNu+ubm5lZUVs8Xe3n7Pnj11dXWsQYRC4eLFi0ePHl1eXq6VT6E6QqFw/fr1nTp1ysjI0NAhQApv377d09OzqqpKIpGcOXOGEOLi4rJixYqoqCjo1rlzZ0LI1atXNTQNtdDQ0PDzzz97enoaGhrCtWFhYTFgwIBJkyZ5eHi0bdsWGo2MjPr16+fk5GRoaEgvm0ePHnXv3v306dPa/Qjy4EgkEg0LKjZPnz4FC7CDgwMYhGWSmppaWFhICGnXrt3IkSPldeNyuWButbS0/J//+Z9mzCcxMREsnH5+fqrr7ujo6IaGBlNTUx8fHxWHagHS0tLg5dXb29vMzKzR/tXV1X/88YeCDhwOx9bW1snJycLCQm2zbIyKioqEhARCiIuLi6ura4sdtxmIRKKJEye+ePEiLCwMXqbNzMy8vb3l9S8sLExNTYW/x48fT29ALIRC4fXr1+FvuIxVOVM3b95csmRJv379zp8/r/xHa0lOnDgRHBw8b968iIgIDoej0WO5u7s/fvx4165dX375JbO9urp6+PDhT58+1ejR1YWDgwONnJ0+fTqcWQjBDgkJefToEWzq0qXLw4cPO3XqxNp9/vz5t2/fvnz5cp8+fVpy2qpTUVExbdq0zMzM2NhYBY8bVeDxeJaWlnw+38XFJSoqasCAAYSQzz//fO/evfb29tOmTdu7dy8h5OXLl926dTMwMKioqPjggw80MRMV4fP54eHhe/bsgQgkCwuL2bNnL1q0iPm9icXitLS04ODgpKQkaBkyZMj9+/dph7S0tJEjRy5atGjnzp0tPP/GaXmFdfDgQTi0l5eXgm7UQG1iYlJfXy+v27Zt26DbggULmjcfLy8vGKGhoaF5IzDp2LEjIcTJyUn1oVqAhQsXwmd/+vSpMv2Vd+R36tRp27ZtPB5P0x9BIpHcvn0bDrphw4YWOJwq7NixgxAyaNCgZ8+ewZzbtGmj4PL+4osv6Ff6xx9/yOuWmJgIfeiFp8qZEolEcIOjb6WtipiYGH19/ZkzZ4rFYk0f6/Xr1yCn0tLSWJuuX7/+xRdfaHoCaqGurs7A4P/jFvbu3cvcWllZ2a1bN7rV29tbKBSyRhAIBKNGjXJ0dHzz5k0LTlxVhEKhr69vmzZtUlNTNXeUmzdvwlf3+eef00bQhZ06daLf2C+//EIIGTZsmOZmogpPnz5lOqECAgLATCUTPp8/e/Zs6Ll69WrW1hs3bhBCwsPDNTzlJqMFufP8+XP4mkxMTPh8vsw+ZWVlzJe22NhYeaNNmDAB+pw5c6Z582klcmfYsGGWlpYODg6qz0F5NCd3AHt7++zsbLVMdfXq1ZaWlpaWltIPnvdF7uTm5pqYmBBC4uLiJH9Ztgkh8fHx8nZhvld9/fXX8rpt374d+gQHB0OLimfq0qVLhJCuXbu2jGBVnoKCAmtraysrq5bxrURGRhJCbGxspDd99NFHBQUFLTAH1WHFxj558oTV4fjx48wOt2/flh4kLS1NT09vxowZap/ezZs3Dxw4cPToUbWPvGbNGsU/HLWwceNGQoiVlVV1dTW0vH79Gr7Jw4cP025z584lhGzatEmjk2kex44da9OmDcxZX19fmXNRVlYGDoFLly5Jb/3nP/9pZGSUnJysgck2Hy2EKru4uNjb2xcVFfF4vMePHw8ZMkS6z61btyQML1tMTIxMg79IJLp37x4hhMPh+Pr6am7OLUB1dXVVVZVYLNb2RJTCysrq6NGj0u0ikaigoODBgwdgGCgqKgoKCkpISJDnhVEeHo9XVVUFh1BxKG2xZMkSHo83YcIEUNje3t7wNI2Pjx8xYoR0fy6Xm56eTv+NiYnZvHmzzJHv3LkDf4wZM4a1qXlnavLkyUOGDHnw4MGOHTu++eab5nxaDVBfXz99+vTy8vL9+/fDyhdNA0JB+ltNT0+3t7fv2rVrC8xBdejlQQixtLSU9un069eP+W9KSsqoUaNYffr27Ttv3ryjR49GREQsWbJEjdM7cuTIr7/+amVlNX/+fDUOe+7cuZ07d3bt2lU6dEm9xMXFEUIWLVpEXVTQYm1tTU0gtHH06NEanUwziIyM/OSTT+gD99ChQ8qcCGtr65kzZx4+fFjmvWvbtm3//ve/AwICHj9+3Io8d1oRWXPmzIGj79y5U2aHBQsWEELatWsH8XSDBw+W2S05ORnGGTBgQLMnU1lZyeVyuVxus0dg0mzrjpubG3xktUxDSZpt3bGzs1Pc8/r16zQQ6tChQ6pPld5hU1JSWJv4fD6cwdraWtUPpCFSUlJg/teuXYMWqkL8/Pxk7nLy5Eno4OjoSAgxMDCoqamR7iYUCtu1a0cI0dPTo5Gzqp+pEydOEEIsLCzevn3bnA+sAZYtW0YI6devn7S3RUP06tWLEMJ62W1oaPD09CwtLW2ZOagO84E0ZcoU6Q6w0p6yZs0ameMUFRWZmJgYGxtL24dUISAggBBiZWWlxjHz8vLA9nDu3Dk1DitNbW0tOAqfPXtGGz/99FNCyPLly2kLhKuamJioxYegRi5dusR0dDbJErZ79243Nzd5W1esWEEICQoKUsc01YN2VsRRU018fLzMDuAN9fHxAS386NGjN2/eSHdT8FKrPJaWlp06dZKOzkNUYfz48bNmzYK/NZ26w9DQEM6gMtHW2uLHH38khHTs2JFeq9SLmpCQIJG1YgB+Be3bt4cgWaFQSN12TJ48eVJdXU0IcXd3t7S0bOrE5J2padOmmZiYvHnzBmIOtE5FRcWRI0cIIYsXL26xRdH5+fmEEFNTU9rC5/ODg4Pnzp3boUOHlpmDivB4PBpVSgiRNtsQQsrKypj/Dhw4UOZQnTt3DgoKamho2LJli3onqXYiIiLevn1rY2MzY8YMjR4oPj5eKBTCSn7aGBsbSwhhrlYB046np6eRkVFYWJjM33vLU15ePn/+fKFQCP/26dNn06ZNyu9ua2vLzM7AAjyJZ86c+fPPP1Wcp7rQstwBVxSL58+fQwLTsWPHQmovkUgElwsLuvZEnoXw7du3Dx48yMzMVDF1d3l5eWpqampqajM8KbW1tU+ePElKSoJnklooLS1NSEh48eIFn89XchehUJiWlpacnNximaDoWWZ6ZFjw+fy8vLx79+49fPjwxYsXLeCoys7OTktLa2hoUKYzn8/Pzc1NSEhgPQ+aSmVl5enTpwkhgYGB9F3K0dERzDZVVVUyF/jExMQQQkaPHj1+/HhmC4tGfwWNIvNMmZmZTZ48mfwV2dq8kdXIsWPH6uvrCWO2LQDE8J48ebKmpkYgEMTHx/v5+U2ZMgXMz+8FCQkJAoGA/itT7lDTIyHEwMBApnsCgMfbxYsXaXhKK6S+vh5Mp/SNQnPAg4mpbAoLC3NycjgcDnNBMbxI5ObmBgQETJkyRdPLCZVk7dq1zMfBwYMHmxR1YGBgoODHaG9v7+DgQAj56aefVJmkOtGWWal79+4wgT///JO1Cd6DCSEvXrygiyeXLFnC6iYWi8HVZWxszAqorKqqWrp0qZubG7XS6+vrT5069fHjx9IzCQwMdHBwcHBwkBk3febMmUGDBtGvy9zcfNy4cRBqOnfuXAcHh6FDhzL7M51ZaWlp/v7+zORdnTt3DgsLE4lEtP8nn3wCR4frjMPhOPxFTEwMazJ//vnnjBkzunTpwpzP0qVLX79+Le97FggE33333fDhw2m+BD09vREjRvznP/+RaNKZJZFILly4AJ09PT1Zm0Qi0b///W8fHx/Wz97a2nrhwoWFhYW056FDh+DboPnc7OzsoCU0NBT63L9/H1p27NhBd8zOzoZGiBaMi4v7xz/+QW14+vr6vXr1unLlirzJc7lcpjOeEOLq6rpq1aqGhoaUlBQY+ezZs8p8aRKJJDw8HAYBQw7lk08+gfaIiAjWLhkZGbAJPCkgjGSajqdNmwY9IeINUMuZunjxIrRHR0cr+Uk1hFgsdnJyIoTY2tq25HFv3Ljh4uJCCDE1NTUzMxs3btzDhw9bcgKq89VXX9FruF27dsybDyAQCJgP5pCQEAWj0YUmW7ZsUdcM1e7MAj8sIeTgwYPqGlMe8HQ4fvw4bQFrKCu+YteuXYSQLl263LlzR9NTUpKUlBTm7XfkyJFqP8TMmTMJIRYWFtL5nLSC1uQOfdBKB3ZMmTKFEOLs7Az/9uzZkxDSo0cPVre0tDQYwcfHh9l+79495rpKJubm5tKrYOStzBKLxRByL42JiUlsbCy8c3fu3Jm5F5U7ly9fls5SCowZM4auofXz85PZhxDy+++/M0c+dOgQrOuRplevXq9evZL+kl+9eqXA2Lhu3TqNyh1qF50zZw7riw0MDJQ3K0KIo6NjXl4edFaQvIEuA5a5MotaUHft2hUbG0vVHguZN/esrCyQF9JMnjyZWlOYyy4UA2YSQ0ND1ppzCFUmhMycOZO1y+7du2FTUVGRRCIJDg6Gf4uLi1lfJgTttm3bljm4Ws4UfYNftWqVkp9UQ/znP/+BmWglFOD169fJyckK1uW2ZpimGukoMZFItGrVKtph0qRJ0nqIBXjxHBwcGu2pJGqXO0OHDoWPw4yn0S5isfjZs2ctFnOmDKw8Ur/++qvaD0EtFz///LPaB28GWpM7p06dknmHFQgE8EpN86VCfCIh5OXLl8ye9KvcunUrbYyNjQVnAYfDmTdv3okTJ+Lj4w8fPgwSihBiZmZ29+5d5jjy5A6Np27Tpk1wcPAvv/xy+/btnTt3Qn8TExMQVTLljrW1Nfwxfvz4ffv2xcXFXbt2bcWKFTTmgAbQHThwYNmyZcuWLYOoCyMjo2V/kZ6eTof97rvvYEdzc/MNGzZcuHAhLi5u9+7dkNKKEOLq6spSPFVVVXZ2drDVxsZm+fLlZ8+ejYmJ2bp1KzW9wiSJBuTO27dvaUYy1krFdevWQbu1tXVgYODevXvv3bsXGxsbGhpK5zN//nzoHBMTA98GXU4SGBgILRcuXIA+iuXO9OnTTU1N9fX1Fy1adPTo0Xv37v32229UZRobG4OeoCQnJ9OEs4MGDQoNDb1582ZUVNTy5cvhHEH4KlFa7ohEIthROqC+qKgIhuratStr08SJEwkhvXv3hn9/++036HnixAlmN2oEYqX9VcuZkvy1Wr5Pnz7KfFLNQfMPbd68Wbszeb+oq6tjvnQxzZ8NDQ2RkZH0YjYxMfnxxx+VSWVEXavqMlSoV+7U1NTA9PT09NQyoE4iFovt7e3phaGhGGqaftDb21vtgzcDrckdyNtICHF0dGS202geeuf9/fffoYW1PuKf//wntFPzskAggPVNZmZmTMM+cPbsWVAbdnZ2TJUtU+7QJ6i1tTXLASEWiyHmHJApdwghHA7nwIEDrDnQxTjSlkMFK7Nyc3MhKULv3r1fvHjB3MTn8+nLWUBAAHMTNWK7uLjk5+ezxgwNDWVaMtUrd3Jzc2lAbr9+/ZhvgUKhEOSsjY0NNeFQMjMz4Ry5uLiwNilYmaVY7sBJZGlcCUPOshYj0Oth3rx5LP9menq6ra0tHVZJuUMDI2C1JwswXpL/VvOQmJswzCqVlZXwzbBeD/bv3w+7sxY5qn6mgEmTJsFWmebDFuMf//gHTGPPnj1anMZ7ByvYy9XVdcqUKcOGDbOzswNHv56enqenZ3h4eElJiZJjBgUFwWjqchWpV+7Q+DMLCwu1DKiTMKO1CCG+vr6aOApNptrCPmh5aK1EqK2traura1ZWVl5eXklJCbVDwGoUQ0NDGgPl5eVlaGgoEAhiYmKY+QDAp2BlZUXzL+/duxceckwDBiUgICA1NTUsLKykpOTq1avgX5AHuFoJIYcPHx42bBhzE4fDCQ8Pf/Tokcw4a0pgYOBnn33Gapw/f/6mTZtKSkqys7MV7Mti5cqV9fX1BgYGJ0+eZDlZDA0Nd+3alZSUdO/evYsXL5aXl0MBvPLycogX0dfXv3HjhrR376uvvnr16hV9WDaV6urqlStXshqFQmFFRUVeXl5SUpJEIiGEODs7M9c5E0JSUlLg9QtCplgjuLq6Dhgw4NGjR9nZ2TweT57zrqls2bJFusDIV199BT5+5rl49OgRiKf+/fsfO3aMtUufPn2OHz/OrIytDHRdDH2TZuLt7Q03hbt374KrmxCSmJhYV1dHGFW4LS0tPTw8Hjx4wHqANRqn3OwzBfTt2/fy5cswJRokJI+CgoK1a9cq7sPiX//6lzJ1CWCFFCGkFeXweB9gLuUzNTUdOHBgeXk5n8+nb5tOTk5xcXFNWulG1z/m5eWpcarqAi8VZaDfEqAg5kEV6KXC5XLfvXsnL6KgxdBmRXQfH5+srCxCSHx8/EcffQSNIHeGDRtGQ1PNzc2HDh169+5dMNiATeLZs2cQWODj40Pv0RAjZmFhsXTpUplH3Lhx486dO0Ui0eHDhxXInby8vKtXrxJCnJ2d5XVbsWKFYrkjL7dVz549S0pKXr9+LRAIlAmDr6yshOfNhAkTZC4Q1dPT27hxo5+fH5/PP378OHhkz58/D4vRJk6cKC8M5csvv/zpp5+atxiqrq6Oht/KxNjYePfu3QsWLGAFMFlYWICJS+bqD4lEUlFRAX/T5ZEq0qFDB5nraJycnAwMDIRCIfUokb+WixNCWI5typgxY9zc3Jq0tJLL5cIfMleJ+/j4wMqF+Ph4KnfgV2BsbMxcRzN27NgHDx6UlJRkZmZS5QRyp0OHDvKqEDf7TAHUr/fq1StFH5IQQsibN2+ioqIa7cbk008/VUbu0CULyjzDTp48SR2m7wVUfKgdptzx8vKC5YFlZWUODg6Qayc7O/v06dPMbHiNQp9hkEtGGZ4+fapgDSlNH8oyObBwc3MzNjZu9FhNulSAHj16qLh0tyVZv349073QPJg3PfLXCkS1Qy8ViUSSn58v832vJdGy3ImIiCAMuVNbW/vgwQPCeKkFxowZc/fu3devX2dkZEAMh/RLrVAohLdkd3d3eDOWSe/evdPS0mBdkrzVgFA4lxAybtw4eUVDafEKmRgYGMg7tfCLFYvF7969U0bu0CXK7u7utbW1Mvv069ePw+FIJJJr167BczonJwc2UZefNI6OjkOGDIHimmqnoaHh66+/fvfuHbPqEyHE2dnZ2dlZur9AIEhLS9u1axfrtUN1evXqJfPlVV9fH+QO805H498VnN/x48c3Se7QRewyy6Z6eXnBuWPmoAK54+npyXwfGjNmTEhICCEkJiYGrq7s7GxQIb6+vs1e2irvTLHmXFpa2uhQHTp0YMa9KoMyiYnr6uqgiC9R+hmmjDhrJYA5VhO8e/eOmXGH5p3v0KHDwoULoW4lISQ0NHTmzJnKG3iaIXf8/f0b/V1XV1dTO71MsrOzZd46WDTPuvMeXTBqgfVzpjEY6oWZCO3Fixd/a7kzatQouNHfvXsXWm7fvg3v9Cy5M3bs2K+//poQEhMTI0/u5ObmwgvErVu3Gr3QwZgv70ZDjbQKNK+5ubmFhYXM5IeEEDs7O9XLJgD0yfrtt99+++23ijvTpTRU7iiW7Y6Ojs2TO7a2tjL9cQ0NDU+fPj179mxERER5efmXX35pZWU1b9486Z51dXX379+/d+9eRkZGVlbWs2fPlM8h1CSkXWYKgFNvYmKi4CHU1NIBiuVOhw4d+vTpk56enpGRUVVVZWlpWVVVBRWqWb+CoUOHmpub19bWxsTELF++nCiXcUfFM9UkuWNnZ/fDDz802q2pKJkkiYlig9bfhMTEROZviunfX7169YEDByAfz/Pnz0+dOkVD2RqFSnBqiG1VNONqoath/j6wngsaytupp6dnZGQEF2FruFq0KXesra379ev35MmTtLS0mpqaDz74gKaRdXd3Z/b08PCAx0BMTAy8PkI+ZUdHR8jGQZruSC4tLZX3SKOGPsU5as3MzOTJHXVpHdLEz0WfScXFxfAHM7RWGhoy1VQ4HA4z1SzF1NTU09PT09PT1NQU1pDv2LGD9RAtLS3dvn37oUOHWAbk9u3bT506NTk5+cmTJ82blUyUPxe0LFej571JE6D3X3kz8fHxgVV4CQkJfn5+cXFx4GEcN24cs5uhoaGXl9fly5fhrcDAwECZrOKqnClCCA2fUmOSzKZiZWUFOo8QQtfdKKBJrhkdhunJgpst/bdLly6zZ8+mKydCQ0NnzZql5DOP2s6ZS3sUs337dnmWaULIwYMHHz58aGpqqlikKmmBoA9yZS4VQHXf0HtH7969mf/m5uZq4ihCoZAKbuWvFs2hTblDCPH29n7y5IlYLE5MTBw3bhzIndGjR7NcSPr6+j4+PufPn79z545AICguLi4sLCT//VJL37kHDx5M08koQMHrO01Gp+CNViQStYz9k36ujz/+mJkNTCb0hmVvbw9rcxTnUKY+ArWzdu3aPXv2CASCzMzM4uJiWv27pqbG19cXlk937Nhx4sSJnp6eLi4uPXr0gK99woQJ6pU7ymNiYmJmZvb27duysjIFvk6W27tRaLUBeYrB29sbbvSQtBd+BTY2NqzCjYSQsWPHXr58uaamJikpafjw4WDdcXFxUaVWpbwzBdCnFA3i0QoODg6w4kbBUxNhwZQ73t7erOt53bp1v/zyC9Qkzs7OjoyMhJLdjUJPgfJ2UxqaKZObN28+fPjQ2NhYLbmqaagiXioKYMkd6g1QL8xT0CQru4bQstzx8fHZs2cPIeTu3btubm4Qucx6qQXGjBlz/vz5urq6xMREavBgvtQ6OztDKIaJicmiRYtUmRXkUSVS4etM8vLyWqY0N/V3Ojs7K/+5qJM7NzdXZs15QO2BMhRra+u+ffs+fvyYEJKZmUkfouvWrQOt4+fnFxkZKdO/o0VcXFxSUlL4fP6rV6/kmb6atKqOMNSzPFvgqFGj9PT0xGIxeHVB7shc/0Uv+JiYmM6dO0NUpioF44j8M8WaszIlokQikfKv1IC5uTmzQqE8qNxp6vh/W969ewdxkID0StUePXrMmDGDhpaHhoZ+/PHHyhh4miF3WhI6K7xUFGBubt69e3cafcW8VNQIvVT09PSYxQC0hXZqZlFGjhwJP7D4+Hi6wrbRGz281Orp6TF/w0ZGRuDYysrKUrCo59q1a6dPn6ZZ82VC5c6lS5fkDUWrVWsaKncUVJ5qaGg4ffr06dOnabgrrVcHq7pkUlZWlpiYqL6ZsqGJAZleWxpuEh4eLlPraLcWDz3158+fl9mhpqbm0qVLTRqTGuHlyR0LCwtYc5ecnJyZmQmGZZm/gp49e4Ihh/4KiAqlsigyzxRrzsrInYyMDKsmQv1xisFnWFNhBe7QOGUmGzZsoH/n5OQoeU+jzzANLedREbxUlOSbb76hfyckJNy6dUv5fcPCwrZu3dpoN3qpqDGYVRW0LHfatWsH0fhJSUmw9tvNzY31fgl0794d1ExMTAzcIgcOHAjp8ymQi4zL5ULlZGlevXo1efLkWbNm0ZzOMnF1dYXgodLSUpnCqLa29vDhw8p9RFWxsbEZPnw4IeTixYsyC0kSQn7//fdZs2bNmjWLruScOnUqhJicO3dOnl/2wIEDUHNRQ1APCwTEEEL4fD4Y8KysrGjQFROo36m5KTXKxx9/DH8cPnxYptI9fPhwU9es0vJwNKBKGhLBbCIAABIqSURBVBDuDQ0NcBPhcDjybDbQfv/+/WvXrhFC9PX1VS+ZKX2mKHQVvXZf5akbl9ZsQhTD1JH29vZUxzMZMGAAJO8GQkNDlcn+QDWxMhkEWh4rKyvw1IhEIuXXjv0NmTNnDjPdDrO2mmJCQkKOHDkinVVOmtZ2qWhZ7pC/bvTv3r0DYSHTkwXA++79+/fh+S39Urt27VoQQJs2bZJ+a4RsyOCBok81mXA4HCpdFyxYwFq7VF1dPXbsWLUH7sACdR6PJ+0j27FjByFELBbPnTsXasUzKS8vh5pHBgYGtBaVtbU1JJcTiUTTp0+XDjc5d+6cMvJcFWh0FDXYGBkZgamjsrISdA8TLpf70Ucf0Y//7t075laackOjL22TJk2CrJLp6ekzZ85knYtTp041I6HLyJEjwV8DDiOZUDslCPEBAwbIC8yEX4FAIPj1118JIR4eHqo7BKXPFCU1NZUQoq+vr6BKNsXV1fVZE2Hl8JTHlClT4AuhNq2/A7du3RozZkxgYKD0j6VRmIE70p4sCtPAk5ubSyu1yUMoFEJQYO/evRV4ybULdfr/fa6W2traDRs2uLu779u3T/m9IiIiqCv5wYMHCxYsUPwCXFZWFhQUtG/fvt9//12ZYD7qPVBLVJYa0E4yZwa0+B9w/fp1eT1ZhhbpguESiQQigQghenp6y5cvv3DhwosXL3Jyci5evEiVrJeXF7M4gLyaWf7+/tBuamoaEBBw4MCBM2fOLF68GEy4tra2UAtXXolQeZ+CVpyprq5mttN8hv7+/tu2bfv+++9zc3Pp1qlTp8JWS0vLLVu2REdHFxcXZ2RkHDx4kIbmbdy4kTlgVVWVjY0NbLKzswsLC7tz505BQcFvv/22ePFiCAZv164ddNBEiVBqY2NWt6Af09HR8fTp0/n5+QUFBTdu3Ni8eTOkD6BLgY4ePcosjU5XOPft2/e7777btWvX7du3YZPiIhILFiyQN0MozTFw4EBm4927d6GdENK/f/9169ZduHAhLCxswoQJ8KXR+mvKlwiFnM7t27eX16G2tpYZwrJu3Tp5PcvLy5mB/Js2bZLZTfUzJZFIxGIxaCkPD49GB9E0NF8zq3aertLQ0EAlb1NLDhUVFTGjcL7//nsFnZmv+G3atFFcVpMGeURERDRpSgpQe4nQiooK+AnLLNuikzB1apNqmUVFRTGFy4cffvj8+XPpbkVFRdu2bWvfvn2vXr1YhYwUANnL7OzsBAKB8lPSHNqXO2/fvqVePWNjYx6PJ6/nmzdv6G+4bdu27969k9ntxx9/pI8radzc3FiVjeXJHYFAIJ19HzA3N4+OjoYdWcUdmy13Dhw4wDoKsyI6j8f79NNP5X0oQsjMmTOly/sVFhaCJpPJ5s2bNVoRnYYNMYuUPXv2TJ41Ql9fPzQ09Ny5c7Rl8ODBdLS0tDRWTKuSFdGbKnckEklycrK8uAR/f38aZMYq4qYAmjCpoKBAXh9wWQLSFd+YeHh40J5U87FQ/UxJJBLqBl29enWjg2ga6sY6depUCx86Ly9PwYnTEMzFMh988IHyD4yXL1+ySqYEBQUpqP15/fp1ZmdXV1dmcWIWYGmGvABN/khyULvckUgks2bNIrJK72maN2/e5Obm1tTUtPBxmf4KZiFYZSgpKaElkwF7e/upU6eGhISEhIQsWLAAQmyNjY3Xr1+v/Hmn5RG//fbbpn8gjaB9uSORSKidfPTo0Yp7UtO34p5PnjwZPXo067HaqVOnH374QVpOyZM7wMWLF4OCgmChk76+vru7+8qVK0H/gjt8+PDhzP7NljsikSgkJKRnz560egZT7gBRUVHu7u4sMde/f/8LFy7Iu53V19d/8cUXPXv2ZC5DdXR03Ldvn0Qi0ajcqayspBlfjhw5QtuTk5NZOYuNjY09PDz++OMPiURSV1dHY/iHDRvGHPDcuXODBw+2srKCz6I5uSORSMrLy9esWTNy5EgIgerYseP06dOPHDkiFotp4Fd0dHSjXwJAg64UVFWkvnNTU1PF1YmpA0JBT7WcqYMHD0KjdIFVrQD+a39//xY+rpmZWbdu3Vr4oBKJhMZvsQy3Mtm7d+/06dOHDBkic6Vbt27dJk+ePHfuXJkXDCudsZ6enoeHB+sGBUCg2NKlS9Xw8f5CE3KHpq6lBaRbBii2eOzYsZY8qEQiuX37NlgNLC0tuVxuM0Y4duzY4MGDZVYR6NKly+rVq6UrOisG4kkMDQ2Vrz6raVqF3NEc+fn5ly9fvnXrVn5+vnS15yZRWVnJFLZisRjcLrNmzVJ5mk1DIBBkZGRcuHAhISHh9evXSu715s2bmJiYuLg4lnFLWxQXF9+9e/f8+fPp6emsN1eRSHTnzp2kpCTFT/2WQSQSFRUVMVvCwsLgLpCdna38OBCUNnLkSHVPUIOAm2PAgAHansj/kZubC++LcXFxLXlcbckdsVh88+bNJ0+etPyhZQLR8Q4ODhUVFWocVhNyRyKRQOVELy8v9Q6rGG3JHYlEwuVyIVeLKoOUlZXduHHj5MmTP/zwQ3h4eFRUVGZmpgLToDzEYjGEdil2pLYwOi53mk1eXl5OTk5+fr68DtT+/69//aslJ4ZolOrq6pycnJycHAXmaFi1p6enx4wAaxRwGXA4nJZ3izSP/Px8sKL9/PPP2p7L/3P27FlCiIeHR/NuwUlJSZs2bWLK62+//XbVqlX19fUKdmyS3CkvL6cXj0AgkL6H1NTUqNET1GI0NDT06NGjbdu2jx8/Vu/Ihw4dWrRo0cqVK9U7bH19/YABA4gsM7kyNDQ0XLt2be/evbSFy+UuX778xx9/VLBXk+SOWCwuLCyk7uPa2tpXr16x+nC5XBVf1LUClOsODAzU9kT+C5Q7soH1L/r6+sXFxdJbxWIxXRkLLhhEN6Cr8BYvXiyzA81O4ePj06SRxWKxm5sbISQ0NFQdM9U4W7ZsIYS0b99eQTidVoAgtsjISOV3yczMnDFjBixAY4Zdw7ozQkhUVJSC3ZWRO+Hh4T4+PnCIrKwsiURy5coVWOEfHBwMfd6+fTtv3ry2bdtaWlr++eefys+/NbB9+3ZCyIkTJ7Q9kSbw7NkzMzOzXr16NSlU9vLlyz4+PmC8Z0at0XUwCmzqysgdLpe7efPmDz/80NTU1NbWFhrDwsJMTU2NjIyOHz8OLc+fP4dc2G5ubu+X4qmurraxsenbt6+Kpia1g3JHNvv374cre8yYMSzLLY/Ho2XGJ02apK0ZIppAJBJBEuS2bdv++uuvrK3R0dEQEMbhcJKTk5s6OFgEra2tWz6SsanU1NRAXsH9+/drey5seDzewIED27Vrp2TAGcDn8yECjxkHIxQKg4KCCCHbtm1TsK+S1p3jx4+Tv5Zqnjx5sl+/fpA9sk2bNg0NDeXl5V5eXtOmTYP1Fnv27FF+8lonLi7O2Nh41apV2p5Ikzl16pSent7ChQubtBdN2MOMz+NyuZCQMzExUd6Oylt35s+fD7EQYrH4s88+Gz16NNx54D0qOTl5wIABNDlkampqk+avRQQCgZ+fn7W1dU5OjrbnwgbljmzevHlDs0qYmZkFBQVt3bp1+/btAQEBNAuiqanpe/eKhjTKyZMn6QJAWIgeHh6+atUqT09P2j5//vzmDQ6B6t98841656x2vv76a0LIiBEjmuEzagFqa2sDAgIcHByYqQoUw+PxIDKdtZZNIBC4uLgo9lAoKXfgS5s9e/atW7cmTpxYX19/48YNEMdlZWXDhw9PSkqSSCSggZheklZOcnJyhw4dYHHD+8j169fbt28fEhKi/C5xcXGgU1nrf6HqTkZGhrwdlZc74B/4+eefv/nmG1i7BEsQBg0alJWVNXTo0LKyMlplLy0tTfnJaxGhUDhnzpwhQ4a0zmwRKHfkUltbO336dHl1IsePH9/USHXkfeHixYu00BULCwuLgwcPNlsEZGVlGRoampmZlZaWqnfOaoTL5ZqZmRkZGbVyNb9nzx5nZ2fFeWIooDzMzMykI64CAgIuXLigYF8l5Q5Edm/fvt3T0xMWBJw5c4YQ4uLismLFCuovg/elq1evKjNtrRMdHd27d+8HDx5oeyIqkZ+f7+HhsX79eiX7g/IYO3as9CYbG5vKykp5Oyopd3g8npGREfSkya6Cg4MJIXPnzvX19YVlEFCeT09Pr/XbgyUSybt376ZOnbp8+fLWsMREJlouEdqaMTMzO3/+fEFBQWRk5NOnT4uKijgcDtTuHjhwoIp1GZHWzNSpU/39/a9du3b9+vXCwsLS0lJIw9+jRw8/Pz+avLEZ9OzZ87fffisoKOByucpUodIKXC5369atTk5OtF5b6+Tzzz8fNGhQREQEDapQAMgdLy8v6do92dnZkPQoKytr1KhR0vvW1dXxeDyZCjg9PR1yT/B4PEjBd+TIkaioKHB6QlZZsBCAB/zly5fFxcUGBgas1DitE6FQGBkZeefOHVa5nveObt26xcfHr1y5Mj09nVaIUwBcLdJ166qrq62srCwtLQkhCxYsuHLlCqsDj8cjhKxYsUI6/fqcOXN27twJfyckJPD5/DZt2hw6dCg6Ohoa4WqJjY3dvXs3OF4hlNDd3Z1mJ2nNnD59OjAwENbZtU5Q7jRCt27dlC8mgugMBgYGkydPpjmg1YgmxlQv/fv379+/v7ZnoRTDhw9npmdUgLwHWG1traGhoTxjnvLAA4wQMnHiRFgQRAiJjY0lhAgEgpCQEGgBL8mgQYNgRX0rx8DAAAKSdABjY2PpVK4yKS0theKD0ldLYmIiTZwmz/CvDHAZ1NfXr127FjJ7lZWVQRHo3r17Q/FH2k31GsAtwyeffKLtKTSGts1LCIIgmoXWjMvMzGRt2r17t3RMOgtlnFkbN24khFhZWdHsfLQAGbPYyNy5c4n80h9IayAyMpIQYmNjI73po48+UpxIQklnFmh0X19f2hIVFUUI0dPTYzpnIbe7zHJJSDNA6w6CIDoO+Au6dOni6urKbOfxeHfu3GEV42se8CK+aNEiaraBFmtr69mzZ7O6vS/v639P4GqRDldIT0+3t7eH5AKq8PbtW0h6vnr1atoIhkA/P78ePXpAC5QuadOmjTLVeRFlQLmDIIiOA08XKIDAZM2aNZ999pkqXgmAPsCY9nx4gAUFBRkbG0NLXl7ey5cvTUxMlKwDj2gFmVcLn89funTp+fPnVR//3r17AoHAzs4OMq0DcLXMmzePtkBtnBEjRigoAYk0CRkFMhAEQXQJWD9M64IBBw4cqKurYz5ymk18fLxQKOzSpQt9NSd/PcB8fHxoC5h2PD09jYyMwsLCJBKJ6odG1I701cLn84ODg+fOnauW5QVwGfj6+lKdXVxc/Pz5cw6HQws4EoYhsKamhuaBQ1QB5Q6CIDoOxEBcuXIFAi8yMjI+/fTToqKiY8eOqWV8eDIxlU1hYWFOTg6Hw6Hp18lfZoPc3NyAgIApU6aoblVCNAFcLSdPnqypqREIBPHx8X5+flOmTFmwYIFaxpe+WkAZ9+vXz8rKijbC1RIdHb1kyRKm1QdpNujMQhBEx9m4cWNqampycnL37t2trKxsbW03bNgA+ZTVgrwHWP/+/ZkPMFhd3NDQsHTp0la+yP/vTHh4+LJly65cuWJnZ8fhcEaMGLFt2zYPDw+1DF5TU/Po0SMi62phuc+cnZ2zsrL4fD7Ul1DL0f/mcNCgiiDI34G6urrMzMzOnTvb2to2aUdzc/P27duDj0MVJBJJdna2k5MTTc+NtFpKS0sLCwudnJwghZKSfP/996tXrz527Jjq9pj6+vqSkpLu3burOA5CQbmDIAiiiPz8fD09PdWX5CA6T3V1dUVFRceOHSGbDtKqQLmDIAiCIIiOg6HKCIIgCILoOCh3EARBEATRcVDuIAiCIAii46DcQRAEQRBEx0G5gyAIgiCIjoNyB0EQBEEQHQflDoIgCIIgOg7KHQRBEARBdByUOwiCIAiC6DgodxAEQRAE0XFQ7iAIgiAIouOg3EEQBEEQRMdBuYMgCIIgiI6DcgdBEARBEB0H5Q6CIAiCIDoOyh0EQRAEQXQclDsIgiAIgug4KHcQBEEQBNFxUO4gCIIgCKLjoNxBEARBEETHQbmDIAiCIIiOg3IHQRAEQRAdB+UOgiAIgiA6DsodBEEQBEF0HJQ7CIIgCILoOCh3EARBEATRcVDuIAiCIAii46DcQRAEQRBEx/lfWR5lp8XQ2pEAAAAASUVORK5CYII=)"
      ],
      "metadata": {
        "id": "cVUTUbBzgElU"
      }
    },
    {
      "cell_type": "markdown",
      "source": [
        "dimana,\n",
        "\n",
        "v: jumlah votes untuk film tersebut\n",
        "\n",
        "m: jumlah minimum votes yang dibutuhkan supaya dapat masuk dalam chart\n",
        "\n",
        "R: rata-rata rating dari film tersebut\n",
        "\n",
        "C: rata-rata jumlah votes dari seluruh semesta film\n",
        "\n"
      ],
      "metadata": {
        "id": "i62CTShigHNd"
      }
    },
    {
      "cell_type": "markdown",
      "source": [
        "# [Import Library dan File Unloading](https://academy.dqlab.id/main/projectcode/212/378/1876?pr=)"
      ],
      "metadata": {
        "id": "s4x5BqSpgT6c"
      }
    },
    {
      "cell_type": "code",
      "execution_count": null,
      "metadata": {
        "id": "jU5C6XDmfbzK"
      },
      "outputs": [],
      "source": [
        "#import library yang dibutuhkan\n",
        "import pandas as pd\n",
        "import numpy as np\n",
        "pd.set_option('display.max_columns', None)\n",
        "\n",
        "#lakukan pembacaan dataset\n",
        "movie_df = pd.read_csv('https://storage.googleapis.com/dqlab-dataset/title.basics.tsv', sep='\\t') #untuk menyimpan title_basics.tsv\n",
        "rating_df = pd.read_csv('https://storage.googleapis.com/dqlab-dataset/title.ratings.tsv', sep='\\t') #untuk menyimpan title.ratings.tsv"
      ]
    },
    {
      "cell_type": "markdown",
      "source": [
        "# [5 Data teratas dari table movie](https://academy.dqlab.id/main/livecode/212/379/1877?pr=)"
      ],
      "metadata": {
        "id": "1LNodOuYhroh"
      }
    },
    {
      "cell_type": "code",
      "source": [
        "import pandas as pd\n",
        "import numpy as np\n",
        "pd.set_option('display.max_columns', None)\n",
        "\n",
        "movie_df = pd.read_csv('https://storage.googleapis.com/dqlab-dataset/title.basics.tsv', sep='\\t')\n",
        "\n",
        "print(movie_df.head())"
      ],
      "metadata": {
        "colab": {
          "base_uri": "https://localhost:8080/"
        },
        "id": "Y2Ye1mH9hqA0",
        "outputId": "5259dce0-29df-456c-cc6e-9bfd81397b05"
      },
      "execution_count": null,
      "outputs": [
        {
          "output_type": "stream",
          "name": "stdout",
          "text": [
            "      tconst  titleType                                      primaryTitle  \\\n",
            "0  tt0221078      short                         Circle Dance, Ute Indians   \n",
            "1  tt8862466  tvEpisode  ¡El #TeamOsos va con todo al \"Reality del amor\"!   \n",
            "2  tt7157720  tvEpisode                                     Episode #3.41   \n",
            "3  tt2974998  tvEpisode                         Episode dated 16 May 1987   \n",
            "4  tt2903620  tvEpisode                  Frances Bavier: Aunt Bee Retires   \n",
            "\n",
            "                                      originalTitle  isAdult startYear  \\\n",
            "0                         Circle Dance, Ute Indians        0      1898   \n",
            "1  ¡El #TeamOsos va con todo al \"Reality del amor\"!        0      2018   \n",
            "2                                     Episode #3.41        0      2016   \n",
            "3                         Episode dated 16 May 1987        0      1987   \n",
            "4                  Frances Bavier: Aunt Bee Retires        0      1973   \n",
            "\n",
            "  endYear runtimeMinutes             genres  \n",
            "0      \\N             \\N  Documentary,Short  \n",
            "1      \\N             \\N       Comedy,Drama  \n",
            "2      \\N             29   Comedy,Game-Show  \n",
            "3      \\N             \\N               News  \n",
            "4      \\N             \\N        Documentary  \n"
          ]
        }
      ]
    },
    {
      "cell_type": "markdown",
      "source": [
        "# [Info Data dari Setiap Kolom](https://academy.dqlab.id/main/livecode/212/379/1922?pr=)"
      ],
      "metadata": {
        "id": "HB6G4al-iSV-"
      }
    },
    {
      "cell_type": "code",
      "source": [
        "import pandas as pd\n",
        "import numpy as np\n",
        "pd.set_option('display.max_columns', None)\n",
        "\n",
        "movie_df = pd.read_csv('https://storage.googleapis.com/dqlab-dataset/title.basics.tsv', sep='\\t')\n",
        "\n",
        "print(movie_df.info())"
      ],
      "metadata": {
        "colab": {
          "base_uri": "https://localhost:8080/"
        },
        "id": "OYvhS3-biQbx",
        "outputId": "e7953e85-3c2b-4c65-d234-a576182fc79d"
      },
      "execution_count": null,
      "outputs": [
        {
          "output_type": "stream",
          "name": "stdout",
          "text": [
            "<class 'pandas.core.frame.DataFrame'>\n",
            "RangeIndex: 9025 entries, 0 to 9024\n",
            "Data columns (total 9 columns):\n",
            " #   Column          Non-Null Count  Dtype \n",
            "---  ------          --------------  ----- \n",
            " 0   tconst          9025 non-null   object\n",
            " 1   titleType       9025 non-null   object\n",
            " 2   primaryTitle    9011 non-null   object\n",
            " 3   originalTitle   9011 non-null   object\n",
            " 4   isAdult         9025 non-null   int64 \n",
            " 5   startYear       9025 non-null   object\n",
            " 6   endYear         9025 non-null   object\n",
            " 7   runtimeMinutes  9025 non-null   object\n",
            " 8   genres          9014 non-null   object\n",
            "dtypes: int64(1), object(8)\n",
            "memory usage: 634.7+ KB\n",
            "None\n"
          ]
        }
      ]
    },
    {
      "cell_type": "markdown",
      "source": [
        "# [Pengecekan Data dengan Nilai NULL](https://academy.dqlab.id/main/livecode/212/379/1923?pr=)"
      ],
      "metadata": {
        "id": "VhSfgmEYiak0"
      }
    },
    {
      "cell_type": "code",
      "source": [
        "import pandas as pd\n",
        "import numpy as np\n",
        "pd.set_option('display.max_columns', None)\n",
        "\n",
        "movie_df = pd.read_csv('https://storage.googleapis.com/dqlab-dataset/title.basics.tsv', sep='\\t')\n",
        "\n",
        "print(movie_df.isnull().sum())"
      ],
      "metadata": {
        "colab": {
          "base_uri": "https://localhost:8080/"
        },
        "id": "3q0lOGtLidg3",
        "outputId": "6cee2b1f-11f3-4133-8452-48e2ca1a54c2"
      },
      "execution_count": null,
      "outputs": [
        {
          "output_type": "stream",
          "name": "stdout",
          "text": [
            "tconst             0\n",
            "titleType          0\n",
            "primaryTitle      14\n",
            "originalTitle     14\n",
            "isAdult            0\n",
            "startYear          0\n",
            "endYear            0\n",
            "runtimeMinutes     0\n",
            "genres            11\n",
            "dtype: int64\n"
          ]
        }
      ]
    },
    {
      "cell_type": "markdown",
      "source": [
        "# [Analisis Kolom dengan data bernilai NULL - part 1](https://academy.dqlab.id/main/livecode/212/379/1931?pr=)"
      ],
      "metadata": {
        "id": "GRe8gDBJirV4"
      }
    },
    {
      "cell_type": "code",
      "source": [
        "import pandas as pd\n",
        "import numpy as np\n",
        "pd.set_option('display.max_columns', None)\n",
        "\n",
        "movie_df = pd.read_csv('https://storage.googleapis.com/dqlab-dataset/title.basics.tsv', sep='\\t')\n",
        "\n",
        "print(movie_df.loc[(movie_df['primaryTitle'].isnull())|(movie_df['originalTitle'].isnull())])"
      ],
      "metadata": {
        "colab": {
          "base_uri": "https://localhost:8080/"
        },
        "id": "elaAaMa0ivhz",
        "outputId": "ce0d73dd-fab6-4ced-ab3b-71468df1bba6"
      },
      "execution_count": null,
      "outputs": [
        {
          "output_type": "stream",
          "name": "stdout",
          "text": [
            "          tconst  titleType primaryTitle originalTitle  isAdult startYear  \\\n",
            "9000  tt10790040  tvEpisode          NaN           NaN        0      2019   \n",
            "9001  tt10891902  tvEpisode          NaN           NaN        0      2020   \n",
            "9002  tt11737860  tvEpisode          NaN           NaN        0      2020   \n",
            "9003  tt11737862  tvEpisode          NaN           NaN        0      2020   \n",
            "9004  tt11737866  tvEpisode          NaN           NaN        0      2020   \n",
            "9005  tt11737872  tvEpisode          NaN           NaN        0      2020   \n",
            "9006  tt11737874  tvEpisode          NaN           NaN        0      2020   \n",
            "9007   tt1971246  tvEpisode          NaN           NaN        0      2011   \n",
            "9008   tt2067043  tvEpisode          NaN           NaN        0      1965   \n",
            "9009   tt4404732  tvEpisode          NaN           NaN        0      2015   \n",
            "9010   tt5773048  tvEpisode          NaN           NaN        0      2015   \n",
            "9011   tt8473688  tvEpisode          NaN           NaN        0      1987   \n",
            "9012   tt8541336  tvEpisode          NaN           NaN        0      2018   \n",
            "9013   tt9824302  tvEpisode          NaN           NaN        0      2016   \n",
            "\n",
            "     endYear runtimeMinutes                genres  \n",
            "9000      \\N             \\N                    \\N  \n",
            "9001      \\N             \\N                 Crime  \n",
            "9002      \\N             \\N  Comedy,Drama,Romance  \n",
            "9003      \\N             \\N  Comedy,Drama,Romance  \n",
            "9004      \\N             \\N  Comedy,Drama,Romance  \n",
            "9005      \\N             \\N                    \\N  \n",
            "9006      \\N             \\N  Comedy,Drama,Romance  \n",
            "9007      \\N             \\N             Biography  \n",
            "9008      \\N             \\N                 Music  \n",
            "9009      \\N             \\N                Comedy  \n",
            "9010      \\N             \\N             Talk-Show  \n",
            "9011      \\N             \\N                 Drama  \n",
            "9012      \\N             \\N    Reality-TV,Romance  \n",
            "9013      \\N             \\N           Documentary  \n"
          ]
        }
      ]
    },
    {
      "cell_type": "markdown",
      "source": [
        "# [Membuang Data dengan Nilai NULL - part 1](https://academy.dqlab.id/main/livecode/212/379/1932?pr=)"
      ],
      "metadata": {
        "id": "gauZN0RtkEVT"
      }
    },
    {
      "cell_type": "code",
      "source": [
        "import pandas as pd\n",
        "import numpy as np\n",
        "pd.set_option('display.max_columns', None)\n",
        "\n",
        "movie_df = pd.read_csv('https://storage.googleapis.com/dqlab-dataset/title.basics.tsv', sep='\\t')\n",
        "\n",
        "#mengupdate movie_df dengan membuang data-data bernilai NULL\n",
        "movie_df = movie_df.loc[(movie_df['primaryTitle'].notnull())&(movie_df['originalTitle'].notnull())]\n",
        "\n",
        "#menampilkan jumlah data setelah data dengan nilai NULL dibuang\n",
        "print(len(movie_df))"
      ],
      "metadata": {
        "colab": {
          "base_uri": "https://localhost:8080/"
        },
        "id": "MSp37uIvkMgc",
        "outputId": "34294679-80d8-43f0-d4bc-9930aa2f317a"
      },
      "execution_count": null,
      "outputs": [
        {
          "output_type": "stream",
          "name": "stdout",
          "text": [
            "9011\n"
          ]
        }
      ]
    },
    {
      "cell_type": "markdown",
      "source": [
        "# [Analisis Kolom dengan data bernilai NULL - part 2](https://academy.dqlab.id/main/livecode/212/379/1933?pr=)"
      ],
      "metadata": {
        "id": "ZCaLf0rMkwl-"
      }
    },
    {
      "cell_type": "code",
      "source": [
        "import pandas as pd\n",
        "import numpy as np\n",
        "pd.set_option('display.max_columns', None)\n",
        "\n",
        "movie_df = pd.read_csv('https://storage.googleapis.com/dqlab-dataset/title.basics.tsv', sep='\\t')\n",
        "\n",
        "movie_df = movie_df.loc[(movie_df['primaryTitle'].notnull()) & (movie_df['originalTitle'].notnull())]\n",
        "\n",
        "print(movie_df.loc[movie_df['genres'].isnull()])"
      ],
      "metadata": {
        "colab": {
          "base_uri": "https://localhost:8080/"
        },
        "id": "GbNoEZ67k09w",
        "outputId": "bebed21c-4141-4160-a840-238d9a97dbb5"
      },
      "execution_count": null,
      "outputs": [
        {
          "output_type": "stream",
          "name": "stdout",
          "text": [
            "          tconst  titleType  \\\n",
            "9014  tt10233364  tvEpisode   \n",
            "9015  tt10925142  tvEpisode   \n",
            "9016  tt10970874  tvEpisode   \n",
            "9017  tt11670006  tvEpisode   \n",
            "9018  tt11868642  tvEpisode   \n",
            "9019   tt2347742  tvEpisode   \n",
            "9020   tt3984412  tvEpisode   \n",
            "9021   tt8740950  tvEpisode   \n",
            "9022   tt9822816  tvEpisode   \n",
            "9023   tt9900062  tvEpisode   \n",
            "9024   tt9909210  tvEpisode   \n",
            "\n",
            "                                           primaryTitle originalTitle  \\\n",
            "9014  Rolling in the Deep Dish\\tRolling in the Deep ...             0   \n",
            "9015  The IMDb Show on Location: Star Wars Galaxy's ...             0   \n",
            "9016  Die Bauhaus-Stadt Tel Aviv - Vorbild für die M...             0   \n",
            "9017  ...ein angenehmer Unbequemer...\\t...ein angene...             0   \n",
            "9018  GGN Heavyweight Championship Lungs With Mike T...             0   \n",
            "9019  No sufras por la alergia esta primavera\\tNo su...             0   \n",
            "9020  I'm Not Going to Come Last, I'm Just Going to ...             0   \n",
            "9021  Weight Loss Resolution Restart - Ins & Outs of...             0   \n",
            "9022  Zwischen Vertuschung und Aufklärung - Missbrau...             0   \n",
            "9023  The Direction of Yuu's Love: Hings Aren't Goin...             0   \n",
            "9024  Politik und/oder Moral - Wie weit geht das Ver...             0   \n",
            "\n",
            "      isAdult startYear endYear          runtimeMinutes genres  \n",
            "9014     2019        \\N      \\N              Reality-TV    NaN  \n",
            "9015     2019        \\N      \\N               Talk-Show    NaN  \n",
            "9016     2019        \\N      \\N                      \\N    NaN  \n",
            "9017     1981        \\N      \\N             Documentary    NaN  \n",
            "9018     2020        \\N      \\N               Talk-Show    NaN  \n",
            "9019     2004        \\N      \\N                      \\N    NaN  \n",
            "9020     2014        \\N      \\N              Reality-TV    NaN  \n",
            "9021     2015        \\N      \\N              Reality-TV    NaN  \n",
            "9022     2019        \\N      \\N                      \\N    NaN  \n",
            "9023     1994        \\N      \\N  Animation,Comedy,Drama    NaN  \n",
            "9024     2005        \\N      \\N                      \\N    NaN  \n"
          ]
        }
      ]
    },
    {
      "cell_type": "markdown",
      "source": [
        "# [Membuang Data dengan Nilai NULL - part 2](https://academy.dqlab.id/main/livecode/212/379/1934?pr=)"
      ],
      "metadata": {
        "id": "5RXt803PlI4w"
      }
    },
    {
      "cell_type": "code",
      "source": [
        "import pandas as pd\n",
        "import numpy as np\n",
        "pd.set_option('display.max_columns', None)\n",
        "\n",
        "movie_df = pd.read_csv('https://storage.googleapis.com/dqlab-dataset/title.basics.tsv', sep='\\t')\n",
        "\n",
        "movie_df = movie_df.loc[(movie_df['primaryTitle'].notnull()) & (movie_df['originalTitle'].notnull())]\n",
        "\n",
        "#mengupdate movie_df dengan membuang data-data bernilai NULL\n",
        "movie_df = movie_df.loc[movie_df['genres'].notnull()]\n",
        "\n",
        "#menampilkan jumlah data setelah data dengan nilai NULL dibuang\n",
        "print(len(movie_df))"
      ],
      "metadata": {
        "colab": {
          "base_uri": "https://localhost:8080/"
        },
        "id": "k8na42kklOAO",
        "outputId": "b3394778-dc93-4635-8229-640a70db017b"
      },
      "execution_count": null,
      "outputs": [
        {
          "output_type": "stream",
          "name": "stdout",
          "text": [
            "9000\n"
          ]
        }
      ]
    },
    {
      "cell_type": "markdown",
      "source": [
        "# [Mengubah Nilai '\\\\N'](https://academy.dqlab.id/main/livecode/212/379/1935?pr=)"
      ],
      "metadata": {
        "id": "ikfwqz3Hlemk"
      }
    },
    {
      "cell_type": "code",
      "source": [
        "import pandas as pd\n",
        "import numpy as np\n",
        "pd.set_option('display.max_columns', None)\n",
        "\n",
        "movie_df = pd.read_csv('https://storage.googleapis.com/dqlab-dataset/title.basics.tsv', sep='\\t')\n",
        "\n",
        "movie_df = movie_df.loc[(movie_df['primaryTitle'].notnull()) & (movie_df['originalTitle'].notnull())]\n",
        "movie_df = movie_df.loc[movie_df['genres'].notnull()]\n",
        "\n",
        "#mengubah nilai '\\\\N' pada startYear menjadi np.nan dan cast kolomnya menjadi float64\n",
        "movie_df['startYear'] = movie_df['startYear'].replace('\\\\N',np.nan)\n",
        "movie_df['startYear'] = movie_df['startYear'].astype('float64')\n",
        "print(movie_df['startYear'].unique()[:5])\n",
        "\n",
        "#mengubah nilai '\\\\N' pada endYear menjadi np.nan dan cast kolomnya menjadi float64\n",
        "movie_df['endYear'] = movie_df['endYear'].replace('\\\\N',np.nan)\n",
        "movie_df['endYear'] = movie_df['endYear'].astype('float64')\n",
        "print(movie_df['endYear'].unique()[:5])\n",
        "\n",
        "#mengubah nilai '\\\\N' pada runtimeMinutes menjadi np.nan dan cast kolomnya menjadi float64\n",
        "movie_df['runtimeMinutes'] = movie_df['runtimeMinutes'].replace('\\\\N',np.nan)\n",
        "movie_df['runtimeMinutes'] = movie_df['runtimeMinutes'].astype('float64')\n",
        "print(movie_df['runtimeMinutes'].unique()[:5])"
      ],
      "metadata": {
        "colab": {
          "base_uri": "https://localhost:8080/"
        },
        "id": "aazBOmVwlmEn",
        "outputId": "394d11c3-d4f0-49be-e5dc-e9c3a39369ae"
      },
      "execution_count": null,
      "outputs": [
        {
          "output_type": "stream",
          "name": "stdout",
          "text": [
            "[1898. 2018. 2016. 1987. 1973.]\n",
            "[  nan 2005. 1955. 2006. 1999.]\n",
            "[nan 29.  7. 23. 85.]\n"
          ]
        }
      ]
    },
    {
      "cell_type": "markdown",
      "source": [
        "# [Mengubah nilai genres menjadi list](https://academy.dqlab.id/main/livecode/212/379/1936?pr=)"
      ],
      "metadata": {
        "id": "R8xfVIZ6mmKm"
      }
    },
    {
      "cell_type": "code",
      "source": [
        "import pandas as pd\n",
        "import numpy as np\n",
        "pd.set_option('display.max_columns', None)\n",
        "\n",
        "movie_df = pd.read_csv('https://storage.googleapis.com/dqlab-dataset/title.basics.tsv', sep='\\t')\n",
        "\n",
        "movie_df = movie_df.loc[(movie_df['primaryTitle'].notnull()) & (movie_df['originalTitle'].notnull())]\n",
        "movie_df = movie_df.loc[movie_df['genres'].notnull()]\n",
        "movie_df['startYear'] = movie_df['startYear'].replace('\\\\N', np.nan)\n",
        "movie_df['startYear'] = movie_df['startYear'].astype('float64')\n",
        "movie_df['endYear'] = movie_df['endYear'].replace('\\\\N', np.nan)\n",
        "movie_df['endYear'] = movie_df['endYear'].astype('float64')\n",
        "movie_df['runtimeMinutes'] = movie_df['runtimeMinutes'].replace('\\\\N', np.nan)\n",
        "movie_df['runtimeMinutes'] = movie_df['runtimeMinutes'].astype('float64')\n",
        "\n",
        "def transform_to_list(x):\n",
        "    if ',' in x: \n",
        "    #ubah menjadi list apabila ada data pada kolom genre\n",
        "        return x.split(',')\n",
        "    else: \n",
        "    #jika tidak ada data, ubah menjadi list kosong\n",
        "        return []\n",
        "\n",
        "movie_df['genres'] = movie_df['genres'].apply(lambda x: transform_to_list(x))"
      ],
      "metadata": {
        "id": "pnM1QQtZmrk5"
      },
      "execution_count": null,
      "outputs": []
    },
    {
      "cell_type": "markdown",
      "source": [
        "# [Menampilkan 5 data teratas](https://academy.dqlab.id/main/livecode/212/380/1937?pr=)"
      ],
      "metadata": {
        "id": "olYg4kV2nZEZ"
      }
    },
    {
      "cell_type": "code",
      "source": [
        "import pandas as pd\n",
        "import numpy as np\n",
        "pd.set_option('display.max_columns', None)\n",
        "\n",
        "rating_df = pd.read_csv('https://storage.googleapis.com/dqlab-dataset/title.ratings.tsv', sep='\\t')\n",
        "\n",
        "print(rating_df.head())"
      ],
      "metadata": {
        "colab": {
          "base_uri": "https://localhost:8080/"
        },
        "id": "tvRZsbDUndZn",
        "outputId": "c52126bf-4001-45e3-c919-70ae1fd2a133"
      },
      "execution_count": null,
      "outputs": [
        {
          "output_type": "stream",
          "name": "stdout",
          "text": [
            "      tconst  averageRating  numVotes\n",
            "0  tt0000001            5.6      1608\n",
            "1  tt0000002            6.0       197\n",
            "2  tt0000003            6.5      1285\n",
            "3  tt0000004            6.1       121\n",
            "4  tt0000005            6.1      2050\n"
          ]
        }
      ]
    },
    {
      "cell_type": "markdown",
      "source": [
        "# [Menampilkan info data](https://academy.dqlab.id/main/livecode/212/380/1938?pr=)"
      ],
      "metadata": {
        "id": "vGwDqLmDnkf2"
      }
    },
    {
      "cell_type": "code",
      "source": [
        "import pandas as pd\n",
        "import numpy as np\n",
        "pd.set_option('display.max_columns', None)\n",
        "\n",
        "rating_df = pd.read_csv('https://storage.googleapis.com/dqlab-dataset/title.ratings.tsv', sep='\\t')\n",
        "\n",
        "print(rating_df.info())"
      ],
      "metadata": {
        "colab": {
          "base_uri": "https://localhost:8080/"
        },
        "id": "KHWal_C_noBr",
        "outputId": "a2922153-1dd9-4ef4-8c61-0e8f0f98aca3"
      },
      "execution_count": null,
      "outputs": [
        {
          "output_type": "stream",
          "name": "stdout",
          "text": [
            "<class 'pandas.core.frame.DataFrame'>\n",
            "RangeIndex: 1030009 entries, 0 to 1030008\n",
            "Data columns (total 3 columns):\n",
            " #   Column         Non-Null Count    Dtype  \n",
            "---  ------         --------------    -----  \n",
            " 0   tconst         1030009 non-null  object \n",
            " 1   averageRating  1030009 non-null  float64\n",
            " 2   numVotes       1030009 non-null  int64  \n",
            "dtypes: float64(1), int64(1), object(1)\n",
            "memory usage: 23.6+ MB\n",
            "None\n"
          ]
        }
      ]
    },
    {
      "cell_type": "markdown",
      "source": [
        "# [Inner Join table movie dan table rating](https://academy.dqlab.id/main/livecode/212/381/1939?pr=)"
      ],
      "metadata": {
        "id": "1MNCMg-cns8U"
      }
    },
    {
      "cell_type": "code",
      "source": [
        "import pandas as pd\n",
        "import numpy as np\n",
        "pd.set_option('display.max_columns', None)\n",
        "\n",
        "movie_df = pd.read_csv('https://storage.googleapis.com/dqlab-dataset/title.basics.tsv', sep='\\t')\n",
        "rating_df = pd.read_csv('https://storage.googleapis.com/dqlab-dataset/title.ratings.tsv', sep='\\t')\n",
        "\n",
        "movie_df = movie_df.loc[(movie_df['primaryTitle'].notnull()) & (movie_df['originalTitle'].notnull())]\n",
        "movie_df = movie_df.loc[movie_df['genres'].notnull()]\n",
        "movie_df['startYear'] = movie_df['startYear'].replace('\\\\N', np.nan)\n",
        "movie_df['startYear'] = movie_df['startYear'].astype('float64')\n",
        "movie_df['endYear'] = movie_df['endYear'].replace('\\\\N', np.nan)\n",
        "movie_df['endYear'] = movie_df['endYear'].astype('float64')\n",
        "movie_df['runtimeMinutes'] = movie_df['runtimeMinutes'].replace('\\\\N', np.nan)\n",
        "movie_df['runtimeMinutes'] = movie_df['runtimeMinutes'].astype('float64')\n",
        "\n",
        "def transform_to_list(x):\n",
        "    if ',' in x: \n",
        "        return x.split(',')\n",
        "    else: \n",
        "        return []\n",
        "\n",
        "movie_df['genres'] = movie_df['genres'].apply(lambda x: transform_to_list(x))\n",
        "\n",
        "#Lakukan join pada kedua table\n",
        "movie_rating_df = pd.merge(movie_df, rating_df, on='tconst', how='inner')\n",
        "\n",
        "#Tampilkan 5 data teratas\n",
        "print(movie_rating_df.head())\n",
        "\n",
        "#Tampilkan tipe data dari tiap kolom\n",
        "print(movie_rating_df.info())"
      ],
      "metadata": {
        "colab": {
          "base_uri": "https://localhost:8080/"
        },
        "id": "495RsMzNnxdh",
        "outputId": "5e58d936-70f2-4d49-d518-1ff8f2cc1836"
      },
      "execution_count": null,
      "outputs": [
        {
          "output_type": "stream",
          "name": "stdout",
          "text": [
            "      tconst  titleType              primaryTitle             originalTitle  \\\n",
            "0  tt0043745      short                 Lion Down                 Lion Down   \n",
            "1  tt0167491      video         Wicked Covergirls         Wicked Covergirls   \n",
            "2  tt6574096  tvEpisode      Shadow Play - Part 2      Shadow Play - Part 2   \n",
            "3  tt6941700  tvEpisode              RuPaul Roast              RuPaul Roast   \n",
            "4  tt7305674      video  UCLA Track & Field Promo  UCLA Track & Field Promo   \n",
            "\n",
            "   isAdult  startYear  endYear  runtimeMinutes  \\\n",
            "0        0     1951.0      NaN             7.0   \n",
            "1        1     1998.0      NaN            85.0   \n",
            "2        0     2017.0      NaN            22.0   \n",
            "3        0     2017.0      NaN             NaN   \n",
            "4        0     2017.0      NaN             NaN   \n",
            "\n",
            "                           genres  averageRating  numVotes  \n",
            "0     [Animation, Comedy, Family]            7.1       459  \n",
            "1                              []            5.7         7  \n",
            "2  [Adventure, Animation, Comedy]            8.5       240  \n",
            "3                              []            8.0        11  \n",
            "4                  [Short, Sport]            9.7         7  \n",
            "<class 'pandas.core.frame.DataFrame'>\n",
            "Int64Index: 1376 entries, 0 to 1375\n",
            "Data columns (total 11 columns):\n",
            " #   Column          Non-Null Count  Dtype  \n",
            "---  ------          --------------  -----  \n",
            " 0   tconst          1376 non-null   object \n",
            " 1   titleType       1376 non-null   object \n",
            " 2   primaryTitle    1376 non-null   object \n",
            " 3   originalTitle   1376 non-null   object \n",
            " 4   isAdult         1376 non-null   int64  \n",
            " 5   startYear       1376 non-null   float64\n",
            " 6   endYear         26 non-null     float64\n",
            " 7   runtimeMinutes  1004 non-null   float64\n",
            " 8   genres          1376 non-null   object \n",
            " 9   averageRating   1376 non-null   float64\n",
            " 10  numVotes        1376 non-null   int64  \n",
            "dtypes: float64(4), int64(2), object(5)\n",
            "memory usage: 129.0+ KB\n",
            "None\n"
          ]
        }
      ]
    },
    {
      "cell_type": "markdown",
      "source": [
        "# [Memperkecil ukuran Table](https://academy.dqlab.id/main/livecode/212/381/1940?pr=)"
      ],
      "metadata": {
        "id": "b_RXdx63qimg"
      }
    },
    {
      "cell_type": "code",
      "source": [
        "import pandas as pd\n",
        "import numpy as np\n",
        "pd.set_option('display.max_columns', None)\n",
        "\n",
        "movie_df = pd.read_csv('https://storage.googleapis.com/dqlab-dataset/title.basics.tsv', sep='\\t')\n",
        "rating_df = pd.read_csv('https://storage.googleapis.com/dqlab-dataset/title.ratings.tsv', sep='\\t')\n",
        "\n",
        "movie_df = movie_df.loc[(movie_df['primaryTitle'].notnull()) & (movie_df['originalTitle'].notnull())]\n",
        "movie_df = movie_df.loc[movie_df['genres'].notnull()]\n",
        "movie_df['startYear'] = movie_df['startYear'].replace('\\\\N', np.nan)\n",
        "movie_df['startYear'] = movie_df['startYear'].astype('float64')\n",
        "movie_df['endYear'] = movie_df['endYear'].replace('\\\\N', np.nan)\n",
        "movie_df['endYear'] = movie_df['endYear'].astype('float64')\n",
        "movie_df['runtimeMinutes'] = movie_df['runtimeMinutes'].replace('\\\\N', np.nan)\n",
        "movie_df['runtimeMinutes'] = movie_df['runtimeMinutes'].astype('float64')\n",
        "\n",
        "def transform_to_list(x):\n",
        "    if ',' in x: \n",
        "        return x.split(',')\n",
        "    else: \n",
        "        return []\n",
        "\n",
        "movie_df['genres'] = movie_df['genres'].apply(lambda x: transform_to_list(x))\n",
        "\n",
        "movie_rating_df = pd.merge(movie_df, rating_df, on='tconst', how='inner')\n",
        "movie_rating_df = movie_rating_df.dropna(subset=['startYear','runtimeMinutes'])\n",
        "\n",
        "#Untuk memastikan bahwa sudah tidak ada lagi nilai NULL\n",
        "print(movie_rating_df.info())"
      ],
      "metadata": {
        "colab": {
          "base_uri": "https://localhost:8080/"
        },
        "id": "4NvNpL1-qmau",
        "outputId": "3f36f94d-4008-480f-e385-d1b84287d58f"
      },
      "execution_count": null,
      "outputs": [
        {
          "output_type": "stream",
          "name": "stdout",
          "text": [
            "<class 'pandas.core.frame.DataFrame'>\n",
            "Int64Index: 1004 entries, 0 to 1374\n",
            "Data columns (total 11 columns):\n",
            " #   Column          Non-Null Count  Dtype  \n",
            "---  ------          --------------  -----  \n",
            " 0   tconst          1004 non-null   object \n",
            " 1   titleType       1004 non-null   object \n",
            " 2   primaryTitle    1004 non-null   object \n",
            " 3   originalTitle   1004 non-null   object \n",
            " 4   isAdult         1004 non-null   int64  \n",
            " 5   startYear       1004 non-null   float64\n",
            " 6   endYear         17 non-null     float64\n",
            " 7   runtimeMinutes  1004 non-null   float64\n",
            " 8   genres          1004 non-null   object \n",
            " 9   averageRating   1004 non-null   float64\n",
            " 10  numVotes        1004 non-null   int64  \n",
            "dtypes: float64(4), int64(2), object(5)\n",
            "memory usage: 94.1+ KB\n",
            "None\n"
          ]
        }
      ]
    },
    {
      "cell_type": "markdown",
      "source": [
        "# [Pertanyaan 1: Berapa nilai C?](https://academy.dqlab.id/main/livecode/212/382/1941?pr=)"
      ],
      "metadata": {
        "id": "-ff0ZVNFB_Aw"
      }
    },
    {
      "cell_type": "code",
      "source": [
        "import pandas as pd\n",
        "import numpy as np\n",
        "pd.set_option('display.max_columns', None)\n",
        "\n",
        "movie_df = pd.read_csv('https://storage.googleapis.com/dqlab-dataset/title.basics.tsv', sep='\\t')\n",
        "rating_df = pd.read_csv('https://storage.googleapis.com/dqlab-dataset/title.ratings.tsv', sep='\\t')\n",
        "\n",
        "movie_df = movie_df.loc[(movie_df['primaryTitle'].notnull()) & (movie_df['originalTitle'].notnull())]\n",
        "movie_df = movie_df.loc[movie_df['genres'].notnull()]\n",
        "movie_df['startYear'] = movie_df['startYear'].replace('\\\\N', np.nan)\n",
        "movie_df['startYear'] = movie_df['startYear'].astype('float64')\n",
        "movie_df['endYear'] = movie_df['endYear'].replace('\\\\N', np.nan)\n",
        "movie_df['endYear'] = movie_df['endYear'].astype('float64')\n",
        "movie_df['runtimeMinutes'] = movie_df['runtimeMinutes'].replace('\\\\N', np.nan)\n",
        "movie_df['runtimeMinutes'] = movie_df['runtimeMinutes'].astype('float64')\n",
        "\n",
        "def transform_to_list(x):\n",
        "    if ',' in x: \n",
        "        return x.split(',')\n",
        "    else: \n",
        "        return []\n",
        "\n",
        "movie_df['genres'] = movie_df['genres'].apply(lambda x: transform_to_list(x))\n",
        "\n",
        "movie_rating_df = pd.merge(movie_df, rating_df, on='tconst', how='inner')\n",
        "movie_rating_df = movie_rating_df.dropna(subset=['startYear','runtimeMinutes'])\n",
        "\n",
        "C = movie_rating_df['averageRating'].mean()\n",
        "print(C)"
      ],
      "metadata": {
        "colab": {
          "base_uri": "https://localhost:8080/"
        },
        "id": "boF-U8d3B5AK",
        "outputId": "aa649623-d5d9-40fc-c132-c900b7ecc3b5"
      },
      "execution_count": null,
      "outputs": [
        {
          "output_type": "stream",
          "name": "stdout",
          "text": [
            "6.829581673306767\n"
          ]
        }
      ]
    },
    {
      "cell_type": "markdown",
      "source": [
        "# [Pertanyaan 2: Berapa nilai m?](https://academy.dqlab.id/main/livecode/212/382/1942?pr=)"
      ],
      "metadata": {
        "id": "xnnMipM0CJj8"
      }
    },
    {
      "cell_type": "code",
      "source": [
        "import pandas as pd\n",
        "import numpy as np\n",
        "pd.set_option('display.max_columns', None)\n",
        "\n",
        "movie_df = pd.read_csv('https://storage.googleapis.com/dqlab-dataset/title.basics.tsv', sep='\\t')\n",
        "rating_df = pd.read_csv('https://storage.googleapis.com/dqlab-dataset/title.ratings.tsv', sep='\\t')\n",
        "\n",
        "movie_df = movie_df.loc[(movie_df['primaryTitle'].notnull()) & (movie_df['originalTitle'].notnull())]\n",
        "movie_df = movie_df.loc[movie_df['genres'].notnull()]\n",
        "movie_df['startYear'] = movie_df['startYear'].replace('\\\\N', np.nan)\n",
        "movie_df['startYear'] = movie_df['startYear'].astype('float64')\n",
        "movie_df['endYear'] = movie_df['endYear'].replace('\\\\N', np.nan)\n",
        "movie_df['endYear'] = movie_df['endYear'].astype('float64')\n",
        "movie_df['runtimeMinutes'] = movie_df['runtimeMinutes'].replace('\\\\N', np.nan)\n",
        "movie_df['runtimeMinutes'] = movie_df['runtimeMinutes'].astype('float64')\n",
        "\n",
        "def transform_to_list(x):\n",
        "    if ',' in x: \n",
        "        return x.split(',')\n",
        "    else: \n",
        "        return []\n",
        "\n",
        "movie_df['genres'] = movie_df['genres'].apply(lambda x: transform_to_list(x))\n",
        "\n",
        "movie_rating_df = pd.merge(movie_df, rating_df, on='tconst', how='inner')\n",
        "movie_rating_df = movie_rating_df.dropna(subset=['startYear','runtimeMinutes'])\n",
        "\n",
        "m = movie_rating_df['numVotes'].quantile(0.8)\n",
        "print(m)"
      ],
      "metadata": {
        "colab": {
          "base_uri": "https://localhost:8080/"
        },
        "id": "7NjVy-TJCTBO",
        "outputId": "bb1fde2f-c0b1-4f5e-af45-465ab9562bdf"
      },
      "execution_count": null,
      "outputs": [
        {
          "output_type": "stream",
          "name": "stderr",
          "text": [
            "/usr/local/lib/python3.7/dist-packages/ipykernel_launcher.py:10: SettingWithCopyWarning: \n",
            "A value is trying to be set on a copy of a slice from a DataFrame.\n",
            "Try using .loc[row_indexer,col_indexer] = value instead\n",
            "\n",
            "See the caveats in the documentation: https://pandas.pydata.org/pandas-docs/stable/user_guide/indexing.html#returning-a-view-versus-a-copy\n",
            "  # Remove the CWD from sys.path while we load stuff.\n",
            "/usr/local/lib/python3.7/dist-packages/ipykernel_launcher.py:11: SettingWithCopyWarning: \n",
            "A value is trying to be set on a copy of a slice from a DataFrame.\n",
            "Try using .loc[row_indexer,col_indexer] = value instead\n",
            "\n",
            "See the caveats in the documentation: https://pandas.pydata.org/pandas-docs/stable/user_guide/indexing.html#returning-a-view-versus-a-copy\n",
            "  # This is added back by InteractiveShellApp.init_path()\n",
            "/usr/local/lib/python3.7/dist-packages/ipykernel_launcher.py:12: SettingWithCopyWarning: \n",
            "A value is trying to be set on a copy of a slice from a DataFrame.\n",
            "Try using .loc[row_indexer,col_indexer] = value instead\n",
            "\n",
            "See the caveats in the documentation: https://pandas.pydata.org/pandas-docs/stable/user_guide/indexing.html#returning-a-view-versus-a-copy\n",
            "  if sys.path[0] == '':\n",
            "/usr/local/lib/python3.7/dist-packages/ipykernel_launcher.py:13: SettingWithCopyWarning: \n",
            "A value is trying to be set on a copy of a slice from a DataFrame.\n",
            "Try using .loc[row_indexer,col_indexer] = value instead\n",
            "\n",
            "See the caveats in the documentation: https://pandas.pydata.org/pandas-docs/stable/user_guide/indexing.html#returning-a-view-versus-a-copy\n",
            "  del sys.path[0]\n",
            "/usr/local/lib/python3.7/dist-packages/ipykernel_launcher.py:14: SettingWithCopyWarning: \n",
            "A value is trying to be set on a copy of a slice from a DataFrame.\n",
            "Try using .loc[row_indexer,col_indexer] = value instead\n",
            "\n",
            "See the caveats in the documentation: https://pandas.pydata.org/pandas-docs/stable/user_guide/indexing.html#returning-a-view-versus-a-copy\n",
            "  \n",
            "/usr/local/lib/python3.7/dist-packages/ipykernel_launcher.py:15: SettingWithCopyWarning: \n",
            "A value is trying to be set on a copy of a slice from a DataFrame.\n",
            "Try using .loc[row_indexer,col_indexer] = value instead\n",
            "\n",
            "See the caveats in the documentation: https://pandas.pydata.org/pandas-docs/stable/user_guide/indexing.html#returning-a-view-versus-a-copy\n",
            "  from ipykernel import kernelapp as app\n",
            "/usr/local/lib/python3.7/dist-packages/ipykernel_launcher.py:23: SettingWithCopyWarning: \n",
            "A value is trying to be set on a copy of a slice from a DataFrame.\n",
            "Try using .loc[row_indexer,col_indexer] = value instead\n",
            "\n",
            "See the caveats in the documentation: https://pandas.pydata.org/pandas-docs/stable/user_guide/indexing.html#returning-a-view-versus-a-copy\n"
          ]
        },
        {
          "output_type": "stream",
          "name": "stdout",
          "text": [
            "229.0\n"
          ]
        }
      ]
    },
    {
      "cell_type": "markdown",
      "source": [
        "# [Pertanyaan 3: Bagaimana cara membuat fungsi weighted formula?](https://academy.dqlab.id/main/projectcode/212/382/1943?pr=)"
      ],
      "metadata": {
        "id": "CFrH-8BBCtzm"
      }
    },
    {
      "cell_type": "code",
      "source": [
        "import pandas as pd\n",
        "import numpy as np\n",
        "pd.set_option('display.max_columns', None)\n",
        "\n",
        "movie_df = pd.read_csv('https://storage.googleapis.com/dqlab-dataset/title.basics.tsv', sep='\\t')\n",
        "rating_df = pd.read_csv('https://storage.googleapis.com/dqlab-dataset/title.ratings.tsv', sep='\\t')\n",
        "\n",
        "movie_df = movie_df.loc[(movie_df['primaryTitle'].notnull()) & (movie_df['originalTitle'].notnull())]\n",
        "movie_df = movie_df.loc[movie_df['genres'].notnull()]\n",
        "movie_df['startYear'] = movie_df['startYear'].replace('\\\\N', np.nan)\n",
        "movie_df['startYear'] = movie_df['startYear'].astype('float64')\n",
        "movie_df['endYear'] = movie_df['endYear'].replace('\\\\N', np.nan)\n",
        "movie_df['endYear'] = movie_df['endYear'].astype('float64')\n",
        "movie_df['runtimeMinutes'] = movie_df['runtimeMinutes'].replace('\\\\N', np.nan)\n",
        "movie_df['runtimeMinutes'] = movie_df['runtimeMinutes'].astype('float64')\n",
        "\n",
        "def transform_to_list(x):\n",
        "    if ',' in x: \n",
        "        return x.split(',')\n",
        "    else: \n",
        "        return []\n",
        "\n",
        "movie_df['genres'] = movie_df['genres'].apply(lambda x: transform_to_list(x))\n",
        "\n",
        "movie_rating_df = pd.merge(movie_df, rating_df, on='tconst', how='inner')\n",
        "movie_rating_df = movie_rating_df.dropna(subset=['startYear','runtimeMinutes'])\n",
        "\n",
        "def imdb_weighted_rating(df, var=0.8):\n",
        "    v = df['numVotes']\n",
        "    R = df['averageRating']\n",
        "    C = df['averageRating'].mean()\n",
        "    m = df['numVotes'].quantile(var)\n",
        "    df['score'] = (v/(m+v))*R + (m/(m+v))*C #Rumus IMDb \n",
        "    return df['score']\n",
        "    \n",
        "imdb_weighted_rating(movie_rating_df)\n",
        "\n",
        "#melakukan pengecekan dataframe\n",
        "print(movie_rating_df.head())"
      ],
      "metadata": {
        "colab": {
          "base_uri": "https://localhost:8080/"
        },
        "id": "Fxk7tsmmjFxJ",
        "outputId": "f3f3112e-78ba-4a45-ec76-c45235b11f5b"
      },
      "execution_count": null,
      "outputs": [
        {
          "output_type": "stream",
          "name": "stdout",
          "text": [
            "      tconst  titleType          primaryTitle         originalTitle  isAdult  \\\n",
            "0  tt0043745      short             Lion Down             Lion Down        0   \n",
            "1  tt0167491      video     Wicked Covergirls     Wicked Covergirls        1   \n",
            "2  tt6574096  tvEpisode  Shadow Play - Part 2  Shadow Play - Part 2        0   \n",
            "5  tt2262289      movie               The Pin               The Pin        0   \n",
            "6  tt0874027  tvEpisode         Episode #32.9         Episode #32.9        0   \n",
            "\n",
            "   startYear  endYear  runtimeMinutes                          genres  \\\n",
            "0     1951.0      NaN             7.0     [Animation, Comedy, Family]   \n",
            "1     1998.0      NaN            85.0                              []   \n",
            "2     2017.0      NaN            22.0  [Adventure, Animation, Comedy]   \n",
            "5     2013.0      NaN            85.0                              []   \n",
            "6     2006.0      NaN            29.0       [Comedy, Game-Show, News]   \n",
            "\n",
            "   averageRating  numVotes     score  \n",
            "0            7.1       459  7.009992  \n",
            "1            5.7         7  6.796077  \n",
            "2            8.5       240  7.684380  \n",
            "5            7.7        27  6.921384  \n",
            "6            8.0         8  6.869089  \n"
          ]
        }
      ]
    },
    {
      "cell_type": "markdown",
      "source": [
        "# [Pertanyaan 4: Bagaimana cara membuat simple recommender system?](https://academy.dqlab.id/main/projectcode/212/382/1944?pr=)"
      ],
      "metadata": {
        "id": "ZtCXw02Ij-oN"
      }
    },
    {
      "cell_type": "code",
      "source": [
        "import pandas as pd\n",
        "import numpy as np\n",
        "pd.set_option('display.max_columns', None)\n",
        "\n",
        "movie_df = pd.read_csv('https://storage.googleapis.com/dqlab-dataset/title.basics.tsv', sep='\\t')\n",
        "rating_df = pd.read_csv('https://storage.googleapis.com/dqlab-dataset/title.ratings.tsv', sep='\\t')\n",
        "\n",
        "movie_df = movie_df.loc[(movie_df['primaryTitle'].notnull()) & (movie_df['originalTitle'].notnull())]\n",
        "movie_df = movie_df.loc[movie_df['genres'].notnull()]\n",
        "movie_df['startYear'] = movie_df['startYear'].replace('\\\\N', np.nan)\n",
        "movie_df['startYear'] = movie_df['startYear'].astype('float64')\n",
        "movie_df['endYear'] = movie_df['endYear'].replace('\\\\N', np.nan)\n",
        "movie_df['endYear'] = movie_df['endYear'].astype('float64')\n",
        "movie_df['runtimeMinutes'] = movie_df['runtimeMinutes'].replace('\\\\N', np.nan)\n",
        "movie_df['runtimeMinutes'] = movie_df['runtimeMinutes'].astype('float64')\n",
        "\n",
        "def transform_to_list(x):\n",
        "    if ',' in x: \n",
        "        return x.split(',')\n",
        "    else: \n",
        "        return []\n",
        "\n",
        "movie_df['genres'] = movie_df['genres'].apply(lambda x: transform_to_list(x))\n",
        "\n",
        "movie_rating_df = pd.merge(movie_df, rating_df, on='tconst', how='inner')\n",
        "movie_rating_df = movie_rating_df.dropna(subset=['startYear','runtimeMinutes'])\n",
        "\n",
        "C = movie_rating_df['averageRating'].mean()\n",
        "m = movie_rating_df['numVotes'].quantile(0.8)\n",
        "\n",
        "def imdb_weighted_rating(df, var=0.8):\n",
        "    v = df['numVotes']\n",
        "    R = df['averageRating']\n",
        "    C = df['averageRating'].mean()\n",
        "    m = df['numVotes'].quantile(var)\n",
        "    df['score'] = (v/(m+v))*R + (m/(m+v))*C\n",
        "    return df['score']\n",
        "    \n",
        "imdb_weighted_rating(movie_rating_df)\n",
        "\n",
        "def simple_recommender(df, top=100):\n",
        "    df = df.loc[df['numVotes'] >= m]\n",
        "    df = df.sort_values(by='score',ascending=False) #urutkan dari nilai tertinggi ke terendah\n",
        "    \n",
        "    #Ambil data 100 teratas\n",
        "    df = df[:top]\n",
        "    return df\n",
        "    \n",
        "#Ambil data 25 teratas     \n",
        "print(simple_recommender(movie_rating_df, top=25))"
      ],
      "metadata": {
        "colab": {
          "base_uri": "https://localhost:8080/"
        },
        "id": "Ytc_zX6wkC8I",
        "outputId": "c634d398-88ee-44ff-903a-defcb5c91a9c"
      },
      "execution_count": null,
      "outputs": [
        {
          "output_type": "stream",
          "name": "stdout",
          "text": [
            "         tconst  titleType                                   primaryTitle  \\\n",
            "68    tt4110822  tvEpisode                                  S.O.S. Part 2   \n",
            "236   tt2200252      video                    Attack of the Clones Review   \n",
            "1181  tt7697962  tvEpisode            Chapter Seventeen: The Missionaries   \n",
            "326   tt7124590  tvEpisode            Chapter Thirty-Four: Judgment Night   \n",
            "1045  tt0533506  tvEpisode                                       The Prom   \n",
            "71    tt8399426  tvEpisode                                        Savages   \n",
            "1234  tt2843830  tvEpisode                                          VIII.   \n",
            "1087  tt4295140   tvSeries                                   Chef's Table   \n",
            "1054  tt2503932  tvEpisode                                Trial and Error   \n",
            "448   tt0337566      video                       AC/DC: Live at Donington   \n",
            "624   tt0620159  tvEpisode                                     Strike Out   \n",
            "1281  tt3166390  tvEpisode                         Looking for a Plus-One   \n",
            "314   tt0954759  tvEpisode                                   Ben Franklin   \n",
            "189   tt5661506      video            Florence + the Machine: The Odyssey   \n",
            "151   tt3954426  tvEpisode                                Bleeding Kansas   \n",
            "1344  tt6644294  tvEpisode                 The Hostile Hospital: Part Two   \n",
            "1242  tt3677742  tvSpecial  Saturday Night Live: 40th Anniversary Special   \n",
            "1217  tt3642464  tvEpisode                                    Giant Woman   \n",
            "544   tt0734655  tvEpisode                              The Little People   \n",
            "49    tt9119838  tvEpisode                      Parisian Legend Has It...   \n",
            "357   tt4084774  tvEpisode                           Trial and Punishment   \n",
            "1111  tt4174072  tvEpisode                     Immortal Emerges from Cave   \n",
            "790   tt4279086  tvEpisode                       And Santa's Midnight Run   \n",
            "972   tt0048028      movie                                   East of Eden   \n",
            "819   tt0032156      movie            The Story of the Last Chrysanthemum   \n",
            "\n",
            "                                      originalTitle  isAdult  startYear  \\\n",
            "68                                    S.O.S. Part 2        0     2015.0   \n",
            "236                     Attack of the Clones Review        0     2010.0   \n",
            "1181            Chapter Seventeen: The Missionaries        0     2019.0   \n",
            "326             Chapter Thirty-Four: Judgment Night        0     2018.0   \n",
            "1045                                       The Prom        0     1999.0   \n",
            "71                                          Savages        0     2018.0   \n",
            "1234                                          VIII.        0     2014.0   \n",
            "1087                                   Chef's Table        0     2015.0   \n",
            "1054                                Trial and Error        0     2013.0   \n",
            "448                        AC/DC: Live at Donington        0     1992.0   \n",
            "624                                      Strike Out        0     2000.0   \n",
            "1281                         Looking for a Plus-One        0     2014.0   \n",
            "314                                    Ben Franklin        0     2007.0   \n",
            "189             Florence + the Machine: The Odyssey        0     2016.0   \n",
            "151                                 Bleeding Kansas        0     2014.0   \n",
            "1344                 The Hostile Hospital: Part Two        0     2018.0   \n",
            "1242  Saturday Night Live: 40th Anniversary Special        0     2015.0   \n",
            "1217                                    Giant Woman        0     2014.0   \n",
            "544                               The Little People        0     1962.0   \n",
            "49                        Parisian Legend Has It...        0     2019.0   \n",
            "357                            Trial and Punishment        0     2015.0   \n",
            "1111                     Immortal Emerges from Cave        0     2017.0   \n",
            "790                        And Santa's Midnight Run        0     2014.0   \n",
            "972                                    East of Eden        0     1955.0   \n",
            "819                              Zangiku monogatari        0     1939.0   \n",
            "\n",
            "      endYear  runtimeMinutes                          genres  averageRating  \\\n",
            "68        NaN            43.0      [Action, Adventure, Drama]            9.4   \n",
            "236       NaN            86.0                              []            9.3   \n",
            "1181      NaN            54.0        [Drama, Fantasy, Horror]            9.2   \n",
            "326       NaN            42.0         [Crime, Drama, Mystery]            9.1   \n",
            "1045      NaN            60.0        [Action, Drama, Fantasy]            8.9   \n",
            "71        NaN            58.0       [Drama, Fantasy, Romance]            9.0   \n",
            "1234      NaN            57.0              [Adventure, Drama]            8.9   \n",
            "1087      NaN            50.0                              []            8.6   \n",
            "1054      NaN            43.0        [Drama, Fantasy, Horror]            8.6   \n",
            "448       NaN           120.0            [Documentary, Music]            8.5   \n",
            "624       NaN            30.0                              []            8.7   \n",
            "1281      NaN            28.0        [Comedy, Drama, Romance]            8.7   \n",
            "314       NaN            21.0                              []            8.1   \n",
            "189       NaN            49.0                              []            8.8   \n",
            "151       NaN            42.0                [Drama, Western]            8.6   \n",
            "1344      NaN            40.0      [Adventure, Comedy, Drama]            8.3   \n",
            "1242      NaN           106.0                              []            8.1   \n",
            "1217      NaN            11.0  [Adventure, Animation, Comedy]            8.4   \n",
            "544       NaN            25.0        [Drama, Fantasy, Horror]            8.1   \n",
            "49        NaN            42.0                              []            8.9   \n",
            "357       NaN            56.0              [Adventure, Drama]            8.8   \n",
            "1111      NaN            53.0      [Action, Adventure, Crime]            8.0   \n",
            "790       NaN            42.0     [Action, Adventure, Comedy]            8.2   \n",
            "972       NaN           118.0                              []            7.9   \n",
            "819       NaN           143.0                [Drama, Romance]            7.9   \n",
            "\n",
            "      numVotes     score  \n",
            "68        3820  9.254624  \n",
            "236       1411  8.955045  \n",
            "1181      1536  8.892450  \n",
            "326       1859  8.850993  \n",
            "1045      2740  8.740308  \n",
            "71        1428  8.700045  \n",
            "1234      1753  8.660784  \n",
            "1087     12056  8.566998  \n",
            "1054      2495  8.451165  \n",
            "448       1343  8.256663  \n",
            "624        401  8.020118  \n",
            "1281       396  8.014679  \n",
            "314       2766  8.002863  \n",
            "189        330  7.992798  \n",
            "151        437  7.991253  \n",
            "1344       812  7.976536  \n",
            "1242      1931  7.965312  \n",
            "1217       566  7.947641  \n",
            "544       1559  7.937290  \n",
            "49         263  7.936330  \n",
            "357        289  7.928908  \n",
            "1111      2898  7.914287  \n",
            "790        823  7.901687  \n",
            "972      38543  7.893678  \n",
            "819       2974  7.823470  \n"
          ]
        }
      ]
    },
    {
      "cell_type": "markdown",
      "source": [
        "# [Pertanyaan 5: Bagaimana cara membuat simple recommender system dengan user preferences?](https://academy.dqlab.id/main/projectcode/212/382/1945?pr=)"
      ],
      "metadata": {
        "id": "QqVQpVyxlViI"
      }
    },
    {
      "cell_type": "code",
      "source": [
        "import pandas as pd\n",
        "import numpy as np\n",
        "pd.set_option('display.max_columns', None)\n",
        "\n",
        "movie_df = pd.read_csv('https://storage.googleapis.com/dqlab-dataset/title.basics.tsv', sep='\\t')\n",
        "rating_df = pd.read_csv('https://storage.googleapis.com/dqlab-dataset/title.ratings.tsv', sep='\\t')\n",
        "\n",
        "movie_df = movie_df.loc[(movie_df['primaryTitle'].notnull()) & (movie_df['originalTitle'].notnull())]\n",
        "movie_df = movie_df.loc[movie_df['genres'].notnull()]\n",
        "movie_df['startYear'] = movie_df['startYear'].replace('\\\\N', np.nan)\n",
        "movie_df['startYear'] = movie_df['startYear'].astype('float64')\n",
        "movie_df['endYear'] = movie_df['endYear'].replace('\\\\N', np.nan)\n",
        "movie_df['endYear'] = movie_df['endYear'].astype('float64')\n",
        "movie_df['runtimeMinutes'] = movie_df['runtimeMinutes'].replace('\\\\N', np.nan)\n",
        "movie_df['runtimeMinutes'] = movie_df['runtimeMinutes'].astype('float64')\n",
        "\n",
        "def transform_to_list(x):\n",
        "    if ',' in x: \n",
        "        return x.split(',')\n",
        "    else: \n",
        "        return []\n",
        "\n",
        "movie_df['genres'] = movie_df['genres'].apply(lambda x: transform_to_list(x))\n",
        "\n",
        "movie_rating_df = pd.merge(movie_df, rating_df, on='tconst', how='inner')\n",
        "movie_rating_df = movie_rating_df.dropna(subset=['startYear','runtimeMinutes'])\n",
        "\n",
        "C = movie_rating_df['averageRating'].mean()\n",
        "m = movie_rating_df['numVotes'].quantile(0.8)\n",
        "\n",
        "def imdb_weighted_rating(df, var=0.8):\n",
        "    v = df['numVotes']\n",
        "    R = df['averageRating']\n",
        "    C = df['averageRating'].mean()\n",
        "    m = df['numVotes'].quantile(var)\n",
        "    df['score'] = (v/(m+v))*R + (m/(m+v))*C\n",
        "    return df['score']\n",
        "    \n",
        "imdb_weighted_rating(movie_rating_df)\n",
        "\n",
        "def simple_recommender(df, top=100):\n",
        "    df = df.loc[df['numVotes'] >= m]\n",
        "    df = df.sort_values(by='score', ascending=False)\n",
        "    \n",
        "    #jika kamu hanya ingin mengambil 100 teratas\n",
        "    df = df[:top]\n",
        "    return df\n",
        "\n",
        "df = movie_rating_df.copy()\n",
        "\n",
        "def user_prefer_recommender(df, ask_adult, ask_start_year, ask_genre, top=100):\n",
        "    #ask_adult = yes/no\n",
        "    if ask_adult.lower() == 'yes':\n",
        "        df = df.loc[df['isAdult'] == 1]\n",
        "    elif ask_adult.lower() == 'no':\n",
        "        df = df.loc[df['isAdult'] == 0]\n",
        "\n",
        "    #ask_start_year = numeric\n",
        "    df = df.loc[df['startYear'] >= int(ask_start_year)]\n",
        "\n",
        "    #ask_genre = 'all' atau yang lain\n",
        "    if ask_genre.lower() == 'all':\n",
        "        df = df\n",
        "    else:\n",
        "        def filter_genre(x):\n",
        "            if ask_genre.lower() in str(x).lower():\n",
        "                return True\n",
        "            else:\n",
        "                return False\n",
        "        df = df.loc[df['genres'].apply(lambda x: filter_genre(x))]\n",
        "\n",
        "    df = df.loc[df['numVotes'] >= m]  #Mengambil film dengan numVotes yang lebih besar atau sama dengan nilai m \n",
        "    df = df.sort_values(by='score', ascending=False)\n",
        "    \n",
        "    #jika kamu hanya ingin mengambil 100 teratas\n",
        "    df = df[:top]\n",
        "    return df\n",
        "\n",
        "print(user_prefer_recommender(df,\n",
        "                       ask_adult = 'no',\n",
        "                        ask_start_year = 2000,\n",
        "                       ask_genre = 'drama'\n",
        "                       ))"
      ],
      "metadata": {
        "colab": {
          "base_uri": "https://localhost:8080/"
        },
        "id": "oFqavnYHusDJ",
        "outputId": "ff1e5808-5900-4640-cb18-89a940774904"
      },
      "execution_count": null,
      "outputs": [
        {
          "output_type": "stream",
          "name": "stdout",
          "text": [
            "         tconst  titleType                         primaryTitle  \\\n",
            "68    tt4110822  tvEpisode                        S.O.S. Part 2   \n",
            "1181  tt7697962  tvEpisode  Chapter Seventeen: The Missionaries   \n",
            "326   tt7124590  tvEpisode  Chapter Thirty-Four: Judgment Night   \n",
            "71    tt8399426  tvEpisode                              Savages   \n",
            "1234  tt2843830  tvEpisode                                VIII.   \n",
            "1054  tt2503932  tvEpisode                      Trial and Error   \n",
            "1281  tt3166390  tvEpisode               Looking for a Plus-One   \n",
            "151   tt3954426  tvEpisode                      Bleeding Kansas   \n",
            "1344  tt6644294  tvEpisode       The Hostile Hospital: Part Two   \n",
            "357   tt4084774  tvEpisode                 Trial and Punishment   \n",
            "708   tt2751234  tvEpisode                         Resurrection   \n",
            "605   tt9141176  tvEpisode                59 horas desaparecido   \n",
            "983   tt5063116  tvEpisode                                Shell   \n",
            "1017  tt2206822  tvEpisode                      Vested Interest   \n",
            "73    tt0847785  tvEpisode                          Like It Was   \n",
            "625   tt7348490  tvEpisode                   Forced Perspective   \n",
            "1272  tt0534736  tvEpisode                 Sex, Lies and Larvae   \n",
            "800   tt0901201  tvEpisode                           Crossroads   \n",
            "659   tt3909890  tvEpisode                                Moppa   \n",
            "1170  tt0647504  tvEpisode                        Tainted Fruit   \n",
            "1001  tt2129485  tvEpisode                      A Desperate Man   \n",
            "977   tt4391820  tvEpisode                              Aisling   \n",
            "1096  tt6822518      movie                    Yasamak Güzel Sey   \n",
            "910   tt3348270  tvEpisode                            Bloodline   \n",
            "746   tt0534765  tvEpisode                      You've Got Male   \n",
            "299   tt4527626  tvEpisode                His Troubled Thoughts   \n",
            "509   tt1256301  tvEpisode                           Nine Lives   \n",
            "897   tt2349242  tvEpisode                        The Fifth Man   \n",
            "1090  tt0212815      movie                             Big Eden   \n",
            "109   tt1753383      movie                      A Dog's Purpose   \n",
            "550   tt8163822      short                The Neighbors' Window   \n",
            "834   tt6509862      movie                             Mr. Long   \n",
            "600   tt0329002      movie             Hard Goodbyes: My Father   \n",
            "642   tt0993186  tvEpisode                  Daleks in Manhattan   \n",
            "691   tt3663996  tvEpisode                          Storm Watch   \n",
            "727   tt3563898   tvSeries            Brynhildr in the Darkness   \n",
            "164   tt0464049      movie                     The History Boys   \n",
            "893   tt8858104      movie                         Guava Island   \n",
            "927   tt3663990  tvEpisode                                Pilot   \n",
            "462   tt5197828  tvEpisode                                Right   \n",
            "1068  tt8369852  tvEpisode              I Think We're Alone Now   \n",
            "940   tt0396190      movie                     Return to Sender   \n",
            "610   tt3526706      movie                            Chevalier   \n",
            "1126  tt2151739      movie                Meet Me in Montenegro   \n",
            "637   tt0857275      movie                      Wonderful World   \n",
            "385   tt0472259      movie                       Alone with Her   \n",
            "1014  tt1159705      movie                        Teenage Angst   \n",
            "1043  tt5518756      movie                      The Misandrists   \n",
            "1154  tt1386492      movie                  This Is Not a Movie   \n",
            "492   tt0882806      movie                           Sugar Boxx   \n",
            "922   tt2948790      movie                     Return to Sender   \n",
            "690   tt4477536      movie                   Fifty Shades Freed   \n",
            "677   tt8923408  tvEpisode                          #JinnHunter   \n",
            "1039  tt5227468      movie                        Beiimaan Love   \n",
            "1138  tt1126516      movie              Money Hai Toh Honey Hai   \n",
            "1208  tt3044882      movie                                Nasha   \n",
            "1197  tt3016748      movie                       Jacob's Ladder   \n",
            "846   tt0488164      movie                          Moscow Zero   \n",
            "90    tt0299981    tvMovie               Highlander: The Source   \n",
            "\n",
            "                             originalTitle  isAdult  startYear  endYear  \\\n",
            "68                           S.O.S. Part 2        0     2015.0      NaN   \n",
            "1181   Chapter Seventeen: The Missionaries        0     2019.0      NaN   \n",
            "326    Chapter Thirty-Four: Judgment Night        0     2018.0      NaN   \n",
            "71                                 Savages        0     2018.0      NaN   \n",
            "1234                                 VIII.        0     2014.0      NaN   \n",
            "1054                       Trial and Error        0     2013.0      NaN   \n",
            "1281                Looking for a Plus-One        0     2014.0      NaN   \n",
            "151                        Bleeding Kansas        0     2014.0      NaN   \n",
            "1344        The Hostile Hospital: Part Two        0     2018.0      NaN   \n",
            "357                   Trial and Punishment        0     2015.0      NaN   \n",
            "708                           Resurrection        0     2014.0      NaN   \n",
            "605                  59 horas desaparecido        0     2019.0      NaN   \n",
            "983                                  Shell        0     2016.0      NaN   \n",
            "1017                       Vested Interest        0     2012.0      NaN   \n",
            "73                             Like It Was        0     2006.0      NaN   \n",
            "625                     Forced Perspective        0     2018.0      NaN   \n",
            "1272                  Sex, Lies and Larvae        0     2000.0      NaN   \n",
            "800                             Crossroads        0     2006.0      NaN   \n",
            "659                                  Moppa        0     2014.0      NaN   \n",
            "1170                         Tainted Fruit        0     2001.0      NaN   \n",
            "1001                       A Desperate Man        0     2012.0      NaN   \n",
            "977                                Aisling        0     2019.0      NaN   \n",
            "1096                     Yasamak Güzel Sey        0     2017.0      NaN   \n",
            "910                              Bloodline        0     2014.0      NaN   \n",
            "746                        You've Got Male        0     2001.0      NaN   \n",
            "299                  His Troubled Thoughts        0     2016.0      NaN   \n",
            "509                             Nine Lives        0     2008.0      NaN   \n",
            "897                          The Fifth Man        0     2012.0      NaN   \n",
            "1090                              Big Eden        0     2000.0      NaN   \n",
            "109                        A Dog's Purpose        0     2017.0      NaN   \n",
            "550                  The Neighbors' Window        0     2019.0      NaN   \n",
            "834                                Ryu san        0     2017.0      NaN   \n",
            "600   Dyskoloi apohairetismoi: O babas mou        0     2002.0      NaN   \n",
            "642                    Daleks in Manhattan        0     2007.0      NaN   \n",
            "691                            Storm Watch        0     2014.0      NaN   \n",
            "727                  Gokukoku no Brynhildr        0     2014.0      NaN   \n",
            "164                       The History Boys        0     2006.0      NaN   \n",
            "893                           Guava Island        0     2019.0      NaN   \n",
            "927                                  Pilot        0     2014.0      NaN   \n",
            "462                                  Right        0     2016.0      NaN   \n",
            "1068               I Think We're Alone Now        0     2019.0      NaN   \n",
            "940                       Return to Sender        0     2004.0      NaN   \n",
            "610                              Chevalier        0     2015.0      NaN   \n",
            "1126                 Meet Me in Montenegro        0     2014.0      NaN   \n",
            "637                        Wonderful World        0     2009.0      NaN   \n",
            "385                         Alone with Her        0     2006.0      NaN   \n",
            "1014                         Teenage Angst        0     2008.0      NaN   \n",
            "1043                       The Misandrists        0     2017.0      NaN   \n",
            "1154                   This Is Not a Movie        0     2011.0      NaN   \n",
            "492                             Sugar Boxx        0     2009.0      NaN   \n",
            "922                       Return to Sender        0     2015.0      NaN   \n",
            "690                     Fifty Shades Freed        0     2018.0      NaN   \n",
            "677                            #JinnHunter        0     2019.0      NaN   \n",
            "1039                         Beiimaan Love        0     2016.0      NaN   \n",
            "1138               Money Hai Toh Honey Hai        0     2008.0      NaN   \n",
            "1208                                 Nasha        0     2013.0      NaN   \n",
            "1197                        Jacob's Ladder        0     2019.0      NaN   \n",
            "846                            Moscow Zero        0     2006.0      NaN   \n",
            "90                  Highlander: The Source        0     2007.0      NaN   \n",
            "\n",
            "      runtimeMinutes                       genres  averageRating  numVotes  \\\n",
            "68              43.0   [Action, Adventure, Drama]            9.4      3820   \n",
            "1181            54.0     [Drama, Fantasy, Horror]            9.2      1536   \n",
            "326             42.0      [Crime, Drama, Mystery]            9.1      1859   \n",
            "71              58.0    [Drama, Fantasy, Romance]            9.0      1428   \n",
            "1234            57.0           [Adventure, Drama]            8.9      1753   \n",
            "1054            43.0     [Drama, Fantasy, Horror]            8.6      2495   \n",
            "1281            28.0     [Comedy, Drama, Romance]            8.7       396   \n",
            "151             42.0             [Drama, Western]            8.6       437   \n",
            "1344            40.0   [Adventure, Comedy, Drama]            8.3       812   \n",
            "357             56.0           [Adventure, Drama]            8.8       289   \n",
            "708             43.0       [Crime, Drama, Horror]            8.0      1077   \n",
            "605             48.0     [Crime, Drama, Thriller]            8.1       674   \n",
            "983             32.0              [Comedy, Drama]            8.5       275   \n",
            "1017            43.0       [Comedy, Crime, Drama]            8.0       525   \n",
            "73              43.0     [Comedy, Drama, Mystery]            8.1       405   \n",
            "625             43.0      [Crime, Drama, Mystery]            7.9       413   \n",
            "1272            46.0      [Crime, Drama, Mystery]            7.7       689   \n",
            "800             42.0     [Action, Drama, Mystery]            7.7       654   \n",
            "659             27.0              [Comedy, Drama]            7.8       410   \n",
            "1170            98.0      [Crime, Drama, Mystery]            7.7       538   \n",
            "1001            44.0       [Action, Crime, Drama]            7.7       501   \n",
            "977             51.0      [Crime, Drama, Fantasy]            7.5      1558   \n",
            "1096           101.0              [Comedy, Drama]            7.5      1541   \n",
            "910             44.0     [Drama, Horror, Mystery]            7.7       436   \n",
            "746             45.0      [Crime, Drama, Mystery]            7.6       620   \n",
            "299             59.0     [Crime, Drama, Thriller]            7.5       859   \n",
            "509             44.0       [Action, Crime, Drama]            7.6       501   \n",
            "897             44.0       [Action, Crime, Drama]            7.8       270   \n",
            "1090           118.0     [Comedy, Drama, Romance]            7.3      3906   \n",
            "109            100.0   [Adventure, Comedy, Drama]            7.2     61521   \n",
            "550             21.0               [Drama, Short]            7.2      2222   \n",
            "834            129.0       [Action, Crime, Drama]            7.1       960   \n",
            "600            113.0              [Drama, Family]            7.1       423   \n",
            "642             45.0   [Adventure, Drama, Family]            7.0      4982   \n",
            "691             43.0             [Drama, Romance]            7.0       309   \n",
            "727             22.0   [Action, Animation, Drama]            6.8       733   \n",
            "164            109.0     [Comedy, Drama, Romance]            6.8     19858   \n",
            "893             55.0       [Comedy, Drama, Music]            6.7      7935   \n",
            "927             44.0             [Drama, Romance]            6.6       403   \n",
            "462             42.0      [Crime, Drama, Mystery]            6.5       641   \n",
            "1068            43.0  [Adventure, Drama, Mystery]            6.3       563   \n",
            "940            109.0            [Drama, Thriller]            6.4      2342   \n",
            "610            105.0              [Comedy, Drama]            6.3      3890   \n",
            "1126            90.0     [Comedy, Drama, Romance]            5.8       258   \n",
            "637             89.0             [Drama, Romance]            6.1      2288   \n",
            "385             78.0     [Crime, Drama, Thriller]            6.0      3738   \n",
            "1014            64.0            [Drama, Thriller]            5.3       355   \n",
            "1043            91.0              [Comedy, Drama]            5.1       387   \n",
            "1154            99.0              [Comedy, Drama]            4.6       642   \n",
            "492             86.0               [Crime, Drama]            3.5       229   \n",
            "922             92.0            [Drama, Thriller]            5.1     11434   \n",
            "690            105.0   [Drama, Romance, Thriller]            4.5     50572   \n",
            "677             24.0     [Drama, Fantasy, Horror]            3.6       592   \n",
            "1039           120.0   [Drama, Romance, Thriller]            2.8       374   \n",
            "1138           138.0              [Comedy, Drama]            2.8       527   \n",
            "1208           122.0            [Drama, Thriller]            3.2      1132   \n",
            "1197            89.0     [Drama, Horror, Mystery]            3.4      2065   \n",
            "846             82.0      [Action, Drama, Horror]            3.0      1620   \n",
            "90              86.0   [Action, Adventure, Drama]            3.1      8855   \n",
            "\n",
            "         score  \n",
            "68    9.254624  \n",
            "1181  8.892450  \n",
            "326   8.850993  \n",
            "71    8.700045  \n",
            "1234  8.660784  \n",
            "1054  8.451165  \n",
            "1281  8.014679  \n",
            "151   7.991253  \n",
            "1344  7.976536  \n",
            "357   7.928908  \n",
            "708   7.794774  \n",
            "605   7.777823  \n",
            "983   7.741020  \n",
            "1017  7.644528  \n",
            "73    7.641127  \n",
            "625   7.518184  \n",
            "1272  7.482870  \n",
            "800   7.474263  \n",
            "659   7.452229  \n",
            "1170  7.440123  \n",
            "1001  7.426951  \n",
            "977   7.414087  \n",
            "1096  7.413262  \n",
            "910   7.400262  \n",
            "746   7.392196  \n",
            "299   7.358892  \n",
            "509   7.358321  \n",
            "897   7.354658  \n",
            "1090  7.273948  \n",
            "109   7.198626  \n",
            "550   7.165391  \n",
            "834   7.047918  \n",
            "600   7.005022  \n",
            "642   6.992511  \n",
            "691   6.927461  \n",
            "727   6.807042  \n",
            "164   6.800337  \n",
            "893   6.703635  \n",
            "927   6.683187  \n",
            "462   6.586752  \n",
            "1068  6.453124  \n",
            "940   6.438263  \n",
            "610   6.329443  \n",
            "1126  6.284136  \n",
            "637   6.166378  \n",
            "385   6.047889  \n",
            "1014  5.899785  \n",
            "1043  5.742978  \n",
            "1154  5.186193  \n",
            "492   5.164791  \n",
            "922   5.133960  \n",
            "690   4.510501  \n",
            "677   4.500821  \n",
            "1039  4.330305  \n",
            "1138  4.020601  \n",
            "1208  3.810708  \n",
            "1197  3.742360  \n",
            "846   3.474296  \n",
            "90    3.194020  \n"
          ]
        }
      ]
    }
  ]
}