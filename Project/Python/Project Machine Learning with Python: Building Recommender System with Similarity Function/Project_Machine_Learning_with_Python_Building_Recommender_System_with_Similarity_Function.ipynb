{
  "nbformat": 4,
  "nbformat_minor": 0,
  "metadata": {
    "colab": {
      "name": "Project Machine Learning with Python: Building Recommender System with Similarity Function",
      "provenance": [],
      "collapsed_sections": [],
      "toc_visible": true
    },
    "kernelspec": {
      "name": "python3",
      "display_name": "Python 3"
    },
    "language_info": {
      "name": "python"
    }
  },
  "cells": [
    {
      "cell_type": "markdown",
      "source": [
        "# [Import Basics Library and File Unloading](https://academy.dqlab.id/main/projectcode/214/392/1969?pr=)"
      ],
      "metadata": {
        "id": "uMSUzL5QZmdD"
      }
    },
    {
      "cell_type": "code",
      "execution_count": 1,
      "metadata": {
        "id": "HYbIYxouZkwd"
      },
      "outputs": [],
      "source": [
        "#import library yang dibutuhkan\n",
        "import pandas as pd\n",
        "import numpy as np\n",
        "\n",
        "\n",
        "#lakukan pembacaan dataset\n",
        "movie_rating_df = pd.read_csv('https://storage.googleapis.com/dqlab-dataset/movie_rating_df.csv') #untuk menyimpan movie_rating_df.csv"
      ]
    },
    {
      "cell_type": "markdown",
      "source": [
        "# [Menampilkan 5 data teratas dan info data](https://academy.dqlab.id/main/projectcode/214/392/1970?pr=)"
      ],
      "metadata": {
        "id": "ohL5ZFykaQTR"
      }
    },
    {
      "cell_type": "code",
      "source": [
        "import pandas as pd\n",
        "import numpy as np\n",
        "pd.set_option('display.max_columns', None)\n",
        "\n",
        "movie_rating_df = pd.read_csv('https://storage.googleapis.com/dqlab-dataset/movie_rating_df.csv')\n",
        "\n",
        "#tampilkan 5 baris teratas dari movive_rating_df\n",
        "print(movie_rating_df.head())\n",
        "\n",
        "#tampilkan info mengenai tipe data dari tiap kolom\n",
        "print(movie_rating_df.info())"
      ],
      "metadata": {
        "colab": {
          "base_uri": "https://localhost:8080/"
        },
        "id": "bF2NbPyCaUyQ",
        "outputId": "1417ffb7-8468-47c7-9786-b73d9a4bac9d"
      },
      "execution_count": 2,
      "outputs": [
        {
          "output_type": "stream",
          "name": "stdout",
          "text": [
            "      tconst titleType            primaryTitle           originalTitle  \\\n",
            "0  tt0000001     short              Carmencita              Carmencita   \n",
            "1  tt0000002     short  Le clown et ses chiens  Le clown et ses chiens   \n",
            "2  tt0000003     short          Pauvre Pierrot          Pauvre Pierrot   \n",
            "3  tt0000004     short             Un bon bock             Un bon bock   \n",
            "4  tt0000005     short        Blacksmith Scene        Blacksmith Scene   \n",
            "\n",
            "   isAdult  startYear  endYear  runtimeMinutes                    genres  \\\n",
            "0        0     1894.0      NaN             1.0         Documentary,Short   \n",
            "1        0     1892.0      NaN             5.0           Animation,Short   \n",
            "2        0     1892.0      NaN             4.0  Animation,Comedy,Romance   \n",
            "3        0     1892.0      NaN            12.0           Animation,Short   \n",
            "4        0     1893.0      NaN             1.0              Comedy,Short   \n",
            "\n",
            "   averageRating  numVotes  \n",
            "0            5.6      1608  \n",
            "1            6.0       197  \n",
            "2            6.5      1285  \n",
            "3            6.1       121  \n",
            "4            6.1      2050  \n",
            "<class 'pandas.core.frame.DataFrame'>\n",
            "RangeIndex: 751614 entries, 0 to 751613\n",
            "Data columns (total 11 columns):\n",
            " #   Column          Non-Null Count   Dtype  \n",
            "---  ------          --------------   -----  \n",
            " 0   tconst          751614 non-null  object \n",
            " 1   titleType       751614 non-null  object \n",
            " 2   primaryTitle    751614 non-null  object \n",
            " 3   originalTitle   751614 non-null  object \n",
            " 4   isAdult         751614 non-null  int64  \n",
            " 5   startYear       751614 non-null  float64\n",
            " 6   endYear         16072 non-null   float64\n",
            " 7   runtimeMinutes  751614 non-null  float64\n",
            " 8   genres          486766 non-null  object \n",
            " 9   averageRating   751614 non-null  float64\n",
            " 10  numVotes        751614 non-null  int64  \n",
            "dtypes: float64(4), int64(2), object(5)\n",
            "memory usage: 63.1+ MB\n",
            "None\n"
          ]
        }
      ]
    },
    {
      "cell_type": "markdown",
      "source": [
        "# [Convert into List](https://academy.dqlab.id/main/projectcode/214/392/1973)"
      ],
      "metadata": {
        "id": "WoZLo_QmcPST"
      }
    },
    {
      "cell_type": "code",
      "source": [
        "import pandas as pd\n",
        "import numpy as np\n",
        "pd.set_option('display.max_columns', None)\n",
        "\n",
        "director_writers = pd.read_csv('https://storage.googleapis.com/dqlab-dataset/directors_writers.csv')\n",
        "\n",
        "#Mengubah director_name menjadi list\n",
        "director_writers['director_name'] = director_writers['director_name'].apply(lambda row: row.split(','))\n",
        "director_writers['writer_name'] = director_writers['writer_name'].apply(lambda row: row.split(','))\n",
        "\n",
        "#Tampilkan 5 data teratas\n",
        "print(director_writers.head())"
      ],
      "metadata": {
        "colab": {
          "base_uri": "https://localhost:8080/"
        },
        "id": "rnIE3f76bnOd",
        "outputId": "41c833ac-095e-42fa-c249-986e729e9ed3"
      },
      "execution_count": 6,
      "outputs": [
        {
          "output_type": "stream",
          "name": "stdout",
          "text": [
            "      tconst                      director_name  \\\n",
            "0  tt0011414                   [David Kirkland]   \n",
            "1  tt0011890                [Roy William Neill]   \n",
            "2  tt0014341  [Buster Keaton, John G. Blystone]   \n",
            "3  tt0018054                 [Cecil B. DeMille]   \n",
            "4  tt0024151                      [James Cruze]   \n",
            "\n",
            "                                         writer_name  \n",
            "0                         [John Emerson, Anita Loos]  \n",
            "1   [Arthur F. Goodrich, Burns Mantle, Mary Murillo]  \n",
            "2  [Jean C. Havez, Clyde Bruckman, Joseph A. Mitc...  \n",
            "3                                [Jeanie Macpherson]  \n",
            "4               [Max Miller, Wells Root, Jack Jevne]  \n"
          ]
        }
      ]
    },
    {
      "cell_type": "markdown",
      "source": [
        "# [Update name_df](https://academy.dqlab.id/main/livecode/214/393/1974?pr=)"
      ],
      "metadata": {
        "id": "tx7B7h_ecZ5b"
      }
    },
    {
      "cell_type": "code",
      "source": [
        "import pandas as pd\n",
        "import numpy as np\n",
        "pd.set_option('display.max_columns', None)\n",
        "\n",
        "name_df = pd.read_csv('https://storage.googleapis.com/dqlab-dataset/actor_name.csv')\n",
        "#Kita hanya akan membutuhkan kolom nconst, primaryName, dan knownForTitles\n",
        "name_df = name_df[['nconst','primaryName','knownForTitles']]\n",
        "\n",
        "#Tampilkan 5 baris teratas dari name_df\n",
        "print(name_df.head())"
      ],
      "metadata": {
        "colab": {
          "base_uri": "https://localhost:8080/"
        },
        "id": "_3tcgOe4ci2X",
        "outputId": "36578ba5-b45a-4e22-8ac8-dfb4adb79d54"
      },
      "execution_count": 10,
      "outputs": [
        {
          "output_type": "stream",
          "name": "stdout",
          "text": [
            "       nconst          primaryName                           knownForTitles\n",
            "0   nm1774132    Nathan McLaughlin  tt0417686,tt1713976,tt1891860,tt0454839\n",
            "1  nm10683464        Bridge Andrew                                tt7718088\n",
            "2   nm1021485    Brandon Fransvaag                                tt0168790\n",
            "3   nm6940929   Erwin van der Lely                                tt4232168\n",
            "4   nm5764974  Svetlana Shypitsyna                                tt3014168\n"
          ]
        }
      ]
    },
    {
      "cell_type": "markdown",
      "source": [
        "# [Movies per Actor](https://academy.dqlab.id/main/livecode/214/393/1975?pr=)"
      ],
      "metadata": {
        "id": "aFvD4dzfdIjX"
      }
    },
    {
      "cell_type": "code",
      "source": [
        "import pandas as pd\n",
        "import numpy as np\n",
        "pd.set_option('display.max_columns', None)\n",
        "name_df = pd.read_csv('https://storage.googleapis.com/dqlab-dataset/actor_name.csv')\n",
        "name_df = name_df[['nconst','primaryName','knownForTitles']]\n",
        "\n",
        "#Melakukan pengecekan variasi\n",
        "print(name_df['knownForTitles'].apply(lambda x: len(x.split(','))).unique())\n",
        "\n",
        "#Mengubah knownForTitles menjadi list of list\n",
        "name_df['knownForTitles'] = name_df['knownForTitles'].apply(lambda x: x.split(','))\n",
        "\n",
        "#Mencetak 5 baris teratas\n",
        "print(name_df.head())"
      ],
      "metadata": {
        "colab": {
          "base_uri": "https://localhost:8080/"
        },
        "id": "0GceBkBodNyQ",
        "outputId": "21d56ee6-2b24-4aaf-dab5-a197f2af0bbf"
      },
      "execution_count": 12,
      "outputs": [
        {
          "output_type": "stream",
          "name": "stdout",
          "text": [
            "[4 1 2 3]\n",
            "       nconst          primaryName  \\\n",
            "0   nm1774132    Nathan McLaughlin   \n",
            "1  nm10683464        Bridge Andrew   \n",
            "2   nm1021485    Brandon Fransvaag   \n",
            "3   nm6940929   Erwin van der Lely   \n",
            "4   nm5764974  Svetlana Shypitsyna   \n",
            "\n",
            "                                 knownForTitles  \n",
            "0  [tt0417686, tt1713976, tt1891860, tt0454839]  \n",
            "1                                   [tt7718088]  \n",
            "2                                   [tt0168790]  \n",
            "3                                   [tt4232168]  \n",
            "4                                   [tt3014168]  \n"
          ]
        }
      ]
    },
    {
      "cell_type": "markdown",
      "source": [
        "# [Korespondensi 1 - 1](https://academy.dqlab.id/main/livecode/214/393/1976?pr=)"
      ],
      "metadata": {
        "id": "jz20ZFJOeaZR"
      }
    },
    {
      "cell_type": "code",
      "source": [
        "import pandas as pd\n",
        "import numpy as np\n",
        "pd.set_option('display.max_columns', None)\n",
        "\n",
        "name_df = pd.read_csv('https://storage.googleapis.com/dqlab-dataset/actor_name.csv')\n",
        "name_df = name_df[['nconst','primaryName','knownForTitles']]\n",
        "name_df['knownForTitles'] = name_df['knownForTitles'].apply(lambda x: x.split(','))\n",
        "\n",
        "#menyiapkan bucket untuk dataframe\n",
        "df_uni = []\n",
        "\n",
        "for x in ['knownForTitles']:\n",
        "    #mengulang index dari tiap baris sampai tiap elemen dari knownForTitles\n",
        "    idx = name_df.index.repeat(name_df['knownForTitles'].str.len())\n",
        "   \n",
        "   #memecah values dari list di setiap baris dan menggabungkan nya dengan rows lain menjadi dataframe\n",
        "    df1 = pd.DataFrame({\n",
        "        x: np.concatenate(name_df[x].values)\n",
        "    })\n",
        "    \n",
        "    #mengganti index dataframe tersebut dengan idx yang sudah kita define di awal\n",
        "    df1.index = idx\n",
        "    #untuk setiap dataframe yang terbentuk, kita append ke dataframe bucket\n",
        "    df_uni.append(df1)\n",
        "    \n",
        "#menggabungkan semua dataframe menjadi satu\n",
        "df_concat = pd.concat(df_uni, axis=1)\n",
        "\n",
        "#left join dengan value dari dataframe yang awal\n",
        "unnested_df = df_concat.join(name_df.drop(['knownForTitles'], 1), how='left')\n",
        "\n",
        "#select kolom sesuai dengan dataframe awal\n",
        "unnested_df = unnested_df[name_df.columns.tolist()]\n",
        "print(unnested_df)"
      ],
      "metadata": {
        "colab": {
          "base_uri": "https://localhost:8080/"
        },
        "id": "DO1fU3QIeese",
        "outputId": "f7f0ef32-8d07-4dbe-fdcf-c0789eff914b"
      },
      "execution_count": 99,
      "outputs": [
        {
          "output_type": "stream",
          "name": "stdout",
          "text": [
            "         nconst        primaryName knownForTitles\n",
            "0     nm1774132  Nathan McLaughlin      tt0417686\n",
            "0     nm1774132  Nathan McLaughlin      tt1713976\n",
            "0     nm1774132  Nathan McLaughlin      tt1891860\n",
            "0     nm1774132  Nathan McLaughlin      tt0454839\n",
            "1    nm10683464      Bridge Andrew      tt7718088\n",
            "..          ...                ...            ...\n",
            "998   nm5245804      Eliza Jenkins      tt1464058\n",
            "999   nm0948460         Greg Yolen      tt0436869\n",
            "999   nm0948460         Greg Yolen      tt0476663\n",
            "999   nm0948460         Greg Yolen      tt0109723\n",
            "999   nm0948460         Greg Yolen      tt0364484\n",
            "\n",
            "[1918 rows x 3 columns]\n"
          ]
        },
        {
          "output_type": "stream",
          "name": "stderr",
          "text": [
            "/usr/local/lib/python3.7/dist-packages/ipykernel_launcher.py:30: FutureWarning: In a future version of pandas all arguments of DataFrame.drop except for the argument 'labels' will be keyword-only\n"
          ]
        }
      ]
    },
    {
      "cell_type": "markdown",
      "source": [
        "# [Mengelompokkan primaryName menjadi list group by knownForTitles](https://academy.dqlab.id/main/projectcode/214/394/1977)"
      ],
      "metadata": {
        "id": "J1TAQaaGBpU9"
      }
    },
    {
      "cell_type": "code",
      "source": [
        "import pandas as pd\n",
        "import numpy as np\n",
        "pd.set_option('display.max_columns', None)\n",
        "\n",
        "name_df = pd.read_csv('https://storage.googleapis.com/dqlab-dataset/actor_name.csv')\n",
        "name_df = name_df[['nconst','primaryName','knownForTitles']]\n",
        "name_df['knownForTitles'] = name_df['knownForTitles'].apply(lambda x: x.split(','))\n",
        "\n",
        "df_uni = []\n",
        "for x in ['knownForTitles']:\n",
        "    idx = name_df.index.repeat(name_df['knownForTitles'].str.len())\n",
        "    df1 = pd.DataFrame({\n",
        "        x: np.concatenate(name_df[x].values)\n",
        "    })\n",
        "    df1.index = idx\n",
        "    df_uni.append(df1)\n",
        "\n",
        "df_concat = pd.concat(df_uni, axis=1)\n",
        "unnested_df = df_concat.join(name_df.drop(['knownForTitles'], 1), how='left')\n",
        "unnested_df = unnested_df[name_df.columns.tolist()]\n",
        "\n",
        "unnested_drop = unnested_df.drop(['nconst'], axis=1)\n",
        "\n",
        "#menyiapkan bucket untuk dataframe\n",
        "df_uni = []\n",
        "\n",
        "for col in ['primaryName']:\n",
        "    #agregasi kolom PrimaryName sesuai group_col yang sudah di define di atas\n",
        "    dfi = unnested_drop.groupby(['knownForTitles'])[col].apply(list)\n",
        "    #Lakukan append\n",
        "    df_uni.append(dfi)\n",
        "df_grouped = pd.concat(df_uni, axis=1).reset_index()\n",
        "df_grouped.columns = ['knownForTitles','cast_name']\n",
        "print(df_grouped)"
      ],
      "metadata": {
        "colab": {
          "base_uri": "https://localhost:8080/"
        },
        "id": "JpQ4vUc5EyZL",
        "outputId": "51f89770-9e89-422a-f75d-4a137a72919f"
      },
      "execution_count": 102,
      "outputs": [
        {
          "output_type": "stream",
          "name": "stdout",
          "text": [
            "     knownForTitles           cast_name\n",
            "0         tt0008125    [Charles Harley]\n",
            "1         tt0009706    [Charles Harley]\n",
            "2         tt0010304  [Natalie Talmadge]\n",
            "3         tt0011414  [Natalie Talmadge]\n",
            "4         tt0011890  [Natalie Talmadge]\n",
            "...             ...                 ...\n",
            "1893      tt9610496  [Stefano Baffetti]\n",
            "1894      tt9714030        [Kevin Kain]\n",
            "1895      tt9741820   [Caroline Plyler]\n",
            "1896      tt9759814     [Ethan Francis]\n",
            "1897      tt9856236     [Nuala Maguire]\n",
            "\n",
            "[1898 rows x 2 columns]\n"
          ]
        },
        {
          "output_type": "stream",
          "name": "stderr",
          "text": [
            "/usr/local/lib/python3.7/dist-packages/ipykernel_launcher.py:19: FutureWarning: In a future version of pandas all arguments of DataFrame.drop except for the argument 'labels' will be keyword-only\n"
          ]
        }
      ]
    },
    {
      "cell_type": "markdown",
      "source": [
        "# [Join table](https://academy.dqlab.id/main/livecode/214/395/1978?pr=)"
      ],
      "metadata": {
        "id": "gmuFDqvAQ1hq"
      }
    },
    {
      "cell_type": "code",
      "source": [
        "import pandas as pd\n",
        "import numpy as np\n",
        "pd.set_option('display.max_columns', None)\n",
        "\n",
        "movie_rating_df = pd.read_csv('https://storage.googleapis.com/dqlab-dataset/movie_rating_df.csv')\n",
        "\n",
        "director_writers = pd.read_csv('https://storage.googleapis.com/dqlab-dataset/directors_writers.csv')\n",
        "director_writers['director_name'] = director_writers['director_name'].apply(lambda row: row.split(','))\n",
        "director_writers['writer_name'] = director_writers['writer_name'].apply(lambda row: row.split(','))\n",
        "\n",
        "name_df = pd.read_csv('https://storage.googleapis.com/dqlab-dataset/actor_name.csv')\n",
        "name_df = name_df[['nconst','primaryName','knownForTitles']]\n",
        "name_df['knownForTitles'] = name_df['knownForTitles'].apply(lambda x: x.split(','))\n",
        "\n",
        "df_uni = []\n",
        "for x in ['knownForTitles']:\n",
        "    idx = name_df.index.repeat(name_df['knownForTitles'].str.len())\n",
        "    df1 = pd.DataFrame({\n",
        "        x: np.concatenate(name_df[x].values)\n",
        "    })\n",
        "    df1.index = idx\n",
        "    df_uni.append(df1)\n",
        "\n",
        "df_concat = pd.concat(df_uni, axis=1)\n",
        "unnested_df = df_concat.join(name_df.drop(['knownForTitles'], 1), how='left')\n",
        "unnested_df = unnested_df[name_df.columns.tolist()]\n",
        "\n",
        "unnested_drop = unnested_df.drop(['nconst'], axis=1)\n",
        "df_uni = []\n",
        "for col in ['primaryName']:\n",
        "    dfi = unnested_drop.groupby(['knownForTitles'])[col].apply(list)\n",
        "    df_uni.append(dfi)\n",
        "df_grouped = pd.concat(df_uni, axis=1).reset_index()\n",
        "df_grouped.columns = ['knownForTitles','cast_name']\n",
        "\n",
        "#join antara movie table dan cast table \n",
        "base_df = pd.merge(df_grouped, movie_rating_df, left_on='knownForTitles', right_on='tconst', how='inner')\n",
        "\n",
        "#join antara base_df dengan director_writer table\n",
        "base_df = pd.merge(base_df, director_writers, left_on='tconst', right_on='tconst', how='left')\n",
        "print(base_df.head())"
      ],
      "metadata": {
        "colab": {
          "base_uri": "https://localhost:8080/"
        },
        "id": "FEUt1PGrQ63v",
        "outputId": "06d2c303-f476-4872-e700-a449491775e6"
      },
      "execution_count": 138,
      "outputs": [
        {
          "output_type": "stream",
          "name": "stderr",
          "text": [
            "/usr/local/lib/python3.7/dist-packages/ipykernel_launcher.py:25: FutureWarning: In a future version of pandas all arguments of DataFrame.drop except for the argument 'labels' will be keyword-only\n"
          ]
        },
        {
          "output_type": "stream",
          "name": "stdout",
          "text": [
            "  knownForTitles           cast_name     tconst titleType  \\\n",
            "0      tt0011414  [Natalie Talmadge]  tt0011414     movie   \n",
            "1      tt0011890  [Natalie Talmadge]  tt0011890     movie   \n",
            "2      tt0014341  [Natalie Talmadge]  tt0014341     movie   \n",
            "3      tt0018054     [Reeka Roberts]  tt0018054     movie   \n",
            "4      tt0024151     [James Hackett]  tt0024151     movie   \n",
            "\n",
            "             primaryTitle           originalTitle  isAdult  startYear  \\\n",
            "0         The Love Expert         The Love Expert        0     1920.0   \n",
            "1               Yes or No               Yes or No        0     1920.0   \n",
            "2         Our Hospitality         Our Hospitality        0     1923.0   \n",
            "3       The King of Kings       The King of Kings        0     1927.0   \n",
            "4  I Cover the Waterfront  I Cover the Waterfront        0     1933.0   \n",
            "\n",
            "   endYear  runtimeMinutes                   genres  averageRating  numVotes  \\\n",
            "0      NaN            60.0           Comedy,Romance            4.9       136   \n",
            "1      NaN            72.0                      NaN            6.3         7   \n",
            "2      NaN            65.0  Comedy,Romance,Thriller            7.8      9621   \n",
            "3      NaN           155.0  Biography,Drama,History            7.3      1826   \n",
            "4      NaN            80.0            Drama,Romance            6.3       455   \n",
            "\n",
            "                       director_name  \\\n",
            "0                   [David Kirkland]   \n",
            "1                [Roy William Neill]   \n",
            "2  [Buster Keaton, John G. Blystone]   \n",
            "3                 [Cecil B. DeMille]   \n",
            "4                      [James Cruze]   \n",
            "\n",
            "                                         writer_name  \n",
            "0                         [John Emerson, Anita Loos]  \n",
            "1   [Arthur F. Goodrich, Burns Mantle, Mary Murillo]  \n",
            "2  [Jean C. Havez, Clyde Bruckman, Joseph A. Mitc...  \n",
            "3                                [Jeanie Macpherson]  \n",
            "4               [Max Miller, Wells Root, Jack Jevne]  \n"
          ]
        }
      ]
    },
    {
      "cell_type": "markdown",
      "source": [
        "# [Cleaning data](https:https://academy.dqlab.id/main/livecode/214/395/1980?pr=//)"
      ],
      "metadata": {
        "id": "RFk1oLNrTVBH"
      }
    },
    {
      "cell_type": "code",
      "source": [
        "import pandas as pd\n",
        "import numpy as np\n",
        "pd.set_option('display.max_columns', None)\n",
        "\n",
        "movie_rating_df = pd.read_csv('https://storage.googleapis.com/dqlab-dataset/movie_rating_df.csv')\n",
        "\n",
        "director_writers = pd.read_csv('https://storage.googleapis.com/dqlab-dataset/directors_writers.csv')\n",
        "director_writers['director_name'] = director_writers['director_name'].apply(lambda row: row.split(','))\n",
        "director_writers['writer_name'] = director_writers['writer_name'].apply(lambda row: row.split(','))\n",
        "\n",
        "name_df = pd.read_csv('https://storage.googleapis.com/dqlab-dataset/actor_name.csv')\n",
        "name_df = name_df[['nconst','primaryName','knownForTitles']]\n",
        "name_df['knownForTitles'] = name_df['knownForTitles'].apply(lambda x: x.split(','))\n",
        "\n",
        "df_uni = []\n",
        "for x in ['knownForTitles']:\n",
        "    idx = name_df.index.repeat(name_df['knownForTitles'].str.len())\n",
        "    df1 = pd.DataFrame({\n",
        "        x: np.concatenate(name_df[x].values)\n",
        "    })\n",
        "    df1.index = idx\n",
        "    df_uni.append(df1)\n",
        "\n",
        "df_concat = pd.concat(df_uni, axis=1)\n",
        "unnested_df = df_concat.join(name_df.drop(['knownForTitles'], 1), how='left')\n",
        "unnested_df = unnested_df[name_df.columns.tolist()]\n",
        "\n",
        "unnested_drop = unnested_df.drop(['nconst'], axis=1)\n",
        "df_uni = []\n",
        "for col in ['primaryName']:\n",
        "    dfi = unnested_drop.groupby(['knownForTitles'])[col].apply(list)\n",
        "    df_uni.append(dfi)\n",
        "df_grouped = pd.concat(df_uni, axis=1).reset_index()\n",
        "df_grouped.columns = ['knownForTitles','cast_name']\n",
        "\n",
        "base_df = pd.merge(df_grouped, movie_rating_df, left_on='knownForTitles', right_on='tconst', how='inner')\n",
        "base_df = pd.merge(base_df, director_writers, left_on='tconst', right_on='tconst', how='left')\n",
        "\n",
        "#Melakukan drop terhadap kolom knownForTitles\n",
        "base_drop = base_df.drop(['knownForTitles'], axis=1)\n",
        "print(base_drop.info())\n",
        "\n",
        "#Mengganti nilai NULL pada kolom genres dengan 'Unknown'\n",
        "base_drop['genres'] = base_drop['genres'].fillna('Unknown')\n",
        "\n",
        "#Melakukan perhitungan jumlah nilai NULL pada tiap kolom\n",
        "print(base_drop.isnull().sum())\n",
        "\n",
        "#Mengganti nilai NULL pada kolom dorector_name dan writer_name dengan 'Unknown'\n",
        "base_drop[['director_name','writer_name']] = base_drop[['director_name','writer_name']].fillna('unknown')\n",
        "\n",
        "#karena value kolom genres terdapat multiple values, jadi kita akan bungkus menjadi list of list\n",
        "base_drop['genres'] = base_drop['genres'].apply(lambda x: x.split(','))"
      ],
      "metadata": {
        "colab": {
          "base_uri": "https://localhost:8080/"
        },
        "id": "aF6DwFyqTatg",
        "outputId": "3fbf7d9c-1a66-4f37-d30d-f3fa45eddfdb"
      },
      "execution_count": 142,
      "outputs": [
        {
          "output_type": "stream",
          "name": "stderr",
          "text": [
            "/usr/local/lib/python3.7/dist-packages/ipykernel_launcher.py:25: FutureWarning: In a future version of pandas all arguments of DataFrame.drop except for the argument 'labels' will be keyword-only\n"
          ]
        },
        {
          "output_type": "stream",
          "name": "stdout",
          "text": [
            "<class 'pandas.core.frame.DataFrame'>\n",
            "Int64Index: 1060 entries, 0 to 1059\n",
            "Data columns (total 14 columns):\n",
            " #   Column          Non-Null Count  Dtype  \n",
            "---  ------          --------------  -----  \n",
            " 0   cast_name       1060 non-null   object \n",
            " 1   tconst          1060 non-null   object \n",
            " 2   titleType       1060 non-null   object \n",
            " 3   primaryTitle    1060 non-null   object \n",
            " 4   originalTitle   1060 non-null   object \n",
            " 5   isAdult         1060 non-null   int64  \n",
            " 6   startYear       1060 non-null   float64\n",
            " 7   endYear         110 non-null    float64\n",
            " 8   runtimeMinutes  1060 non-null   float64\n",
            " 9   genres          745 non-null    object \n",
            " 10  averageRating   1060 non-null   float64\n",
            " 11  numVotes        1060 non-null   int64  \n",
            " 12  director_name   986 non-null    object \n",
            " 13  writer_name     986 non-null    object \n",
            "dtypes: float64(4), int64(2), object(8)\n",
            "memory usage: 124.2+ KB\n",
            "None\n",
            "cast_name           0\n",
            "tconst              0\n",
            "titleType           0\n",
            "primaryTitle        0\n",
            "originalTitle       0\n",
            "isAdult             0\n",
            "startYear           0\n",
            "endYear           950\n",
            "runtimeMinutes      0\n",
            "genres              0\n",
            "averageRating       0\n",
            "numVotes            0\n",
            "director_name      74\n",
            "writer_name        74\n",
            "dtype: int64\n"
          ]
        }
      ]
    },
    {
      "cell_type": "markdown",
      "source": [
        "# [Reformat table base_df](https://academy.dqlab.id/main/livecode/214/395/1981?pr=)"
      ],
      "metadata": {
        "id": "2s8NKQ2GUlbe"
      }
    },
    {
      "cell_type": "code",
      "source": [
        "import pandas as pd\n",
        "import numpy as np\n",
        "pd.set_option('display.max_columns', None)\n",
        "\n",
        "movie_rating_df = pd.read_csv('https://storage.googleapis.com/dqlab-dataset/movie_rating_df.csv')\n",
        "\n",
        "director_writers = pd.read_csv('https://storage.googleapis.com/dqlab-dataset/directors_writers.csv')\n",
        "director_writers['director_name'] = director_writers['director_name'].apply(lambda row: row.split(','))\n",
        "director_writers['writer_name'] = director_writers['writer_name'].apply(lambda row: row.split(','))\n",
        "\n",
        "name_df = pd.read_csv('https://storage.googleapis.com/dqlab-dataset/actor_name.csv')\n",
        "name_df = name_df[['nconst','primaryName','knownForTitles']]\n",
        "name_df['knownForTitles'] = name_df['knownForTitles'].apply(lambda x: x.split(','))\n",
        "\n",
        "df_uni = []\n",
        "for x in ['knownForTitles']:\n",
        "    idx = name_df.index.repeat(name_df['knownForTitles'].str.len())\n",
        "    df1 = pd.DataFrame({\n",
        "        x: np.concatenate(name_df[x].values)\n",
        "    })\n",
        "    df1.index = idx\n",
        "    df_uni.append(df1)\n",
        "\n",
        "df_concat = pd.concat(df_uni, axis=1)\n",
        "unnested_df = df_concat.join(name_df.drop(['knownForTitles'], 1), how='left')\n",
        "unnested_df = unnested_df[name_df.columns.tolist()]\n",
        "\n",
        "unnested_drop = unnested_df.drop(['nconst'], axis=1)\n",
        "df_uni = []\n",
        "for col in ['primaryName']:\n",
        "    dfi = unnested_drop.groupby(['knownForTitles'])[col].apply(list)\n",
        "    df_uni.append(dfi)\n",
        "df_grouped = pd.concat(df_uni, axis=1).reset_index()\n",
        "df_grouped.columns = ['knownForTitles','cast_name']\n",
        "\n",
        "base_df = pd.merge(df_grouped, movie_rating_df, left_on='knownForTitles', right_on='tconst', how='inner')\n",
        "base_df = pd.merge(base_df, director_writers, left_on='tconst', right_on='tconst', how='left')\n",
        "\n",
        "base_drop = base_df.drop(['knownForTitles'], axis=1)\n",
        "base_drop['genres'] = base_drop['genres'].fillna('Unknown')\n",
        "base_drop[['director_name','writer_name']] = base_drop[['director_name','writer_name']].fillna('unknown')\n",
        "base_drop['genres'] = base_drop['genres'].apply(lambda x: x.split(','))\n",
        "\n",
        "#Drop kolom tconst, isAdult, endYear, originalTitle\n",
        "base_drop2 = base_drop.drop(['tconst','isAdult','endYear','originalTitle'], axis=1)\n",
        "\n",
        "base_drop2 = base_drop2[['primaryTitle','titleType','startYear','runtimeMinutes','genres','averageRating','numVotes','cast_name','director_name','writer_name']]\n",
        "\n",
        "# Gunakan petunjuk!\n",
        "base_drop2.columns = ['title','type','start','duration','genres','rating','votes','cast_name','director_name','writer_name']\n",
        "print(base_drop2.head())"
      ],
      "metadata": {
        "colab": {
          "base_uri": "https://localhost:8080/"
        },
        "id": "I2tj5NE-UpEp",
        "outputId": "6125224d-ad57-4a7f-d56f-4891617d5a88"
      },
      "execution_count": 152,
      "outputs": [
        {
          "output_type": "stream",
          "name": "stderr",
          "text": [
            "/usr/local/lib/python3.7/dist-packages/ipykernel_launcher.py:25: FutureWarning: In a future version of pandas all arguments of DataFrame.drop except for the argument 'labels' will be keyword-only\n"
          ]
        },
        {
          "output_type": "stream",
          "name": "stdout",
          "text": [
            "                    title   type   start  duration  \\\n",
            "0         The Love Expert  movie  1920.0      60.0   \n",
            "1               Yes or No  movie  1920.0      72.0   \n",
            "2         Our Hospitality  movie  1923.0      65.0   \n",
            "3       The King of Kings  movie  1927.0     155.0   \n",
            "4  I Cover the Waterfront  movie  1933.0      80.0   \n",
            "\n",
            "                        genres  rating  votes           cast_name  \\\n",
            "0            [Comedy, Romance]     4.9    136  [Natalie Talmadge]   \n",
            "1                    [Unknown]     6.3      7  [Natalie Talmadge]   \n",
            "2  [Comedy, Romance, Thriller]     7.8   9621  [Natalie Talmadge]   \n",
            "3  [Biography, Drama, History]     7.3   1826     [Reeka Roberts]   \n",
            "4             [Drama, Romance]     6.3    455     [James Hackett]   \n",
            "\n",
            "                       director_name  \\\n",
            "0                   [David Kirkland]   \n",
            "1                [Roy William Neill]   \n",
            "2  [Buster Keaton, John G. Blystone]   \n",
            "3                 [Cecil B. DeMille]   \n",
            "4                      [James Cruze]   \n",
            "\n",
            "                                         writer_name  \n",
            "0                         [John Emerson, Anita Loos]  \n",
            "1   [Arthur F. Goodrich, Burns Mantle, Mary Murillo]  \n",
            "2  [Jean C. Havez, Clyde Bruckman, Joseph A. Mitc...  \n",
            "3                                [Jeanie Macpherson]  \n",
            "4               [Max Miller, Wells Root, Jack Jevne]  \n"
          ]
        }
      ]
    },
    {
      "cell_type": "markdown",
      "source": [
        "# [Klasifikasi Metadata](https://academy.dqlab.id/main/livecode/214/396/1982?pr=)"
      ],
      "metadata": {
        "id": "XBHIvvz_VwzJ"
      }
    },
    {
      "cell_type": "code",
      "source": [
        "import pandas as pd\n",
        "import numpy as np\n",
        "pd.set_option('display.max_columns', None)\n",
        "\n",
        "movie_rating_df = pd.read_csv('https://storage.googleapis.com/dqlab-dataset/movie_rating_df.csv')\n",
        "\n",
        "director_writers = pd.read_csv('https://storage.googleapis.com/dqlab-dataset/directors_writers.csv')\n",
        "director_writers['director_name'] = director_writers['director_name'].apply(lambda row: row.split(','))\n",
        "director_writers['writer_name'] = director_writers['writer_name'].apply(lambda row: row.split(','))\n",
        "\n",
        "name_df = pd.read_csv('https://storage.googleapis.com/dqlab-dataset/actor_name.csv')\n",
        "name_df = name_df[['nconst','primaryName','knownForTitles']]\n",
        "name_df['knownForTitles'] = name_df['knownForTitles'].apply(lambda x: x.split(','))\n",
        "\n",
        "df_uni = []\n",
        "for x in ['knownForTitles']:\n",
        "    idx = name_df.index.repeat(name_df['knownForTitles'].str.len())\n",
        "    df1 = pd.DataFrame({\n",
        "        x: np.concatenate(name_df[x].values)\n",
        "    })\n",
        "    df1.index = idx\n",
        "    df_uni.append(df1)\n",
        "\n",
        "df_concat = pd.concat(df_uni, axis=1)\n",
        "unnested_df = df_concat.join(name_df.drop(['knownForTitles'], 1), how='left')\n",
        "unnested_df = unnested_df[name_df.columns.tolist()]\n",
        "\n",
        "unnested_drop = unnested_df.drop(['nconst'], axis=1)\n",
        "df_uni = []\n",
        "for col in ['primaryName']:\n",
        "    dfi = unnested_drop.groupby(['knownForTitles'])[col].apply(list)\n",
        "    df_uni.append(dfi)\n",
        "df_grouped = pd.concat(df_uni, axis=1).reset_index()\n",
        "df_grouped.columns = ['knownForTitles','cast_name']\n",
        "\n",
        "base_df = pd.merge(df_grouped, movie_rating_df, left_on='knownForTitles', right_on='tconst', how='inner')\n",
        "base_df = pd.merge(base_df, director_writers, left_on='tconst', right_on='tconst', how='left')\n",
        "\n",
        "base_drop = base_df.drop(['knownForTitles'], axis=1)\n",
        "base_drop['genres'] = base_drop['genres'].fillna('Unknown')\n",
        "base_drop[['director_name','writer_name']] = base_drop[['director_name','writer_name']].fillna('unknown')\n",
        "base_drop['genres'] = base_drop['genres'].apply(lambda x: x.split(','))\n",
        "\n",
        "base_drop2 = base_drop.drop(['tconst','isAdult','endYear','originalTitle'], axis=1)\n",
        "base_drop2 = base_drop2[['primaryTitle','titleType','startYear','runtimeMinutes','genres','averageRating','numVotes','cast_name','director_name','writer_name']]\n",
        "base_drop2.columns = ['title','type','start','duration','genres','rating','votes','cast_name','director_name','writer_name']\n",
        "\n",
        "#Klasifikasi berdasar title, cast_name, genres, director_name, dan writer_name\n",
        "feature_df = base_drop2[['title','cast_name','genres','director_name','writer_name']]\n",
        "\n",
        "#Tampilkan 5 baris teratas\n",
        "print(feature_df.head())"
      ],
      "metadata": {
        "colab": {
          "base_uri": "https://localhost:8080/"
        },
        "id": "q_owchqSWKhp",
        "outputId": "7f7a4710-3339-47c5-898a-5dc44eba01c9"
      },
      "execution_count": 158,
      "outputs": [
        {
          "output_type": "stream",
          "name": "stderr",
          "text": [
            "/usr/local/lib/python3.7/dist-packages/ipykernel_launcher.py:25: FutureWarning: In a future version of pandas all arguments of DataFrame.drop except for the argument 'labels' will be keyword-only\n"
          ]
        },
        {
          "output_type": "stream",
          "name": "stdout",
          "text": [
            "                    title           cast_name                       genres  \\\n",
            "0         The Love Expert  [Natalie Talmadge]            [Comedy, Romance]   \n",
            "1               Yes or No  [Natalie Talmadge]                    [Unknown]   \n",
            "2         Our Hospitality  [Natalie Talmadge]  [Comedy, Romance, Thriller]   \n",
            "3       The King of Kings     [Reeka Roberts]  [Biography, Drama, History]   \n",
            "4  I Cover the Waterfront     [James Hackett]             [Drama, Romance]   \n",
            "\n",
            "                       director_name  \\\n",
            "0                   [David Kirkland]   \n",
            "1                [Roy William Neill]   \n",
            "2  [Buster Keaton, John G. Blystone]   \n",
            "3                 [Cecil B. DeMille]   \n",
            "4                      [James Cruze]   \n",
            "\n",
            "                                         writer_name  \n",
            "0                         [John Emerson, Anita Loos]  \n",
            "1   [Arthur F. Goodrich, Burns Mantle, Mary Murillo]  \n",
            "2  [Jean C. Havez, Clyde Bruckman, Joseph A. Mitc...  \n",
            "3                                [Jeanie Macpherson]  \n",
            "4               [Max Miller, Wells Root, Jack Jevne]  \n"
          ]
        }
      ]
    },
    {
      "cell_type": "markdown",
      "source": [
        "# [Pertanyaan 1: Bagaimana cara membuat fungsi untuk strip spaces dari setiap row dan setiap elemennya?](https://academy.dqlab.id/main/livecode/214/396/1983?pr=)"
      ],
      "metadata": {
        "id": "cePD6AQgXyIV"
      }
    },
    {
      "cell_type": "code",
      "source": [
        "import pandas as pd\n",
        "import numpy as np\n",
        "pd.set_option('display.max_columns', None)\n",
        "\n",
        "movie_rating_df = pd.read_csv('https://storage.googleapis.com/dqlab-dataset/movie_rating_df.csv')\n",
        "\n",
        "director_writers = pd.read_csv('https://storage.googleapis.com/dqlab-dataset/directors_writers.csv')\n",
        "director_writers['director_name'] = director_writers['director_name'].apply(lambda row: row.split(','))\n",
        "director_writers['writer_name'] = director_writers['writer_name'].apply(lambda row: row.split(','))\n",
        "\n",
        "name_df = pd.read_csv('https://storage.googleapis.com/dqlab-dataset/actor_name.csv')\n",
        "name_df = name_df[['nconst','primaryName','knownForTitles']]\n",
        "name_df['knownForTitles'] = name_df['knownForTitles'].apply(lambda x: x.split(','))\n",
        "\n",
        "df_uni = []\n",
        "for x in ['knownForTitles']:\n",
        "    idx = name_df.index.repeat(name_df['knownForTitles'].str.len())\n",
        "    df1 = pd.DataFrame({\n",
        "        x: np.concatenate(name_df[x].values)\n",
        "    })\n",
        "    df1.index = idx\n",
        "    df_uni.append(df1)\n",
        "\n",
        "df_concat = pd.concat(df_uni, axis=1)\n",
        "unnested_df = df_concat.join(name_df.drop(['knownForTitles'], 1), how='left')\n",
        "unnested_df = unnested_df[name_df.columns.tolist()]\n",
        "\n",
        "unnested_drop = unnested_df.drop(['nconst'], axis=1)\n",
        "df_uni = []\n",
        "for col in ['primaryName']:\n",
        "    dfi = unnested_drop.groupby(['knownForTitles'])[col].apply(list)\n",
        "    df_uni.append(dfi)\n",
        "df_grouped = pd.concat(df_uni, axis=1).reset_index()\n",
        "df_grouped.columns = ['knownForTitles','cast_name']\n",
        "\n",
        "base_df = pd.merge(df_grouped, movie_rating_df, left_on='knownForTitles', right_on='tconst', how='inner')\n",
        "base_df = pd.merge(base_df, director_writers, left_on='tconst', right_on='tconst', how='left')\n",
        "\n",
        "base_drop = base_df.drop(['knownForTitles'], axis=1)\n",
        "base_drop['genres'] = base_drop['genres'].fillna('Unknown')\n",
        "base_drop[['director_name','writer_name']] = base_drop[['director_name','writer_name']].fillna('unknown')\n",
        "base_drop['genres'] = base_drop['genres'].apply(lambda x: x.split(','))\n",
        "\n",
        "base_drop2 = base_drop.drop(['tconst','isAdult','endYear','originalTitle'], axis=1)\n",
        "base_drop2 = base_drop2[['primaryTitle','titleType','startYear','runtimeMinutes','genres','averageRating','numVotes','cast_name','director_name','writer_name']]\n",
        "base_drop2.columns = ['title','type','start','duration','genres','rating','votes','cast_name','director_name','writer_name']\n",
        "\n",
        "feature_df = base_drop2[['title','cast_name','genres','director_name','writer_name']]\n",
        "\n",
        "def sanitize(x):\n",
        "    try:\n",
        "        #kalau cell berisi list\n",
        "        if isinstance(x, list):\n",
        "            return [i.replace(' ','').lower() for i in x]\n",
        "        #kalau cell berisi string\n",
        "        else:\n",
        "            return [x.replace(' ','').lower()]\n",
        "    except:\n",
        "        print(x)\n",
        "        \n",
        "#Kolom : cast_name, genres, writer_name, director_name        \n",
        "feature_cols = ['cast_name','genres','writer_name','director_name']\n",
        "\n",
        "#Apply function sanitize \n",
        "for col in feature_cols:\n",
        "    feature_df[col] = feature_df[col].apply(sanitize)"
      ],
      "metadata": {
        "colab": {
          "base_uri": "https://localhost:8080/"
        },
        "id": "FlnAyBvYXvJc",
        "outputId": "dc522813-fc32-4611-e462-e5a7a868c681"
      },
      "execution_count": 160,
      "outputs": [
        {
          "output_type": "stream",
          "name": "stderr",
          "text": [
            "/usr/local/lib/python3.7/dist-packages/ipykernel_launcher.py:25: FutureWarning: In a future version of pandas all arguments of DataFrame.drop except for the argument 'labels' will be keyword-only\n",
            "/usr/local/lib/python3.7/dist-packages/ipykernel_launcher.py:66: SettingWithCopyWarning: \n",
            "A value is trying to be set on a copy of a slice from a DataFrame.\n",
            "Try using .loc[row_indexer,col_indexer] = value instead\n",
            "\n",
            "See the caveats in the documentation: https://pandas.pydata.org/pandas-docs/stable/user_guide/indexing.html#returning-a-view-versus-a-copy\n"
          ]
        }
      ]
    },
    {
      "cell_type": "markdown",
      "source": [
        "# [Pertanyaan 2: Bagaimana cara membuat fungsi untuk membuat metadata soup (menggabungkan semua feature menjadi 1 bagian kalimat) untuk setiap judulnya?](https://academy.dqlab.id/main/livecode/214/396/1984?pr=)"
      ],
      "metadata": {
        "id": "j71D4er7YwcG"
      }
    },
    {
      "cell_type": "code",
      "source": [
        "import pandas as pd\n",
        "import numpy as np\n",
        "pd.set_option('display.max_columns', None)\n",
        "\n",
        "movie_rating_df = pd.read_csv('https://storage.googleapis.com/dqlab-dataset/movie_rating_df.csv')\n",
        "\n",
        "director_writers = pd.read_csv('https://storage.googleapis.com/dqlab-dataset/directors_writers.csv')\n",
        "director_writers['director_name'] = director_writers['director_name'].apply(lambda row: row.split(','))\n",
        "director_writers['writer_name'] = director_writers['writer_name'].apply(lambda row: row.split(','))\n",
        "\n",
        "name_df = pd.read_csv('https://storage.googleapis.com/dqlab-dataset/actor_name.csv')\n",
        "name_df = name_df[['nconst','primaryName','knownForTitles']]\n",
        "name_df['knownForTitles'] = name_df['knownForTitles'].apply(lambda x: x.split(','))\n",
        "\n",
        "df_uni = []\n",
        "for x in ['knownForTitles']:\n",
        "    idx = name_df.index.repeat(name_df['knownForTitles'].str.len())\n",
        "    df1 = pd.DataFrame({\n",
        "        x: np.concatenate(name_df[x].values)\n",
        "    })\n",
        "    df1.index = idx\n",
        "    df_uni.append(df1)\n",
        "\n",
        "df_concat = pd.concat(df_uni, axis=1)\n",
        "unnested_df = df_concat.join(name_df.drop(['knownForTitles'], 1), how='left')\n",
        "unnested_df = unnested_df[name_df.columns.tolist()]\n",
        "\n",
        "unnested_drop = unnested_df.drop(['nconst'], axis=1)\n",
        "df_uni = []\n",
        "for col in ['primaryName']:\n",
        "    dfi = unnested_drop.groupby(['knownForTitles'])[col].apply(list)\n",
        "    df_uni.append(dfi)\n",
        "df_grouped = pd.concat(df_uni, axis=1).reset_index()\n",
        "df_grouped.columns = ['knownForTitles','cast_name']\n",
        "\n",
        "base_df = pd.merge(df_grouped, movie_rating_df, left_on='knownForTitles', right_on='tconst', how='inner')\n",
        "base_df = pd.merge(base_df, director_writers, left_on='tconst', right_on='tconst', how='left')\n",
        "\n",
        "base_drop = base_df.drop(['knownForTitles'], axis=1)\n",
        "base_drop['genres'] = base_drop['genres'].fillna('Unknown')\n",
        "base_drop[['director_name','writer_name']] = base_drop[['director_name','writer_name']].fillna('unknown')\n",
        "base_drop['genres'] = base_drop['genres'].apply(lambda x: x.split(','))\n",
        "\n",
        "base_drop2 = base_drop.drop(['tconst','isAdult','endYear','originalTitle'], axis=1)\n",
        "base_drop2 = base_drop2[['primaryTitle','titleType','startYear','runtimeMinutes','genres','averageRating','numVotes','cast_name','director_name','writer_name']]\n",
        "base_drop2.columns = ['title','type','start','duration','genres','rating','votes','cast_name','director_name','writer_name']\n",
        "\n",
        "feature_df = base_drop2[['title','cast_name','genres','director_name','writer_name']]\n",
        "\n",
        "def sanitize(x):\n",
        "    try:\n",
        "        if isinstance(x, list):\n",
        "            return [i.replace(' ','').lower() for i in x]\n",
        "        else:\n",
        "            return [x.replace(' ','').lower()]\n",
        "    except:\n",
        "        print(x)\n",
        "feature_cols = ['cast_name','genres','writer_name','director_name']\n",
        "\n",
        "for col in feature_cols:\n",
        "    feature_df[col] = feature_df[col].apply(sanitize)\n",
        "\n",
        "#kolom yang digunakan : cast_name, genres, director_name, writer_name\n",
        "def soup_feature(x):\n",
        "    return ' '.join(x['cast_name']) + ' ' + ' '.join(x['genres']) + ' ' + ' '.join(x['director_name']) + ' ' + ' '.join(x['writer_name'])\n",
        "\n",
        "#membuat soup menjadi 1 kolom \n",
        "feature_df['soup'] = feature_df.apply(soup_feature, axis=1)"
      ],
      "metadata": {
        "colab": {
          "base_uri": "https://localhost:8080/"
        },
        "id": "SXDwf2RLY0aS",
        "outputId": "db1de48f-f611-45b2-b7a9-50ccea23b4b6"
      },
      "execution_count": 162,
      "outputs": [
        {
          "output_type": "stream",
          "name": "stderr",
          "text": [
            "/usr/local/lib/python3.7/dist-packages/ipykernel_launcher.py:25: FutureWarning: In a future version of pandas all arguments of DataFrame.drop except for the argument 'labels' will be keyword-only\n",
            "/usr/local/lib/python3.7/dist-packages/ipykernel_launcher.py:61: SettingWithCopyWarning: \n",
            "A value is trying to be set on a copy of a slice from a DataFrame.\n",
            "Try using .loc[row_indexer,col_indexer] = value instead\n",
            "\n",
            "See the caveats in the documentation: https://pandas.pydata.org/pandas-docs/stable/user_guide/indexing.html#returning-a-view-versus-a-copy\n",
            "/usr/local/lib/python3.7/dist-packages/ipykernel_launcher.py:68: SettingWithCopyWarning: \n",
            "A value is trying to be set on a copy of a slice from a DataFrame.\n",
            "Try using .loc[row_indexer,col_indexer] = value instead\n",
            "\n",
            "See the caveats in the documentation: https://pandas.pydata.org/pandas-docs/stable/user_guide/indexing.html#returning-a-view-versus-a-copy\n"
          ]
        }
      ]
    },
    {
      "cell_type": "markdown",
      "source": [
        "# [Pertanyaan 3: Cara menyiapkan CountVectorizer (stop_words = english) dan fit dengan soup yang kita buat di atas](https://academy.dqlab.id/main/livecode/214/396/1985?pr=)"
      ],
      "metadata": {
        "id": "lZv2w8AZZYx2"
      }
    },
    {
      "cell_type": "code",
      "source": [
        "import pandas as pd\n",
        "import numpy as np\n",
        "pd.set_option('display.max_columns', None)\n",
        "\n",
        "movie_rating_df = pd.read_csv('https://storage.googleapis.com/dqlab-dataset/movie_rating_df.csv')\n",
        "\n",
        "director_writers = pd.read_csv('https://storage.googleapis.com/dqlab-dataset/directors_writers.csv')\n",
        "director_writers['director_name'] = director_writers['director_name'].apply(lambda row: row.split(','))\n",
        "director_writers['writer_name'] = director_writers['writer_name'].apply(lambda row: row.split(','))\n",
        "\n",
        "name_df = pd.read_csv('https://storage.googleapis.com/dqlab-dataset/actor_name.csv')\n",
        "name_df = name_df[['nconst','primaryName','knownForTitles']]\n",
        "name_df['knownForTitles'] = name_df['knownForTitles'].apply(lambda x: x.split(','))\n",
        "\n",
        "df_uni = []\n",
        "for x in ['knownForTitles']:\n",
        "    idx = name_df.index.repeat(name_df['knownForTitles'].str.len())\n",
        "    df1 = pd.DataFrame({\n",
        "        x: np.concatenate(name_df[x].values)\n",
        "    })\n",
        "    df1.index = idx\n",
        "    df_uni.append(df1)\n",
        "\n",
        "df_concat = pd.concat(df_uni, axis=1)\n",
        "unnested_df = df_concat.join(name_df.drop(['knownForTitles'], 1), how='left')\n",
        "unnested_df = unnested_df[name_df.columns.tolist()]\n",
        "\n",
        "unnested_drop = unnested_df.drop(['nconst'], axis=1)\n",
        "df_uni = []\n",
        "for col in ['primaryName']:\n",
        "    dfi = unnested_drop.groupby(['knownForTitles'])[col].apply(list)\n",
        "    df_uni.append(dfi)\n",
        "df_grouped = pd.concat(df_uni, axis=1).reset_index()\n",
        "df_grouped.columns = ['knownForTitles','cast_name']\n",
        "\n",
        "base_df = pd.merge(df_grouped, movie_rating_df, left_on='knownForTitles', right_on='tconst', how='inner')\n",
        "base_df = pd.merge(base_df, director_writers, left_on='tconst', right_on='tconst', how='left')\n",
        "\n",
        "base_drop = base_df.drop(['knownForTitles'], axis=1)\n",
        "base_drop['genres'] = base_drop['genres'].fillna('Unknown')\n",
        "base_drop[['director_name','writer_name']] = base_drop[['director_name','writer_name']].fillna('unknown')\n",
        "base_drop['genres'] = base_drop['genres'].apply(lambda x: x.split(','))\n",
        "\n",
        "base_drop2 = base_drop.drop(['tconst','isAdult','endYear','originalTitle'], axis=1)\n",
        "base_drop2 = base_drop2[['primaryTitle','titleType','startYear','runtimeMinutes','genres','averageRating','numVotes','cast_name','director_name','writer_name']]\n",
        "base_drop2.columns = ['title','type','start','duration','genres','rating','votes','cast_name','director_name','writer_name']\n",
        "\n",
        "feature_df = base_drop2[['title','cast_name','genres','director_name','writer_name']]\n",
        "\n",
        "def sanitize(x):\n",
        "    try:\n",
        "        if isinstance(x, list):\n",
        "            return [i.replace(' ','').lower() for i in x]\n",
        "        else:\n",
        "            return [x.replace(' ','').lower()]\n",
        "    except:\n",
        "        print(x)\n",
        "feature_cols = ['cast_name','genres','writer_name','director_name']\n",
        "\n",
        "for col in feature_cols:\n",
        "    feature_df[col] = feature_df[col].apply(sanitize)\n",
        "\n",
        "def soup_feature(x):\n",
        "    return ' '.join(x['cast_name']) + ' ' + ' '.join(x['genres']) + ' ' + ' '.join(x['director_name']) + ' ' + ' '.join(x['writer_name'])\n",
        "\n",
        "feature_df['soup'] = feature_df.apply(soup_feature, axis=1)\n",
        "\n",
        "#import CountVectorizer \n",
        "from sklearn.feature_extraction.text import CountVectorizer\n",
        "\n",
        "#definisikan CountVectorizer dan mengubah soup tadi menjadi bentuk vector\n",
        "count = CountVectorizer(stop_words='english')\n",
        "count_matrix = count.fit_transform(feature_df['soup'])\n",
        "\n",
        "print(count)\n",
        "print(count_matrix.shape)"
      ],
      "metadata": {
        "colab": {
          "base_uri": "https://localhost:8080/"
        },
        "id": "eeMBurt9ZdN0",
        "outputId": "5c045a18-977c-4688-936f-4996fd1d3db8"
      },
      "execution_count": 164,
      "outputs": [
        {
          "output_type": "stream",
          "name": "stderr",
          "text": [
            "/usr/local/lib/python3.7/dist-packages/ipykernel_launcher.py:25: FutureWarning: In a future version of pandas all arguments of DataFrame.drop except for the argument 'labels' will be keyword-only\n",
            "/usr/local/lib/python3.7/dist-packages/ipykernel_launcher.py:61: SettingWithCopyWarning: \n",
            "A value is trying to be set on a copy of a slice from a DataFrame.\n",
            "Try using .loc[row_indexer,col_indexer] = value instead\n",
            "\n",
            "See the caveats in the documentation: https://pandas.pydata.org/pandas-docs/stable/user_guide/indexing.html#returning-a-view-versus-a-copy\n",
            "/usr/local/lib/python3.7/dist-packages/ipykernel_launcher.py:66: SettingWithCopyWarning: \n",
            "A value is trying to be set on a copy of a slice from a DataFrame.\n",
            "Try using .loc[row_indexer,col_indexer] = value instead\n",
            "\n",
            "See the caveats in the documentation: https://pandas.pydata.org/pandas-docs/stable/user_guide/indexing.html#returning-a-view-versus-a-copy\n"
          ]
        },
        {
          "output_type": "stream",
          "name": "stdout",
          "text": [
            "CountVectorizer(stop_words='english')\n",
            "(1060, 10026)\n"
          ]
        }
      ]
    },
    {
      "cell_type": "markdown",
      "source": [
        "# [Pertanyaan 4: Cara membuat model similarity antara count matrix](https://academy.dqlab.id/main/livecode/214/396/1986?pr=)"
      ],
      "metadata": {
        "id": "D_i7wZPmaJ1X"
      }
    },
    {
      "cell_type": "markdown",
      "source": [
        "**Cosine Similarity**\n",
        "\n",
        "pada bagian ini, kita akan menggunakan formula cosine similarity untuk membuat model. Score cosine ini sangatlah berguna dan mudah untuk dihitung.\n",
        "\n",
        "formula untuk perhitungan cosine similarity antara 2 text, adalah sebagai berikut:\n",
        "\n",
        "$cosine(x,y)=\\frac{x.y^T}{||x||.||y||}$\n",
        "\n",
        "output yang didapat antara range -1 sampai 1. Score yang hampir mencapai 1 artinya kedua entitas tersebut sangatlah mirip sedangkan score yang hampir mencapai -1 artinya kedua entitas tersebut adalah beda"
      ],
      "metadata": {
        "id": "maBBka81akKW"
      }
    },
    {
      "cell_type": "code",
      "source": [
        "import pandas as pd\n",
        "import numpy as np\n",
        "pd.set_option('display.max_columns', None)\n",
        "\n",
        "movie_rating_df = pd.read_csv('https://storage.googleapis.com/dqlab-dataset/movie_rating_df.csv')\n",
        "\n",
        "director_writers = pd.read_csv('https://storage.googleapis.com/dqlab-dataset/directors_writers.csv')\n",
        "director_writers['director_name'] = director_writers['director_name'].apply(lambda row: row.split(','))\n",
        "director_writers['writer_name'] = director_writers['writer_name'].apply(lambda row: row.split(','))\n",
        "\n",
        "name_df = pd.read_csv('https://storage.googleapis.com/dqlab-dataset/actor_name.csv')\n",
        "name_df = name_df[['nconst','primaryName','knownForTitles']]\n",
        "name_df['knownForTitles'] = name_df['knownForTitles'].apply(lambda x: x.split(','))\n",
        "\n",
        "df_uni = []\n",
        "for x in ['knownForTitles']:\n",
        "    idx = name_df.index.repeat(name_df['knownForTitles'].str.len())\n",
        "    df1 = pd.DataFrame({\n",
        "        x: np.concatenate(name_df[x].values)\n",
        "    })\n",
        "    df1.index = idx\n",
        "    df_uni.append(df1)\n",
        "\n",
        "df_concat = pd.concat(df_uni, axis=1)\n",
        "unnested_df = df_concat.join(name_df.drop(['knownForTitles'], 1), how='left')\n",
        "unnested_df = unnested_df[name_df.columns.tolist()]\n",
        "\n",
        "unnested_drop = unnested_df.drop(['nconst'], axis=1)\n",
        "df_uni = []\n",
        "for col in ['primaryName']:\n",
        "    dfi = unnested_drop.groupby(['knownForTitles'])[col].apply(list)\n",
        "    df_uni.append(dfi)\n",
        "df_grouped = pd.concat(df_uni, axis=1).reset_index()\n",
        "df_grouped.columns = ['knownForTitles','cast_name']\n",
        "\n",
        "base_df = pd.merge(df_grouped, movie_rating_df, left_on='knownForTitles', right_on='tconst', how='inner')\n",
        "base_df = pd.merge(base_df, director_writers, left_on='tconst', right_on='tconst', how='left')\n",
        "\n",
        "base_drop = base_df.drop(['knownForTitles'], axis=1)\n",
        "base_drop['genres'] = base_drop['genres'].fillna('Unknown')\n",
        "base_drop[['director_name','writer_name']] = base_drop[['director_name','writer_name']].fillna('unknown')\n",
        "base_drop['genres'] = base_drop['genres'].apply(lambda x: x.split(','))\n",
        "\n",
        "base_drop2 = base_drop.drop(['tconst','isAdult','endYear','originalTitle'], axis=1)\n",
        "base_drop2 = base_drop2[['primaryTitle','titleType','startYear','runtimeMinutes','genres','averageRating','numVotes','cast_name','director_name','writer_name']]\n",
        "base_drop2.columns = ['title','type','start','duration','genres','rating','votes','cast_name','director_name','writer_name']\n",
        "\n",
        "feature_df = base_drop2[['title','cast_name','genres','director_name','writer_name']]\n",
        "\n",
        "def sanitize(x):\n",
        "    try:\n",
        "        if isinstance(x, list):\n",
        "            return [i.replace(' ','').lower() for i in x]\n",
        "        else:\n",
        "            return [x.replace(' ','').lower()]\n",
        "    except:\n",
        "        print(x)\n",
        "feature_cols = ['cast_name','genres','writer_name','director_name']\n",
        "\n",
        "for col in feature_cols:\n",
        "    feature_df[col] = feature_df[col].apply(sanitize)\n",
        "\n",
        "def soup_feature(x):\n",
        "    return ' '.join(x['cast_name']) + ' ' + ' '.join(x['genres']) + ' ' + ' '.join(x['director_name']) + ' ' + ' '.join(x['writer_name'])\n",
        "\n",
        "feature_df['soup'] = feature_df.apply(soup_feature, axis=1)\n",
        "\n",
        "from sklearn.feature_extraction.text import CountVectorizer\n",
        "\n",
        "count = CountVectorizer(stop_words='english')\n",
        "count_matrix = count.fit_transform(feature_df['soup'])\n",
        "\n",
        "#Import cosine_similarity\n",
        "from sklearn.metrics.pairwise import cosine_similarity\n",
        "\n",
        "#Gunakan cosine_similarity antara count_matrix \n",
        "cosine_sim = cosine_similarity(count_matrix, count_matrix)\n",
        "\n",
        "#print hasilnya\n",
        "print(cosine_sim)"
      ],
      "metadata": {
        "colab": {
          "base_uri": "https://localhost:8080/"
        },
        "id": "3s_FiKaLaO9a",
        "outputId": "83a16122-aa37-4ab3-9b89-b46cc38c2320"
      },
      "execution_count": 166,
      "outputs": [
        {
          "output_type": "stream",
          "name": "stderr",
          "text": [
            "/usr/local/lib/python3.7/dist-packages/ipykernel_launcher.py:25: FutureWarning: In a future version of pandas all arguments of DataFrame.drop except for the argument 'labels' will be keyword-only\n",
            "/usr/local/lib/python3.7/dist-packages/ipykernel_launcher.py:61: SettingWithCopyWarning: \n",
            "A value is trying to be set on a copy of a slice from a DataFrame.\n",
            "Try using .loc[row_indexer,col_indexer] = value instead\n",
            "\n",
            "See the caveats in the documentation: https://pandas.pydata.org/pandas-docs/stable/user_guide/indexing.html#returning-a-view-versus-a-copy\n",
            "/usr/local/lib/python3.7/dist-packages/ipykernel_launcher.py:66: SettingWithCopyWarning: \n",
            "A value is trying to be set on a copy of a slice from a DataFrame.\n",
            "Try using .loc[row_indexer,col_indexer] = value instead\n",
            "\n",
            "See the caveats in the documentation: https://pandas.pydata.org/pandas-docs/stable/user_guide/indexing.html#returning-a-view-versus-a-copy\n"
          ]
        },
        {
          "output_type": "stream",
          "name": "stdout",
          "text": [
            "[[1.         0.15430335 0.35355339 ... 0.         0.         0.13608276]\n",
            " [0.15430335 1.         0.10910895 ... 0.         0.         0.        ]\n",
            " [0.35355339 0.10910895 1.         ... 0.         0.08703883 0.09622504]\n",
            " ...\n",
            " [0.         0.         0.         ... 1.         0.         0.        ]\n",
            " [0.         0.         0.08703883 ... 0.         1.         0.10050378]\n",
            " [0.13608276 0.         0.09622504 ... 0.         0.10050378 1.        ]]\n"
          ]
        }
      ]
    },
    {
      "cell_type": "markdown",
      "source": [
        "# [Pertanyaan 5: Cara membuat content based recommender system](https://academy.dqlab.id/main/livecode/214/396/1987?pr=)"
      ],
      "metadata": {
        "id": "X8kkmMtybPKO"
      }
    },
    {
      "cell_type": "code",
      "source": [
        "import pandas as pd\n",
        "import numpy as np\n",
        "pd.set_option('display.max_columns', None)\n",
        "\n",
        "movie_rating_df = pd.read_csv('https://storage.googleapis.com/dqlab-dataset/movie_rating_df.csv')\n",
        "\n",
        "director_writers = pd.read_csv('https://storage.googleapis.com/dqlab-dataset/directors_writers.csv')\n",
        "director_writers['director_name'] = director_writers['director_name'].apply(lambda row: row.split(','))\n",
        "director_writers['writer_name'] = director_writers['writer_name'].apply(lambda row: row.split(','))\n",
        "\n",
        "name_df = pd.read_csv('https://storage.googleapis.com/dqlab-dataset/actor_name.csv')\n",
        "name_df = name_df[['nconst','primaryName','knownForTitles']]\n",
        "name_df['knownForTitles'] = name_df['knownForTitles'].apply(lambda x: x.split(','))\n",
        "\n",
        "df_uni = []\n",
        "for x in ['knownForTitles']:\n",
        "    idx = name_df.index.repeat(name_df['knownForTitles'].str.len())\n",
        "    df1 = pd.DataFrame({\n",
        "        x: np.concatenate(name_df[x].values)\n",
        "    })\n",
        "    df1.index = idx\n",
        "    df_uni.append(df1)\n",
        "\n",
        "df_concat = pd.concat(df_uni, axis=1)\n",
        "unnested_df = df_concat.join(name_df.drop(['knownForTitles'], 1), how='left')\n",
        "unnested_df = unnested_df[name_df.columns.tolist()]\n",
        "\n",
        "unnested_drop = unnested_df.drop(['nconst'], axis=1)\n",
        "df_uni = []\n",
        "for col in ['primaryName']:\n",
        "    dfi = unnested_drop.groupby(['knownForTitles'])[col].apply(list)\n",
        "    df_uni.append(dfi)\n",
        "df_grouped = pd.concat(df_uni, axis=1).reset_index()\n",
        "df_grouped.columns = ['knownForTitles','cast_name']\n",
        "\n",
        "base_df = pd.merge(df_grouped, movie_rating_df, left_on='knownForTitles', right_on='tconst', how='inner')\n",
        "base_df = pd.merge(base_df, director_writers, left_on='tconst', right_on='tconst', how='left')\n",
        "\n",
        "base_drop = base_df.drop(['knownForTitles'], axis=1)\n",
        "base_drop['genres'] = base_drop['genres'].fillna('Unknown')\n",
        "base_drop[['director_name','writer_name']] = base_drop[['director_name','writer_name']].fillna('unknown')\n",
        "base_drop['genres'] = base_drop['genres'].apply(lambda x: x.split(','))\n",
        "\n",
        "base_drop2 = base_drop.drop(['tconst','isAdult','endYear','originalTitle'], axis=1)\n",
        "base_drop2 = base_drop2[['primaryTitle','titleType','startYear','runtimeMinutes','genres','averageRating','numVotes','cast_name','director_name','writer_name']]\n",
        "base_drop2.columns = ['title','type','start','duration','genres','rating','votes','cast_name','director_name','writer_name']\n",
        "\n",
        "feature_df = base_drop2[['title','cast_name','genres','director_name','writer_name']]\n",
        "\n",
        "def sanitize(x):\n",
        "    try:\n",
        "        if isinstance(x, list):\n",
        "            return [i.replace(' ','').lower() for i in x]\n",
        "        else:\n",
        "            return [x.replace(' ','').lower()]\n",
        "    except:\n",
        "        print(x)\n",
        "feature_cols = ['cast_name','genres','writer_name','director_name']\n",
        "\n",
        "for col in feature_cols:\n",
        "    feature_df[col] = feature_df[col].apply(sanitize)\n",
        "\n",
        "def soup_feature(x):\n",
        "    return ' '.join(x['cast_name']) + ' ' + ' '.join(x['genres']) + ' ' + ' '.join(x['director_name']) + ' ' + ' '.join(x['writer_name'])\n",
        "\n",
        "feature_df['soup'] = feature_df.apply(soup_feature, axis=1)\n",
        "\n",
        "from sklearn.feature_extraction.text import CountVectorizer\n",
        "\n",
        "count = CountVectorizer(stop_words='english')\n",
        "count_matrix = count.fit_transform(feature_df['soup'])\n",
        "\n",
        "from sklearn.metrics.pairwise import cosine_similarity\n",
        "cosine_sim = cosine_similarity(count_matrix, count_matrix)\n",
        "\n",
        "indices = pd.Series(feature_df.index, index=feature_df['title']).drop_duplicates()\n",
        "\n",
        "def content_recommender(title):\n",
        "    #mendapatkan index dari judul film (title) yang disebutkan\n",
        "    idx = indices[title]\n",
        "\n",
        "    #menjadikan list dari array similarity cosine sim \n",
        "    #hint: cosine_sim[idx]\n",
        "    sim_scores = list(enumerate(cosine_sim[idx]))\n",
        "\n",
        "    #mengurutkan film dari similarity tertinggi ke terendah\n",
        "    sim_scores = sorted(sim_scores,key=lambda x: x[1],reverse=True)\n",
        "\n",
        "    #untuk mendapatkan list judul dari item kedua sampe ke 11\n",
        "    sim_scores = sim_scores[1:11]\n",
        "\n",
        "    #mendapatkan index dari judul-judul yang muncul di sim_scores\n",
        "    movie_indices = [i[0] for i in sim_scores]\n",
        "\n",
        "    #dengan menggunakan iloc, kita bisa panggil balik berdasarkan index dari movie_indices\n",
        "    return base_df.iloc[movie_indices]\n",
        "\n",
        "#aplikasikan function di atas\n",
        "print(content_recommender('The Lion King'))\n",
        "\n"
      ],
      "metadata": {
        "colab": {
          "base_uri": "https://localhost:8080/"
        },
        "id": "7_8OzBsJbSR2",
        "outputId": "c7806db0-9e89-4882-ebc8-797956fe2d41"
      },
      "execution_count": 205,
      "outputs": [
        {
          "output_type": "stream",
          "name": "stderr",
          "text": [
            "/usr/local/lib/python3.7/dist-packages/ipykernel_launcher.py:25: FutureWarning: In a future version of pandas all arguments of DataFrame.drop except for the argument 'labels' will be keyword-only\n"
          ]
        },
        {
          "output_type": "stream",
          "name": "stdout",
          "text": [
            "     knownForTitles                   cast_name      tconst titleType  \\\n",
            "848       tt3040964  [Cristina Carrión Márquez]   tt3040964     movie   \n",
            "383       tt0286336          [Francisco Bretas]   tt0286336  tvSeries   \n",
            "1002      tt7222086          [Hiroki Matsukawa]   tt7222086  tvSeries   \n",
            "73        tt0075147             [Joaquín Parra]   tt0075147     movie   \n",
            "232       tt0119051            [Chris Kosloski]   tt0119051     movie   \n",
            "556      tt10068158          [Hiroki Matsukawa]  tt10068158     movie   \n",
            "9         tt0028657            [Bernard Loftus]   tt0028657     movie   \n",
            "191       tt0107875               [Simon Mayal]   tt0107875     movie   \n",
            "803       tt2356464               [Sina Müller]   tt2356464     movie   \n",
            "983       tt6270328                   [Jo Boag]   tt6270328  tvSeries   \n",
            "\n",
            "                                         primaryTitle  \\\n",
            "848                                   The Jungle Book   \n",
            "383                      The Animals of Farthing Wood   \n",
            "1002                                    Made in Abyss   \n",
            "73                                   Robin and Marian   \n",
            "232                                          The Edge   \n",
            "556                     Made in Abyss: Journey's Dawn   \n",
            "9                               Boss of Lonely Valley   \n",
            "191                       The Princess and the Goblin   \n",
            "803                                           Ostwind   \n",
            "983   The Skinner Boys: Guardians of the Lost Secrets   \n",
            "\n",
            "                                        originalTitle  isAdult  startYear  \\\n",
            "848                                   The Jungle Book        0     2016.0   \n",
            "383                      The Animals of Farthing Wood        0     1993.0   \n",
            "1002                                    Made in Abyss        0     2017.0   \n",
            "73                                   Robin and Marian        0     1976.0   \n",
            "232                                          The Edge        0     1997.0   \n",
            "556                 Made in Abyss: Tabidachi no Yoake        0     2019.0   \n",
            "9                               Boss of Lonely Valley        0     1937.0   \n",
            "191                       The Princess and the Goblin        0     1991.0   \n",
            "803                                           Ostwind        0     2013.0   \n",
            "983   The Skinner Boys: Guardians of the Lost Secrets        0     2014.0   \n",
            "\n",
            "      endYear  runtimeMinutes                       genres  averageRating  \\\n",
            "848       NaN           106.0       Adventure,Drama,Family            7.4   \n",
            "383    1995.0            25.0    Adventure,Animation,Drama            8.3   \n",
            "1002      NaN           325.0    Adventure,Animation,Drama            8.4   \n",
            "73        NaN           106.0      Adventure,Drama,Romance            6.5   \n",
            "232       NaN           117.0       Action,Adventure,Drama            6.9   \n",
            "556       NaN           139.0  Adventure,Animation,Fantasy            7.4   \n",
            "9         NaN            60.0       Action,Adventure,Drama            6.2   \n",
            "191       NaN            82.0   Adventure,Animation,Comedy            6.8   \n",
            "803       NaN           101.0       Adventure,Drama,Family            6.8   \n",
            "983       NaN            23.0    Adventure,Animation,Drama            7.8   \n",
            "\n",
            "      numVotes                                      director_name  \\\n",
            "848     250994                                      [Jon Favreau]   \n",
            "383       3057             [Elphin Lloyd-Jones, Philippe Leclerc]   \n",
            "1002      4577  [Masayuki Kojima, Hitoshi Haga, Shinya Iino, T...   \n",
            "73       10830                                   [Richard Lester]   \n",
            "232      65673                                     [Lee Tamahori]   \n",
            "556         81                                  [Masayuki Kojima]   \n",
            "9           41                                       [Ray Taylor]   \n",
            "191       2350                                     [József Gémes]   \n",
            "803       1350                                [Katja von Garnier]   \n",
            "983         12        [Pablo De La Torre, Eugene Linkov, Jo Boag]   \n",
            "\n",
            "                                            writer_name  \n",
            "848                     [Justin Marks, Rudyard Kipling]  \n",
            "383   [Valerie Georgeson, Colin Dann, Jenny McDade, ...  \n",
            "1002  [Akihito Tsukushi, Keigo Koyanagi, Hideyuki Ku...  \n",
            "73                                      [James Goldman]  \n",
            "232                                       [David Mamet]  \n",
            "556                                  [Akihito Tsukushi]  \n",
            "9                       [Frances Guihan, Forrest Brown]  \n",
            "191                     [Robin Lyons, George MacDonald]  \n",
            "803          [Kristina Magdalena Henn, Lea Schmidbauer]  \n",
            "983   [David Witt, John Derevlany, David Evans, Pete...  \n"
          ]
        },
        {
          "output_type": "stream",
          "name": "stderr",
          "text": [
            "/usr/local/lib/python3.7/dist-packages/ipykernel_launcher.py:61: SettingWithCopyWarning: \n",
            "A value is trying to be set on a copy of a slice from a DataFrame.\n",
            "Try using .loc[row_indexer,col_indexer] = value instead\n",
            "\n",
            "See the caveats in the documentation: https://pandas.pydata.org/pandas-docs/stable/user_guide/indexing.html#returning-a-view-versus-a-copy\n",
            "/usr/local/lib/python3.7/dist-packages/ipykernel_launcher.py:66: SettingWithCopyWarning: \n",
            "A value is trying to be set on a copy of a slice from a DataFrame.\n",
            "Try using .loc[row_indexer,col_indexer] = value instead\n",
            "\n",
            "See the caveats in the documentation: https://pandas.pydata.org/pandas-docs/stable/user_guide/indexing.html#returning-a-view-versus-a-copy\n"
          ]
        }
      ]
    }
  ]
}