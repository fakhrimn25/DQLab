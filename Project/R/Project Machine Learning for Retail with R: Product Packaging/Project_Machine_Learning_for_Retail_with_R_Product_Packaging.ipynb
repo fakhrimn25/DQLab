{
  "nbformat": 4,
  "nbformat_minor": 0,
  "metadata": {
    "colab": {
      "name": "Project Machine Learning for Retail with R: Product Packaging",
      "provenance": [],
      "collapsed_sections": []
    },
    "kernelspec": {
      "name": "ir",
      "display_name": "R"
    },
    "language_info": {
      "name": "R"
    }
  },
  "cells": [
    {
      "cell_type": "markdown",
      "source": [
        "# [Petunjuk Penyelesaian Project](https://academy.dqlab.id/main/projectcode/16/109/516?pr=0)"
      ],
      "metadata": {
        "id": "GarzISqLpDXM"
      }
    },
    {
      "cell_type": "markdown",
      "source": [
        "Project ini terdiri dari 3 soal, yaitu:\n",
        "\n",
        "- Mendapatkan insight top 10 dan bottom 10 dari produk yang terjual.\n",
        "- Mendapatkan daftar seluruh kombinasi paket produk dengan korelasi yang kuat.\n",
        "- Mendapatkan daftar seluruh kombinasi paket produk dengan item tertentu."
      ],
      "metadata": {
        "id": "cwjQIr3FBopA"
      }
    },
    {
      "cell_type": "code",
      "source": [
        "install.packages(\"arules\")"
      ],
      "metadata": {
        "colab": {
          "base_uri": "https://localhost:8080/"
        },
        "id": "D5ZkSeZ3xRTU",
        "outputId": "afb379b1-8fcd-46fa-8ce5-a9a37a01bc1d"
      },
      "execution_count": 18,
      "outputs": [
        {
          "output_type": "stream",
          "name": "stderr",
          "text": [
            "Installing package into ‘/usr/local/lib/R/site-library’\n",
            "(as ‘lib’ is unspecified)\n",
            "\n"
          ]
        }
      ]
    },
    {
      "cell_type": "code",
      "source": [
        "library(arules)\n",
        "transaksi_tabular <- read.transactions(file=\"https://storage.googleapis.com/dqlab-dataset/transaksi_dqlab_retail.tsv\", \n",
        "                                       format=\"single\", \n",
        "                                       sep=\"\\t\", \n",
        "                                       cols=c(1,2), \n",
        "                                       skip=1)\n",
        "write(transaksi_tabular, file=\"test_project_retail_1.txt\", sep=\",\")"
      ],
      "metadata": {
        "id": "g6pVkmO7YmjE"
      },
      "execution_count": 19,
      "outputs": []
    },
    {
      "cell_type": "markdown",
      "source": [
        "# [Output Awal: Statistik Top 10](https://academy.dqlab.id/main/projectcode/16/109/517?pr=)"
      ],
      "metadata": {
        "id": "F8JGihDOx7I3"
      }
    },
    {
      "cell_type": "code",
      "metadata": {
        "id": "Gu-oDLa-Z4Is"
      },
      "source": [
        "library(arules)\n",
        "\n",
        "data <- read.transactions(file = \"transaksi_dqlab_retail.tsv\",\n",
        "                          format = \"single\",\n",
        "                          sep = \"\\t\",\n",
        "                          cols = c(1,2),\n",
        "                          skip = 1)\n",
        "top_10 <- sort(itemFrequency(data, type = \"absolute\"),\n",
        "               decreasing = TRUE)[1:10]\n",
        "hasil <- data.frame(\"Nama Produk\" = names(top_10),\n",
        "                    \"Jumlah\" = top_10, \n",
        "                    row.names = NULL)\n",
        "write.csv(hasil, file = \"top10_item_retail.txt\")"
      ],
      "execution_count": 20,
      "outputs": []
    },
    {
      "cell_type": "markdown",
      "source": [
        "# [Output Awal: Statistik Bottom 10](https://academy.dqlab.id/main/projectcode/16/109/518?pr=)"
      ],
      "metadata": {
        "id": "HNrO-28b3k-1"
      }
    },
    {
      "cell_type": "code",
      "source": [
        "library(arules)\n",
        "\n",
        "data <- read.transactions(file = \"transaksi_dqlab_retail.tsv\",\n",
        "                          format = \"single\",\n",
        "                          sep = \"\\t\",\n",
        "                          cols = c(1,2),\n",
        "                          skip = 1)\n",
        "bottom_10 <- sort(itemFrequency(data,type = \"absolute\"),\n",
        "                  decreasing = FALSE)[1:10]\n",
        "hasil <- data.frame(\"Nama Produk\" = names(bottom_10),\n",
        "                    \"Jumlah\" = bottom_10,\n",
        "                    row.names = NULL)\n",
        "write.csv(hasil,file = \"bottom10_item_retail.txt\")"
      ],
      "metadata": {
        "id": "sgsMTzac3pHu"
      },
      "execution_count": 21,
      "outputs": []
    },
    {
      "cell_type": "markdown",
      "source": [
        "# [Mendapatkan Kombinasi Produk yang menarik](https://academy.dqlab.id/main/projectcode/16/109/519?pr=)"
      ],
      "metadata": {
        "id": "19Bagm1a7Jse"
      }
    },
    {
      "cell_type": "markdown",
      "source": [
        "Setelah yakin Anda dapat melakukannya Pak Agus ingin Anda mengirimkan file yang berisi daftar 10 paket kombinasi produk yang paling \"menarik\".\n",
        "\n",
        "Anda pertamanya bingung, apa sih definisi menarik versi Pak Agus ini. Setelah wawancara intensif, ternyata pengertiannya adalah sebagai berikut:\n",
        "\n",
        "- Memiliki asosiasi atau hubungan erat.\n",
        "- Kombinasi produk minimal 2 item, dan maksimum 3 item.\n",
        "- Kombinasi produk itu muncul setidaknya 10 dari dari seluruh transaksi.\n",
        "- Memiliki tingkat confidence minimal 50 persen."
      ],
      "metadata": {
        "id": "_gY2iJqXCPTi"
      }
    },
    {
      "cell_type": "code",
      "source": [
        "library(arules)\n",
        "\n",
        "nama_file <- \"transaksi_dqlab_retail.tsv\"\n",
        "transaksi_tabular <- read.transactions(file = nama_file, \n",
        "                                       format = \"single\",\n",
        "                                       sep = \"\\t\",\n",
        "                                       cols = c(1,2),\n",
        "                                       skip = 1)\n",
        "apriori_rules <- apriori(transaksi_tabular,\n",
        "                         parameter = list(supp = 10/length(transaksi_tabular),\n",
        "                                          conf = 0.5,\n",
        "                                          minlen = 2,\n",
        "                                          maxlen=3))\n",
        "apriori_rules <- head(sort(apriori_rules, by = \"lift\",decreasing = T),n = 10)\n",
        "inspect(apriori_rules)\n",
        "write(apriori_rules, file=\"kombinasi_retail.txt\")"
      ],
      "metadata": {
        "colab": {
          "base_uri": "https://localhost:8080/"
        },
        "id": "HSstWigy7OEA",
        "outputId": "49647fb2-8884-4a39-af80-2f34ad5e944a"
      },
      "execution_count": 22,
      "outputs": [
        {
          "output_type": "stream",
          "name": "stdout",
          "text": [
            "Apriori\n",
            "\n",
            "Parameter specification:\n",
            " confidence minval smax arem  aval originalSupport maxtime     support minlen\n",
            "        0.5    0.1    1 none FALSE            TRUE       5 0.002898551      2\n",
            " maxlen target  ext\n",
            "      3  rules TRUE\n",
            "\n",
            "Algorithmic control:\n",
            " filter tree heap memopt load sort verbose\n",
            "    0.1 TRUE TRUE  FALSE TRUE    2    TRUE\n",
            "\n",
            "Absolute minimum support count: 10 \n",
            "\n",
            "set item appearances ...[0 item(s)] done [0.00s].\n",
            "set transactions ...[69 item(s), 3450 transaction(s)] done [0.00s].\n",
            "sorting and recoding items ... [68 item(s)] done [0.00s].\n",
            "creating transaction tree ... done [0.00s].\n",
            "checking subsets of size 1 2 3"
          ]
        },
        {
          "output_type": "stream",
          "name": "stderr",
          "text": [
            "Warning message in apriori(transaksi_tabular, parameter = list(supp = 10/length(transaksi_tabular), :\n",
            "“Mining stopped (maxlen reached). Only patterns up to a length of 3 returned!”\n"
          ]
        },
        {
          "output_type": "stream",
          "name": "stdout",
          "text": [
            " done [0.01s].\n",
            "writing ... [4637 rule(s)] done [0.00s].\n",
            "creating S4 object  ... done [0.00s].\n",
            "     lhs                              rhs                              support confidence    coverage     lift count\n",
            "[1]  {Tas Makeup,                                                                                                   \n",
            "      Tas Pinggang Wanita}         => {Baju Renang Anak Perempuan} 0.010434783  0.8780488 0.011884058 24.42958    36\n",
            "[2]  {Tas Makeup,                                                                                                   \n",
            "      Tas Travel}                  => {Baju Renang Anak Perempuan} 0.010144928  0.8139535 0.012463768 22.64629    35\n",
            "[3]  {Tas Makeup,                                                                                                   \n",
            "      Tas Ransel Mini}             => {Baju Renang Anak Perempuan} 0.011304348  0.7358491 0.015362319 20.47322    39\n",
            "[4]  {Sunblock Cream,                                                                                               \n",
            "      Tas Pinggang Wanita}         => {Kuas Makeup }               0.016231884  0.6913580 0.023478261 20.21343    56\n",
            "[5]  {Baju Renang Anak Perempuan,                                                                                   \n",
            "      Tas Pinggang Wanita}         => {Tas Makeup}                 0.010434783  0.8000000 0.013043478 19.57447    36\n",
            "[6]  {Baju Renang Anak Perempuan,                                                                                   \n",
            "      Tas Ransel Mini}             => {Tas Makeup}                 0.011304348  0.7959184 0.014202899 19.47460    39\n",
            "[7]  {Baju Renang Anak Perempuan,                                                                                   \n",
            "      Celana Pendek Green/Hijau}   => {Tas Makeup}                 0.010144928  0.7777778 0.013043478 19.03073    35\n",
            "[8]  {Tas Makeup,                                                                                                   \n",
            "      Tas Waist Bag}               => {Baju Renang Anak Perempuan} 0.004347826  0.6818182 0.006376812 18.96994    15\n",
            "[9]  {Celana Pendek Green/Hijau,                                                                                    \n",
            "      Tas Makeup}                  => {Baju Renang Anak Perempuan} 0.010144928  0.6730769 0.015072464 18.72674    35\n",
            "[10] {Dompet Flip Cover,                                                                                            \n",
            "      Sunblock Cream}              => {Kuas Makeup }               0.016231884  0.6292135 0.025797101 18.39650    56\n"
          ]
        }
      ]
    },
    {
      "cell_type": "markdown",
      "source": [
        "# [Mencari Paket Produk yang bisa dipasangkan dengan Item Slow-Moving](https://academy.dqlab.id/main/projectcode/16/109/520?pr=)"
      ],
      "metadata": {
        "id": "yjvUni2RBC3W"
      }
    },
    {
      "cell_type": "markdown",
      "source": [
        "**Slow-moving item** adalah produk yang pergerakan penjualannya lambat atau kurang cepat. Ini akan bermasalah apabila item produk tersebut masih menumpuk.\n",
        "\n",
        "Kadang kala item ini belum tentu tidak laku, hanya saja mungkin harganya tidak bagus dan jarang dibutuhkan jika dijual satuan.  Nah, jika tidak dijual satuan kita perlu cari asosiasi kuat dari item produk ini dengan produk lain sehingga jika dipaketkan akan menjadi lebih menarik.\n",
        "\n",
        "Pak Agus juga meyakini hal ini, dan ingin agar Anda membantu mengidentifikasi dua item produk yang menurut dia stoknya masih banyak dan perlu dicari pasangan item untuk pemaketannya.\n",
        "\n",
        "Dua item produk tersebut adalah \"Tas Makeup\" dan \"Baju Renang Pria Anak-anak\". Pak Agus ingin meminta kombinasi yang bisa dipaketkan dengan kedua produk tersebut.\n",
        "\n",
        "Masing-masing produk tersebut dikeluarkan 3 rules yang asosiasinya paling kuat, sehingga total ada 6 rules. Persyaratan-persyaratan asosiasi kuat ini masih sama dengan yang telah disebutkan Pak Agus sebelumnya, kecuali tingkat confidence dicoba pada tingkat minimal 0.1."
      ],
      "metadata": {
        "id": "c83eFFdzCvhK"
      }
    },
    {
      "cell_type": "code",
      "source": [
        "library(arules)\n",
        "\n",
        "nama_file <- \"transaksi_dqlab_retail.tsv\"\n",
        "transaksi_tabular <- read.transactions(file = nama_file,\n",
        "                                       format = \"single\",\n",
        "                                       sep = \"\\t\",\n",
        "                                       cols = c(1,2),\n",
        "                                       skip = 1)\n",
        "jumlah_transaksi <- length(transaksi_tabular)\n",
        "jumlah_kemunculan_minimal <- 10\n",
        "apriori_rules <- apriori(transaksi_tabular,\n",
        "                         parameter = list(supp = jumlah_kemunculan_minimal/jumlah_transaksi,\n",
        "                                          conf = 0.1,\n",
        "                                          minlen = 2,\n",
        "                                          maxlen = 3))\n",
        "\n",
        "# Filter\n",
        "apriori_rules1 <- subset(apriori_rules, lift > 1 & rhs %in% \"Tas Makeup\")\n",
        "apriori_rules1 <- sort(apriori_rules1, by = \"lift\", decreasing = T)[1:3]\n",
        "apriori_rules2 <- subset(apriori_rules, lift > 1 & rhs %in% \"Baju Renang Pria Anak-anak\")\n",
        "apriori_rules2 <- sort(apriori_rules2, by = \"lift\", decreasing = T)[1:3]\n",
        "apriori_rules <- c(apriori_rules1, apriori_rules2)\n",
        "inspect(apriori_rules)\n",
        "write(apriori_rules, file = \"kombinasi_retail_slow_moving.txt\")"
      ],
      "metadata": {
        "colab": {
          "base_uri": "https://localhost:8080/"
        },
        "id": "4YCvViY3BJdS",
        "outputId": "b4140c26-2222-4cd0-c4b4-ee3eadf926bc"
      },
      "execution_count": 23,
      "outputs": [
        {
          "output_type": "stream",
          "name": "stdout",
          "text": [
            "Apriori\n",
            "\n",
            "Parameter specification:\n",
            " confidence minval smax arem  aval originalSupport maxtime     support minlen\n",
            "        0.1    0.1    1 none FALSE            TRUE       5 0.002898551      2\n",
            " maxlen target  ext\n",
            "      3  rules TRUE\n",
            "\n",
            "Algorithmic control:\n",
            " filter tree heap memopt load sort verbose\n",
            "    0.1 TRUE TRUE  FALSE TRUE    2    TRUE\n",
            "\n",
            "Absolute minimum support count: 10 \n",
            "\n",
            "set item appearances ...[0 item(s)] done [0.00s].\n",
            "set transactions ...[69 item(s), 3450 transaction(s)] done [0.00s].\n",
            "sorting and recoding items ... [68 item(s)] done [0.00s].\n",
            "creating transaction tree ... done [0.00s].\n",
            "checking subsets of size 1 2 3"
          ]
        },
        {
          "output_type": "stream",
          "name": "stderr",
          "text": [
            "Warning message in apriori(transaksi_tabular, parameter = list(supp = jumlah_kemunculan_minimal/jumlah_transaksi, :\n",
            "“Mining stopped (maxlen reached). Only patterns up to a length of 3 returned!”\n"
          ]
        },
        {
          "output_type": "stream",
          "name": "stdout",
          "text": [
            " done [0.01s].\n",
            "writing ... [39832 rule(s)] done [0.01s].\n",
            "creating S4 object  ... done [0.01s].\n",
            "    lhs                              rhs                              support confidence   coverage     lift count\n",
            "[1] {Baju Renang Anak Perempuan,                                                                                  \n",
            "     Tas Pinggang Wanita}         => {Tas Makeup}                 0.010434783  0.8000000 0.01304348 19.57447    36\n",
            "[2] {Baju Renang Anak Perempuan,                                                                                  \n",
            "     Tas Ransel Mini}             => {Tas Makeup}                 0.011304348  0.7959184 0.01420290 19.47460    39\n",
            "[3] {Baju Renang Anak Perempuan,                                                                                  \n",
            "     Celana Pendek Green/Hijau}   => {Tas Makeup}                 0.010144928  0.7777778 0.01304348 19.03073    35\n",
            "[4] {Gembok Koper,                                                                                                \n",
            "     Tas Waist Bag}               => {Baju Renang Pria Anak-anak} 0.004057971  0.2745098 0.01478261 29.59559    14\n",
            "[5] {Flat Shoes Ballerina,                                                                                        \n",
            "     Gembok Koper}                => {Baju Renang Pria Anak-anak} 0.004057971  0.1866667 0.02173913 20.12500    14\n",
            "[6] {Celana Jeans Sobek Wanita,                                                                                   \n",
            "     Jeans Jumbo}                 => {Baju Renang Pria Anak-anak} 0.005507246  0.1210191 0.04550725 13.04737    19\n"
          ]
        }
      ]
    }
  ]
}