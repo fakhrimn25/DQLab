{
  "nbformat": 4,
  "nbformat_minor": 0,
  "metadata": {
    "colab": {
      "name": "Project: Data Scientist Assessment Using R",
      "provenance": [],
      "collapsed_sections": [],
      "toc_visible": true
    },
    "kernelspec": {
      "name": "ir",
      "display_name": "R"
    },
    "language_info": {
      "name": "R"
    }
  },
  "cells": [
    {
      "cell_type": "markdown",
      "source": [
        "# [Membuat Data frame](https://academy.dqlab.id/main/projectcode/298/579/2905?pr=0)"
      ],
      "metadata": {
        "id": "nK1RPHTZPRw6"
      }
    },
    {
      "cell_type": "code",
      "source": [
        "df <- data.frame(a = c(1, 2, 3), b = c(4, 5, 6), c = c(7, 8, 9))\n",
        "df[,2]\n",
        "df[1,1]\n",
        "df[3,2]"
      ],
      "metadata": {
        "id": "g6pVkmO7YmjE",
        "outputId": "68e2cff6-302c-44f0-e5f2-a379b2750304",
        "colab": {
          "base_uri": "https://localhost:8080/",
          "height": 69
        }
      },
      "execution_count": 3,
      "outputs": [
        {
          "output_type": "display_data",
          "data": {
            "text/html": [
              "<style>\n",
              ".list-inline {list-style: none; margin:0; padding: 0}\n",
              ".list-inline>li {display: inline-block}\n",
              ".list-inline>li:not(:last-child)::after {content: \"\\00b7\"; padding: 0 .5ex}\n",
              "</style>\n",
              "<ol class=list-inline><li>4</li><li>5</li><li>6</li></ol>\n"
            ],
            "text/markdown": "1. 4\n2. 5\n3. 6\n\n\n",
            "text/latex": "\\begin{enumerate*}\n\\item 4\n\\item 5\n\\item 6\n\\end{enumerate*}\n",
            "text/plain": [
              "[1] 4 5 6"
            ]
          },
          "metadata": {}
        },
        {
          "output_type": "display_data",
          "data": {
            "text/html": [
              "1"
            ],
            "text/markdown": "1",
            "text/latex": "1",
            "text/plain": [
              "[1] 1"
            ]
          },
          "metadata": {}
        },
        {
          "output_type": "display_data",
          "data": {
            "text/html": [
              "6"
            ],
            "text/markdown": "6",
            "text/latex": "6",
            "text/plain": [
              "[1] 6"
            ]
          },
          "metadata": {}
        }
      ]
    },
    {
      "cell_type": "markdown",
      "source": [
        "# [Membuat Vector dan Index Position](https://academy.dqlab.id/main/projectcode/298/579/2906?pr=0)"
      ],
      "metadata": {
        "id": "Wdb9U8h0aaRt"
      }
    },
    {
      "cell_type": "code",
      "source": [
        "x <- c(\"red\",\"blue\",\"yellow\",\"orange\",\"green\",\"purple\")\n",
        "y <- x[c(2,3,4)]\n",
        "y"
      ],
      "metadata": {
        "colab": {
          "base_uri": "https://localhost:8080/",
          "height": 34
        },
        "id": "8X7LivpaafES",
        "outputId": "3a08e5f5-3419-4ef6-fc0e-bf4ae7f03919"
      },
      "execution_count": 4,
      "outputs": [
        {
          "output_type": "display_data",
          "data": {
            "text/html": [
              "<style>\n",
              ".list-inline {list-style: none; margin:0; padding: 0}\n",
              ".list-inline>li {display: inline-block}\n",
              ".list-inline>li:not(:last-child)::after {content: \"\\00b7\"; padding: 0 .5ex}\n",
              "</style>\n",
              "<ol class=list-inline><li>'blue'</li><li>'yellow'</li><li>'orange'</li></ol>\n"
            ],
            "text/markdown": "1. 'blue'\n2. 'yellow'\n3. 'orange'\n\n\n",
            "text/latex": "\\begin{enumerate*}\n\\item 'blue'\n\\item 'yellow'\n\\item 'orange'\n\\end{enumerate*}\n",
            "text/plain": [
              "[1] \"blue\"   \"yellow\" \"orange\""
            ]
          },
          "metadata": {}
        }
      ]
    },
    {
      "cell_type": "markdown",
      "source": [
        "# [Mengisi Syntax Factor](https://academy.dqlab.id/main/projectcode/298/579/2907?pr=0)"
      ],
      "metadata": {
        "id": "7f_Uf5Agaru8"
      }
    },
    {
      "cell_type": "code",
      "source": [
        "x <- as.factor(c(\"grape\", \"apples\", \"pear\", \"cherry\", \"mango\", \"panda\"))\n",
        "x\n",
        "x <- as.factor(c(\"grape\", \"apples\", \"pear\", \"cherry\", \"mango\", \"apples\"))\n",
        "x"
      ],
      "metadata": {
        "colab": {
          "base_uri": "https://localhost:8080/",
          "height": 86
        },
        "id": "pH46Jqw1avST",
        "outputId": "2b255a23-39d6-4b88-f31f-b1e0eba0e4df"
      },
      "execution_count": 5,
      "outputs": [
        {
          "output_type": "display_data",
          "data": {
            "text/html": [
              "<style>\n",
              ".list-inline {list-style: none; margin:0; padding: 0}\n",
              ".list-inline>li {display: inline-block}\n",
              ".list-inline>li:not(:last-child)::after {content: \"\\00b7\"; padding: 0 .5ex}\n",
              "</style>\n",
              "<ol class=list-inline><li>grape</li><li>apples</li><li>pear</li><li>cherry</li><li>mango</li><li>panda</li></ol>\n",
              "\n",
              "<details>\n",
              "\t<summary style=display:list-item;cursor:pointer>\n",
              "\t\t<strong>Levels</strong>:\n",
              "\t</summary>\n",
              "\t<style>\n",
              "\t.list-inline {list-style: none; margin:0; padding: 0}\n",
              "\t.list-inline>li {display: inline-block}\n",
              "\t.list-inline>li:not(:last-child)::after {content: \"\\00b7\"; padding: 0 .5ex}\n",
              "\t</style>\n",
              "\t<ol class=list-inline><li>'apples'</li><li>'cherry'</li><li>'grape'</li><li>'mango'</li><li>'panda'</li><li>'pear'</li></ol>\n",
              "</details>"
            ],
            "text/markdown": "1. grape\n2. apples\n3. pear\n4. cherry\n5. mango\n6. panda\n\n\n\n**Levels**: 1. 'apples'\n2. 'cherry'\n3. 'grape'\n4. 'mango'\n5. 'panda'\n6. 'pear'\n\n\n",
            "text/latex": "\\begin{enumerate*}\n\\item grape\n\\item apples\n\\item pear\n\\item cherry\n\\item mango\n\\item panda\n\\end{enumerate*}\n\n\\emph{Levels}: \\begin{enumerate*}\n\\item 'apples'\n\\item 'cherry'\n\\item 'grape'\n\\item 'mango'\n\\item 'panda'\n\\item 'pear'\n\\end{enumerate*}\n",
            "text/plain": [
              "[1] grape  apples pear   cherry mango  panda \n",
              "Levels: apples cherry grape mango panda pear"
            ]
          },
          "metadata": {}
        },
        {
          "output_type": "display_data",
          "data": {
            "text/html": [
              "<style>\n",
              ".list-inline {list-style: none; margin:0; padding: 0}\n",
              ".list-inline>li {display: inline-block}\n",
              ".list-inline>li:not(:last-child)::after {content: \"\\00b7\"; padding: 0 .5ex}\n",
              "</style>\n",
              "<ol class=list-inline><li>grape</li><li>apples</li><li>pear</li><li>cherry</li><li>mango</li><li>apples</li></ol>\n",
              "\n",
              "<details>\n",
              "\t<summary style=display:list-item;cursor:pointer>\n",
              "\t\t<strong>Levels</strong>:\n",
              "\t</summary>\n",
              "\t<style>\n",
              "\t.list-inline {list-style: none; margin:0; padding: 0}\n",
              "\t.list-inline>li {display: inline-block}\n",
              "\t.list-inline>li:not(:last-child)::after {content: \"\\00b7\"; padding: 0 .5ex}\n",
              "\t</style>\n",
              "\t<ol class=list-inline><li>'apples'</li><li>'cherry'</li><li>'grape'</li><li>'mango'</li><li>'pear'</li></ol>\n",
              "</details>"
            ],
            "text/markdown": "1. grape\n2. apples\n3. pear\n4. cherry\n5. mango\n6. apples\n\n\n\n**Levels**: 1. 'apples'\n2. 'cherry'\n3. 'grape'\n4. 'mango'\n5. 'pear'\n\n\n",
            "text/latex": "\\begin{enumerate*}\n\\item grape\n\\item apples\n\\item pear\n\\item cherry\n\\item mango\n\\item apples\n\\end{enumerate*}\n\n\\emph{Levels}: \\begin{enumerate*}\n\\item 'apples'\n\\item 'cherry'\n\\item 'grape'\n\\item 'mango'\n\\item 'pear'\n\\end{enumerate*}\n",
            "text/plain": [
              "[1] grape  apples pear   cherry mango  apples\n",
              "Levels: apples cherry grape mango pear"
            ]
          },
          "metadata": {}
        }
      ]
    },
    {
      "cell_type": "markdown",
      "source": [
        "# [Menggunakan Function](https://academy.dqlab.id/main/projectcode/298/579/2908?pr=0)"
      ],
      "metadata": {
        "id": "odFQba6WiqUY"
      }
    },
    {
      "cell_type": "code",
      "source": [
        "add_numbers <- function(x,y){x+y}\n",
        "add_numbers(3,3)"
      ],
      "metadata": {
        "colab": {
          "base_uri": "https://localhost:8080/",
          "height": 34
        },
        "id": "nEV2Twlaiulf",
        "outputId": "9304bb7f-245c-4152-9d48-28911aa9aec2"
      },
      "execution_count": 6,
      "outputs": [
        {
          "output_type": "display_data",
          "data": {
            "text/html": [
              "6"
            ],
            "text/markdown": "6",
            "text/latex": "6",
            "text/plain": [
              "[1] 6"
            ]
          },
          "metadata": {}
        }
      ]
    },
    {
      "cell_type": "markdown",
      "source": [
        "# [Mengganti Missing Value](https://academy.dqlab.id/main/projectcode/298/579/2909?pr=0)"
      ],
      "metadata": {
        "id": "6MQvs4gxi69v"
      }
    },
    {
      "cell_type": "code",
      "source": [
        "df <- c(1,2,3,4,5,6,NA,7,8,9,NA)\n",
        "df\n",
        "mean_replace <- function(df){\n",
        "  df[is.na(df)] <- mean(df, na.rm = TRUE)\n",
        "\treturn(df)\n",
        "  }\n",
        "df <- mean_replace(df)\n",
        "df"
      ],
      "metadata": {
        "colab": {
          "base_uri": "https://localhost:8080/",
          "height": 52
        },
        "id": "3f65muXwi_ZD",
        "outputId": "0829d6d7-360f-4ae5-a2c8-c16ee8791f8c"
      },
      "execution_count": 7,
      "outputs": [
        {
          "output_type": "display_data",
          "data": {
            "text/html": [
              "<style>\n",
              ".list-inline {list-style: none; margin:0; padding: 0}\n",
              ".list-inline>li {display: inline-block}\n",
              ".list-inline>li:not(:last-child)::after {content: \"\\00b7\"; padding: 0 .5ex}\n",
              "</style>\n",
              "<ol class=list-inline><li>1</li><li>2</li><li>3</li><li>4</li><li>5</li><li>6</li><li>&lt;NA&gt;</li><li>7</li><li>8</li><li>9</li><li>&lt;NA&gt;</li></ol>\n"
            ],
            "text/markdown": "1. 1\n2. 2\n3. 3\n4. 4\n5. 5\n6. 6\n7. &lt;NA&gt;\n8. 7\n9. 8\n10. 9\n11. &lt;NA&gt;\n\n\n",
            "text/latex": "\\begin{enumerate*}\n\\item 1\n\\item 2\n\\item 3\n\\item 4\n\\item 5\n\\item 6\n\\item <NA>\n\\item 7\n\\item 8\n\\item 9\n\\item <NA>\n\\end{enumerate*}\n",
            "text/plain": [
              " [1]  1  2  3  4  5  6 NA  7  8  9 NA"
            ]
          },
          "metadata": {}
        },
        {
          "output_type": "display_data",
          "data": {
            "text/html": [
              "<style>\n",
              ".list-inline {list-style: none; margin:0; padding: 0}\n",
              ".list-inline>li {display: inline-block}\n",
              ".list-inline>li:not(:last-child)::after {content: \"\\00b7\"; padding: 0 .5ex}\n",
              "</style>\n",
              "<ol class=list-inline><li>1</li><li>2</li><li>3</li><li>4</li><li>5</li><li>6</li><li>5</li><li>7</li><li>8</li><li>9</li><li>5</li></ol>\n"
            ],
            "text/markdown": "1. 1\n2. 2\n3. 3\n4. 4\n5. 5\n6. 6\n7. 5\n8. 7\n9. 8\n10. 9\n11. 5\n\n\n",
            "text/latex": "\\begin{enumerate*}\n\\item 1\n\\item 2\n\\item 3\n\\item 4\n\\item 5\n\\item 6\n\\item 5\n\\item 7\n\\item 8\n\\item 9\n\\item 5\n\\end{enumerate*}\n",
            "text/plain": [
              " [1] 1 2 3 4 5 6 5 7 8 9 5"
            ]
          },
          "metadata": {}
        }
      ]
    },
    {
      "cell_type": "markdown",
      "source": [
        "# [Problem 1 : Langkah Awal](https://academy.dqlab.id/main/livecode/298/580/2910?pr=0)"
      ],
      "metadata": {
        "id": "eWt47NI5jpLJ"
      }
    },
    {
      "cell_type": "code",
      "source": [
        "library(readr)\n",
        "trees_df <- read_csv(\"https://storage.googleapis.com/dqlab-dataset/trees.csv\")"
      ],
      "metadata": {
        "colab": {
          "base_uri": "https://localhost:8080/"
        },
        "id": "C7tzipDdjslg",
        "outputId": "b3a6c66b-31df-44c0-aea5-d93774c5ad40"
      },
      "execution_count": 8,
      "outputs": [
        {
          "output_type": "stream",
          "name": "stderr",
          "text": [
            "\u001b[1mRows: \u001b[22m\u001b[34m31\u001b[39m \u001b[1mColumns: \u001b[22m\u001b[34m3\u001b[39m\n",
            "\u001b[36m──\u001b[39m \u001b[1mColumn specification\u001b[22m \u001b[36m────────────────────────────────────────────────────────\u001b[39m\n",
            "\u001b[1mDelimiter:\u001b[22m \",\"\n",
            "\u001b[32mdbl\u001b[39m (3): Girth, Height, Volume\n",
            "\n",
            "\u001b[36mℹ\u001b[39m Use `spec()` to retrieve the full column specification for this data.\n",
            "\u001b[36mℹ\u001b[39m Specify the column types or set `show_col_types = FALSE` to quiet this message.\n"
          ]
        }
      ]
    },
    {
      "cell_type": "markdown",
      "source": [
        "# [Mengecek Struktur Data](https://academy.dqlab.id/main/livecode/298/580/2911?pr=0)"
      ],
      "metadata": {
        "id": "R02M6i52kmTR"
      }
    },
    {
      "cell_type": "code",
      "source": [
        "names(trees_df)\n",
        "str(trees_df)\n",
        "names(trees_df)[1] <- \"Diameter\"\n",
        "trees_df$diameter_ft <- trees_df$Diameter*0.08333\n",
        "head(trees_df)\n",
        "summary(trees_df)\n",
        "is.na(trees_df)"
      ],
      "metadata": {
        "colab": {
          "base_uri": "https://localhost:8080/",
          "height": 1000
        },
        "id": "3lf6_RwjkrL4",
        "outputId": "1c3e6f59-f013-4750-8872-0c70c2571ef4"
      },
      "execution_count": 9,
      "outputs": [
        {
          "output_type": "display_data",
          "data": {
            "text/html": [
              "<style>\n",
              ".list-inline {list-style: none; margin:0; padding: 0}\n",
              ".list-inline>li {display: inline-block}\n",
              ".list-inline>li:not(:last-child)::after {content: \"\\00b7\"; padding: 0 .5ex}\n",
              "</style>\n",
              "<ol class=list-inline><li>'Girth'</li><li>'Height'</li><li>'Volume'</li></ol>\n"
            ],
            "text/markdown": "1. 'Girth'\n2. 'Height'\n3. 'Volume'\n\n\n",
            "text/latex": "\\begin{enumerate*}\n\\item 'Girth'\n\\item 'Height'\n\\item 'Volume'\n\\end{enumerate*}\n",
            "text/plain": [
              "[1] \"Girth\"  \"Height\" \"Volume\""
            ]
          },
          "metadata": {}
        },
        {
          "output_type": "stream",
          "name": "stdout",
          "text": [
            "spec_tbl_df [31 × 3] (S3: spec_tbl_df/tbl_df/tbl/data.frame)\n",
            " $ Girth : num [1:31] 8.3 8.6 8.8 10.5 10.7 10.8 11 11 11.1 11.2 ...\n",
            " $ Height: num [1:31] 70 65 63 72 81 83 66 75 80 75 ...\n",
            " $ Volume: num [1:31] 10.3 10.3 10.2 16.4 18.8 19.7 15.6 18.2 22.6 19.9 ...\n",
            " - attr(*, \"spec\")=\n",
            "  .. cols(\n",
            "  ..   Girth = \u001b[32mcol_double()\u001b[39m,\n",
            "  ..   Height = \u001b[32mcol_double()\u001b[39m,\n",
            "  ..   Volume = \u001b[32mcol_double()\u001b[39m\n",
            "  .. )\n",
            " - attr(*, \"problems\")=<externalptr> \n"
          ]
        },
        {
          "output_type": "display_data",
          "data": {
            "text/html": [
              "<table class=\"dataframe\">\n",
              "<caption>A tibble: 6 × 4</caption>\n",
              "<thead>\n",
              "\t<tr><th scope=col>Diameter</th><th scope=col>Height</th><th scope=col>Volume</th><th scope=col>diameter_ft</th></tr>\n",
              "\t<tr><th scope=col>&lt;dbl&gt;</th><th scope=col>&lt;dbl&gt;</th><th scope=col>&lt;dbl&gt;</th><th scope=col>&lt;dbl&gt;</th></tr>\n",
              "</thead>\n",
              "<tbody>\n",
              "\t<tr><td> 8.3</td><td>70</td><td>10.3</td><td>0.691639</td></tr>\n",
              "\t<tr><td> 8.6</td><td>65</td><td>10.3</td><td>0.716638</td></tr>\n",
              "\t<tr><td> 8.8</td><td>63</td><td>10.2</td><td>0.733304</td></tr>\n",
              "\t<tr><td>10.5</td><td>72</td><td>16.4</td><td>0.874965</td></tr>\n",
              "\t<tr><td>10.7</td><td>81</td><td>18.8</td><td>0.891631</td></tr>\n",
              "\t<tr><td>10.8</td><td>83</td><td>19.7</td><td>0.899964</td></tr>\n",
              "</tbody>\n",
              "</table>\n"
            ],
            "text/markdown": "\nA tibble: 6 × 4\n\n| Diameter &lt;dbl&gt; | Height &lt;dbl&gt; | Volume &lt;dbl&gt; | diameter_ft &lt;dbl&gt; |\n|---|---|---|---|\n|  8.3 | 70 | 10.3 | 0.691639 |\n|  8.6 | 65 | 10.3 | 0.716638 |\n|  8.8 | 63 | 10.2 | 0.733304 |\n| 10.5 | 72 | 16.4 | 0.874965 |\n| 10.7 | 81 | 18.8 | 0.891631 |\n| 10.8 | 83 | 19.7 | 0.899964 |\n\n",
            "text/latex": "A tibble: 6 × 4\n\\begin{tabular}{llll}\n Diameter & Height & Volume & diameter\\_ft\\\\\n <dbl> & <dbl> & <dbl> & <dbl>\\\\\n\\hline\n\t  8.3 & 70 & 10.3 & 0.691639\\\\\n\t  8.6 & 65 & 10.3 & 0.716638\\\\\n\t  8.8 & 63 & 10.2 & 0.733304\\\\\n\t 10.5 & 72 & 16.4 & 0.874965\\\\\n\t 10.7 & 81 & 18.8 & 0.891631\\\\\n\t 10.8 & 83 & 19.7 & 0.899964\\\\\n\\end{tabular}\n",
            "text/plain": [
              "  Diameter Height Volume diameter_ft\n",
              "1  8.3     70     10.3   0.691639   \n",
              "2  8.6     65     10.3   0.716638   \n",
              "3  8.8     63     10.2   0.733304   \n",
              "4 10.5     72     16.4   0.874965   \n",
              "5 10.7     81     18.8   0.891631   \n",
              "6 10.8     83     19.7   0.899964   "
            ]
          },
          "metadata": {}
        },
        {
          "output_type": "display_data",
          "data": {
            "text/plain": [
              "    Diameter         Height       Volume       diameter_ft    \n",
              " Min.   : 8.30   Min.   :63   Min.   :10.20   Min.   :0.6916  \n",
              " 1st Qu.:11.05   1st Qu.:72   1st Qu.:19.40   1st Qu.:0.9208  \n",
              " Median :12.90   Median :76   Median :24.20   Median :1.0750  \n",
              " Mean   :13.25   Mean   :76   Mean   :30.17   Mean   :1.1040  \n",
              " 3rd Qu.:15.25   3rd Qu.:80   3rd Qu.:37.30   3rd Qu.:1.2708  \n",
              " Max.   :20.60   Max.   :87   Max.   :77.00   Max.   :1.7166  "
            ]
          },
          "metadata": {}
        },
        {
          "output_type": "display_data",
          "data": {
            "text/html": [
              "<table class=\"dataframe\">\n",
              "<caption>A matrix: 31 × 4 of type lgl</caption>\n",
              "<thead>\n",
              "\t<tr><th scope=col>Diameter</th><th scope=col>Height</th><th scope=col>Volume</th><th scope=col>diameter_ft</th></tr>\n",
              "</thead>\n",
              "<tbody>\n",
              "\t<tr><td>FALSE</td><td>FALSE</td><td>FALSE</td><td>FALSE</td></tr>\n",
              "\t<tr><td>FALSE</td><td>FALSE</td><td>FALSE</td><td>FALSE</td></tr>\n",
              "\t<tr><td>FALSE</td><td>FALSE</td><td>FALSE</td><td>FALSE</td></tr>\n",
              "\t<tr><td>FALSE</td><td>FALSE</td><td>FALSE</td><td>FALSE</td></tr>\n",
              "\t<tr><td>FALSE</td><td>FALSE</td><td>FALSE</td><td>FALSE</td></tr>\n",
              "\t<tr><td>FALSE</td><td>FALSE</td><td>FALSE</td><td>FALSE</td></tr>\n",
              "\t<tr><td>FALSE</td><td>FALSE</td><td>FALSE</td><td>FALSE</td></tr>\n",
              "\t<tr><td>FALSE</td><td>FALSE</td><td>FALSE</td><td>FALSE</td></tr>\n",
              "\t<tr><td>FALSE</td><td>FALSE</td><td>FALSE</td><td>FALSE</td></tr>\n",
              "\t<tr><td>FALSE</td><td>FALSE</td><td>FALSE</td><td>FALSE</td></tr>\n",
              "\t<tr><td>FALSE</td><td>FALSE</td><td>FALSE</td><td>FALSE</td></tr>\n",
              "\t<tr><td>FALSE</td><td>FALSE</td><td>FALSE</td><td>FALSE</td></tr>\n",
              "\t<tr><td>FALSE</td><td>FALSE</td><td>FALSE</td><td>FALSE</td></tr>\n",
              "\t<tr><td>FALSE</td><td>FALSE</td><td>FALSE</td><td>FALSE</td></tr>\n",
              "\t<tr><td>FALSE</td><td>FALSE</td><td>FALSE</td><td>FALSE</td></tr>\n",
              "\t<tr><td>FALSE</td><td>FALSE</td><td>FALSE</td><td>FALSE</td></tr>\n",
              "\t<tr><td>FALSE</td><td>FALSE</td><td>FALSE</td><td>FALSE</td></tr>\n",
              "\t<tr><td>FALSE</td><td>FALSE</td><td>FALSE</td><td>FALSE</td></tr>\n",
              "\t<tr><td>FALSE</td><td>FALSE</td><td>FALSE</td><td>FALSE</td></tr>\n",
              "\t<tr><td>FALSE</td><td>FALSE</td><td>FALSE</td><td>FALSE</td></tr>\n",
              "\t<tr><td>FALSE</td><td>FALSE</td><td>FALSE</td><td>FALSE</td></tr>\n",
              "\t<tr><td>FALSE</td><td>FALSE</td><td>FALSE</td><td>FALSE</td></tr>\n",
              "\t<tr><td>FALSE</td><td>FALSE</td><td>FALSE</td><td>FALSE</td></tr>\n",
              "\t<tr><td>FALSE</td><td>FALSE</td><td>FALSE</td><td>FALSE</td></tr>\n",
              "\t<tr><td>FALSE</td><td>FALSE</td><td>FALSE</td><td>FALSE</td></tr>\n",
              "\t<tr><td>FALSE</td><td>FALSE</td><td>FALSE</td><td>FALSE</td></tr>\n",
              "\t<tr><td>FALSE</td><td>FALSE</td><td>FALSE</td><td>FALSE</td></tr>\n",
              "\t<tr><td>FALSE</td><td>FALSE</td><td>FALSE</td><td>FALSE</td></tr>\n",
              "\t<tr><td>FALSE</td><td>FALSE</td><td>FALSE</td><td>FALSE</td></tr>\n",
              "\t<tr><td>FALSE</td><td>FALSE</td><td>FALSE</td><td>FALSE</td></tr>\n",
              "\t<tr><td>FALSE</td><td>FALSE</td><td>FALSE</td><td>FALSE</td></tr>\n",
              "</tbody>\n",
              "</table>\n"
            ],
            "text/markdown": "\nA matrix: 31 × 4 of type lgl\n\n| Diameter | Height | Volume | diameter_ft |\n|---|---|---|---|\n| FALSE | FALSE | FALSE | FALSE |\n| FALSE | FALSE | FALSE | FALSE |\n| FALSE | FALSE | FALSE | FALSE |\n| FALSE | FALSE | FALSE | FALSE |\n| FALSE | FALSE | FALSE | FALSE |\n| FALSE | FALSE | FALSE | FALSE |\n| FALSE | FALSE | FALSE | FALSE |\n| FALSE | FALSE | FALSE | FALSE |\n| FALSE | FALSE | FALSE | FALSE |\n| FALSE | FALSE | FALSE | FALSE |\n| FALSE | FALSE | FALSE | FALSE |\n| FALSE | FALSE | FALSE | FALSE |\n| FALSE | FALSE | FALSE | FALSE |\n| FALSE | FALSE | FALSE | FALSE |\n| FALSE | FALSE | FALSE | FALSE |\n| FALSE | FALSE | FALSE | FALSE |\n| FALSE | FALSE | FALSE | FALSE |\n| FALSE | FALSE | FALSE | FALSE |\n| FALSE | FALSE | FALSE | FALSE |\n| FALSE | FALSE | FALSE | FALSE |\n| FALSE | FALSE | FALSE | FALSE |\n| FALSE | FALSE | FALSE | FALSE |\n| FALSE | FALSE | FALSE | FALSE |\n| FALSE | FALSE | FALSE | FALSE |\n| FALSE | FALSE | FALSE | FALSE |\n| FALSE | FALSE | FALSE | FALSE |\n| FALSE | FALSE | FALSE | FALSE |\n| FALSE | FALSE | FALSE | FALSE |\n| FALSE | FALSE | FALSE | FALSE |\n| FALSE | FALSE | FALSE | FALSE |\n| FALSE | FALSE | FALSE | FALSE |\n\n",
            "text/latex": "A matrix: 31 × 4 of type lgl\n\\begin{tabular}{llll}\n Diameter & Height & Volume & diameter\\_ft\\\\\n\\hline\n\t FALSE & FALSE & FALSE & FALSE\\\\\n\t FALSE & FALSE & FALSE & FALSE\\\\\n\t FALSE & FALSE & FALSE & FALSE\\\\\n\t FALSE & FALSE & FALSE & FALSE\\\\\n\t FALSE & FALSE & FALSE & FALSE\\\\\n\t FALSE & FALSE & FALSE & FALSE\\\\\n\t FALSE & FALSE & FALSE & FALSE\\\\\n\t FALSE & FALSE & FALSE & FALSE\\\\\n\t FALSE & FALSE & FALSE & FALSE\\\\\n\t FALSE & FALSE & FALSE & FALSE\\\\\n\t FALSE & FALSE & FALSE & FALSE\\\\\n\t FALSE & FALSE & FALSE & FALSE\\\\\n\t FALSE & FALSE & FALSE & FALSE\\\\\n\t FALSE & FALSE & FALSE & FALSE\\\\\n\t FALSE & FALSE & FALSE & FALSE\\\\\n\t FALSE & FALSE & FALSE & FALSE\\\\\n\t FALSE & FALSE & FALSE & FALSE\\\\\n\t FALSE & FALSE & FALSE & FALSE\\\\\n\t FALSE & FALSE & FALSE & FALSE\\\\\n\t FALSE & FALSE & FALSE & FALSE\\\\\n\t FALSE & FALSE & FALSE & FALSE\\\\\n\t FALSE & FALSE & FALSE & FALSE\\\\\n\t FALSE & FALSE & FALSE & FALSE\\\\\n\t FALSE & FALSE & FALSE & FALSE\\\\\n\t FALSE & FALSE & FALSE & FALSE\\\\\n\t FALSE & FALSE & FALSE & FALSE\\\\\n\t FALSE & FALSE & FALSE & FALSE\\\\\n\t FALSE & FALSE & FALSE & FALSE\\\\\n\t FALSE & FALSE & FALSE & FALSE\\\\\n\t FALSE & FALSE & FALSE & FALSE\\\\\n\t FALSE & FALSE & FALSE & FALSE\\\\\n\\end{tabular}\n",
            "text/plain": [
              "      Diameter Height Volume diameter_ft\n",
              " [1,] FALSE    FALSE  FALSE  FALSE      \n",
              " [2,] FALSE    FALSE  FALSE  FALSE      \n",
              " [3,] FALSE    FALSE  FALSE  FALSE      \n",
              " [4,] FALSE    FALSE  FALSE  FALSE      \n",
              " [5,] FALSE    FALSE  FALSE  FALSE      \n",
              " [6,] FALSE    FALSE  FALSE  FALSE      \n",
              " [7,] FALSE    FALSE  FALSE  FALSE      \n",
              " [8,] FALSE    FALSE  FALSE  FALSE      \n",
              " [9,] FALSE    FALSE  FALSE  FALSE      \n",
              "[10,] FALSE    FALSE  FALSE  FALSE      \n",
              "[11,] FALSE    FALSE  FALSE  FALSE      \n",
              "[12,] FALSE    FALSE  FALSE  FALSE      \n",
              "[13,] FALSE    FALSE  FALSE  FALSE      \n",
              "[14,] FALSE    FALSE  FALSE  FALSE      \n",
              "[15,] FALSE    FALSE  FALSE  FALSE      \n",
              "[16,] FALSE    FALSE  FALSE  FALSE      \n",
              "[17,] FALSE    FALSE  FALSE  FALSE      \n",
              "[18,] FALSE    FALSE  FALSE  FALSE      \n",
              "[19,] FALSE    FALSE  FALSE  FALSE      \n",
              "[20,] FALSE    FALSE  FALSE  FALSE      \n",
              "[21,] FALSE    FALSE  FALSE  FALSE      \n",
              "[22,] FALSE    FALSE  FALSE  FALSE      \n",
              "[23,] FALSE    FALSE  FALSE  FALSE      \n",
              "[24,] FALSE    FALSE  FALSE  FALSE      \n",
              "[25,] FALSE    FALSE  FALSE  FALSE      \n",
              "[26,] FALSE    FALSE  FALSE  FALSE      \n",
              "[27,] FALSE    FALSE  FALSE  FALSE      \n",
              "[28,] FALSE    FALSE  FALSE  FALSE      \n",
              "[29,] FALSE    FALSE  FALSE  FALSE      \n",
              "[30,] FALSE    FALSE  FALSE  FALSE      \n",
              "[31,] FALSE    FALSE  FALSE  FALSE      "
            ]
          },
          "metadata": {}
        }
      ]
    },
    {
      "cell_type": "markdown",
      "source": [
        "# [Shapiro Test](https://academy.dqlab.id/main/livecode/298/580/2912?pr=0)"
      ],
      "metadata": {
        "id": "bIRlCasclfEM"
      }
    },
    {
      "cell_type": "code",
      "source": [
        "shapiro.test(trees_df$diameter_ft)\n",
        "shapiro.test(trees_df$Height)\n",
        "shapiro.test(trees_df$Volume)"
      ],
      "metadata": {
        "colab": {
          "base_uri": "https://localhost:8080/",
          "height": 277
        },
        "id": "xkwqBTC5li9R",
        "outputId": "be215dc3-e3b0-4502-e2c5-8f827f81d828"
      },
      "execution_count": 10,
      "outputs": [
        {
          "output_type": "display_data",
          "data": {
            "text/plain": [
              "\n",
              "\tShapiro-Wilk normality test\n",
              "\n",
              "data:  trees_df$diameter_ft\n",
              "W = 0.94117, p-value = 0.08893\n"
            ]
          },
          "metadata": {}
        },
        {
          "output_type": "display_data",
          "data": {
            "text/plain": [
              "\n",
              "\tShapiro-Wilk normality test\n",
              "\n",
              "data:  trees_df$Height\n",
              "W = 0.96545, p-value = 0.4034\n"
            ]
          },
          "metadata": {}
        },
        {
          "output_type": "display_data",
          "data": {
            "text/plain": [
              "\n",
              "\tShapiro-Wilk normality test\n",
              "\n",
              "data:  trees_df$Volume\n",
              "W = 0.88757, p-value = 0.003579\n"
            ]
          },
          "metadata": {}
        }
      ]
    },
    {
      "cell_type": "markdown",
      "source": [
        "# [Visualisasi Sederhana](https://academy.dqlab.id/main/livecode/298/580/2913?pr=0)"
      ],
      "metadata": {
        "id": "70ZWGyUzmCe5"
      }
    },
    {
      "cell_type": "code",
      "source": [
        "plot(density(trees_df$Volume))"
      ],
      "metadata": {
        "colab": {
          "base_uri": "https://localhost:8080/",
          "height": 437
        },
        "id": "5o_DJquhmG5d",
        "outputId": "88580b96-eb3c-467a-a29d-bb4a327fc1a5"
      },
      "execution_count": 11,
      "outputs": [
        {
          "output_type": "display_data",
          "data": {
            "text/plain": [
              "Plot with title “density.default(x = trees_df$Volume)”"
            ],
            "image/png": "[encoded data removed]"
          },
          "metadata": {
            "image/png": {
              "width": 420,
              "height": 420
            }
          }
        }
      ]
    },
    {
      "cell_type": "markdown",
      "source": [
        "# [Mencari Hubungan](https://academy.dqlab.id/main/livecode/298/580/2914?pr=0)"
      ],
      "metadata": {
        "id": "_KTiroQnmb4v"
      }
    },
    {
      "cell_type": "code",
      "source": [
        "lm(formula = Volume~ Height+diameter_ft, data = trees_df)\n",
        "plot(trees_df$diameter_ft, trees_df$Volume)\n",
        "plot(trees_df$Height, trees_df$Volume)"
      ],
      "metadata": {
        "colab": {
          "base_uri": "https://localhost:8080/",
          "height": 979
        },
        "id": "IEK9exPvmbcb",
        "outputId": "42b0b9f1-51af-45e4-fbff-bb5d0ce5367a"
      },
      "execution_count": 12,
      "outputs": [
        {
          "output_type": "display_data",
          "data": {
            "text/plain": [
              "\n",
              "Call:\n",
              "lm(formula = Volume ~ Height + diameter_ft, data = trees_df)\n",
              "\n",
              "Coefficients:\n",
              "(Intercept)       Height  diameter_ft  \n",
              "   -57.9877       0.3393      56.5002  \n"
            ]
          },
          "metadata": {}
        },
        {
          "output_type": "display_data",
          "data": {
            "text/plain": [
              "plot without title"
            ],
            "image/png": "[encoded data removed]"
          },
          "metadata": {
            "image/png": {
              "width": 420,
              "height": 420
            }
          }
        },
        {
          "output_type": "display_data",
          "data": {
            "text/plain": [
              "plot without title"
            ],
            "image/png": "[encoded data removed]"
          },
          "metadata": {
            "image/png": {
              "width": 420,
              "height": 420
            }
          }
        }
      ]
    },
    {
      "cell_type": "markdown",
      "source": [
        "# [Analisa Efek Pemberian Obat Tidur](https://academy.dqlab.id/main/livecode/298/581/2915?pr=0)"
      ],
      "metadata": {
        "id": "g9lAF1lonQPl"
      }
    },
    {
      "cell_type": "code",
      "source": [
        "library(readr) #pre-defined\n",
        "library(dplyr) #pre-defined\n",
        "\n",
        "sleep_df <- read_csv('https://storage.googleapis.com/dqlab-dataset/sleep.csv') #pre-defined\n",
        "\n",
        "# Save the data in two different dataframe/vector\n",
        "group1 <- filter(sleep_df, sleep_df$group == 1)\n",
        "group2 <- filter(sleep_df, sleep_df$group == 2)\n",
        "\n",
        "# Compute t-test\n",
        "t_test <- t.test(group1$extra, group2$extra)\n",
        "t_test"
      ],
      "metadata": {
        "colab": {
          "base_uri": "https://localhost:8080/",
          "height": 573
        },
        "id": "M3jU1rNwnUwg",
        "outputId": "c6963ecf-88be-442d-eb7c-83d27bd0d2ff"
      },
      "execution_count": 13,
      "outputs": [
        {
          "output_type": "stream",
          "name": "stderr",
          "text": [
            "\n",
            "Attaching package: ‘dplyr’\n",
            "\n",
            "\n",
            "The following objects are masked from ‘package:stats’:\n",
            "\n",
            "    filter, lag\n",
            "\n",
            "\n",
            "The following objects are masked from ‘package:base’:\n",
            "\n",
            "    intersect, setdiff, setequal, union\n",
            "\n",
            "\n",
            "\u001b[1mRows: \u001b[22m\u001b[34m20\u001b[39m \u001b[1mColumns: \u001b[22m\u001b[34m3\u001b[39m\n",
            "\u001b[36m──\u001b[39m \u001b[1mColumn specification\u001b[22m \u001b[36m────────────────────────────────────────────────────────\u001b[39m\n",
            "\u001b[1mDelimiter:\u001b[22m \",\"\n",
            "\u001b[32mdbl\u001b[39m (3): extra, group, ID\n",
            "\n",
            "\u001b[36mℹ\u001b[39m Use `spec()` to retrieve the full column specification for this data.\n",
            "\u001b[36mℹ\u001b[39m Specify the column types or set `show_col_types = FALSE` to quiet this message.\n"
          ]
        },
        {
          "output_type": "display_data",
          "data": {
            "text/plain": [
              "\n",
              "\tWelch Two Sample t-test\n",
              "\n",
              "data:  group1$extra and group2$extra\n",
              "t = -1.8608, df = 17.776, p-value = 0.07939\n",
              "alternative hypothesis: true difference in means is not equal to 0\n",
              "95 percent confidence interval:\n",
              " -3.3654832  0.2054832\n",
              "sample estimates:\n",
              "mean of x mean of y \n",
              "     0.75      2.33 \n"
            ]
          },
          "metadata": {}
        }
      ]
    },
    {
      "cell_type": "markdown",
      "source": [
        "# [Menghasilkan Grafik - Boxplot](https://academy.dqlab.id/main/livecode/298/581/2916?pr=0)"
      ],
      "metadata": {
        "id": "1q0Tq4MsoR8x"
      }
    },
    {
      "cell_type": "code",
      "source": [
        "library(ggplot2)\n",
        "ggplot(sleep_df, aes(x = as.character(group), \n",
        "                     y = extra, \n",
        "                     fill = as.character(group))) + geom_boxplot()"
      ],
      "metadata": {
        "colab": {
          "base_uri": "https://localhost:8080/",
          "height": 437
        },
        "id": "XZZTeb0poXJT",
        "outputId": "27d5aeeb-4d63-4111-b6bf-ae4b74917ba8"
      },
      "execution_count": 14,
      "outputs": [
        {
          "output_type": "display_data",
          "data": {
            "text/plain": [
              "plot without title"
            ],
            "image/png": "[encoded data removed]"
          },
          "metadata": {
            "image/png": {
              "width": 420,
              "height": 420
            }
          }
        }
      ]
    },
    {
      "cell_type": "markdown",
      "source": [
        "# [Membuat Model Sederhana](https://academy.dqlab.id/main/livecode/298/582/2917?pr=0)"
      ],
      "metadata": {
        "id": "P7PXGlRCpRpw"
      }
    },
    {
      "cell_type": "code",
      "source": [
        "library(readr)\n",
        "electric_bill <- read_csv(\"https://storage.googleapis.com/dqlab-dataset/electric_bill.csv\")\n",
        "model <- lm(amount_paid~ num_people + housearea, data = electric_bill)\n",
        "\n",
        "model"
      ],
      "metadata": {
        "colab": {
          "base_uri": "https://localhost:8080/",
          "height": 260
        },
        "id": "m9KFx08ypVpT",
        "outputId": "fa6cb9f2-6ea2-4720-908f-02e52d6c2dae"
      },
      "execution_count": 15,
      "outputs": [
        {
          "output_type": "stream",
          "name": "stderr",
          "text": [
            "\u001b[1mRows: \u001b[22m\u001b[34m1000\u001b[39m \u001b[1mColumns: \u001b[22m\u001b[34m10\u001b[39m\n",
            "\u001b[36m──\u001b[39m \u001b[1mColumn specification\u001b[22m \u001b[36m────────────────────────────────────────────────────────\u001b[39m\n",
            "\u001b[1mDelimiter:\u001b[22m \",\"\n",
            "\u001b[32mdbl\u001b[39m (10): num_rooms, num_people, housearea, is_ac, is_tv, is_flat, ave_month...\n",
            "\n",
            "\u001b[36mℹ\u001b[39m Use `spec()` to retrieve the full column specification for this data.\n",
            "\u001b[36mℹ\u001b[39m Specify the column types or set `show_col_types = FALSE` to quiet this message.\n"
          ]
        },
        {
          "output_type": "display_data",
          "data": {
            "text/plain": [
              "\n",
              "Call:\n",
              "lm(formula = amount_paid ~ num_people + housearea, data = electric_bill)\n",
              "\n",
              "Coefficients:\n",
              "(Intercept)   num_people    housearea  \n",
              "    482.920        4.834        0.118  \n"
            ]
          },
          "metadata": {}
        }
      ]
    },
    {
      "cell_type": "markdown",
      "source": [
        "# [Training dan Testing](https://academy.dqlab.id/main/livecode/298/582/2918?pr=0)"
      ],
      "metadata": {
        "id": "l8a5Qb8dG0f3"
      }
    },
    {
      "cell_type": "code",
      "source": [
        "install.packages('caret')"
      ],
      "metadata": {
        "colab": {
          "base_uri": "https://localhost:8080/"
        },
        "id": "HN3mNYp1H0uY",
        "outputId": "396786e5-4077-4cee-e3a6-e93a9beb0ef8"
      },
      "execution_count": 19,
      "outputs": [
        {
          "output_type": "stream",
          "name": "stderr",
          "text": [
            "Installing package into ‘/usr/local/lib/R/site-library’\n",
            "(as ‘lib’ is unspecified)\n",
            "\n",
            "also installing the dependencies ‘listenv’, ‘parallelly’, ‘future’, ‘globals’, ‘future.apply’, ‘progressr’, ‘numDeriv’, ‘SQUAREM’, ‘lava’, ‘prodlim’, ‘proxy’, ‘iterators’, ‘gower’, ‘hardhat’, ‘ipred’, ‘timeDate’, ‘e1071’, ‘foreach’, ‘ModelMetrics’, ‘plyr’, ‘pROC’, ‘recipes’, ‘reshape2’\n",
            "\n",
            "\n"
          ]
        }
      ]
    },
    {
      "cell_type": "code",
      "source": [
        "library(readr)\n",
        "library(caret)\n",
        "set.seed(123)\n",
        "iris <- read_csv(\"https://storage.googleapis.com/dqlab-dataset/iris.csv\")\n",
        "\n",
        "trainIndex <- createDataPartition(iris$Species, p = 0.8, list = FALSE)\n",
        "training_set <- iris[trainIndex,]\n",
        "testing_set <- iris[-trainIndex,]\n",
        "\n",
        "dim(training_set)\n",
        "dim(testing_set)"
      ],
      "metadata": {
        "colab": {
          "base_uri": "https://localhost:8080/",
          "height": 260
        },
        "id": "SQsrsqm-G5DG",
        "outputId": "60973154-2306-4973-8a62-4f3518533c4d"
      },
      "execution_count": 20,
      "outputs": [
        {
          "output_type": "stream",
          "name": "stderr",
          "text": [
            "Loading required package: lattice\n",
            "\n",
            "Warning message in system(\"timedatectl\", intern = TRUE):\n",
            "“running command 'timedatectl' had status 1”\n",
            "\u001b[1mRows: \u001b[22m\u001b[34m150\u001b[39m \u001b[1mColumns: \u001b[22m\u001b[34m5\u001b[39m\n",
            "\u001b[36m──\u001b[39m \u001b[1mColumn specification\u001b[22m \u001b[36m────────────────────────────────────────────────────────\u001b[39m\n",
            "\u001b[1mDelimiter:\u001b[22m \",\"\n",
            "\u001b[31mchr\u001b[39m (1): Species\n",
            "\u001b[32mdbl\u001b[39m (4): Sepal.Length, Sepal.Width, Petal.Length, Petal.Width\n",
            "\n",
            "\u001b[36mℹ\u001b[39m Use `spec()` to retrieve the full column specification for this data.\n",
            "\u001b[36mℹ\u001b[39m Specify the column types or set `show_col_types = FALSE` to quiet this message.\n"
          ]
        },
        {
          "output_type": "display_data",
          "data": {
            "text/html": [
              "<style>\n",
              ".list-inline {list-style: none; margin:0; padding: 0}\n",
              ".list-inline>li {display: inline-block}\n",
              ".list-inline>li:not(:last-child)::after {content: \"\\00b7\"; padding: 0 .5ex}\n",
              "</style>\n",
              "<ol class=list-inline><li>120</li><li>5</li></ol>\n"
            ],
            "text/markdown": "1. 120\n2. 5\n\n\n",
            "text/latex": "\\begin{enumerate*}\n\\item 120\n\\item 5\n\\end{enumerate*}\n",
            "text/plain": [
              "[1] 120   5"
            ]
          },
          "metadata": {}
        },
        {
          "output_type": "display_data",
          "data": {
            "text/html": [
              "<style>\n",
              ".list-inline {list-style: none; margin:0; padding: 0}\n",
              ".list-inline>li {display: inline-block}\n",
              ".list-inline>li:not(:last-child)::after {content: \"\\00b7\"; padding: 0 .5ex}\n",
              "</style>\n",
              "<ol class=list-inline><li>30</li><li>5</li></ol>\n"
            ],
            "text/markdown": "1. 30\n2. 5\n\n\n",
            "text/latex": "\\begin{enumerate*}\n\\item 30\n\\item 5\n\\end{enumerate*}\n",
            "text/plain": [
              "[1] 30  5"
            ]
          },
          "metadata": {}
        }
      ]
    },
    {
      "cell_type": "markdown",
      "source": [
        "# [Model Decision Tree](https://academy.dqlab.id/main/livecode/298/582/2919?pr=0)"
      ],
      "metadata": {
        "id": "K9_QZ4mwI4zn"
      }
    },
    {
      "cell_type": "code",
      "source": [
        "library(caret) #pre-defined \n",
        "library(rpart) #pre-defined\n",
        "library(readr) #pre-defined\n",
        "set.seed(123)  #pre-defined\n",
        "\n",
        "suv_data <- read_csv(\"https://storage.googleapis.com/dqlab-dataset/suv_data.csv\") #pre-defined\n",
        "\n",
        "#split data to training & testing set\n",
        "trainIndex <- createDataPartition(suv_data$Purchased,p=0.8,list=FALSE)\n",
        "training_set <- suv_data[trainIndex,]\n",
        "testing_set <- suv_data[-trainIndex,]\n",
        "\n",
        "#build model with decision tree\n",
        "model_dt <- rpart(Purchased~.,data=training_set,method=\"class\")\n",
        "predictions_dt <- predict(model_dt,newdata=testing_set,type=\"class\")\n",
        "\n",
        "#evaluate performance with new data/ testing_set\n",
        "testing_purchased <- factor(testing_set$Purchased) #pre-defined \n",
        "\n",
        "#show the evaluation result \n",
        "evaluation_result <- confusionMatrix(predictions_dt,testing_purchased)\n",
        "evaluation_result"
      ],
      "metadata": {
        "colab": {
          "base_uri": "https://localhost:8080/",
          "height": 625
        },
        "id": "AO0NcP2sI9gB",
        "outputId": "6af7e9f2-5d6e-43f9-fd29-d93a2445ceb0"
      },
      "execution_count": 21,
      "outputs": [
        {
          "output_type": "stream",
          "name": "stderr",
          "text": [
            "\u001b[1mRows: \u001b[22m\u001b[34m400\u001b[39m \u001b[1mColumns: \u001b[22m\u001b[34m4\u001b[39m\n",
            "\u001b[36m──\u001b[39m \u001b[1mColumn specification\u001b[22m \u001b[36m────────────────────────────────────────────────────────\u001b[39m\n",
            "\u001b[1mDelimiter:\u001b[22m \",\"\n",
            "\u001b[31mchr\u001b[39m (1): Gender\n",
            "\u001b[32mdbl\u001b[39m (3): Age, EstimatedSalary, Purchased\n",
            "\n",
            "\u001b[36mℹ\u001b[39m Use `spec()` to retrieve the full column specification for this data.\n",
            "\u001b[36mℹ\u001b[39m Specify the column types or set `show_col_types = FALSE` to quiet this message.\n"
          ]
        },
        {
          "output_type": "display_data",
          "data": {
            "text/plain": [
              "Confusion Matrix and Statistics\n",
              "\n",
              "          Reference\n",
              "Prediction  0  1\n",
              "         0 53  1\n",
              "         1  5 21\n",
              "                                         \n",
              "               Accuracy : 0.925          \n",
              "                 95% CI : (0.8439, 0.972)\n",
              "    No Information Rate : 0.725          \n",
              "    P-Value [Acc > NIR] : 7.53e-06       \n",
              "                                         \n",
              "                  Kappa : 0.822          \n",
              "                                         \n",
              " Mcnemar's Test P-Value : 0.2207         \n",
              "                                         \n",
              "            Sensitivity : 0.9138         \n",
              "            Specificity : 0.9545         \n",
              "         Pos Pred Value : 0.9815         \n",
              "         Neg Pred Value : 0.8077         \n",
              "             Prevalence : 0.7250         \n",
              "         Detection Rate : 0.6625         \n",
              "   Detection Prevalence : 0.6750         \n",
              "      Balanced Accuracy : 0.9342         \n",
              "                                         \n",
              "       'Positive' Class : 0              \n",
              "                                         "
            ]
          },
          "metadata": {}
        }
      ]
    }
  ]
}