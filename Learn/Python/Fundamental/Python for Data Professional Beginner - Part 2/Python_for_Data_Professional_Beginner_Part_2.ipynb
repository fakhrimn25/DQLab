{
  "nbformat": 4,
  "nbformat_minor": 0,
  "metadata": {
    "colab": {
      "name": "Python for Data Professional Beginner - Part 2",
      "provenance": [],
      "collapsed_sections": [],
      "toc_visible": true
    },
    "kernelspec": {
      "name": "python3",
      "display_name": "Python 3"
    },
    "language_info": {
      "name": "python"
    }
  },
  "cells": [
    {
      "cell_type": "markdown",
      "source": [
        "#Mengakses List dan Tuple – Part 1"
      ],
      "metadata": {
        "id": "M3h_RMUz5Znh"
      }
    },
    {
      "cell_type": "code",
      "execution_count": null,
      "metadata": {
        "colab": {
          "base_uri": "https://localhost:8080/"
        },
        "id": "oSIFOTn64ix-",
        "outputId": "e812023c-2471-4037-9b96-d01fe4dcc982"
      },
      "outputs": [
        {
          "output_type": "stream",
          "name": "stdout",
          "text": [
            "Januari\n",
            "Juni\n",
            "Desember\n",
            "November\n"
          ]
        }
      ],
      "source": [
        "bulan_pembelian = ('Januari','Februari','Maret','April','Mei','Juni','Juli','Agustus','September','Oktober','November','Desember')\n",
        "print(bulan_pembelian[0])\n",
        "print(bulan_pembelian[5])\n",
        "print(bulan_pembelian[-1])\n",
        "print(bulan_pembelian[-2])"
      ]
    },
    {
      "cell_type": "markdown",
      "source": [
        "#Mengakses List dan Tuple – Part 2"
      ],
      "metadata": {
        "id": "O7lJW8TE5cl8"
      }
    },
    {
      "cell_type": "code",
      "source": [
        "bulan_pembelian = ('Januari','Februari','Maret','April','Mei','Juni','Juli','Agustus','September','Oktober','November','Desember')\n",
        "pertengahan_tahun = bulan_pembelian[4:8]\n",
        "print(pertengahan_tahun)\n",
        "awal_tahun = bulan_pembelian[:5]\n",
        "print(awal_tahun)\n",
        "akhir_tahun = bulan_pembelian[8:]\n",
        "print(akhir_tahun)\n",
        "print(bulan_pembelian[-4:-1])"
      ],
      "metadata": {
        "colab": {
          "base_uri": "https://localhost:8080/"
        },
        "id": "00eVBMWM6iGb",
        "outputId": "34cada6d-ed12-4f90-93c3-fe72c6b907ae"
      },
      "execution_count": null,
      "outputs": [
        {
          "output_type": "stream",
          "name": "stdout",
          "text": [
            "('Mei', 'Juni', 'Juli', 'Agustus')\n",
            "('Januari', 'Februari', 'Maret', 'April', 'Mei')\n",
            "('September', 'Oktober', 'November', 'Desember')\n",
            "('September', 'Oktober', 'November')\n"
          ]
        }
      ]
    },
    {
      "cell_type": "markdown",
      "source": [
        "#Penggabungan Dua atau Lebih List atau Tuple"
      ],
      "metadata": {
        "id": "1Hjt_bfi6pw-"
      }
    },
    {
      "cell_type": "code",
      "source": [
        "list_makanan = ['Gado-gado','Ayam Goreng','Rendang']\n",
        "list_minuman = ['Es Teh','Es Jeruk','Es Campur']\n",
        "list_menu = list_makanan + list_minuman\n",
        "print(list_menu)"
      ],
      "metadata": {
        "colab": {
          "base_uri": "https://localhost:8080/"
        },
        "id": "KUXNqIRH6q5P",
        "outputId": "6801dfd9-ed37-4ffd-cab0-f441563e6194"
      },
      "execution_count": null,
      "outputs": [
        {
          "output_type": "stream",
          "name": "stdout",
          "text": [
            "['Gado-gado', 'Ayam Goreng', 'Rendang', 'Es Teh', 'Es Jeruk', 'Es Campur']\n"
          ]
        }
      ]
    },
    {
      "cell_type": "markdown",
      "source": [
        "#List Manipulation – Part 1"
      ],
      "metadata": {
        "id": "vq12JdZm8onb"
      }
    },
    {
      "cell_type": "code",
      "source": [
        "# Fitur .append()\n",
        "print(\">>> Fitur .append()\")\n",
        "list_makanan = ['Gado-gado', 'Ayam Goreng', 'Rendang']\n",
        "list_makanan.append('Ketoprak')\n",
        "print(list_makanan)\n",
        "# Fitur .clear()\n",
        "print(\">>> Fitur .clear()\")\n",
        "list_makanan = ['Gado-gado', 'Ayam Goreng', 'Rendang']\n",
        "list_makanan.clear()\n",
        "print(list_makanan)\n",
        "# Fitur .copy()\n",
        "print(\">>> Fitur .copy()\")\n",
        "list_makanan1 = ['Gado-gado', 'Ayam Goreng', 'Rendang']\n",
        "list_makanan2 = list_makanan1.copy()\n",
        "list_makanan3 = list_makanan1\n",
        "list_makanan2.append('Opor')\n",
        "list_makanan3.append('Ketoprak')\n",
        "print(list_makanan1)\n",
        "print(list_makanan2)\n",
        "# Fitur .count()\n",
        "print(\">>> Fitur .count()\")\n",
        "list_score = ['Budi', 'Sud', 'Budi', 'Budi', 'Budi', 'Sud', 'Sud']\n",
        "score_budi = list_score.count('Budi')\n",
        "score_sud = list_score.count('Sud')\n",
        "print(score_budi) # akan menampilkan output 4\n",
        "print(score_sud) # akan menampilkan output 3\n",
        "# Fitur .extend()\n",
        "print(\">>> Fitur .extend()\")\n",
        "list_menu = ['Gado-gado', 'Ayam Goreng', 'Rendang']\n",
        "list_minuman = ['Es Teh', 'Es Jeruk', 'Es Campur']\n",
        "list_menu.extend(list_minuman)\n",
        "print(list_menu)"
      ],
      "metadata": {
        "colab": {
          "base_uri": "https://localhost:8080/"
        },
        "id": "_CQPWELo8qA9",
        "outputId": "c858e458-7f88-42bb-d842-88a24f4ebcc9"
      },
      "execution_count": null,
      "outputs": [
        {
          "output_type": "stream",
          "name": "stdout",
          "text": [
            ">>> Fitur .append()\n",
            "['Gado-gado', 'Ayam Goreng', 'Rendang', 'Ketoprak']\n",
            ">>> Fitur .clear()\n",
            "[]\n",
            ">>> Fitur .copy()\n",
            "['Gado-gado', 'Ayam Goreng', 'Rendang', 'Ketoprak']\n",
            "['Gado-gado', 'Ayam Goreng', 'Rendang', 'Opor']\n",
            ">>> Fitur .count()\n",
            "4\n",
            "3\n",
            ">>> Fitur .extend()\n",
            "['Gado-gado', 'Ayam Goreng', 'Rendang', 'Es Teh', 'Es Jeruk', 'Es Campur']\n"
          ]
        }
      ]
    },
    {
      "cell_type": "markdown",
      "source": [
        "#List Manipulation – Part 2"
      ],
      "metadata": {
        "id": "bCv3g8449dfQ"
      }
    },
    {
      "cell_type": "code",
      "source": [
        "# Fitur .index()\n",
        "print(\">>> Fitur .index()\")\n",
        "list_score = ['Budi','Sud','Budi','Budi','Budi','Sud','Sud']\n",
        "score_pertama_sud = list_score.index('Sud') + 1\n",
        "print(score_pertama_sud) # akan menampilkan output 2\n",
        "# Fitur .insert()\n",
        "print(\">>> Fitur .insert()\")\n",
        "list_score = ['Budi','Sud','Budi','Budi','Sud']\n",
        "list_score.insert(3, 'Sud')\n",
        "print(list_score)\n",
        "# Fitur .pop()\n",
        "print(\">>> Fitur .pop()\")\n",
        "list_menu = ['Gado-gado', 'Ayam Goreng', 'Rendang']\n",
        "list_menu.pop(1)\n",
        "print(list_menu)\n",
        "# Fitur .remove()\n",
        "print(\">>> Fitur .remove()\")\n",
        "list_menu = ['Gado-gado', 'Ayam Goreng', 'Rendang', 'Ketoprak']\n",
        "list_menu.remove('Rendang')\n",
        "print(list_menu)\n",
        "# Fitur .reverse()\n",
        "print(\">>> Fitur .reverse()\")\n",
        "list_menu = ['Gado-gado', 'Ayam Goreng', 'Rendang', 'Ketoprak']\n",
        "list_menu.reverse()\n",
        "print(list_menu)\n",
        "# Fitur .sort()\n",
        "print(\">>> Fitur .sort()\")\n",
        "list_menu = ['Gado-gado', 'Ayam Goreng', 'Rendang', 'Ketoprak']\n",
        "list_menu.sort() # Default: Ascending\n",
        "print(list_menu) \n",
        "list_menu.sort(reverse=True)# Descending\n",
        "print(list_menu) "
      ],
      "metadata": {
        "colab": {
          "base_uri": "https://localhost:8080/"
        },
        "id": "ADkphiCt9ec8",
        "outputId": "2b040c81-d37f-4b8c-bb1c-e67f4a90416e"
      },
      "execution_count": null,
      "outputs": [
        {
          "output_type": "stream",
          "name": "stdout",
          "text": [
            ">>> Fitur .index()\n",
            "2\n",
            ">>> Fitur .insert()\n",
            "['Budi', 'Sud', 'Budi', 'Sud', 'Budi', 'Sud']\n",
            ">>> Fitur .pop()\n",
            "['Gado-gado', 'Rendang']\n",
            ">>> Fitur .remove()\n",
            "['Gado-gado', 'Ayam Goreng', 'Ketoprak']\n",
            ">>> Fitur .reverse()\n",
            "['Ketoprak', 'Rendang', 'Ayam Goreng', 'Gado-gado']\n",
            ">>> Fitur .sort()\n",
            "['Ayam Goreng', 'Gado-gado', 'Ketoprak', 'Rendang']\n",
            "['Rendang', 'Ketoprak', 'Gado-gado', 'Ayam Goreng']\n"
          ]
        }
      ]
    },
    {
      "cell_type": "markdown",
      "source": [
        "#Tuple Manipulation"
      ],
      "metadata": {
        "id": "xK6IWSrS_SLj"
      }
    },
    {
      "cell_type": "code",
      "source": [
        "# Fitur .count()\n",
        "print(\">>> Fitur .count()\")\n",
        "tuple_score = ('Budi', 'Sud', 'Budi', 'Budi', 'Budi', 'Sud', 'Sud')\n",
        "score_budi = tuple_score.count('Budi')\n",
        "score_sud = tuple_score.count('Sud')\n",
        "print(score_budi) # akan menampilkan output 4\n",
        "print(score_sud) # akan menampilkan output 3\n",
        "# Fitur .index()\n",
        "print(\">>> Fitur .index()\")\n",
        "tuple_score = ('Budi','Sud','Budi','Budi','Budi','Sud','Sud')\n",
        "score_pertama_sud = tuple_score.index('Sud')+1\n",
        "print(score_pertama_sud) # akan menampilkan output 2"
      ],
      "metadata": {
        "colab": {
          "base_uri": "https://localhost:8080/"
        },
        "id": "TyxoHkiN_UGR",
        "outputId": "2434114f-6cc4-4ccc-e46e-85f9842c58d2"
      },
      "execution_count": null,
      "outputs": [
        {
          "output_type": "stream",
          "name": "stdout",
          "text": [
            ">>> Fitur .count()\n",
            "4\n",
            "3\n",
            ">>> Fitur .index()\n",
            "2\n"
          ]
        }
      ]
    },
    {
      "cell_type": "markdown",
      "source": [
        "#Set Manipulation – Part 1"
      ],
      "metadata": {
        "id": "vM-O5QhSAW89"
      }
    },
    {
      "cell_type": "code",
      "source": [
        "# Fitur .add()\n",
        "print(\">>> Fitur .add()\")\n",
        "set_buah = {'Jeruk','Apel','Anggur'}\n",
        "set_buah.add('Melon')\n",
        "print(set_buah)\n",
        "# Fitur .clear()\n",
        "print(\">>> Fitur .clear()\")\n",
        "set_buah = {'Jeruk','Apel','Anggur'}\n",
        "set_buah.clear()\n",
        "print(set_buah)\n",
        "# Fitur .copy()\n",
        "print(\">>> Fitur .copy()\")\n",
        "set_buah1 = {'Jeruk','Apel','Anggur'}\n",
        "set_buah2 = set_buah1\n",
        "set_buah3 = set_buah1.copy()\n",
        "set_buah2.add('Melon')\n",
        "set_buah3.add('Kiwi')\n",
        "print(set_buah1)\n",
        "print(set_buah2)\n",
        "# Fitur .update()\n",
        "print(\">>> Fitur .update()\")\n",
        "parcel1 = {'Anggur','Apel','Jeruk'}\n",
        "parcel2 = {'Apel','Kiwi','Melon'}\n",
        "parcel1.update(parcel2)\n",
        "print(parcel1)\n",
        "# Fitur .pop()\n",
        "print(\">>> Fitur .pop()\")\n",
        "parcel = {'Anggur','Apel','Jeruk'}\n",
        "buah = parcel.pop()\n",
        "print(buah)\n",
        "print(parcel)\n",
        "# Fitur .remove()\n",
        "print(\">>> Fitur .remove()\")\n",
        "parcel = {'Anggur','Apel','Jeruk'}\n",
        "parcel.remove('Apel')\n",
        "print(parcel)"
      ],
      "metadata": {
        "colab": {
          "base_uri": "https://localhost:8080/"
        },
        "id": "s7lh8QfvAyE1",
        "outputId": "adcbbbf7-536b-473f-db06-b08c57b37b2a"
      },
      "execution_count": null,
      "outputs": [
        {
          "output_type": "stream",
          "name": "stdout",
          "text": [
            ">>> Fitur .add()\n",
            "{'Anggur', 'Melon', 'Jeruk', 'Apel'}\n",
            ">>> Fitur .clear()\n",
            "set()\n",
            ">>> Fitur .copy()\n",
            "{'Anggur', 'Melon', 'Jeruk', 'Apel'}\n",
            "{'Anggur', 'Melon', 'Jeruk', 'Apel'}\n",
            ">>> Fitur .update()\n",
            "{'Kiwi', 'Anggur', 'Melon', 'Jeruk', 'Apel'}\n",
            ">>> Fitur .pop()\n",
            "Anggur\n",
            "{'Jeruk', 'Apel'}\n",
            ">>> Fitur .remove()\n",
            "{'Anggur', 'Jeruk'}\n"
          ]
        }
      ]
    },
    {
      "cell_type": "markdown",
      "source": [
        "#Set Manipulation – Part 2"
      ],
      "metadata": {
        "id": "ioGx6duvCL6D"
      }
    },
    {
      "cell_type": "code",
      "source": [
        "# Fitur .union()\n",
        "print(\">>> Fitur .union()\")\n",
        "parcel1 = {'Anggur','Apel','Jeruk'}\n",
        "parcel2 = {'Apel','Kiwi','Melon'}\n",
        "parcel3 = parcel1.union(parcel2)\n",
        "print(parcel1)\n",
        "print(parcel3)\n",
        "# Fitur .isdisjoint()\n",
        "print(\">>> Fitur .isdisjoint()\")\n",
        "parcel1 = {'Anggur','Apel','Jeruk'}\n",
        "parcel2 = {'Kiwi','Melon','Pisang'}\n",
        "parcel3 = {'Apel','Srikaya','Semangka'}\n",
        "parcel1_parcel2_disjoint = parcel1.isdisjoint(parcel2)\n",
        "print(parcel1_parcel2_disjoint)\n",
        "parcel1_parcel3_disjoint = parcel1.isdisjoint(parcel3)\n",
        "print(parcel1_parcel3_disjoint)\n",
        "# Fitur .issubset()\n",
        "print(\">>> Fitur .issubset()\")\n",
        "parcel_A = {'Anggur', 'Apel'}\n",
        "parcel_B = {'Durian','Semangka','Apel'}\n",
        "parcel_C = {'Anggur', 'Kiwi', 'Apel', 'Jeruk', 'Melon'}\n",
        "parcel_A_dalam_C = parcel_A.issubset(parcel_C)\n",
        "parcel_B_dalam_C = parcel_B.issubset(parcel_C)\n",
        "print(parcel_A_dalam_C)\n",
        "print(parcel_B_dalam_C)\n",
        "# Fitur .issuperset()\n",
        "print(\">>> Fitur .issuperset()\")\n",
        "parcel_C_mengandung_A = parcel_C.issuperset(parcel_A)\n",
        "parcel_C_mengandung_B = parcel_C.issuperset(parcel_B)\n",
        "print(parcel_C_mengandung_A)\n",
        "print(parcel_C_mengandung_B)\n",
        "# Fitur .intersection()\n",
        "print(\">>> Fitur .intersection()\")\n",
        "parcel_A = {'Anggur', 'Kiwi', 'Apel', 'Jeruk', 'Melon'}\n",
        "parcel_B = {'Apel', 'Jeruk', 'Semangka', 'Durian', 'Tomat'}\n",
        "parcel_C = parcel_A.intersection(parcel_B)\n",
        "print(parcel_C)\n",
        "# Fitur .difference()\n",
        "print(\">>> Fitur .difference()\")\n",
        "parcel_C = parcel_A.difference(parcel_B)\n",
        "print(parcel_C)\n",
        "# Fitur .symmetric_difference()\n",
        "print(\">>> Fitur .symmetric_difference()\")\n",
        "parcel_A = {'Anggur', 'Apel', 'Jeruk', 'Melon'}\n",
        "parcel_B = {'Apel','Jeruk','Semangka','Leci'}\n",
        "parcel_C = parcel_A.symmetric_difference(parcel_B)\n",
        "print(parcel_C)"
      ],
      "metadata": {
        "colab": {
          "base_uri": "https://localhost:8080/"
        },
        "id": "YUsNks_YFdxR",
        "outputId": "a9569d11-d82e-4de7-9088-00675da4eea6"
      },
      "execution_count": null,
      "outputs": [
        {
          "output_type": "stream",
          "name": "stdout",
          "text": [
            ">>> Fitur .union()\n",
            "{'Anggur', 'Jeruk', 'Apel'}\n",
            "{'Kiwi', 'Anggur', 'Melon', 'Jeruk', 'Apel'}\n",
            ">>> Fitur .isdisjoint()\n",
            "True\n",
            "False\n",
            ">>> Fitur .issubset()\n",
            "True\n",
            "False\n",
            ">>> Fitur .issuperset()\n",
            "True\n",
            "False\n",
            ">>> Fitur .intersection()\n",
            "{'Jeruk', 'Apel'}\n",
            ">>> Fitur .difference()\n",
            "{'Anggur', 'Kiwi', 'Melon'}\n",
            ">>> Fitur .symmetric_difference()\n",
            "{'Anggur', 'Semangka', 'Melon', 'Leci'}\n"
          ]
        }
      ]
    },
    {
      "cell_type": "markdown",
      "source": [
        "#Dictionary Manipulation"
      ],
      "metadata": {
        "id": "cRdjanBSHRXf"
      }
    },
    {
      "cell_type": "code",
      "source": [
        "# Fitur .clear()\n",
        "print(\">>> Fitur .clear()\")\n",
        "info_karyawan = {'nama' : 'Aksara',\n",
        "                 'nik' : '1211011',\n",
        "                 'pekerjaan' : 'Data Analyst'}\n",
        "info_karyawan.clear()\n",
        "print(info_karyawan)\n",
        "# Fitur .copy()\n",
        "print(\">>> Fitur .copy()\")\n",
        "info_karyawan1 = {'nama' : 'Aksara',\n",
        "                  'nik' : '1211011',\n",
        "                  'pekerjaan' : 'Data Analyst'}\n",
        "info_karyawan2 = info_karyawan1.copy()\n",
        "info_karyawan2['nama'] = 'Senja'\n",
        "info_karyawan2['nik'] = '1211056'\n",
        "print(info_karyawan1)\n",
        "print(info_karyawan2)\n",
        "# Fitur .keys()\n",
        "print(\">>> Fitur .keys()\")\n",
        "info_karyawan = {'nama' : 'Aksara',\n",
        "                 'nik' : '1211011',\n",
        "                 'pekerjaan' : 'Data Analyst'}\n",
        "kunci_akses = list(info_karyawan.keys())\n",
        "print(kunci_akses)\n",
        "# Fitur .values()\n",
        "print(\">>> Fitur .values()\")\n",
        "value_dict = list(info_karyawan.values())\n",
        "print(value_dict)\n",
        "# Fitur .update()\n",
        "print(\">>> Fitur .update()\")\n",
        "info_karyawan.update({'skillset':['Python', 'R']})\n",
        "print(info_karyawan)"
      ],
      "metadata": {
        "colab": {
          "base_uri": "https://localhost:8080/"
        },
        "id": "ZD8b3Q-GHSPo",
        "outputId": "f3c7aa96-e4f1-4694-8445-46212b38d3ef"
      },
      "execution_count": null,
      "outputs": [
        {
          "output_type": "stream",
          "name": "stdout",
          "text": [
            ">>> Fitur .clear()\n",
            "{}\n",
            ">>> Fitur .copy()\n",
            "{'nama': 'Aksara', 'nik': '1211011', 'pekerjaan': 'Data Analyst'}\n",
            "{'nama': 'Senja', 'nik': '1211056', 'pekerjaan': 'Data Analyst'}\n",
            ">>> Fitur .keys()\n",
            "['nama', 'nik', 'pekerjaan']\n",
            ">>> Fitur .values()\n",
            "['Aksara', '1211011', 'Data Analyst']\n",
            ">>> Fitur .update()\n",
            "{'nama': 'Aksara', 'nik': '1211011', 'pekerjaan': 'Data Analyst', 'skillset': ['Python', 'R']}\n"
          ]
        }
      ]
    },
    {
      "cell_type": "markdown",
      "source": [
        "#Useful Tips and Tricks"
      ],
      "metadata": {
        "id": "R2sy9zREJ_L1"
      }
    },
    {
      "cell_type": "code",
      "source": [
        "# Tuple\n",
        "print(\">>> Tuple\")\n",
        "tuple_menu = ('Gado-gado','Ayam Goreng','Rendang','Ketoprak')\n",
        "jumlah_menu = len(tuple_menu)\n",
        "print(jumlah_menu)\n",
        "# List\n",
        "print(\">>> List\")\n",
        "list_menu = ['Gado-gado','Ayam Goreng','Rendang','Ketoprak']\n",
        "jumlah_menu = len(list_menu)\n",
        "print(jumlah_menu)\n",
        "# Konversi tipe data\n",
        "print(\">>> Konversi tipe data\")\n",
        "list_buah = ['Apel', 'Apel', 'Jeruk', 'Markisa', 'Jeruk', 'Markisa', 'Apel']\n",
        "set_buah = set(list_buah)\n",
        "print(set_buah)\n",
        "list_buah = list(set_buah)\n",
        "list_buah.sort()\n",
        "print(list_buah)"
      ],
      "metadata": {
        "colab": {
          "base_uri": "https://localhost:8080/"
        },
        "id": "argsFK7QKrDV",
        "outputId": "ca12501e-2c70-450d-87d9-5a17f1d09527"
      },
      "execution_count": null,
      "outputs": [
        {
          "output_type": "stream",
          "name": "stdout",
          "text": [
            ">>> Tuple\n",
            "4\n",
            ">>> List\n",
            "4\n",
            ">>> Konversi tipe data\n",
            "{'Markisa', 'Jeruk', 'Apel'}\n",
            "['Apel', 'Jeruk', 'Markisa']\n"
          ]
        }
      ]
    },
    {
      "cell_type": "markdown",
      "source": [
        "#Tugas Praktek"
      ],
      "metadata": {
        "id": "OiqJQOimMV51"
      }
    },
    {
      "cell_type": "code",
      "source": [
        "# Data keuangan\n",
        "keuangan = {\n",
        "'pengeluaran': [2, 2.5, 2.25, 2.5, 3.2, 2.5, 3.5, 4, 3],\n",
        "'pemasukan': [7.8, 7.5, 9, 7.6, 7.2, 7.5, 7, 10, 7.5]\n",
        "}\n",
        "# Perhitungan rata-rata pemasukan dan rata-rata pengeluaran\n",
        "total_pengeluaran = 0\n",
        "total_pemasukan = 0\n",
        "for biaya in keuangan['pengeluaran']: \n",
        "    total_pengeluaran += biaya\n",
        "for biaya in keuangan['pemasukan']: \n",
        "    total_pemasukan += biaya\n",
        "rata_rata_pengeluaran = total_pengeluaran / len(keuangan['pengeluaran'])\n",
        "rata_rata_pemasukan = total_pemasukan / len(keuangan['pemasukan'])\n",
        "print(rata_rata_pengeluaran) \n",
        "print(rata_rata_pemasukan)"
      ],
      "metadata": {
        "colab": {
          "base_uri": "https://localhost:8080/"
        },
        "id": "pQDx2xbVMUj5",
        "outputId": "9d8ba46b-529f-47a8-945c-18be6d03de57"
      },
      "execution_count": null,
      "outputs": [
        {
          "output_type": "stream",
          "name": "stdout",
          "text": [
            "2.8277777777777775\n",
            "7.8999999999999995\n"
          ]
        }
      ]
    },
    {
      "cell_type": "markdown",
      "source": [
        "#Apa itu String Manipulation?"
      ],
      "metadata": {
        "id": "gugX9rwsNgbb"
      }
    },
    {
      "cell_type": "code",
      "source": [
        "nama_produk = \"Sepatu Niko\"\n",
        "nama_produk = nama_produk[:2] + \"P\" + nama_produk[3:9] + \"K\" + nama_produk[-1]\n",
        "print(nama_produk)\n",
        "print(nama_produk[:7])\n",
        "print(nama_produk[7:])\n",
        "print(len(nama_produk))"
      ],
      "metadata": {
        "colab": {
          "base_uri": "https://localhost:8080/"
        },
        "id": "Tr8PAh1tNhUg",
        "outputId": "5fca4283-d1f6-40e8-8993-7c7f92f36e8d"
      },
      "execution_count": null,
      "outputs": [
        {
          "output_type": "stream",
          "name": "stdout",
          "text": [
            "SePatu NiKo\n",
            "SePatu \n",
            "NiKo\n",
            "11\n"
          ]
        }
      ]
    },
    {
      "cell_type": "markdown",
      "source": [
        "#Operator “+” untuk Tipe Data String"
      ],
      "metadata": {
        "id": "qZkkup1YOI59"
      }
    },
    {
      "cell_type": "code",
      "source": [
        "nama_depan = 'John'\n",
        "nama_belakang = 'Doee'\n",
        "nama_lengkap = nama_depan + ' ' + nama_belakang\n",
        "print(nama_lengkap)\n",
        "umur = '27 tahun'\n",
        "alamat = 'Jl. Anggrek No. 100'\n",
        "nama_umur_alamat = 'Hi, saya ' + nama_lengkap + ' umur' + umur + ', tinggal di ' + alamat + '.'\n",
        "print(nama_umur_alamat)"
      ],
      "metadata": {
        "colab": {
          "base_uri": "https://localhost:8080/"
        },
        "id": "v3MRg3ayOKR_",
        "outputId": "15f490e0-36ae-4a71-c314-dac40388fa75"
      },
      "execution_count": null,
      "outputs": [
        {
          "output_type": "stream",
          "name": "stdout",
          "text": [
            "John Doee\n",
            "Hi, saya John Doee umur27 tahun, tinggal di Jl. Anggrek No. 100.\n"
          ]
        }
      ]
    },
    {
      "cell_type": "markdown",
      "source": [
        "#Menghilangkan Spasi di Awal dan/atau di Akhir"
      ],
      "metadata": {
        "id": "1zu3FuLFOwaI"
      }
    },
    {
      "cell_type": "code",
      "source": [
        "# Fitur .strip()\n",
        "print(\">>> Fitur .strip()\")\n",
        "kata_sambutan = ' halo, selamat siang! '\n",
        "kata_sambutan = kata_sambutan.strip()\n",
        "print(kata_sambutan)\n",
        "# Fitur .lstrip()\n",
        "print(\">>> Fitur .lstrip()\")\n",
        "kata_sambutan = ' halo, selamat siang! '\n",
        "kata_sambutan = kata_sambutan.lstrip()\n",
        "print(kata_sambutan)\n",
        "# Fitur .rstrip()\n",
        "print(\">>> Fitur .rstrip()\")\n",
        "kata_sambutan = ' halo, selamat siang! '\n",
        "kata_sambutan = kata_sambutan.rstrip()\n",
        "print(kata_sambutan)"
      ],
      "metadata": {
        "colab": {
          "base_uri": "https://localhost:8080/"
        },
        "id": "gACVcAQdOxbS",
        "outputId": "309eaa70-65bf-4614-8c2a-da36aa12713f"
      },
      "execution_count": null,
      "outputs": [
        {
          "output_type": "stream",
          "name": "stdout",
          "text": [
            ">>> Fitur .strip()\n",
            "halo, selamat siang!\n",
            ">>> Fitur .lstrip()\n",
            "halo, selamat siang! \n",
            ">>> Fitur .rstrip()\n",
            " halo, selamat siang!\n"
          ]
        }
      ]
    },
    {
      "cell_type": "markdown",
      "source": [
        "#Merubah Caps pada String"
      ],
      "metadata": {
        "id": "RX2i2gtePnRS"
      }
    },
    {
      "cell_type": "code",
      "source": [
        "# Fitur .capitalize()\n",
        "print(\">>> Fitur .capitalize()\")\n",
        "judul_buku = 'belajar bahasa Python'\n",
        "print(judul_buku.capitalize())\n",
        "# Fitur .lower()\n",
        "print(\">>> Fitur .lower()\")\n",
        "judul_buku = 'Belajar Bahasa PYTHON.'\n",
        "print(judul_buku.lower())\n",
        "# Fitur .upper()\n",
        "print(\">>> Fitur .upper()\")\n",
        "judul_buku = 'Belajar Bahasa PYTHON.'\n",
        "print(judul_buku.upper())"
      ],
      "metadata": {
        "colab": {
          "base_uri": "https://localhost:8080/"
        },
        "id": "8IF_VPV5PmyQ",
        "outputId": "838b6995-2f0b-4356-c32d-414afb75f81f"
      },
      "execution_count": null,
      "outputs": [
        {
          "output_type": "stream",
          "name": "stdout",
          "text": [
            ">>> Fitur .capitalize()\n",
            "Belajar bahasa python\n",
            ">>> Fitur .lower()\n",
            "belajar bahasa python.\n",
            ">>> Fitur .upper()\n",
            "BELAJAR BAHASA PYTHON.\n"
          ]
        }
      ]
    },
    {
      "cell_type": "markdown",
      "source": [
        "#Pemecahan, Penggabungan, dan Penggantian String"
      ],
      "metadata": {
        "id": "71ppMHtJQRTO"
      }
    },
    {
      "cell_type": "code",
      "source": [
        "# Fitur .split()\n",
        "print(\">>> Fitur .split()\")\n",
        "frasa = \"ani dan budi dan wati dan johan\"\n",
        "karakter = frasa.split(\"dan\")\n",
        "print(karakter)\n",
        "kata = frasa.split(\" \")\n",
        "print(kata)\n",
        "# Fitur .join()\n",
        "print(\">>> Fitur .join()\")\n",
        "pemisah = \" dan \"\n",
        "karakter = [\"Ricky\", \"Peter\", \"Jordan\"]\n",
        "frasa = pemisah.join(karakter)\n",
        "print(frasa)\n",
        "frasa = \" \".join(karakter)\n",
        "print(frasa)\n",
        "# Fitur .replace()\n",
        "print(\">>> Fitur .replace()\")\n",
        "frasa = \"apel malang apel yang paling segar, apel sehat, apel nikmat\"\n",
        "frasa = frasa.replace(\"apel\", \"jeruk\")\n",
        "print(frasa)"
      ],
      "metadata": {
        "colab": {
          "base_uri": "https://localhost:8080/"
        },
        "id": "I-YBWw4bQSOI",
        "outputId": "c758bd83-4b02-4c53-dc5e-5964a5696959"
      },
      "execution_count": null,
      "outputs": [
        {
          "output_type": "stream",
          "name": "stdout",
          "text": [
            ">>> Fitur .split()\n",
            "['ani ', ' budi ', ' wati ', ' johan']\n",
            "['ani', 'dan', 'budi', 'dan', 'wati', 'dan', 'johan']\n",
            ">>> Fitur .join()\n",
            "Ricky dan Peter dan Jordan\n",
            "Ricky Peter Jordan\n",
            ">>> Fitur .replace()\n",
            "jeruk malang jeruk yang paling segar, jeruk sehat, jeruk nikmat\n"
          ]
        }
      ]
    },
    {
      "cell_type": "markdown",
      "source": [
        "#Menentukan Posisi dan Jumlah Sub-string pada String"
      ],
      "metadata": {
        "id": "AiVSAVvXRaOK"
      }
    },
    {
      "cell_type": "code",
      "source": [
        "teks = \"Apel malang adalah apel termanis dibanding apel-apel lainnya\"\n",
        "# Fitur .find()\n",
        "print(\">>> Fitur .find()\")\n",
        "print(teks.find(\"Apel\"))\n",
        "print(teks.find(\"malang\"))\n",
        "# Fitur .count()\n",
        "print(\">>> Fitur .count()\")\n",
        "kemunculan_kata_apel = teks.count(\"apel\")\n",
        "print(kemunculan_kata_apel)"
      ],
      "metadata": {
        "colab": {
          "base_uri": "https://localhost:8080/"
        },
        "id": "DBjvESOvRbHk",
        "outputId": "3bf4f3e3-cbe7-48bf-aecc-4c9e91c130b7"
      },
      "execution_count": null,
      "outputs": [
        {
          "output_type": "stream",
          "name": "stdout",
          "text": [
            ">>> Fitur .find()\n",
            "0\n",
            "5\n",
            ">>> Fitur .count()\n",
            "3\n"
          ]
        }
      ]
    },
    {
      "cell_type": "markdown",
      "source": [
        "#Menentukan String Apakah Diawali/Diakhiri oleh Sub-string"
      ],
      "metadata": {
        "id": "Aet8gr6PSMPj"
      }
    },
    {
      "cell_type": "code",
      "source": [
        "# Fitur .startswith()\n",
        "print(\">>> Fitur .startswith()\")\n",
        "teks = \"Apel malang adalah apel termanis dibanding apel-apel lainnya\"\n",
        "print(teks.startswith(\"Apel\"))\n",
        "print(teks.startswith(\"apel\"))\n",
        "# Fitur .endswith()\n",
        "print(\">>> Fitur .endswith()\")\n",
        "print(teks.endswith(\"lainnya\"))\n",
        "print(teks.endswith(\"apel\"))"
      ],
      "metadata": {
        "colab": {
          "base_uri": "https://localhost:8080/"
        },
        "id": "l3eqH6LnSNKw",
        "outputId": "55a80540-400b-4873-c168-c0fa2cf289e4"
      },
      "execution_count": null,
      "outputs": [
        {
          "output_type": "stream",
          "name": "stdout",
          "text": [
            ">>> Fitur .startswith()\n",
            "True\n",
            "False\n",
            ">>> Fitur .endswith()\n",
            "True\n",
            "False\n"
          ]
        }
      ]
    },
    {
      "cell_type": "markdown",
      "source": [
        "#Tugas Praktek"
      ],
      "metadata": {
        "id": "dHfL__GNSxMI"
      }
    },
    {
      "cell_type": "code",
      "source": [
        "judul_artikel = [\n",
        "\"Buah Salak Baik untuk Mata\", \"Buah Salak Kaya Potasium\", \n",
        "\"Buah Jeruk Kaya Vitamin C\", \"Buah Salak Kaya Manfaat\", \n",
        "\"Salak Baik untuk Jantung\", \"Jeruk dapat Memperkuat Tulang\", \n",
        "\"Jeruk Mencegah Penyakit Asma\", \"Jeruk Memperkuat Gigi\", \n",
        "\"Jeruk Mencegah Kolesterol Jahat\", \"Salak Mencegah Diabetes\", \n",
        "\"Salak Memperkuat Dinding Usus\", \"Salak Baik untuk Darah\",\n",
        "\"Jeruk Kaya Manfaat untuk Jantung\", \"Salak si Kecil yang Baik\", \n",
        "\"Jeruk dan Salak Buah Kaya Manfaat\", \"Buah Jeruk Enak\",\n",
        "\"Tips Panen Jeruk Ribuan Kilo\", \"Tips Bertanam Salak\", \n",
        "\"Salak Manis untuk Berbuka\", \"Jeruk Baik untuk Wajah\"\n",
        "]\n",
        "jumlah_artikel_jeruk = 0\n",
        "jumlah_artikel_salak = 0\n",
        "for judul in judul_artikel:\n",
        "    if judul.count(\"Jeruk\") > 0: \n",
        "        jumlah_artikel_jeruk += 1\n",
        "    if judul.count(\"Salak\") > 0:\n",
        "        jumlah_artikel_salak += 1\n",
        "print(jumlah_artikel_jeruk) \n",
        "print(jumlah_artikel_salak)"
      ],
      "metadata": {
        "colab": {
          "base_uri": "https://localhost:8080/"
        },
        "id": "8xbGUqhySx63",
        "outputId": "41d3838d-5d7d-41fa-9184-f5a0a0d2d5c9"
      },
      "execution_count": null,
      "outputs": [
        {
          "output_type": "stream",
          "name": "stdout",
          "text": [
            "10\n",
            "11\n"
          ]
        }
      ]
    },
    {
      "cell_type": "markdown",
      "source": [
        "#Tugas Praktek"
      ],
      "metadata": {
        "id": "W6BWZu56TlRY"
      }
    },
    {
      "cell_type": "code",
      "source": [
        "judul_artikel = [\n",
        "\"Buah Salak Baik untuk Mata\", \"Buah Salak Kaya Potasium\", \n",
        "\"Buah Jeruk Kaya Vitamin C\", \"Buah Salak Kaya Manfaat\", \n",
        "\"Salak Baik untuk Jantung\", \"Jeruk dapat Memperkuat Tulang\", \n",
        "\"Jeruk Mencegah Penyakit Asma\", \"Jeruk Memperkuat Gigi\", \n",
        "\"Jeruk Mencegah Kolesterol Jahat\", \"Salak Mencegah Diabetes\", \n",
        "\"Salak Memperkuat Dinding Usus\", \"Salak Baik untuk Darah\",\n",
        "\"Jeruk Kaya Manfaat untuk Jantung\", \"Salak si Kecil yang Baik\", \n",
        "\"Jeruk dan Salak Buah Kaya Manfaat\", \"Buah Jeruk Enak\",\n",
        "\"Tips Panen Jeruk Ribuan Kilo\", \"Tips Bertanam Salak\", \n",
        "\"Salak Manis untuk Berbuka\", \"Jeruk Baik untuk Wajah\"\n",
        "]\n",
        "kata_positif = [\"Kaya\", \"Baik\", \"Mencegah\", \"Memperkuat\"]\n",
        "kata_positif_jeruk = 0\n",
        "kata_positif_salak = 0\n",
        "for judul in judul_artikel: \n",
        "    for kata in kata_positif:\n",
        "        if judul.count(\"Jeruk\") > 0 and judul.count(kata) > 0: \n",
        "            kata_positif_jeruk += 1\n",
        "        if judul.count(\"Salak\") > 0 and judul.count(kata) > 0:\n",
        "            kata_positif_salak += 1\n",
        "print(kata_positif_jeruk) \n",
        "print(kata_positif_salak)"
      ],
      "metadata": {
        "colab": {
          "base_uri": "https://localhost:8080/"
        },
        "id": "bRZd45zcTmBm",
        "outputId": "159cda03-b582-415e-aefb-1d5a396c1e7d"
      },
      "execution_count": null,
      "outputs": [
        {
          "output_type": "stream",
          "name": "stdout",
          "text": [
            "8\n",
            "9\n"
          ]
        }
      ]
    },
    {
      "cell_type": "markdown",
      "source": [
        "#Fungsi Pertama"
      ],
      "metadata": {
        "id": "D3_gORx9WjYk"
      }
    },
    {
      "cell_type": "code",
      "source": [
        "# Definisikan fungsi\n",
        "def contoh_fungsi():\n",
        "    print(\"Halo Dunia\")\n",
        "    print(\"Aku sedang belajar bahasa Python\")\n",
        "# Panggil fungsi yang telah didefinisikan\n",
        "contoh_fungsi()"
      ],
      "metadata": {
        "colab": {
          "base_uri": "https://localhost:8080/"
        },
        "id": "9JFgssIOWkbX",
        "outputId": "2b85a36c-973d-4949-d7d2-c0b0b41c2043"
      },
      "execution_count": null,
      "outputs": [
        {
          "output_type": "stream",
          "name": "stdout",
          "text": [
            "Halo Dunia\n",
            "Aku sedang belajar bahasa Python\n"
          ]
        }
      ]
    },
    {
      "cell_type": "markdown",
      "source": [
        "#Fungsi Kedua"
      ],
      "metadata": {
        "id": "Jd7y9uq6W0YJ"
      }
    },
    {
      "cell_type": "code",
      "source": [
        "# Definsikan fungsi \n",
        "def fungsi_dengan_argumen(nama_depan, nama_belakang):\n",
        "    print(nama_depan+\" \"+nama_belakang)\n",
        "# Panggil fungsi dengan memasukkan argumen\n",
        "# nama_depan yaitu \"John\" dan nama_belakang \"Doe\"\n",
        "fungsi_dengan_argumen(\"John\", \"Doe\")"
      ],
      "metadata": {
        "colab": {
          "base_uri": "https://localhost:8080/"
        },
        "id": "k-Di6gVlW1Og",
        "outputId": "d7cb04da-d3d7-49fc-dd30-6609bf092323"
      },
      "execution_count": null,
      "outputs": [
        {
          "output_type": "stream",
          "name": "stdout",
          "text": [
            "John Doe\n"
          ]
        }
      ]
    },
    {
      "cell_type": "markdown",
      "source": [
        "#Fungsi Ketiga"
      ],
      "metadata": {
        "id": "lOBZjiMIXhBZ"
      }
    },
    {
      "cell_type": "code",
      "source": [
        "# Definsikan fungsi dengan nilai default argument kedua adalah \"\".\n",
        "def fungsi_dengan_argumen(nama_depan, nama_belakang = \"\"):\n",
        "\tprint(nama_depan+\" \"+nama_belakang)\n",
        "# Panggil fungsi dengan memasukkan argumen nama_depan \"John\"\n",
        "fungsi_dengan_argumen(\"John\")\n",
        "# Panggil fungsi dengan memasukkan argumen\n",
        "# nama_depan yaitu \"John\" dan nama_belakang \"Doe\"\n",
        "fungsi_dengan_argumen(\"John\", \"Doe\")"
      ],
      "metadata": {
        "colab": {
          "base_uri": "https://localhost:8080/"
        },
        "id": "ABgH_sCLXh_p",
        "outputId": "955c57a3-63c4-4a39-d37d-ec237c2e5dfc"
      },
      "execution_count": null,
      "outputs": [
        {
          "output_type": "stream",
          "name": "stdout",
          "text": [
            "John \n",
            "John Doe\n"
          ]
        }
      ]
    },
    {
      "cell_type": "markdown",
      "source": [
        "#Tugas Praktek"
      ],
      "metadata": {
        "id": "Beup5gNnYd4N"
      }
    },
    {
      "cell_type": "code",
      "source": [
        "# Dua buah data yang tersimpan dalam tipe list\n",
        "data1 = [70, 70, 70, 100, 100, 100, 120, 120, 150, 150]\n",
        "data2 = [50, 60, 60, 50, 70, 70, 100, 80, 100, 90]\n",
        "# Definisikan fungsi hitng_rata_rata\n",
        "def hitung_rata_rata(data):\n",
        "    jumlah = 0\n",
        "    for item in data:\n",
        "        jumlah += item\n",
        "    rata_rata = jumlah/len(data)\n",
        "    return rata_rata\n",
        "# Hitung nilai rata-rata dari kedua data yang dimiliki\n",
        "print('Rata-rata data1:')\n",
        "print(hitung_rata_rata(data1))\n",
        "print('Rata-rata data2:')\n",
        "print(hitung_rata_rata(data2))"
      ],
      "metadata": {
        "colab": {
          "base_uri": "https://localhost:8080/"
        },
        "id": "Rfgq5kDuYfFQ",
        "outputId": "cccc982f-1a52-4195-b6ee-ec294d07edea"
      },
      "execution_count": null,
      "outputs": [
        {
          "output_type": "stream",
          "name": "stdout",
          "text": [
            "Rata-rata data1:\n",
            "105.0\n",
            "Rata-rata data2:\n",
            "73.0\n"
          ]
        }
      ]
    },
    {
      "cell_type": "markdown",
      "source": [
        "#Tugas Praktek"
      ],
      "metadata": {
        "id": "UOTDqjP9a6ep"
      }
    },
    {
      "cell_type": "code",
      "source": [
        "# Dua buah data yang tersimpan dalam tipe list\n",
        "data1 = [70, 70, 70, 100, 100, 100, 120, 120, 150, 150]\n",
        "data2 = [50, 60, 60, 50, 70, 70, 100, 80, 100, 90]\n",
        "# Fungsi rata-rata data\n",
        "def hitung_rata_rata(data):\n",
        "    jumlah = 0\n",
        "    for item in data:\n",
        "        jumlah += item\n",
        "    rata_rata = jumlah/len(data)\n",
        "    return rata_rata\n",
        "# Definisikan fungsi hitung_standar_deviasi\n",
        "def hitung_standar_deviasi(data):\n",
        "    rata_rata_data = hitung_rata_rata(data)\n",
        "    varians = 0\n",
        "    for item in data:\n",
        "        varians += (item - rata_rata_data) ** 2\n",
        "    varians /= len(data)\n",
        "    standar_deviasi = varians ** (1/2)\n",
        "    return standar_deviasi\n",
        "# Hitung nilai standar deviasi dari kedua data yang dimiliki\n",
        "print('Standar deviasi data1:')\n",
        "print(hitung_standar_deviasi(data1))\n",
        "print('Standar deviasi data2:')\n",
        "print(hitung_standar_deviasi(data2))"
      ],
      "metadata": {
        "colab": {
          "base_uri": "https://localhost:8080/"
        },
        "id": "nXD9zfIPa7w9",
        "outputId": "b199f293-a8e4-4e57-e298-008576559c80"
      },
      "execution_count": null,
      "outputs": [
        {
          "output_type": "stream",
          "name": "stdout",
          "text": [
            "Standar deviasi data1:\n",
            "28.722813232690143\n",
            "Standar deviasi data2:\n",
            "17.916472867168917\n"
          ]
        }
      ]
    },
    {
      "cell_type": "markdown",
      "source": [
        "#Tugas Praktek"
      ],
      "metadata": {
        "id": "kn1UE2JKbzRH"
      }
    },
    {
      "cell_type": "code",
      "source": [
        "# Data properti\n",
        "tabel_properti = {\n",
        "'luas_tanah': [70, 70, 70, 100, 100, 100, 120, 120, 150, 150],\n",
        "'luas_bangunan': [50, 60, 60, 50, 70, 70, 100, 80, 100, 90],\n",
        "'jarak': [15, 30, 55, 30, 25, 50, 20, 50, 50, 15],\n",
        "'harga': [500, 400, 300, 700, 1000, 650, 2000, 1200, 1800, 3000]\n",
        "}\n",
        "# Fungsi rata-rata data\n",
        "def hitung_rata_rata(data):\n",
        "    jumlah = 0\n",
        "    for item in data:\n",
        "        jumlah += item\n",
        "    rata_rata = jumlah/len(data)\n",
        "    return rata_rata\n",
        "# Fungsi hitung_standar_deviasi\n",
        "def hitung_standar_deviasi(data):\n",
        "    rata_rata_data = hitung_rata_rata(data)\n",
        "    varians = 0\n",
        "    for item in data:\n",
        "        varians += (item - rata_rata_data) ** 2\n",
        "        varians /= len(data)\n",
        "    standar_deviasi = varians ** (1/2)\n",
        "    return standar_deviasi\n",
        "# Definisikan fungsi untuk menghitung rata-rata dan standar deviasi\n",
        "# setiap kolom pada tabel_properti yang diberikan oleh key dict.\n",
        "def deskripsi_properti(tabel):\n",
        "    for key in tabel.keys():\n",
        "        print('Rata-rata ' + key + ':')\n",
        "        print(hitung_rata_rata(tabel[key])) \n",
        "        print('Standar deviasi ' + key + ':')\n",
        "        print(hitung_standar_deviasi(tabel[key]))\n",
        "        print('')\n",
        "# Panggil fungsi deskripsi_properti untuk menghitung rata-rata \n",
        "# dan standar deviasi setiap kolom pada tabel_properti\n",
        "deskripsi_properti(tabel_properti)"
      ],
      "metadata": {
        "colab": {
          "base_uri": "https://localhost:8080/"
        },
        "id": "o6EYkHSsb0Go",
        "outputId": "218e02c9-1f9c-46c5-cf13-12671ebf926a"
      },
      "execution_count": null,
      "outputs": [
        {
          "output_type": "stream",
          "name": "stdout",
          "text": [
            "Rata-rata luas_tanah:\n",
            "105.0\n",
            "Standar deviasi luas_tanah:\n",
            "14.93311056335886\n",
            "\n",
            "Rata-rata luas_bangunan:\n",
            "73.0\n",
            "Standar deviasi luas_bangunan:\n",
            "6.025948374480153\n",
            "\n",
            "Rata-rata jarak:\n",
            "34.0\n",
            "Standar deviasi jarak:\n",
            "6.24005184770928\n",
            "\n",
            "Rata-rata harga:\n",
            "1155.0\n",
            "Standar deviasi harga:\n",
            "587.0594351517378\n",
            "\n"
          ]
        }
      ]
    },
    {
      "cell_type": "markdown",
      "source": [
        "#Manipulasi Berkas Teks"
      ],
      "metadata": {
        "id": "ozxBPJmWdEIf"
      }
    },
    {
      "cell_type": "markdown",
      "source": [
        "1. Membaca file di local computer"
      ],
      "metadata": {
        "id": "quhLAJf6dG6z"
      }
    },
    {
      "cell_type": "code",
      "source": [
        "file = open(\"hello.txt\", \"r\")\n",
        "\n",
        "file.close()"
      ],
      "metadata": {
        "id": "hQS-0qOWdXWJ"
      },
      "execution_count": null,
      "outputs": []
    },
    {
      "cell_type": "markdown",
      "source": [
        "2. Membaca file dari url"
      ],
      "metadata": {
        "id": "iq-OldfydPr5"
      }
    },
    {
      "cell_type": "code",
      "source": [
        "import requests\n",
        "url = \"https://storage.googleapis.com/dqlab-dataset/hello.txt\"\n",
        "response = requests.get(url)"
      ],
      "metadata": {
        "id": "EYZElyJmdQ1z"
      },
      "execution_count": null,
      "outputs": []
    },
    {
      "cell_type": "markdown",
      "source": [
        "#Membaca Berkas Teks – Part 1"
      ],
      "metadata": {
        "id": "mG-C-iq0db1s"
      }
    },
    {
      "cell_type": "code",
      "source": [
        "import requests\n",
        "url = \"https://storage.googleapis.com/dqlab-dataset/hello.txt\"\n",
        "response = requests.get(url)\n",
        "# Cetak kode status dari response\n",
        "print(response)\n",
        "# Cetak isi file hello.txt menggunakan method response.iter_lines()\n",
        "print(\"\\n>> Cetak isi file hello.txt menggunakan method response.iter_lines():\")\n",
        "for baris in response.iter_lines():\n",
        "\tprint(baris)"
      ],
      "metadata": {
        "colab": {
          "base_uri": "https://localhost:8080/"
        },
        "id": "yWxm4NACdcwg",
        "outputId": "d2228a9a-c814-4bf7-9e8c-acb817e1cff9"
      },
      "execution_count": null,
      "outputs": [
        {
          "output_type": "stream",
          "name": "stdout",
          "text": [
            "<Response [200]>\n",
            "\n",
            ">> Cetak isi file hello.txt menggunakan method response.iter_lines():\n",
            "b'Kita sedang belajar Python'\n",
            "b'Tepatnya belajar memanipulasi berkas teks'\n",
            "b'Memanipulasi berkas dengan Python sangatlah mudah!'\n"
          ]
        }
      ]
    },
    {
      "cell_type": "markdown",
      "source": [
        "#Membaca Berkas Teks – Part 2"
      ],
      "metadata": {
        "id": "_waqHhTg4T-Y"
      }
    },
    {
      "cell_type": "code",
      "source": [
        "import requests\n",
        "url = \"https://storage.googleapis.com/dqlab-dataset/hello.txt\"\n",
        "response = requests.get(url)\n",
        "# Cetak kode status dari response\n",
        "print(response)\n",
        "# Cetak isi file hello.txt menggunakan atribut response.text\n",
        "print(\"\\n>> Cetak isi file hello.txt menggunakan atribut response.text:\")\n",
        "print(response.text)"
      ],
      "metadata": {
        "colab": {
          "base_uri": "https://localhost:8080/"
        },
        "id": "eREDR5YH4WWX",
        "outputId": "0ec6b84b-026b-4f0f-d2e4-acf71cb8ab99"
      },
      "execution_count": null,
      "outputs": [
        {
          "output_type": "stream",
          "name": "stdout",
          "text": [
            "<Response [200]>\n",
            "\n",
            ">> Cetak isi file hello.txt menggunakan atribut response.text:\n",
            "Kita sedang belajar Python\r\n",
            "Tepatnya belajar memanipulasi berkas teks\r\n",
            "Memanipulasi berkas dengan Python sangatlah mudah!\n"
          ]
        }
      ]
    },
    {
      "cell_type": "markdown",
      "source": [
        "#Menulis Berkas Teks – Part 1"
      ],
      "metadata": {
        "id": "rrQzyclz4sdN"
      }
    },
    {
      "cell_type": "code",
      "source": [
        "# Menulis ke file hello.txt\n",
        "file = open(\"hello.txt\", \"w\")\n",
        "file.write(\"Sekarang kita belajar menulis dengan menggunakan Python\")\n",
        "file.write(\"Menulis konten file dengan mode w (write).\")\n",
        "file.close()"
      ],
      "metadata": {
        "id": "gy1XSkuw4tSq"
      },
      "execution_count": null,
      "outputs": []
    },
    {
      "cell_type": "markdown",
      "source": [
        "#Menulis Berkas Teks – Part 2"
      ],
      "metadata": {
        "id": "uF__5uGd5X2g"
      }
    },
    {
      "cell_type": "code",
      "source": [
        "# Menulis ke file dengan mode append\n",
        "file = open(\"hello.txt\", \"a\")\n",
        "file.writelines([\n",
        "\"Sekarang kita belajar menulis dengan menggunakan Python\", \n",
        "\"Menulis konten file dengan mode a (append).\"\n",
        "])\n",
        "file.close()"
      ],
      "metadata": {
        "id": "1W2nKVs25aSM"
      },
      "execution_count": null,
      "outputs": []
    },
    {
      "cell_type": "markdown",
      "source": [
        "#Fungsi dalam Library Matematika – Part 1"
      ],
      "metadata": {
        "id": "OLbPSdfH7Zzv"
      }
    },
    {
      "cell_type": "code",
      "source": [
        "# Import library math\n",
        "import math\n",
        "# Fungsi math.ceil()\n",
        "print(\">>> Fungsi math.ceil()\")\n",
        "x = 10.32\n",
        "y = 13.87\n",
        "x_ceil = math.ceil(x)\n",
        "y_ceil = math.ceil(y)\n",
        "print(x_ceil)\n",
        "print(y_ceil)\n",
        "# Fungsi math.floor()\n",
        "print(\">>> Fungsi math.floor()\")\n",
        "x_floor = math.floor(x)\n",
        "y_floor = math.floor(y)\n",
        "print(x_floor)\n",
        "print(y_floor)\n",
        "# Fungsi math.fabs()\n",
        "print(\">>> Fungsi math.fabs()\")\n",
        "x = 10.32\n",
        "y = -13.87\n",
        "x = math.fabs(x)\n",
        "y = math.fabs(y)\n",
        "print(x)\n",
        "print(y)\n",
        "# Fungsi math.factorial()\n",
        "print(\">>> Fungsi math.factorial()\")\n",
        "x_factorial = math.factorial(5)\n",
        "print(x_factorial)\n",
        "# Fungsi math.fsum()\n",
        "print(\">>> Fungsi math.fsum()\")\n",
        "x = [1, 2, 3, 4, 5, 6, -6, -5, -4]\n",
        "total = math.fsum(x)\n",
        "print(total)"
      ],
      "metadata": {
        "colab": {
          "base_uri": "https://localhost:8080/"
        },
        "id": "cBlknwro7cvt",
        "outputId": "083ab7b2-1d96-4cb6-a07b-05d7cc95f6cd"
      },
      "execution_count": null,
      "outputs": [
        {
          "output_type": "stream",
          "name": "stdout",
          "text": [
            ">>> Fungsi math.ceil()\n",
            "11\n",
            "14\n",
            ">>> Fungsi math.floor()\n",
            "10\n",
            "13\n",
            ">>> Fungsi math.fabs()\n",
            "10.32\n",
            "13.87\n",
            ">>> Fungsi math.factorial()\n",
            "120\n",
            ">>> Fungsi math.fsum()\n",
            "6.0\n"
          ]
        }
      ]
    },
    {
      "cell_type": "markdown",
      "source": [
        "#Fungsi dalam Library Matematika – Part 2"
      ],
      "metadata": {
        "id": "yjHHnF2up6__"
      }
    },
    {
      "cell_type": "code",
      "source": [
        "# Import library math\n",
        "import math\n",
        "# Fungsi math.log()\n",
        "print(\">>> Fungsi math.log()\")\n",
        "# x = log basis 2 dari 8\n",
        "x = math.log(8,2)\n",
        "# y = log basis 3 dari 81\n",
        "y = math.log(81,3)\n",
        "# z = log basis 10 dari 10000\n",
        "z = math.log(10000,10)\n",
        "print(x)\n",
        "print(y)\n",
        "print(z)\n",
        "# Fungsi math.sqrt()\n",
        "print(\">>> Fungsi math.sqrt()\")\n",
        "# akar kuadrat dari 100\n",
        "x = math.sqrt(100)\n",
        "print(x)\n",
        "# akar kuadrat dari 2\n",
        "y = math.sqrt(2)\n",
        "print(y)\n",
        "# Fungsi math.copysign()\n",
        "print(\">>> Fungsi math.copysign()\")\n",
        "x = 10.32\n",
        "y = -13.87\n",
        "z = -15\n",
        "x = math.copysign(x, z)\n",
        "y = math.copysign(y, z)\n",
        "z = math.copysign(z, 10)\n",
        "print(x)\n",
        "print(y)\n",
        "print(z)"
      ],
      "metadata": {
        "colab": {
          "base_uri": "https://localhost:8080/"
        },
        "id": "6azMGkidp-s0",
        "outputId": "88395107-7b5a-49e6-9565-e1c3ab0a046b"
      },
      "execution_count": null,
      "outputs": [
        {
          "output_type": "stream",
          "name": "stdout",
          "text": [
            ">>> Fungsi math.log()\n",
            "3.0\n",
            "4.0\n",
            "4.0\n",
            ">>> Fungsi math.sqrt()\n",
            "10.0\n",
            "1.4142135623730951\n",
            ">>> Fungsi math.copysign()\n",
            "-10.32\n",
            "-13.87\n",
            "15.0\n"
          ]
        }
      ]
    },
    {
      "cell_type": "markdown",
      "source": [
        "#Harga Rumah di Tangerang"
      ],
      "metadata": {
        "id": "mV9CswVpqyrp"
      }
    },
    {
      "cell_type": "code",
      "source": [
        "import requests\n",
        "from contextlib import closing\n",
        "import csv\n",
        "# STEP 1: \n",
        "# Baca file \"harga_rumah.txt\"\n",
        "url = \"https://storage.googleapis.com/dqlab-dataset/harga_rumah.txt\"\n",
        "data_harga_rumah = []\n",
        "with closing(requests.get(url, stream=True)) as r:\n",
        "    f = (line.decode('utf-8') for line in r.iter_lines())\n",
        "    data_harga_rumah = [row for row in csv.reader(f)]\n",
        "# Buat list of dict dengan nama harga rumah\n",
        "key_harga_rumah = data_harga_rumah[0]\n",
        "harga_rumah = []\n",
        "for baris_harga_rumah in data_harga_rumah[1:]:\n",
        "\tdict_harga_rumah = dict()\n",
        "\tfor i in range(len(baris_harga_rumah)):\n",
        "\t\tdict_harga_rumah[key_harga_rumah[i]] = baris_harga_rumah[i]\n",
        "\tharga_rumah.append(dict_harga_rumah)\n",
        "print(harga_rumah)\n",
        "# STEP 2:\n",
        "# Buat fungsi  get_all_specified_attribute yang menerima parameter list_of_dictionary \n",
        "# (tipe data list yang berisikan sekumpulan tipe data dictionary) dan specified_key \n",
        "# (tipe data string). Fungsi akan mengembalikan sebuah list yang berisikan seluruh \n",
        "# atribut dengan kunci (key) specified_key. \n",
        "def get_all_specified_attributes(list_of_dictionary, specified_key):\n",
        "\tlist_attributes = []\n",
        "\tfor data in list_of_dictionary:\n",
        "\t\tattribute = data[specified_key]\n",
        "\t\tlist_attributes.append(attribute)\n",
        "\treturn list_attributes\n",
        "# STEP 3: \n",
        "# Buat fungsi fungsi min_value yang menerima parameter list_attributes (berupa \n",
        "# tipe data list) dan mengembalikan nilai terkecil dalam list_attributes \n",
        "def min_value(list_attributes):\n",
        "\tmin_attribute = 9999\n",
        "\tfor attr in list_attributes:\n",
        "\t\tif int(attr) < min_attribute:\n",
        "\t\t\tmin_attribute = int(attr)\n",
        "\treturn min_attribute\n",
        "# Buat fungsi dan max_value yang menerima parameter list_attribute dan \n",
        "# mengembalikan nilai terbesar dalam list_attributes.\t\n",
        "def max_value(list_attributes):\n",
        "\tmax_attribute = -9999\n",
        "\tfor attr in list_attributes:\n",
        "\t\tif int(attr) > max_attribute:\n",
        "\t\t\tmax_attribute = int(attr)\n",
        "\treturn max_attribute\n",
        "# STEP 4: \n",
        "# Buat fungsi transform_attribute yang menerima parameter attr (sebuah \n",
        "# bilangan), max_attr (sebuah bilangan) dan min_attr (sebuah bilangan) \n",
        "# yang mengembalikan nilai transformasi dari sebuah attribute.\n",
        "def transform_attribute(attr, max_attr, min_attr):\n",
        "\tnilai_transformasi = (attr - min_attr) / (max_attr - min_attr)\n",
        "\treturn nilai_transformasi\n",
        "# STEP 5:\n",
        "# Buat fungsi data_transformation yang menerima parameter list_of_dictionary \n",
        "# (sebuah list yang berisikan tipe data dictionary) dan list_attribute_names \n",
        "# (sebuah list yang berisikan tipe data string) mengembalikan hasil \n",
        "# transformasi data dari list_of_dictionary berdasarkan list_attribute_names \n",
        "# dan attr_info telah dispesifikasikan.\n",
        "def data_transformation(list_of_dictionary, list_attribute_names):\n",
        "\tattr_info = {}\n",
        "\tfor attr_name in list_attribute_names:\n",
        "\t\tspecified_attributes = get_all_specified_attributes(list_of_dictionary, attr_name)\n",
        "\t\tmax_attr = max_value(specified_attributes)\n",
        "\t\tmin_attr = min_value(specified_attributes)\n",
        "\t\tattr_info[attr_name] = {'max': max_attr, 'min': min_attr}\n",
        "\t\tdata_idx = 0\n",
        "\t\twhile(data_idx < len(list_of_dictionary)):\n",
        "\t\t\tlist_of_dictionary[data_idx][attr_name] = transform_attribute(int(list_of_dictionary[data_idx][attr_name]), max_attr, min_attr)\n",
        "\t\t\tdata_idx += 1\n",
        "\treturn list_of_dictionary, attr_info\n",
        "# STEP 6:\n",
        "# Berdasarkan data baru dan attr_info ini, buat fungsi transform_data yang\n",
        "# menerima parameter data dan attr_info dan mengembalikan nilai atribut \n",
        "# dari data baru yang telah ditransformasikan.\n",
        "def transform_data(data, attr_info):\n",
        "\tfor key_name in data.keys():\n",
        "\t\tdata[key_name] = (data[key_name] - attr_info[key_name]['min']) / (\n",
        "\t\t                  attr_info[key_name]['max'] - attr_info[key_name]['min'])\n",
        "\treturn data\n",
        "# STEP 7:\n",
        "# Buat fungsi yang digunakan untuk sistem prediksi harga berdasarkan \n",
        "# nilai kemiripan atribut, yaitu argument input data dan list_of_data!\n",
        "def abs_value(value):\n",
        "\tif value < 0:\n",
        "\t\treturn -value\n",
        "\telse:\n",
        "\t\treturn value\n",
        "def price_based_on_similarity(data, list_of_data):\n",
        "\tprediksi_harga = 0\n",
        "\tperbedaan_terkecil = 999\n",
        "\tfor data_point in list_of_data:\n",
        "\t\tperbedaan= abs_value(data['tanah'] - data_point['tanah'])\n",
        "\t\tperbedaan+= abs_value(data['bangunan'] - data_point['bangunan'])\n",
        "\t\tperbedaan+= abs_value(data['jarak_ke_pusat'] - data_point['jarak_ke_pusat'])\n",
        "\t\tif perbedaan < perbedaan_terkecil:\n",
        "\t\t\tprediksi_harga = data_point['harga']\n",
        "\t\t\tperbedaan_terkecil = perbedaan\n",
        "\treturn prediksi_harga\n",
        "# STEP 8:\n",
        "# Hitung harga rumah yang telah ditransformasikan ke dalam variabel \n",
        "# harga_rumah berikut dengan atributnya attr_info\n",
        "harga_rumah, attr_info = data_transformation(harga_rumah,\n",
        "                                             ['tanah','bangunan','jarak_ke_pusat'])\n",
        "# Gunakan variabel data untuk memprediksi harga rumah\n",
        "data = {'tanah': 110, 'bangunan': 80, 'jarak_ke_pusat': 35}\n",
        "# Transformasikan data tersebut dengan dengan menggunakan attr_info yang telah \n",
        "# diperoleh yang kembali disimpan ke variabel data.\n",
        "data = transform_data(data, attr_info)\n",
        "# Hitunglah prediksi harga dari variabel data tersebut.\n",
        "harga = price_based_on_similarity(data, harga_rumah)\n",
        "print(\"Prediksi harga rumah: \", harga)"
      ],
      "metadata": {
        "colab": {
          "base_uri": "https://localhost:8080/"
        },
        "id": "erORvKdqsKCv",
        "outputId": "6d3381b3-ca3a-47dc-e0e0-997041b0baf3"
      },
      "execution_count": null,
      "outputs": [
        {
          "output_type": "stream",
          "name": "stdout",
          "text": [
            "[{'tanah': '70', 'bangunan': '50', 'jarak_ke_pusat': '15', 'harga': '500'}, {'tanah': '70', 'bangunan': '60', 'jarak_ke_pusat': '30', 'harga': '400'}, {'tanah': '70', 'bangunan': '60', 'jarak_ke_pusat': '55', 'harga': '300'}, {'tanah': '100', 'bangunan': '50', 'jarak_ke_pusat': '30', 'harga': '700'}, {'tanah': '100', 'bangunan': '70', 'jarak_ke_pusat': '25', 'harga': '1000'}, {'tanah': '100', 'bangunan': '70', 'jarak_ke_pusat': '50', 'harga': '650'}, {'tanah': '120', 'bangunan': '100', 'jarak_ke_pusat': '20', 'harga': '2000'}, {'tanah': '120', 'bangunan': '80', 'jarak_ke_pusat': '50', 'harga': '1200'}, {'tanah': '150', 'bangunan': '100', 'jarak_ke_pusat': '50', 'harga': '1800'}, {'tanah': '150', 'bangunan': '90', 'jarak_ke_pusat': '15', 'harga': '3000'}]\n",
            "Prediksi harga rumah:  1200\n"
          ]
        }
      ]
    }
  ]
}