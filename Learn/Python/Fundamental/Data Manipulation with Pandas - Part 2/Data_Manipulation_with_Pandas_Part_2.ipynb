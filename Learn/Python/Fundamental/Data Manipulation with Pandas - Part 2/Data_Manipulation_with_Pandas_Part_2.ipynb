{
  "nbformat": 4,
  "nbformat_minor": 0,
  "metadata": {
    "colab": {
      "name": "Data Manipulation with Pandas - Part 2",
      "provenance": [],
      "collapsed_sections": [],
      "toc_visible": true
    },
    "kernelspec": {
      "name": "python3",
      "display_name": "Python 3"
    },
    "language_info": {
      "name": "python"
    }
  },
  "cells": [
    {
      "cell_type": "markdown",
      "source": [
        "\n",
        "#Append"
      ],
      "metadata": {
        "id": "ofgGpdkqEuMw"
      }
    },
    {
      "cell_type": "code",
      "execution_count": 73,
      "metadata": {
        "colab": {
          "base_uri": "https://localhost:8080/"
        },
        "id": "Aw7vdwOBEVdP",
        "outputId": "cca63dff-1e75-4c98-bd48-825a07a2fb00"
      },
      "outputs": [
        {
          "output_type": "stream",
          "name": "stdout",
          "text": [
            "Series - append:\n",
            " 0    a\n",
            "1    b\n",
            "2    c\n",
            "3    d\n",
            "4    e\n",
            "5    f\n",
            "0    1\n",
            "1    2\n",
            "2    3\n",
            "3    4\n",
            "4    5\n",
            "5    6\n",
            "dtype: object\n",
            "Dataframe - append:\n",
            "    b  a\n",
            "0  1  3\n",
            "1  2  4\n",
            "0  3  1\n",
            "1  4  2\n"
          ]
        }
      ],
      "source": [
        "import pandas as pd\n",
        "# Buat series of int (s1) dan series of string (s2)\n",
        "s1 = pd.Series([1,2,3,4,5,6])\n",
        "s2 = pd.Series([\"a\",\"b\",\"c\",\"d\",\"e\",\"f\"])\n",
        "# Terapkan method append\n",
        "s2_append_s1 = s2.append(s1)\n",
        "print(\"Series - append:\\n\", s2_append_s1)\n",
        "# Buat dataframe df1 dan df2\n",
        "df1 = pd.DataFrame({'a':[1,2],\n",
        "\t\t   'b':[3,4]})\n",
        "df2 = pd.DataFrame({'b':[1,2],\n",
        "\t\t   'a':[3,4]})\n",
        "# Terapkan method append\n",
        "df2_append_df1 = df2.append(df1)\n",
        "print(\"Dataframe - append:\\n\", df2_append_df1)"
      ]
    },
    {
      "cell_type": "markdown",
      "source": [
        "#Concat"
      ],
      "metadata": {
        "id": "Vnr23EdPGSPb"
      }
    },
    {
      "cell_type": "code",
      "source": [
        "import pandas as pd\n",
        "# Buat dataframe df1 dan df2\n",
        "df1 = pd.DataFrame({'a':[1,2],\n",
        "\t\t\t\t\t'b':[3,4]})\n",
        "df2 = pd.DataFrame({'b':[1,2],\n",
        "\t\t\t\t\t'a':[3,4]})\n",
        "# Terapkan method concat row-wise\n",
        "row_wise_concat = pd.concat([df2,df1])\n",
        "print(\"Row-wise - concat:\\n\", row_wise_concat)\n",
        "# Terapkan method concat column-wise\n",
        "col_wise_concat = pd.concat([df2,df1], axis=1)\n",
        "print(\"Column-wise - concat:\\n\", col_wise_concat)\n",
        "# Penambahan identifier --> membentuk hasil penggabungan multiindex\n",
        "multiindex_concat = pd.concat([df2,df1], axis=0, keys=['df2','df1'])\n",
        "print(\"Multiindex - concat:\\n\", multiindex_concat)"
      ],
      "metadata": {
        "colab": {
          "base_uri": "https://localhost:8080/"
        },
        "id": "b7faslzoGTIo",
        "outputId": "32611c38-9bc4-419e-be18-7df4f7fe692d"
      },
      "execution_count": 74,
      "outputs": [
        {
          "output_type": "stream",
          "name": "stdout",
          "text": [
            "Row-wise - concat:\n",
            "    b  a\n",
            "0  1  3\n",
            "1  2  4\n",
            "0  3  1\n",
            "1  4  2\n",
            "Column-wise - concat:\n",
            "    b  a  a  b\n",
            "0  1  3  1  3\n",
            "1  2  4  2  4\n",
            "Multiindex - concat:\n",
            "        b  a\n",
            "df2 0  1  3\n",
            "    1  2  4\n",
            "df1 0  3  1\n",
            "    1  4  2\n"
          ]
        }
      ]
    },
    {
      "cell_type": "markdown",
      "source": [
        "#Merge - Part 1\n"
      ],
      "metadata": {
        "id": "PVWL7itmHR1E"
      }
    },
    {
      "cell_type": "code",
      "source": [
        "import pandas as pd\n",
        "# Buat dataframe df1 dan df2\n",
        "df1 = pd.DataFrame({\n",
        "   'key':['k1','k2','k3','k4','k5'],\n",
        "   'val1':[200, 500, 0, 500, 100],\n",
        "   'val2':[30, 50, 100, 20, 10]\n",
        "})\n",
        "df2 = pd.DataFrame({\n",
        "   'key':['k1','k3','k5','k7','k10'],\n",
        "   'val3':[1,2,3,4,5],\n",
        "   'val4':[6,7,8,8,10]\n",
        "})\n",
        "# Merge yang ekivalen dengan SQL left join\n",
        "merge_df_left = pd.merge(left=df2, right=df1, how='left', left_on='key', right_on='key')\n",
        "print('Merge - Left:\\n', merge_df_left)\n",
        "# Merge yang ekivalen dengan SQL right join\n",
        "merge_df_right = pd.merge(left=df2, right=df1, how='right', left_on='key', right_on='key')\n",
        "print('Merge - Right:\\n', merge_df_right)\n",
        "# Merge yang ekivalen dengan SQL inner join\n",
        "merge_df_inner = pd.merge(left=df2, right=df1, how='inner', left_on='key', right_on='key')\n",
        "print('Merge - Inner:\\n', merge_df_inner)\n",
        "# Merge yang ekivalen dengan SQL outer join\n",
        "merge_df_outer = pd.merge(left=df2,right=df1, how='outer', left_on='key', right_on='key')\n",
        "print('Merge - Outer:\\n', merge_df_outer)"
      ],
      "metadata": {
        "colab": {
          "base_uri": "https://localhost:8080/"
        },
        "id": "-7CNZXTJHTi0",
        "outputId": "5226e9f8-5ecb-4066-eaae-6ba07365b770"
      },
      "execution_count": 75,
      "outputs": [
        {
          "output_type": "stream",
          "name": "stdout",
          "text": [
            "Merge - Left:\n",
            "    key  val3  val4   val1   val2\n",
            "0   k1     1     6  200.0   30.0\n",
            "1   k3     2     7    0.0  100.0\n",
            "2   k5     3     8  100.0   10.0\n",
            "3   k7     4     8    NaN    NaN\n",
            "4  k10     5    10    NaN    NaN\n",
            "Merge - Right:\n",
            "   key  val3  val4  val1  val2\n",
            "0  k1   1.0   6.0   200    30\n",
            "1  k2   NaN   NaN   500    50\n",
            "2  k3   2.0   7.0     0   100\n",
            "3  k4   NaN   NaN   500    20\n",
            "4  k5   3.0   8.0   100    10\n",
            "Merge - Inner:\n",
            "   key  val3  val4  val1  val2\n",
            "0  k1     1     6   200    30\n",
            "1  k3     2     7     0   100\n",
            "2  k5     3     8   100    10\n",
            "Merge - Outer:\n",
            "    key  val3  val4   val1   val2\n",
            "0   k1   1.0   6.0  200.0   30.0\n",
            "1   k3   2.0   7.0    0.0  100.0\n",
            "2   k5   3.0   8.0  100.0   10.0\n",
            "3   k7   4.0   8.0    NaN    NaN\n",
            "4  k10   5.0  10.0    NaN    NaN\n",
            "5   k2   NaN   NaN  500.0   50.0\n",
            "6   k4   NaN   NaN  500.0   20.0\n"
          ]
        }
      ]
    },
    {
      "cell_type": "markdown",
      "source": [
        "#Merge - Part 2\n"
      ],
      "metadata": {
        "id": "ZpwU3kNgL7jA"
      }
    },
    {
      "cell_type": "code",
      "source": [
        "import pandas as pd\n",
        "# Buat dataframe df1 dan df2\n",
        "df1 = pd.DataFrame({\n",
        "   'key':['k1','k2','k3','k4','k5'],\n",
        "   'val1':[200, 500, 0, 500, 100],\n",
        "   'val2':[30, 50, 100, 20, 10]\n",
        "}).set_index(['key','val2'])\n",
        "print('Dataframe 1:\\n', df1)\n",
        "df2 = pd.DataFrame({\n",
        "   'key':['k1','k3','k5','k7','k10'],\n",
        "   'val3':[1,2,3,4,5],\n",
        "   'val4':[6,7,8,8,10]\n",
        "}).set_index(['key','val3'])\n",
        "print('Dataframe 2:\\n', df2)\n",
        "# Merge dataframe yang memiliki multi index\n",
        "df_merge = pd.merge(df1.reset_index(),df2.reset_index())\n",
        "print('Merging dataframe:\\n', df_merge)"
      ],
      "metadata": {
        "colab": {
          "base_uri": "https://localhost:8080/"
        },
        "id": "U2gYt5wmL90c",
        "outputId": "f6b156d9-6169-4d35-fa2a-a3930e75e7b0"
      },
      "execution_count": 76,
      "outputs": [
        {
          "output_type": "stream",
          "name": "stdout",
          "text": [
            "Dataframe 1:\n",
            "           val1\n",
            "key val2      \n",
            "k1  30     200\n",
            "k2  50     500\n",
            "k3  100      0\n",
            "k4  20     500\n",
            "k5  10     100\n",
            "Dataframe 2:\n",
            "           val4\n",
            "key val3      \n",
            "k1  1        6\n",
            "k3  2        7\n",
            "k5  3        8\n",
            "k7  4        8\n",
            "k10 5       10\n",
            "Merging dataframe:\n",
            "   key  val2  val1  val3  val4\n",
            "0  k1    30   200     1     6\n",
            "1  k3   100     0     2     7\n",
            "2  k5    10   100     3     8\n"
          ]
        }
      ]
    },
    {
      "cell_type": "markdown",
      "source": [
        "#Join"
      ],
      "metadata": {
        "id": "hSNtG5YrN2pq"
      }
    },
    {
      "cell_type": "code",
      "source": [
        "import pandas as pd\n",
        "# Buat dataframe df1 dan df2\n",
        "df1 = pd.DataFrame({\n",
        "   'key':['k1','k2','k3','k4','k5'],\n",
        "   'val1':[200, 500, 0, 500, 100],\n",
        "   'val2':[30, 50, 100, 20, 10]\n",
        "})\n",
        "df2 = pd.DataFrame({\n",
        "   'key':['k1','k3','k5','k7','k10'],\n",
        "   'val3':[1,2,3,4,5],\n",
        "   'val4':[6,7,8,8,10]\n",
        "})\n",
        "# Penerapan join dengan menggunakan set_index dan keyword how\n",
        "join_df = df1.set_index('key').join(df2.set_index('key'), how='outer')\n",
        "print(join_df)"
      ],
      "metadata": {
        "colab": {
          "base_uri": "https://localhost:8080/"
        },
        "id": "goywBiSvN3x6",
        "outputId": "b8dbfa9e-d6a2-4106-9716-ddf0c9c17445"
      },
      "execution_count": 77,
      "outputs": [
        {
          "output_type": "stream",
          "name": "stdout",
          "text": [
            "      val1   val2  val3  val4\n",
            "key                          \n",
            "k1   200.0   30.0   1.0   6.0\n",
            "k10    NaN    NaN   5.0  10.0\n",
            "k2   500.0   50.0   NaN   NaN\n",
            "k3     0.0  100.0   2.0   7.0\n",
            "k4   500.0   20.0   NaN   NaN\n",
            "k5   100.0   10.0   3.0   8.0\n",
            "k7     NaN    NaN   4.0   8.0\n"
          ]
        }
      ]
    },
    {
      "cell_type": "markdown",
      "source": [
        "#Dataset"
      ],
      "metadata": {
        "id": "EmhEw-ZRPF7g"
      }
    },
    {
      "cell_type": "code",
      "source": [
        "import pandas as pd\n",
        "# Dataframe\n",
        "data = pd.DataFrame({\n",
        "  'kelas': 6*['A'] + 6*['B'],\n",
        "  'murid': 2*['A1'] + 2*['A2'] + 2*['A3'] + 2*['B1'] + 2*['B2'] + 2*['B3'],\n",
        "  'pelajaran': 6*['math','english'],\n",
        "  'nilai': [90,60,70,85,50,60,100,40,95,80,60,45]\n",
        "}, columns=['kelas','murid','pelajaran','nilai'])\n",
        "# Unique value pada setiap kolom data\n",
        "for column in data.columns:\n",
        "    print('Unique value %s: %s' % (column, data[column].unique()))"
      ],
      "metadata": {
        "colab": {
          "base_uri": "https://localhost:8080/"
        },
        "id": "IpiTkpHUTVMa",
        "outputId": "ef2062ea-0679-47ac-bbe1-048ad838485a"
      },
      "execution_count": 78,
      "outputs": [
        {
          "output_type": "stream",
          "name": "stdout",
          "text": [
            "Unique value kelas: ['A' 'B']\n",
            "Unique value murid: ['A1' 'A2' 'A3' 'B1' 'B2' 'B3']\n",
            "Unique value pelajaran: ['math' 'english']\n",
            "Unique value nilai: [ 90  60  70  85  50 100  40  95  80  45]\n"
          ]
        }
      ]
    },
    {
      "cell_type": "markdown",
      "source": [
        "#Pivot"
      ],
      "metadata": {
        "id": "CWu4SOqyTWHX"
      }
    },
    {
      "cell_type": "code",
      "source": [
        "import pandas as pd\n",
        "# Dataframe\n",
        "data = pd.DataFrame({\n",
        "  'kelas': 6*['A'] + 6*['B'],\n",
        "  'murid': 2*['A1'] + 2*['A2'] + 2*['A3'] + 2*['B1'] + 2*['B2'] + 2*['B3'],\n",
        "  'pelajaran': 6*['math','english'],\n",
        "  'nilai': [90,60,70,85,50,60,100,40,95,80,60,45]\n",
        "}, columns=['kelas','murid','pelajaran','nilai'])\n",
        "# Pivoting with single column measurement\n",
        "pivot1 = data.pivot(index='murid',columns='pelajaran',values='nilai')\n",
        "print('Pivoting with single column measurement:\\n', pivot1)\n",
        "# Pivoting with multiple column measurement\n",
        "pivot2 = data.pivot(index='murid',columns='pelajaran')\n",
        "print('Pivoting with multiple column measurement:\\n', pivot2)"
      ],
      "metadata": {
        "colab": {
          "base_uri": "https://localhost:8080/"
        },
        "id": "nQ7GmXmtTdni",
        "outputId": "ad9a4952-49b0-426e-fa58-b4ea4ecd2054"
      },
      "execution_count": 79,
      "outputs": [
        {
          "output_type": "stream",
          "name": "stdout",
          "text": [
            "Pivoting with single column measurement:\n",
            " pelajaran  english  math\n",
            "murid                   \n",
            "A1              60    90\n",
            "A2              85    70\n",
            "A3              60    50\n",
            "B1              40   100\n",
            "B2              80    95\n",
            "B3              45    60\n",
            "Pivoting with multiple column measurement:\n",
            "             kelas        nilai     \n",
            "pelajaran english math english math\n",
            "murid                              \n",
            "A1              A    A      60   90\n",
            "A2              A    A      85   70\n",
            "A3              A    A      60   50\n",
            "B1              B    B      40  100\n",
            "B2              B    B      80   95\n",
            "B3              B    B      45   60\n"
          ]
        }
      ]
    },
    {
      "cell_type": "markdown",
      "source": [
        "#Pivot_table"
      ],
      "metadata": {
        "id": "iUzrEe9OUZbz"
      }
    },
    {
      "cell_type": "code",
      "source": [
        "import pandas as pd\n",
        "# Dataframe\n",
        "data = pd.DataFrame({\n",
        "  'kelas': 6*['A'] + 6*['B'],\n",
        "  'murid': 2*['A1'] + 2*['A2'] + 2*['A3'] + 2*['B1'] + 2*['B2'] + 2*['B3'],\n",
        "  'pelajaran': 6*['math','english'],\n",
        "  'nilai': [90,60,70,85,50,60,100,40,95,80,60,45]\n",
        "}, columns=['kelas','murid','pelajaran','nilai'])\n",
        "# Creating pivot and assign pivot_tab dengan menggunakan keyword aggfunc='mean'\n",
        "pivot_tab_mean = data.pivot_table(index='kelas',columns='pelajaran',values='nilai',aggfunc='mean')\n",
        "print('Creating pivot table -- aggfunc mean:\\n', pivot_tab_mean)\n",
        "# Creating pivot and assign pivot_tab dengan menggunakan keyword aggfunc='median'\n",
        "pivot_tab_median = data.pivot_table(index='kelas',columns='pelajaran',values='nilai',aggfunc='median')\n",
        "print('Creating pivot table -- aggfunc median:\\n', pivot_tab_median)"
      ],
      "metadata": {
        "colab": {
          "base_uri": "https://localhost:8080/"
        },
        "id": "QtKo_42fUbKH",
        "outputId": "59f9578a-e46f-4824-f47d-a2a7b0f27cc6"
      },
      "execution_count": 80,
      "outputs": [
        {
          "output_type": "stream",
          "name": "stdout",
          "text": [
            "Creating pivot table -- aggfunc mean:\n",
            " pelajaran    english  math\n",
            "kelas                     \n",
            "A          68.333333  70.0\n",
            "B          55.000000  85.0\n",
            "Creating pivot table -- aggfunc median:\n",
            " pelajaran  english  math\n",
            "kelas                   \n",
            "A               60    70\n",
            "B               45    95\n"
          ]
        }
      ]
    },
    {
      "cell_type": "markdown",
      "source": [
        "#Melt - Part 1\n"
      ],
      "metadata": {
        "id": "r8ZwXxlQVwe_"
      }
    },
    {
      "cell_type": "code",
      "source": [
        "import pandas as pd\n",
        "# Dataframe\n",
        "data = pd.DataFrame({\n",
        "  'kelas': 6*['A'] + 6*['B'],\n",
        "  'murid': 2*['A1'] + 2*['A2'] + 2*['A3'] + 2*['B1'] + 2*['B2'] + 2*['B3'],\n",
        "  'pelajaran': 6*['math','english'],\n",
        "  'nilai': [90,60,70,85,50,60,100,40,95,80,60,45]\n",
        "}, columns=['kelas','murid','pelajaran','nilai'])\n",
        "# Pivoting dataframe\n",
        "data_pivot = data.pivot_table(index='kelas',columns='pelajaran',values='nilai',aggfunc='mean').reset_index()\n",
        "print('Pivoting dataframe:\\n', data_pivot)\n",
        "# [1] Melting dataframe data_pivot\n",
        "data_melt_1 = pd.melt(data_pivot)\n",
        "print('Melting dataframe:\\n', data_melt_1)\n",
        "# [2] Melting dataframe data_pivot dengan id_vars\n",
        "data_melt_2 = pd.melt(data_pivot, id_vars='kelas')\n",
        "print('Melting dataframe dengan idvars:\\n', data_melt_2)"
      ],
      "metadata": {
        "colab": {
          "base_uri": "https://localhost:8080/"
        },
        "id": "PDSz9jsOVxQZ",
        "outputId": "24437300-f116-47a8-e8f5-20a60e9578aa"
      },
      "execution_count": 81,
      "outputs": [
        {
          "output_type": "stream",
          "name": "stdout",
          "text": [
            "Pivoting dataframe:\n",
            " pelajaran kelas    english  math\n",
            "0             A  68.333333  70.0\n",
            "1             B  55.000000  85.0\n",
            "Melting dataframe:\n",
            "   pelajaran    value\n",
            "0     kelas        A\n",
            "1     kelas        B\n",
            "2   english  68.3333\n",
            "3   english       55\n",
            "4      math       70\n",
            "5      math       85\n",
            "Melting dataframe dengan idvars:\n",
            "   kelas pelajaran      value\n",
            "0     A   english  68.333333\n",
            "1     B   english  55.000000\n",
            "2     A      math  70.000000\n",
            "3     B      math  85.000000\n"
          ]
        }
      ]
    },
    {
      "cell_type": "markdown",
      "source": [
        "#Melt - Part 2\n"
      ],
      "metadata": {
        "id": "K37k-JLkWqBI"
      }
    },
    {
      "cell_type": "code",
      "source": [
        "import pandas as pd\n",
        "# Dataframe\n",
        "data = pd.DataFrame({\n",
        "  'kelas': 6*['A'] + 6*['B'],\n",
        "  'murid': 2*['A1'] + 2*['A2'] + 2*['A3'] + 2*['B1'] + 2*['B2'] + 2*['B3'],\n",
        "  'pelajaran': 6*['math','english'],\n",
        "  'nilai': [90,60,70,85,50,60,100,40,95,80,60,45]\n",
        "}, columns=['kelas','murid','pelajaran','nilai'])\n",
        "# Pivoting dataframe\n",
        "data_pivot = data.pivot_table(index='kelas',columns='pelajaran',values='nilai', aggfunc='mean').reset_index()\n",
        "print('Pivoting dataframe:\\n', data_pivot)\n",
        "# [3.a] Melting dataframe data_pivot dengan value_vars\n",
        "data_melt_3a = pd.melt(data_pivot, value_vars=['math'])\n",
        "print('Melting dataframe dengan value_vars:\\n', data_melt_3a)\n",
        "# [3.b] Melting dataframe data_pivot dengan id_vars dan value_vars\n",
        "data_melt_3b = pd.melt(data_pivot, id_vars='kelas', value_vars=['math'])\n",
        "print('Melting dataframe dengan id_vars dan value_vars:\\n', data_melt_3b)\n",
        "# [4] Melting dataframe data_pivot dengan id_vars, value_vars, var_name. dan value_name\n",
        "data_melt_4 = pd.melt(data_pivot, id_vars='kelas', value_vars=['english','math'], var_name='pelajaran', value_name='nilai')\n",
        "print('Melting dataframe dengan id_vars, value_vars, var_name. dan value_name:\\n', data_melt_4)"
      ],
      "metadata": {
        "colab": {
          "base_uri": "https://localhost:8080/"
        },
        "id": "VTKRZ4R8Wq1E",
        "outputId": "317b4a4e-c525-4e8d-b800-117946d9e94d"
      },
      "execution_count": 82,
      "outputs": [
        {
          "output_type": "stream",
          "name": "stdout",
          "text": [
            "Pivoting dataframe:\n",
            " pelajaran kelas    english  math\n",
            "0             A  68.333333  70.0\n",
            "1             B  55.000000  85.0\n",
            "Melting dataframe dengan value_vars:\n",
            "   pelajaran  value\n",
            "0      math   70.0\n",
            "1      math   85.0\n",
            "Melting dataframe dengan id_vars dan value_vars:\n",
            "   kelas pelajaran  value\n",
            "0     A      math   70.0\n",
            "1     B      math   85.0\n",
            "Melting dataframe dengan id_vars, value_vars, var_name. dan value_name:\n",
            "   kelas pelajaran      nilai\n",
            "0     A   english  68.333333\n",
            "1     B   english  55.000000\n",
            "2     A      math  70.000000\n",
            "3     B      math  85.000000\n"
          ]
        }
      ]
    },
    {
      "cell_type": "markdown",
      "source": [
        "#Stack & Unstack - Part 1\n"
      ],
      "metadata": {
        "id": "FWhjpHzuiX0n"
      }
    },
    {
      "cell_type": "code",
      "source": [
        "import pandas as pd\n",
        "# Dataframe\n",
        "data = pd.DataFrame({\n",
        "  'kelas': 6*['A'] + 6*['B'],\n",
        "  'murid': 2*['A1'] + 2*['A2'] + 2*['A3'] + 2*['B1'] + 2*['B2'] + 2*['B3'],\n",
        "  'pelajaran': 6*['math','english'],\n",
        "  'nilai': [90,60,70,85,50,60,100,40,95,80,60,45]\n",
        "}, columns=['kelas','murid','pelajaran','nilai'])\n",
        "print('Dataframe:\\n', data)\n",
        "# Set index data untuk kolom kelas, murid, dan pelajaran\n",
        "data = data.set_index(['kelas','murid','pelajaran'])\n",
        "print('Dataframe multi index:\\n', data)\n",
        "# [1] Unstacking dataframe\n",
        "data_unstack_1 = data.unstack()\n",
        "print('Unstacking dataframe:\\n', data_unstack_1)\n",
        "# [2] Unstacking dengan specify level name\n",
        "data_unstack_2 = data.unstack(level='murid')\n",
        "print('Unstacking dataframe dengan level name:\\n', data_unstack_2)\n",
        "# [3] Unstacking dengan specify level position\n",
        "data_unstack_3 = data.unstack(level=1)\n",
        "print('Unstacking dataframe dengan level position:\\n', data_unstack_3)"
      ],
      "metadata": {
        "colab": {
          "base_uri": "https://localhost:8080/"
        },
        "id": "GJGrmXcHiYl1",
        "outputId": "65ec4d01-8d84-4037-fca3-902e2dd70b48"
      },
      "execution_count": 83,
      "outputs": [
        {
          "output_type": "stream",
          "name": "stdout",
          "text": [
            "Dataframe:\n",
            "    kelas murid pelajaran  nilai\n",
            "0      A    A1      math     90\n",
            "1      A    A1   english     60\n",
            "2      A    A2      math     70\n",
            "3      A    A2   english     85\n",
            "4      A    A3      math     50\n",
            "5      A    A3   english     60\n",
            "6      B    B1      math    100\n",
            "7      B    B1   english     40\n",
            "8      B    B2      math     95\n",
            "9      B    B2   english     80\n",
            "10     B    B3      math     60\n",
            "11     B    B3   english     45\n",
            "Dataframe multi index:\n",
            "                        nilai\n",
            "kelas murid pelajaran       \n",
            "A     A1    math          90\n",
            "            english       60\n",
            "      A2    math          70\n",
            "            english       85\n",
            "      A3    math          50\n",
            "            english       60\n",
            "B     B1    math         100\n",
            "            english       40\n",
            "      B2    math          95\n",
            "            english       80\n",
            "      B3    math          60\n",
            "            english       45\n",
            "Unstacking dataframe:\n",
            "               nilai     \n",
            "pelajaran   english math\n",
            "kelas murid             \n",
            "A     A1         60   90\n",
            "      A2         85   70\n",
            "      A3         60   50\n",
            "B     B1         40  100\n",
            "      B2         80   95\n",
            "      B3         45   60\n",
            "Unstacking dataframe dengan level name:\n",
            "                 nilai                               \n",
            "murid              A1    A2    A3     B1    B2    B3\n",
            "kelas pelajaran                                     \n",
            "A     english    60.0  85.0  60.0    NaN   NaN   NaN\n",
            "      math       90.0  70.0  50.0    NaN   NaN   NaN\n",
            "B     english     NaN   NaN   NaN   40.0  80.0  45.0\n",
            "      math        NaN   NaN   NaN  100.0  95.0  60.0\n",
            "Unstacking dataframe dengan level position:\n",
            "                 nilai                               \n",
            "murid              A1    A2    A3     B1    B2    B3\n",
            "kelas pelajaran                                     \n",
            "A     english    60.0  85.0  60.0    NaN   NaN   NaN\n",
            "      math       90.0  70.0  50.0    NaN   NaN   NaN\n",
            "B     english     NaN   NaN   NaN   40.0  80.0  45.0\n",
            "      math        NaN   NaN   NaN  100.0  95.0  60.0\n"
          ]
        }
      ]
    },
    {
      "cell_type": "markdown",
      "source": [
        "#Stack & Unstack - Part 2\n"
      ],
      "metadata": {
        "id": "iUlgbrDl2c97"
      }
    },
    {
      "cell_type": "code",
      "source": [
        "import pandas as pd\n",
        "# Dataframe\n",
        "data = pd.DataFrame({\n",
        "  'kelas': 6*['A'] + 6*['B'],\n",
        "  'murid': 2*['A1'] + 2*['A2'] + 2*['A3'] + 2*['B1'] + 2*['B2'] + 2*['B3'],\n",
        "  'pelajaran': 6*['math','english'],\n",
        "  'nilai': [90,60,70,85,50,60,100,40,95,80,60,45]\n",
        "}, columns=['kelas','murid','pelajaran','nilai'])\n",
        "data = data.set_index(['kelas','murid','pelajaran'])\n",
        "data_unstack = data.unstack(level=1)\n",
        "print('Dataframe:\\n', data_unstack)\n",
        "# [1] Stacking dataframe\n",
        "data_stack = data_unstack.stack()\n",
        "print('Stacked dataframe:\\n', data_stack)\n",
        "# [2] Tukar posisi index setelah stacking dataframe\n",
        "data_swap = data_stack.swaplevel(1,2)\n",
        "print('Swapped data:\\n', data_swap)\n",
        "# [3] Melakukan sort_index pada stacking dataframe\n",
        "data_sort = data_swap.sort_index()\n",
        "print('Sorted data:\\n', data_sort)"
      ],
      "metadata": {
        "colab": {
          "base_uri": "https://localhost:8080/"
        },
        "id": "sCHdYPMh2dtM",
        "outputId": "3e53ae0a-a702-4ce3-bf32-d3c7dbee7b35"
      },
      "execution_count": 84,
      "outputs": [
        {
          "output_type": "stream",
          "name": "stdout",
          "text": [
            "Dataframe:\n",
            "                 nilai                               \n",
            "murid              A1    A2    A3     B1    B2    B3\n",
            "kelas pelajaran                                     \n",
            "A     english    60.0  85.0  60.0    NaN   NaN   NaN\n",
            "      math       90.0  70.0  50.0    NaN   NaN   NaN\n",
            "B     english     NaN   NaN   NaN   40.0  80.0  45.0\n",
            "      math        NaN   NaN   NaN  100.0  95.0  60.0\n",
            "Stacked dataframe:\n",
            "                        nilai\n",
            "kelas pelajaran murid       \n",
            "A     english   A1      60.0\n",
            "                A2      85.0\n",
            "                A3      60.0\n",
            "      math      A1      90.0\n",
            "                A2      70.0\n",
            "                A3      50.0\n",
            "B     english   B1      40.0\n",
            "                B2      80.0\n",
            "                B3      45.0\n",
            "      math      B1     100.0\n",
            "                B2      95.0\n",
            "                B3      60.0\n",
            "Swapped data:\n",
            "                        nilai\n",
            "kelas murid pelajaran       \n",
            "A     A1    english     60.0\n",
            "      A2    english     85.0\n",
            "      A3    english     60.0\n",
            "      A1    math        90.0\n",
            "      A2    math        70.0\n",
            "      A3    math        50.0\n",
            "B     B1    english     40.0\n",
            "      B2    english     80.0\n",
            "      B3    english     45.0\n",
            "      B1    math       100.0\n",
            "      B2    math        95.0\n",
            "      B3    math        60.0\n",
            "Sorted data:\n",
            "                        nilai\n",
            "kelas murid pelajaran       \n",
            "A     A1    english     60.0\n",
            "            math        90.0\n",
            "      A2    english     85.0\n",
            "            math        70.0\n",
            "      A3    english     60.0\n",
            "            math        50.0\n",
            "B     B1    english     40.0\n",
            "            math       100.0\n",
            "      B2    english     80.0\n",
            "            math        95.0\n",
            "      B3    english     45.0\n",
            "            math        60.0\n"
          ]
        }
      ]
    },
    {
      "cell_type": "markdown",
      "source": [
        "#Review Inspeksi Data\n"
      ],
      "metadata": {
        "id": "6vpXrgbn4KeW"
      }
    },
    {
      "cell_type": "code",
      "source": [
        "import pandas as pd\n",
        "# Load data global_air_quality.csv\n",
        "global_air_quality = pd.read_csv('https://storage.googleapis.com/dqlab-dataset/LO4/global_air_quality_4000rows.csv')\n",
        "print('Lima data teratas:\\n', global_air_quality.head())\n",
        "# Melakukan pengecekan terhadap data\n",
        "print('Info global_air_quality:\\n', global_air_quality.info())\n",
        "# Melakukan count tanpa groupby\n",
        "print('Count tanpa groupby:\\n', global_air_quality.count())\n",
        "# Melakukan count dengan groupby \n",
        "gaq_groupby_count = global_air_quality.groupby('source_name').count()\n",
        "print('Count dengan groupby (5 data teratas):\\n', gaq_groupby_count.head())"
      ],
      "metadata": {
        "colab": {
          "base_uri": "https://localhost:8080/"
        },
        "id": "FuhjNrer4LRh",
        "outputId": "33932331-c749-465f-b064-9c03a965de1b"
      },
      "execution_count": 85,
      "outputs": [
        {
          "output_type": "stream",
          "name": "stdout",
          "text": [
            "Lima data teratas:\n",
            "                           location  ... averaged_over_in_hours\n",
            "0                  MOBILE-KICKAPOO  ...                   1.00\n",
            "1                  Oxford St Ebbes  ...                   1.00\n",
            "2                 BROADWAY (South)  ...                   1.00\n",
            "3  Deen Dayal Nagar, Sagar - MPPCB  ...                   0.25\n",
            "4                        Manglerud  ...                   1.00\n",
            "\n",
            "[5 rows x 11 columns]\n",
            "<class 'pandas.core.frame.DataFrame'>\n",
            "RangeIndex: 4000 entries, 0 to 3999\n",
            "Data columns (total 11 columns):\n",
            " #   Column                  Non-Null Count  Dtype  \n",
            "---  ------                  --------------  -----  \n",
            " 0   location                3997 non-null   object \n",
            " 1   city                    3966 non-null   object \n",
            " 2   country                 4000 non-null   object \n",
            " 3   pollutant               4000 non-null   object \n",
            " 4   value                   4000 non-null   float64\n",
            " 5   timestamp               4000 non-null   object \n",
            " 6   unit                    4000 non-null   object \n",
            " 7   source_name             4000 non-null   object \n",
            " 8   latitude                4000 non-null   float64\n",
            " 9   longitude               4000 non-null   float64\n",
            " 10  averaged_over_in_hours  3634 non-null   float64\n",
            "dtypes: float64(4), object(7)\n",
            "memory usage: 343.9+ KB\n",
            "Info global_air_quality:\n",
            " None\n",
            "Count tanpa groupby:\n",
            " location                  3997\n",
            "city                      3966\n",
            "country                   4000\n",
            "pollutant                 4000\n",
            "value                     4000\n",
            "timestamp                 4000\n",
            "unit                      4000\n",
            "source_name               4000\n",
            "latitude                  4000\n",
            "longitude                 4000\n",
            "averaged_over_in_hours    3634\n",
            "dtype: int64\n",
            "Count dengan groupby (5 data teratas):\n",
            "              location  city  ...  longitude  averaged_over_in_hours\n",
            "source_name                  ...                                   \n",
            "ARPALAZIO          72    72  ...         72                      72\n",
            "Agaar.mn           27    27  ...         27                       0\n",
            "AirNow           1712  1681  ...       1715                    1715\n",
            "Andalucia          71    71  ...         71                      71\n",
            "Anqing              4     4  ...          4                       4\n",
            "\n",
            "[5 rows x 10 columns]\n"
          ]
        }
      ]
    },
    {
      "cell_type": "markdown",
      "source": [
        "#Groupby dan Aggregasi dengan Fungsi Statistik Dasar - Part 1\n"
      ],
      "metadata": {
        "id": "oeDOnSBq5Oo1"
      }
    },
    {
      "cell_type": "code",
      "source": [
        "import pandas as pd\n",
        "# Load data global_air_quality.csv\n",
        "gaq = pd.read_csv('https://storage.googleapis.com/dqlab-dataset/LO4/global_air_quality_4000rows.csv')\n",
        "# Create variabel pollutant \n",
        "pollutant = gaq[['country','city','pollutant','value']].pivot_table(index=['country','city'],columns='pollutant').fillna(0)\n",
        "print('Data pollutant (5 teratas):\\n', pollutant.head())\n",
        "# [1] Group berdasarkan country dan terapkan aggregasi mean\n",
        "pollutant_mean = pollutant.groupby('country').mean()\n",
        "print('Rata-rata pollutant (5 teratas):\\n', pollutant_mean.head())\n",
        "# [2] Group berdasarkan country dan terapkan aggregasi std\n",
        "pollutant_std = pollutant.groupby('country').std().fillna(0)\n",
        "print('Standar deviasi pollutant (5 teratas):\\n', pollutant_std.head())"
      ],
      "metadata": {
        "colab": {
          "base_uri": "https://localhost:8080/"
        },
        "id": "WQ9Ezk-C5Pft",
        "outputId": "f14739e9-fd5e-4167-9a92-9267582bebb3"
      },
      "execution_count": 86,
      "outputs": [
        {
          "output_type": "stream",
          "name": "stdout",
          "text": [
            "Data pollutant (5 teratas):\n",
            "                      value                                     \n",
            "pollutant               bc      co   no2   o3   pm10  pm25  so2\n",
            "country city                                                   \n",
            "AR      Buenos Aires   0.0     0.0   0.0  0.0    0.0  18.1  0.0\n",
            "AU      Townsville     0.0     0.0   0.0  0.0    0.0   3.9  0.0\n",
            "BA      Goražde        0.0   141.0  19.0  8.0    0.0   0.0  0.0\n",
            "        Ilijaš         0.0     0.0   0.0  0.0  100.0   0.0  0.0\n",
            "        Jajce          0.0  1508.0  25.0  6.0    9.0   0.0  0.0\n",
            "Rata-rata pollutant (5 teratas):\n",
            "           value                         ...                                 \n",
            "pollutant    bc          co        no2  ...       pm10       pm25        so2\n",
            "country                                 ...                                 \n",
            "AR          0.0    0.000000   0.000000  ...   0.000000  18.100000   0.000000\n",
            "AU          0.0    0.000000   0.000000  ...   0.000000   3.900000   0.000000\n",
            "BA          0.0  475.833333  19.500000  ...  40.333333   0.000000  18.000000\n",
            "CA          0.0    0.036818   0.000355  ...   0.836364   3.433601   0.000091\n",
            "CL          0.0    0.000000  21.000000  ...   0.000000   0.000000   0.000000\n",
            "\n",
            "[5 rows x 7 columns]\n",
            "Standar deviasi pollutant (5 teratas):\n",
            "         value                                                                 \n",
            "           bc          co        no2        o3       pm10      pm25        so2\n",
            "country                                                                       \n",
            "AR        0.0    0.000000   0.000000  0.000000   0.000000  0.000000   0.000000\n",
            "AU        0.0    0.000000   0.000000  0.000000   0.000000  0.000000   0.000000\n",
            "BA        0.0  536.925476  11.945711  8.207720  46.701891  0.000000  30.403947\n",
            "CA        0.0    0.089841   0.000750  0.019323   1.713052  2.286509   0.000302\n",
            "CL        0.0    0.000000   0.000000  0.000000   0.000000  0.000000   0.000000\n"
          ]
        }
      ]
    },
    {
      "cell_type": "markdown",
      "source": [
        "#Groupby dan Aggregasi dengan Fungsi Statistik Dasar - Part 2\n"
      ],
      "metadata": {
        "id": "NgbKfMul_m3h"
      }
    },
    {
      "cell_type": "code",
      "source": [
        "import pandas as pd\n",
        "# Load data \n",
        "gaq = pd.read_csv('https://storage.googleapis.com/dqlab-dataset/LO4/global_air_quality_4000rows.csv')\n",
        "# Create variabel pollutant \n",
        "pollutant = gaq[['country','city','pollutant','value']].pivot_table(index=['country','city'],columns='pollutant').fillna(0)\n",
        "print('Data pollutant (5 teratas):\\n', pollutant.head())\n",
        "# [3] Group berdasarkan country dan terapkan aggregasi sum\n",
        "pollutant_sum = pollutant.groupby('country').sum()\n",
        "print('Total pollutant (5 teratas):\\n', pollutant_sum.head())\n",
        "# [4] Group berdasarkan country dan terapkan aggregasi nunique\n",
        "pollutant_nunique = pollutant.groupby('country').nunique()\n",
        "print('Jumlah unique value pollutant (5 teratas):\\n', pollutant_nunique.head())"
      ],
      "metadata": {
        "colab": {
          "base_uri": "https://localhost:8080/"
        },
        "id": "nNLl5fvO_ov4",
        "outputId": "e2e3af20-a864-422b-adfd-0de06133b189"
      },
      "execution_count": 87,
      "outputs": [
        {
          "output_type": "stream",
          "name": "stdout",
          "text": [
            "Data pollutant (5 teratas):\n",
            "                      value                                     \n",
            "pollutant               bc      co   no2   o3   pm10  pm25  so2\n",
            "country city                                                   \n",
            "AR      Buenos Aires   0.0     0.0   0.0  0.0    0.0  18.1  0.0\n",
            "AU      Townsville     0.0     0.0   0.0  0.0    0.0   3.9  0.0\n",
            "BA      Goražde        0.0   141.0  19.0  8.0    0.0   0.0  0.0\n",
            "        Ilijaš         0.0     0.0   0.0  0.0  100.0   0.0  0.0\n",
            "        Jajce          0.0  1508.0  25.0  6.0    9.0   0.0  0.0\n",
            "Total pollutant (5 teratas):\n",
            "           value                                                          \n",
            "pollutant    bc        co       no2         o3   pm10       pm25      so2\n",
            "country                                                                  \n",
            "AR          0.0     0.000    0.0000   0.000000    0.0  18.100000    0.000\n",
            "AU          0.0     0.000    0.0000   0.000000    0.0   3.900000    0.000\n",
            "BA          0.0  2855.000  117.0000  35.000000  242.0   0.000000  108.000\n",
            "CA          0.0     0.405    0.0039   0.285593    9.2  37.769608    0.001\n",
            "CL          0.0     0.000   21.0000   0.000000    0.0   0.000000    0.000\n",
            "Jumlah unique value pollutant (5 teratas):\n",
            "           value                        \n",
            "pollutant    bc co no2 o3 pm10 pm25 so2\n",
            "country                                \n",
            "AR            1  1   1  1    1    1   1\n",
            "AU            1  1   1  1    1    1   1\n",
            "BA            1  6   6  4    5    1   4\n",
            "CA            1  3   4  9    4   10   2\n",
            "CL            1  1   1  1    1    1   1\n"
          ]
        }
      ]
    },
    {
      "cell_type": "markdown",
      "source": [
        "#Groupby dan Aggregasi dengan Fungsi Statistik Dasar - Part 3\n"
      ],
      "metadata": {
        "id": "zxMTco_lAWt-"
      }
    },
    {
      "cell_type": "code",
      "source": [
        "import pandas as pd\n",
        "# Load data \n",
        "gaq = pd.read_csv('https://storage.googleapis.com/dqlab-dataset/LO4/global_air_quality_4000rows.csv')\n",
        "# Create variabel pollutant \n",
        "pollutant = gaq[['country','city','pollutant','value']].pivot_table(index=['country','city'],columns='pollutant').fillna(0)\n",
        "print('Data pollutant (5 teratas):\\n', pollutant.head())\n",
        "# Group berdasarkan country dan terapkan aggregasi first\n",
        "pollutant_first = pollutant.groupby('country').first()\n",
        "print('Item pertama pollutant (5 teratas):\\n', pollutant_first.head())\n",
        "# Group berdasarkan country dan terapkan aggregasi last\n",
        "pollutant_last = pollutant.groupby('country').last()\n",
        "print('Item terakhir pollutant (5 teratas):\\n', pollutant_last.head())"
      ],
      "metadata": {
        "colab": {
          "base_uri": "https://localhost:8080/"
        },
        "id": "ryKiLu2BAYTR",
        "outputId": "d337ace8-4b41-4532-d8e6-7dc96ca8cda1"
      },
      "execution_count": 3,
      "outputs": [
        {
          "output_type": "stream",
          "name": "stdout",
          "text": [
            "Data pollutant (5 teratas):\n",
            "                      value                                     \n",
            "pollutant               bc      co   no2   o3   pm10  pm25  so2\n",
            "country city                                                   \n",
            "AR      Buenos Aires   0.0     0.0   0.0  0.0    0.0  18.1  0.0\n",
            "AU      Townsville     0.0     0.0   0.0  0.0    0.0   3.9  0.0\n",
            "BA      Goražde        0.0   141.0  19.0  8.0    0.0   0.0  0.0\n",
            "        Ilijaš         0.0     0.0   0.0  0.0  100.0   0.0  0.0\n",
            "        Jajce          0.0  1508.0  25.0  6.0    9.0   0.0  0.0\n",
            "Item pertama pollutant (5 teratas):\n",
            "           value                                            \n",
            "pollutant    bc       co      no2        o3 pm10  pm25  so2\n",
            "country                                                    \n",
            "AR          0.0    0.000   0.0000  0.000000  0.0  18.1  0.0\n",
            "AU          0.0    0.000   0.0000  0.000000  0.0   3.9  0.0\n",
            "BA          0.0  141.000  19.0000  8.000000  0.0   0.0  0.0\n",
            "CA          0.0    0.285   0.0024  0.048333  0.0   3.9  0.0\n",
            "CL          0.0    0.000  21.0000  0.000000  0.0   0.0  0.0\n",
            "Item terakhir pollutant (5 teratas):\n",
            "           value                                      \n",
            "pollutant    bc     co   no2     o3  pm10  pm25   so2\n",
            "country                                              \n",
            "AR          0.0    0.0   0.0  0.000   0.0  18.1   0.0\n",
            "AU          0.0    0.0   0.0  0.000   0.0   3.9   0.0\n",
            "BA          0.0  292.0  29.0  0.000  96.0   0.0  78.0\n",
            "CA          0.0    0.0   0.0  0.036   3.0   0.0   0.0\n",
            "CL          0.0    0.0  21.0  0.000   0.0   0.0   0.0\n"
          ]
        }
      ]
    },
    {
      "cell_type": "markdown",
      "source": [
        "#Groupby dengan Multiple Aggregations\n"
      ],
      "metadata": {
        "id": "xSaJJ4Siw4Ms"
      }
    },
    {
      "cell_type": "code",
      "source": [
        "import pandas as pd\n",
        "# Load data \n",
        "gaq = pd.read_csv('https://storage.googleapis.com/dqlab-dataset/LO4/global_air_quality_4000rows.csv')\n",
        "# Create variabel pollutant \n",
        "pollutant = gaq[['country','city','pollutant','value']].pivot_table(index=['country','city'],columns='pollutant').fillna(0)\n",
        "print('Data pollutant (5 teratas):\\n', pollutant.head())\n",
        "# Group berdasarkan country dan terapkan aggregasi: min, median, mean, max\n",
        "multiagg = pollutant.groupby('country').agg(['min','median','mean','max'])\n",
        "print('Multiple aggregations (5 teratas):\\n', multiagg.head())"
      ],
      "metadata": {
        "colab": {
          "base_uri": "https://localhost:8080/"
        },
        "id": "uVre5W10w44P",
        "outputId": "9eda97e7-c4b4-4382-8c6b-09c1be355fb5"
      },
      "execution_count": 4,
      "outputs": [
        {
          "output_type": "stream",
          "name": "stdout",
          "text": [
            "Data pollutant (5 teratas):\n",
            "                      value                                     \n",
            "pollutant               bc      co   no2   o3   pm10  pm25  so2\n",
            "country city                                                   \n",
            "AR      Buenos Aires   0.0     0.0   0.0  0.0    0.0  18.1  0.0\n",
            "AU      Townsville     0.0     0.0   0.0  0.0    0.0   3.9  0.0\n",
            "BA      Goražde        0.0   141.0  19.0  8.0    0.0   0.0  0.0\n",
            "        Ilijaš         0.0     0.0   0.0  0.0  100.0   0.0  0.0\n",
            "        Jajce          0.0  1508.0  25.0  6.0    9.0   0.0  0.0\n",
            "Multiple aggregations (5 teratas):\n",
            "         value                        ...                                     \n",
            "           bc                    co  ...  pm25  so2                          \n",
            "          min median mean  max  min  ...   max  min median       mean     max\n",
            "country                              ...                                     \n",
            "AR        0.0    0.0  0.0  0.0  0.0  ...  18.1  0.0    0.0   0.000000   0.000\n",
            "AU        0.0    0.0  0.0  0.0  0.0  ...   3.9  0.0    0.0   0.000000   0.000\n",
            "BA        0.0    0.0  0.0  0.0  0.0  ...   0.0  0.0    5.5  18.000000  78.000\n",
            "CA        0.0    0.0  0.0  0.0  0.0  ...   6.0  0.0    0.0   0.000091   0.001\n",
            "CL        0.0    0.0  0.0  0.0  0.0  ...   0.0  0.0    0.0   0.000000   0.000\n",
            "\n",
            "[5 rows x 28 columns]\n"
          ]
        }
      ]
    },
    {
      "cell_type": "markdown",
      "source": [
        "#Groupby dengan Custom Aggregations\n"
      ],
      "metadata": {
        "id": "h_iwZ5RlxW_m"
      }
    },
    {
      "cell_type": "code",
      "source": [
        "import pandas as pd\n",
        "# Load data \n",
        "gaq = pd.read_csv('https://storage.googleapis.com/dqlab-dataset/LO4/global_air_quality_4000rows.csv')\n",
        "# Create variabel pollutant \n",
        "pollutant = gaq[['country','city','pollutant','value']].pivot_table(index=['country','city'],columns='pollutant').fillna(0)\n",
        "# Create sebuah function: iqr\n",
        "def iqr(series):\n",
        "\tQ1 = series.quantile(0.25)\n",
        "\tQ3 = series.quantile(0.75)\n",
        "\treturn Q3-Q1\n",
        "# Group berdasarkan country dan terapkan aggregasi dari function: iqr\n",
        "custom_agg = pollutant.groupby('country').agg(iqr)\n",
        "print('Custom aggregation (5 teratas):\\n', custom_agg.head())"
      ],
      "metadata": {
        "colab": {
          "base_uri": "https://localhost:8080/"
        },
        "id": "SV1_K7coxY3N",
        "outputId": "20a1c6ab-ee5b-43e4-f84b-4182311d5192"
      },
      "execution_count": 5,
      "outputs": [
        {
          "output_type": "stream",
          "name": "stdout",
          "text": [
            "Custom aggregation (5 teratas):\n",
            "         value                                                  \n",
            "           bc      co       no2        o3  pm10      pm25   so2\n",
            "country                                                        \n",
            "AR        0.0    0.00   0.00000  0.000000   0.0  0.000000   0.0\n",
            "AU        0.0    0.00   0.00000  0.000000   0.0  0.000000   0.0\n",
            "BA        0.0  297.75  14.25000  7.500000  79.0  0.000000  17.0\n",
            "CA        0.0    0.00   0.00025  0.035708   0.5  3.876471   0.0\n",
            "CL        0.0    0.00   0.00000  0.000000   0.0  0.000000   0.0\n"
          ]
        }
      ]
    },
    {
      "cell_type": "markdown",
      "source": [
        "#Groupby dengan Custom Aggregations by dict\n"
      ],
      "metadata": {
        "id": "eK3K4h-dyr4n"
      }
    },
    {
      "cell_type": "code",
      "source": [
        "import pandas as pd\n",
        "# Load data \n",
        "gaq = pd.read_csv('https://storage.googleapis.com/dqlab-dataset/LO4/global_air_quality_4000rows.csv')\n",
        "# Create variabel pollutant \n",
        "pollutant = gaq[['country','city','pollutant','value']].pivot_table(index=['country','city'],columns='pollutant').fillna(0)\n",
        "print('Data pollutant (5 teratas):\\n', pollutant.head())\n",
        "# Function IQR\n",
        "def iqr(series):\n",
        "\treturn series.quantile(0.75) - series.quantile(0.25)\n",
        "# Create custom aggregation using dict\n",
        "custom_agg_dict = pollutant['value'][['pm10','pm25','so2']].groupby('country').agg({\n",
        "   'pm10':'median',\n",
        "   'pm25': iqr,\n",
        "   'so2': iqr\n",
        "})\n",
        "print('\\nCetak 5 data teratas custom_agg_dict:\\n', custom_agg_dict.head())"
      ],
      "metadata": {
        "colab": {
          "base_uri": "https://localhost:8080/"
        },
        "id": "NSyiqoQvys0t",
        "outputId": "22069f2c-698e-447a-c030-b99e784647d6"
      },
      "execution_count": 6,
      "outputs": [
        {
          "output_type": "stream",
          "name": "stdout",
          "text": [
            "Data pollutant (5 teratas):\n",
            "                      value                                     \n",
            "pollutant               bc      co   no2   o3   pm10  pm25  so2\n",
            "country city                                                   \n",
            "AR      Buenos Aires   0.0     0.0   0.0  0.0    0.0  18.1  0.0\n",
            "AU      Townsville     0.0     0.0   0.0  0.0    0.0   3.9  0.0\n",
            "BA      Goražde        0.0   141.0  19.0  8.0    0.0   0.0  0.0\n",
            "        Ilijaš         0.0     0.0   0.0  0.0  100.0   0.0  0.0\n",
            "        Jajce          0.0  1508.0  25.0  6.0    9.0   0.0  0.0\n",
            "\n",
            "Cetak 5 data teratas custom_agg_dict:\n",
            "          pm10      pm25   so2\n",
            "country                      \n",
            "AR        0.0  0.000000   0.0\n",
            "AU        0.0  0.000000   0.0\n",
            "BA       23.0  0.000000  17.0\n",
            "CA        0.0  3.876471   0.0\n",
            "CL        0.0  0.000000   0.0\n"
          ]
        }
      ]
    },
    {
      "cell_type": "markdown",
      "source": [
        "#Load Dataset as Time Series\n"
      ],
      "metadata": {
        "id": "boif3qxf0m6-"
      }
    },
    {
      "cell_type": "code",
      "source": [
        "import pandas as pd\n",
        "# Load dataset \n",
        "gaq = pd.read_csv('https://storage.googleapis.com/dqlab-dataset/LO4/global_air_quality_4000rows.csv', parse_dates=True, index_col='timestamp')\n",
        "# Cetak 5 data teratas\n",
        "print(gaq.head())\n",
        "# Cetak info dari dataframe gaq\n",
        "print('info')\n",
        "print(gaq.info())"
      ],
      "metadata": {
        "colab": {
          "base_uri": "https://localhost:8080/"
        },
        "id": "4o1sI9xH0nqv",
        "outputId": "78e57515-1d9a-4874-eecb-3dcf5d3b51b1"
      },
      "execution_count": 29,
      "outputs": [
        {
          "output_type": "stream",
          "name": "stdout",
          "text": [
            "                                                  location  ... averaged_over_in_hours\n",
            "timestamp                                                   ...                       \n",
            "2017-01-18 16:00:00+00:00                  MOBILE-KICKAPOO  ...                   1.00\n",
            "2020-04-07 20:00:00+00:00                  Oxford St Ebbes  ...                   1.00\n",
            "2020-04-07 19:00:00+00:00                 BROADWAY (South)  ...                   1.00\n",
            "2020-04-07 18:30:00+00:00  Deen Dayal Nagar, Sagar - MPPCB  ...                   0.25\n",
            "2020-04-07 20:00:00+00:00                        Manglerud  ...                   1.00\n",
            "\n",
            "[5 rows x 10 columns]\n",
            "info\n",
            "<class 'pandas.core.frame.DataFrame'>\n",
            "DatetimeIndex: 4000 entries, 2017-01-18 16:00:00+00:00 to 2017-01-08 08:00:00+00:00\n",
            "Data columns (total 10 columns):\n",
            " #   Column                  Non-Null Count  Dtype  \n",
            "---  ------                  --------------  -----  \n",
            " 0   location                3997 non-null   object \n",
            " 1   city                    3966 non-null   object \n",
            " 2   country                 4000 non-null   object \n",
            " 3   pollutant               4000 non-null   object \n",
            " 4   value                   4000 non-null   float64\n",
            " 5   unit                    4000 non-null   object \n",
            " 6   source_name             4000 non-null   object \n",
            " 7   latitude                4000 non-null   float64\n",
            " 8   longitude               4000 non-null   float64\n",
            " 9   averaged_over_in_hours  3634 non-null   float64\n",
            "dtypes: float64(4), object(6)\n",
            "memory usage: 343.8+ KB\n",
            "None\n"
          ]
        }
      ]
    },
    {
      "cell_type": "markdown",
      "source": [
        "#Convert to Datetime\n"
      ],
      "metadata": {
        "id": "xbuMnnJ81cUJ"
      }
    },
    {
      "cell_type": "code",
      "source": [
        "import pandas as pd\n",
        "# Load dataset \n",
        "gaq = pd.read_csv('https://storage.googleapis.com/dqlab-dataset/LO4/global_air_quality_4000rows.csv')\n",
        "# Cetak 5 data teratas\n",
        "print('Sebelum diubah dalam format datetime:\\n', gaq.head())\n",
        "# Ubah menjadi datetime\n",
        "gaq['timestamp'] = pd.to_datetime(gaq['timestamp'])\n",
        "gaq = gaq.set_index('timestamp')\n",
        "# Cetak 5 data teratas\n",
        "print('Sesudah diubah dalam format datetime:\\n', gaq.head())"
      ],
      "metadata": {
        "colab": {
          "base_uri": "https://localhost:8080/"
        },
        "id": "sGMWr7qa1c5m",
        "outputId": "460ed30a-327b-4846-8ca6-193a215f4320"
      },
      "execution_count": 34,
      "outputs": [
        {
          "output_type": "stream",
          "name": "stdout",
          "text": [
            "Sebelum diubah dalam format datetime:\n",
            "                           location  ... averaged_over_in_hours\n",
            "0                  MOBILE-KICKAPOO  ...                   1.00\n",
            "1                  Oxford St Ebbes  ...                   1.00\n",
            "2                 BROADWAY (South)  ...                   1.00\n",
            "3  Deen Dayal Nagar, Sagar - MPPCB  ...                   0.25\n",
            "4                        Manglerud  ...                   1.00\n",
            "\n",
            "[5 rows x 11 columns]\n",
            "Sesudah diubah dalam format datetime:\n",
            "                                                   location  ... averaged_over_in_hours\n",
            "timestamp                                                   ...                       \n",
            "2017-01-18 16:00:00+00:00                  MOBILE-KICKAPOO  ...                   1.00\n",
            "2020-04-07 20:00:00+00:00                  Oxford St Ebbes  ...                   1.00\n",
            "2020-04-07 19:00:00+00:00                 BROADWAY (South)  ...                   1.00\n",
            "2020-04-07 18:30:00+00:00  Deen Dayal Nagar, Sagar - MPPCB  ...                   0.25\n",
            "2020-04-07 20:00:00+00:00                        Manglerud  ...                   1.00\n",
            "\n",
            "[5 rows x 10 columns]\n"
          ]
        }
      ]
    },
    {
      "cell_type": "markdown",
      "source": [
        "#Downsampling Data\n"
      ],
      "metadata": {
        "id": "5HLrZa3i_K-_"
      }
    },
    {
      "cell_type": "code",
      "source": [
        "import pandas as pd\n",
        "# Load dataset \n",
        "gaq = pd.read_csv('https://storage.googleapis.com/dqlab-dataset/LO4/global_air_quality_4000rows.csv')\n",
        "gaq['timestamp'] = pd.to_datetime(gaq['timestamp'])\n",
        "gaq = gaq.set_index('timestamp')\n",
        "print('Dataset sebelum di-downsampling (5 teratas):\\n', gaq.head())\n",
        "# [1] Downsampling dari daily to weekly dan kita hitung maksimum untuk seminggu\n",
        "gaq_weekly = gaq.resample('w').max()\n",
        "print('Downsampling daily to weekly - max (5 teratas):\\n', gaq_weekly.head())\n",
        "# [2] Downsampling dari daily to quaterly dan kita hitung minimumnya untuk tiap quarter\n",
        "gaq_quaterly = gaq.resample('q').min()\n",
        "print('Downsampling daily to quaterly - min (5 teratas):\\n', gaq_quaterly.head())"
      ],
      "metadata": {
        "id": "EDubygLqAet-"
      },
      "execution_count": null,
      "outputs": []
    },
    {
      "cell_type": "markdown",
      "source": [
        "#Upsampling Data\n"
      ],
      "metadata": {
        "id": "Jne6B7K8AfOo"
      }
    },
    {
      "cell_type": "code",
      "source": [
        "import pandas as pd\n",
        "# Load dataset \n",
        "gaq = pd.read_csv('https://storage.googleapis.com/dqlab-dataset/LO4/global_air_quality_4000rows.csv')\n",
        "gaq['timestamp'] = pd.to_datetime(gaq['timestamp'])\n",
        "gaq = gaq.set_index('timestamp')\n",
        "print('Dataset sebelum di-upsampling (5 teratas):\\n', gaq.head())\n",
        "# Upsampling dari daily to hourly dan kita hitung reratanya\n",
        "gaq_hourly = gaq.resample('H').mean()\n",
        "print('Upsampling daily to hourly - mean (5 teratas):\\n', gaq_hourly.head())"
      ],
      "metadata": {
        "colab": {
          "base_uri": "https://localhost:8080/"
        },
        "id": "qilsBxu0AhBe",
        "outputId": "d37a7782-bea1-4f88-f72e-52e7eeaffbb2"
      },
      "execution_count": 47,
      "outputs": [
        {
          "output_type": "stream",
          "name": "stdout",
          "text": [
            "Dataset sebelum di-upsampling (5 teratas):\n",
            "                                                   location  ... averaged_over_in_hours\n",
            "timestamp                                                   ...                       \n",
            "2017-01-18 16:00:00+00:00                  MOBILE-KICKAPOO  ...                   1.00\n",
            "2020-04-07 20:00:00+00:00                  Oxford St Ebbes  ...                   1.00\n",
            "2020-04-07 19:00:00+00:00                 BROADWAY (South)  ...                   1.00\n",
            "2020-04-07 18:30:00+00:00  Deen Dayal Nagar, Sagar - MPPCB  ...                   0.25\n",
            "2020-04-07 20:00:00+00:00                        Manglerud  ...                   1.00\n",
            "\n",
            "[5 rows x 10 columns]\n",
            "Upsampling daily to hourly - mean (5 teratas):\n",
            "                            value  latitude  longitude  averaged_over_in_hours\n",
            "timestamp                                                                    \n",
            "2014-05-13 03:00:00+00:00    9.7    14.635     121.08                     1.0\n",
            "2014-05-13 04:00:00+00:00    NaN       NaN        NaN                     NaN\n",
            "2014-05-13 05:00:00+00:00    NaN       NaN        NaN                     NaN\n",
            "2014-05-13 06:00:00+00:00    NaN       NaN        NaN                     NaN\n",
            "2014-05-13 07:00:00+00:00    NaN       NaN        NaN                     NaN\n"
          ]
        }
      ]
    },
    {
      "cell_type": "markdown",
      "source": [
        "#Resampling by Frequency\n"
      ],
      "metadata": {
        "id": "TbE0XQVXBPqg"
      }
    },
    {
      "cell_type": "code",
      "source": [
        "import pandas as pd\n",
        "# Load dataset\n",
        "gaq = pd.read_csv('https://storage.googleapis.com/dqlab-dataset/LO4/global_air_quality_4000rows.csv')\n",
        "gaq['timestamp'] = pd.to_datetime(gaq['timestamp'])\n",
        "gaq = gaq.set_index('timestamp')\n",
        "print('Dataset sebelum di-resampling (5 teratas):\\n', gaq.head())\n",
        "# Resample dari daily to 2 monthly, hitung reratanya, dan fillna = 'bfill'\n",
        "gaq_2monthly = gaq.resample('2m').mean().fillna(method='bfill')\n",
        "print('Resampling daily to 2 monthly - mean - ffill (5 teratas):\\n', gaq_2monthly.head())"
      ],
      "metadata": {
        "colab": {
          "base_uri": "https://localhost:8080/"
        },
        "id": "kfE5Oy5UBRSs",
        "outputId": "a61ba6c4-7833-43b6-f5d6-c3495824428c"
      },
      "execution_count": 53,
      "outputs": [
        {
          "output_type": "stream",
          "name": "stdout",
          "text": [
            "Dataset sebelum di-resampling (5 teratas):\n",
            "                                                   location  ... averaged_over_in_hours\n",
            "timestamp                                                   ...                       \n",
            "2017-01-18 16:00:00+00:00                  MOBILE-KICKAPOO  ...                   1.00\n",
            "2020-04-07 20:00:00+00:00                  Oxford St Ebbes  ...                   1.00\n",
            "2020-04-07 19:00:00+00:00                 BROADWAY (South)  ...                   1.00\n",
            "2020-04-07 18:30:00+00:00  Deen Dayal Nagar, Sagar - MPPCB  ...                   0.25\n",
            "2020-04-07 20:00:00+00:00                        Manglerud  ...                   1.00\n",
            "\n",
            "[5 rows x 10 columns]\n",
            "Resampling daily to 2 monthly - mean - ffill (5 teratas):\n",
            "                            value  latitude  longitude  averaged_over_in_hours\n",
            "timestamp                                                                    \n",
            "2014-05-31 00:00:00+00:00    9.7    14.635    121.080                     1.0\n",
            "2014-07-31 00:00:00+00:00    7.1    37.132    -86.148                     1.0\n",
            "2014-09-30 00:00:00+00:00    7.1    37.132    -86.148                     1.0\n",
            "2014-11-30 00:00:00+00:00   18.1   -34.560    -58.506                     1.0\n",
            "2015-01-31 00:00:00+00:00   18.1   -34.560    -58.506                     1.0\n"
          ]
        }
      ]
    },
    {
      "cell_type": "markdown",
      "source": [
        "#Visualisasi\n"
      ],
      "metadata": {
        "id": "oZ7bP9-kCBJW"
      }
    },
    {
      "cell_type": "code",
      "source": [
        "import pandas as pd\n",
        "import matplotlib.pyplot as plt\n",
        "# Load dataset \n",
        "gaq = pd.read_csv('https://storage.googleapis.com/dqlab-dataset/LO4/global_air_quality_4000rows.csv')\n",
        "gaq['timestamp'] = pd.to_datetime(gaq['timestamp'])\n",
        "gaq = gaq.set_index('timestamp')\n",
        "# [1] Membuat pivot table yang menunjukkan waktu di baris nya dan masing-masing value dari pollutant nya dalam kolom\n",
        "gaq_viz = gaq[['pollutant','value']].reset_index().set_index(['timestamp','pollutant'])\n",
        "gaq_viz = gaq_viz.pivot_table(index='timestamp', columns='pollutant', aggfunc='mean').fillna(0)\n",
        "gaq_viz.columns = gaq_viz.columns.droplevel(0)\n",
        "print('Data (5 teratas):\\n', gaq_viz.head())\n",
        "# [2] Membuat fungsi yang memberikan default value 0 ketika value nya di bawah 0 dan apply ke setiap elemen dari dataset tersebut, kemudian menampilkannya sebagai chart\n",
        "def default_val(val):\n",
        " if val < 0:\n",
        "   return 0\n",
        " else:\n",
        "   return val\n",
        "line1 = gaq_viz.resample('M').mean().ffill().applymap(lambda x: default_val(x)).apply(lambda x: x/x.max()) # default value if value < 0 then 0, kemudian menghasilkan % value = value/max(value)\n",
        "line1.plot(\n",
        "   title = 'average value of each pollutant over months',\n",
        "   figsize = (10,10), #ukuran canvas 10px x 10px\n",
        "   ylim = (0,1.25), #memberikan batas tampilan y-axis hanya 0 sampai 125%\n",
        "   subplots = True #memecah plot menjadi beberapa bagian sesuai dengan jumlah kolom\n",
        ")\n",
        "plt.ylabel('avg pollutant (%)')\n",
        "plt.xlabel('month')\n",
        "plt.show()"
      ],
      "metadata": {
        "colab": {
          "base_uri": "https://localhost:8080/",
          "height": 774
        },
        "id": "snmpZmAtCB2f",
        "outputId": "2a6cf744-18e3-4839-af48-409c82536417"
      },
      "execution_count": 56,
      "outputs": [
        {
          "output_type": "stream",
          "name": "stdout",
          "text": [
            "Data (5 teratas):\n",
            " pollutant                   bc   co  no2   o3  pm10  pm25  so2\n",
            "timestamp                                                     \n",
            "2014-05-13 03:00:00+00:00  0.0  0.0  0.0  0.0   0.0   9.7  0.0\n",
            "2014-08-12 20:00:00+00:00  0.0  0.0  0.0  0.0   0.0   7.1  0.0\n",
            "2015-04-15 00:00:00+00:00  0.0  0.0  0.0  0.0   0.0  18.1  0.0\n",
            "2015-08-21 01:00:00+00:00  0.0  0.0  0.0  0.0   0.0  36.9  0.0\n",
            "2015-09-13 01:00:00+00:00  0.0  0.0  0.0  0.0   0.0   8.8  0.0\n"
          ]
        },
        {
          "output_type": "display_data",
          "data": {
            "image/png": "[encoded data removed]",
            "text/plain": [
              "<Figure size 720x720 with 7 Axes>"
            ]
          },
          "metadata": {
            "needs_background": "light"
          }
        }
      ]
    },
    {
      "cell_type": "markdown",
      "source": [
        "#Performa Penjualan di Setiap Cabang - Part 1\n"
      ],
      "metadata": {
        "id": "FZfjamg_DUUz"
      }
    },
    {
      "cell_type": "code",
      "source": [
        "import pandas as pd\n",
        "import matplotlib.pyplot as plt\n",
        "\n",
        "# [1]. Load masing-masing data dengan pandas\n",
        "retail_data1 = pd.read_csv('https://storage.googleapis.com/dqlab-dataset/10%25_original_randomstate%3D42/retail_data_from_1_until_3_reduce.csv')\n",
        "retail_data2 = pd.read_csv('https://storage.googleapis.com/dqlab-dataset/10%25_original_randomstate%3D42/retail_data_from_4_until_6_reduce.csv')\n",
        "retail_data3 = pd.read_csv('https://storage.googleapis.com/dqlab-dataset/10%25_original_randomstate%3D42/retail_data_from_7_until_9_reduce.csv')\n",
        "retail_data4 = pd.read_csv('https://storage.googleapis.com/dqlab-dataset/10%25_original_randomstate%3D42/retail_data_from_10_until_12_reduce.csv')\n",
        "\n",
        "# [2]. Pengecekan Data\n",
        "print('PENGECEKAN DATA\\n\\n')\n",
        "#      Cek data sekilas (tampilkan 5 baris teratas)\n",
        "print(retail_data1.head())\n",
        "#      Cek list kolom untuk semua dataframe\n",
        "print('Kolom retail_data1: %s' %retail_data1.columns)\n",
        "print('Kolom retail_data2: %s' %retail_data2.columns)\n",
        "print('Kolom retail_data3: %s' %retail_data3.columns)\n",
        "print('Kolom retail_data4: %s' %retail_data4.columns)\n",
        "#      Concat multiple dataframe menjadi 1 dataframe\n",
        "retail_table = pd.concat([retail_data1,retail_data2,retail_data3,retail_data4])\n",
        "print('\\nJumlah baris:', retail_table.shape[0])\n",
        "#      Pengecekan dataframe info\n",
        "print('\\nInfo:')\n",
        "print(retail_table.info())\n",
        "#      Pengecekan statistik deskriptif\n",
        "print('\\nStatistik deskriptif:\\n', retail_table.describe())"
      ],
      "metadata": {
        "colab": {
          "base_uri": "https://localhost:8080/"
        },
        "id": "_WrD-9wnDwhh",
        "outputId": "3fd12a0d-931b-415f-aa75-23587e8fcb61"
      },
      "execution_count": 57,
      "outputs": [
        {
          "output_type": "stream",
          "name": "stdout",
          "text": [
            "PENGECEKAN DATA\n",
            "\n",
            "\n",
            "   order_id order_date  customer_id  ... quantity item_price total_price\n",
            "0   1612885   01-01-19        16293  ...        6     747000     4482000\n",
            "1   1612387   01-01-19        17228  ...        4     590000     2360000\n",
            "2   1612903   01-01-19        16775  ...        3    1325000     3975000\n",
            "3   1612963   01-01-19            0  ...        1    1045000     1045000\n",
            "4   1612915   01-01-19            0  ...        1    -891000      891000\n",
            "\n",
            "[5 rows x 10 columns]\n",
            "Kolom retail_data1: Index(['order_id', 'order_date', 'customer_id', 'city', 'province',\n",
            "       'product_id', 'brand', 'quantity', 'item_price', 'total_price'],\n",
            "      dtype='object')\n",
            "Kolom retail_data2: Index(['order_id', 'order_date', 'customer_id', 'city', 'province',\n",
            "       'product_id', 'brand', 'quantity', 'item_price', 'total_price'],\n",
            "      dtype='object')\n",
            "Kolom retail_data3: Index(['order_id', 'order_date', 'customer_id', 'city', 'province',\n",
            "       'product_id', 'brand', 'quantity', 'item_price', 'total_price'],\n",
            "      dtype='object')\n",
            "Kolom retail_data4: Index(['order_id', 'order_date', 'customer_id', 'city', 'province',\n",
            "       'product_id', 'brand', 'quantity', 'item_price', 'total_price'],\n",
            "      dtype='object')\n",
            "\n",
            "Jumlah baris: 50856\n",
            "\n",
            "Info:\n",
            "<class 'pandas.core.frame.DataFrame'>\n",
            "Int64Index: 50856 entries, 0 to 20182\n",
            "Data columns (total 10 columns):\n",
            " #   Column       Non-Null Count  Dtype \n",
            "---  ------       --------------  ----- \n",
            " 0   order_id     50856 non-null  object\n",
            " 1   order_date   50856 non-null  object\n",
            " 2   customer_id  50856 non-null  int64 \n",
            " 3   city         50856 non-null  object\n",
            " 4   province     50856 non-null  object\n",
            " 5   product_id   50856 non-null  object\n",
            " 6   brand        50856 non-null  object\n",
            " 7   quantity     50856 non-null  int64 \n",
            " 8   item_price   50856 non-null  int64 \n",
            " 9   total_price  50856 non-null  int64 \n",
            "dtypes: int64(4), object(6)\n",
            "memory usage: 4.3+ MB\n",
            "None\n",
            "\n",
            "Statistik deskriptif:\n",
            "         customer_id      quantity    item_price   total_price\n",
            "count  50856.000000  50856.000000  5.085600e+04  5.085600e+04\n",
            "mean   11516.434993     10.504680  1.345225e+06  7.020933e+06\n",
            "std     6762.130438     41.966574  7.306866e+06  2.689227e+07\n",
            "min        0.000000      1.000000 -8.910000e+05 -8.910000e+05\n",
            "25%    12370.000000      1.000000  4.500000e+05  1.356000e+06\n",
            "50%    14378.000000      4.000000  7.400000e+05  3.536000e+06\n",
            "75%    16284.000000     11.000000  1.458000e+06  6.270000e+06\n",
            "max    18287.000000   3114.000000  7.399120e+08  2.326158e+09\n"
          ]
        }
      ]
    },
    {
      "cell_type": "markdown",
      "source": [
        "#Performa Penjualan di setiap Cabang - Part 2\n"
      ],
      "metadata": {
        "id": "FzWE8VNLF3ho"
      }
    },
    {
      "cell_type": "code",
      "source": [
        "import pandas as pd\n",
        "import matplotlib.pyplot as plt\n",
        "\n",
        "retail_data1 = pd.read_csv('https://storage.googleapis.com/dqlab-dataset/10%25_original_randomstate%3D42/retail_data_from_1_until_3_reduce.csv')\n",
        "retail_data2 = pd.read_csv('https://storage.googleapis.com/dqlab-dataset/10%25_original_randomstate%3D42/retail_data_from_4_until_6_reduce.csv')\n",
        "retail_data3 = pd.read_csv('https://storage.googleapis.com/dqlab-dataset/10%25_original_randomstate%3D42/retail_data_from_7_until_9_reduce.csv')\n",
        "retail_data4 = pd.read_csv('https://storage.googleapis.com/dqlab-dataset/10%25_original_randomstate%3D42/retail_data_from_10_until_12_reduce.csv')\n",
        "\n",
        "retail_table = pd.concat([retail_data1, retail_data2, retail_data3, retail_data4])\n",
        "\n",
        "# [3]. Transformasi Data\n",
        "print('TRANSFORMASI DATA\\n\\n')\n",
        "#      Memastikan data yang memiliki item_price < 0 atau total_price < 0\n",
        "cek = retail_table.loc[(retail_table['item_price'] < 0) | (retail_table['total_price'] < 0)]\n",
        "print('\\nitem_price < 0 atau total_price < 0:\\n', cek)\n",
        "#      Jika tidak masuk akal datanya dapat dibuang\n",
        "if cek.shape[0] != 0:\n",
        "\tretail_table = retail_table.loc[(retail_table['item_price'] > 0) & (retail_table['total_price'] > 0)]\n",
        "#      Cek apakah masih ada order_id yang bernilai undefined dan delete row tersebut\n",
        "cek = retail_table.loc[retail_table['order_id'] == 'undefined']\n",
        "print('\\norder_id yang bernilai undefined:\\n', cek)\n",
        "#      Jika ada maka buang baris tersebut\n",
        "if cek.shape[0] != 0:\n",
        "\tretail_table = retail_table.loc[retail_table['order_id'] != 'undefined']\n",
        "\n",
        "#      Transform order_id menjadi int64\n",
        "retail_table['order_id'] = retail_table['order_id'].astype('int64')\n",
        "#      Transform order_date menjadi datetime Pandas\n",
        "retail_table['order_date'] = pd.to_datetime(retail_table['order_date'])\n",
        "#      Cek dataframe info kembali untuk memastikan\n",
        "print('\\nInfo:')\n",
        "print(retail_table.info())\n",
        "#      Cek statistik deskriptif kembali, untuk memastikan\n",
        "print('\\nStatistik deskriptif:\\n', retail_table.describe())"
      ],
      "metadata": {
        "colab": {
          "base_uri": "https://localhost:8080/"
        },
        "id": "x_Xm7qscGBJA",
        "outputId": "a44a3b8a-6530-4e53-8e28-39990b689536"
      },
      "execution_count": 60,
      "outputs": [
        {
          "output_type": "stream",
          "name": "stdout",
          "text": [
            "TRANSFORMASI DATA\n",
            "\n",
            "\n",
            "\n",
            "item_price < 0 atau total_price < 0:\n",
            "    order_id order_date  customer_id  ... quantity item_price total_price\n",
            "4   1612915   01-01-19            0  ...        1    -891000      891000\n",
            "96  1612927   01-01-19            0  ...        1    -891000     -891000\n",
            "21  1697299   01-10-19        17841  ...        1     520000     -520000\n",
            "\n",
            "[3 rows x 10 columns]\n",
            "\n",
            "order_id yang bernilai undefined:\n",
            "     order_id order_date  customer_id  ... quantity item_price total_price\n",
            "9  undefined   01-07-19        15150  ...       12     159000     1908000\n",
            "\n",
            "[1 rows x 10 columns]\n",
            "\n",
            "Info:\n",
            "<class 'pandas.core.frame.DataFrame'>\n",
            "Int64Index: 50852 entries, 0 to 20182\n",
            "Data columns (total 10 columns):\n",
            " #   Column       Non-Null Count  Dtype         \n",
            "---  ------       --------------  -----         \n",
            " 0   order_id     50852 non-null  int64         \n",
            " 1   order_date   50852 non-null  datetime64[ns]\n",
            " 2   customer_id  50852 non-null  int64         \n",
            " 3   city         50852 non-null  object        \n",
            " 4   province     50852 non-null  object        \n",
            " 5   product_id   50852 non-null  object        \n",
            " 6   brand        50852 non-null  object        \n",
            " 7   quantity     50852 non-null  int64         \n",
            " 8   item_price   50852 non-null  int64         \n",
            " 9   total_price  50852 non-null  int64         \n",
            "dtypes: datetime64[ns](1), int64(5), object(4)\n",
            "memory usage: 4.3+ MB\n",
            "None\n",
            "\n",
            "Statistik deskriptif:\n",
            "            order_id   customer_id      quantity    item_price   total_price\n",
            "count  5.085200e+04  50852.000000  50852.000000  5.085200e+04  5.085200e+04\n",
            "mean   1.680619e+06  11516.692107     10.505211  1.345353e+06  7.021458e+06\n",
            "std    3.867939e+04   6761.933325     41.968160  7.307137e+06  2.689326e+07\n",
            "min    1.612372e+06      0.000000      1.000000  1.200000e+04  1.200000e+04\n",
            "25%    1.646101e+06  12370.000000      1.000000  4.500000e+05  1.356000e+06\n",
            "50%    1.682341e+06  14378.000000      4.000000  7.400000e+05  3.536000e+06\n",
            "75%    1.714960e+06  16284.000000     11.000000  1.458000e+06  6.270000e+06\n",
            "max    1.742998e+06  18287.000000   3114.000000  7.399120e+08  2.326158e+09\n"
          ]
        }
      ]
    },
    {
      "cell_type": "markdown",
      "source": [
        "#Performa Penjualan di setiap Cabang - Part 3\n"
      ],
      "metadata": {
        "id": "x_ADBBO9HdzQ"
      }
    },
    {
      "cell_type": "code",
      "source": [
        "import pandas as pd\n",
        "import matplotlib.pyplot as plt\n",
        "\n",
        "retail_data1 = pd.read_csv('https://storage.googleapis.com/dqlab-dataset/10%25_original_randomstate%3D42/retail_data_from_1_until_3_reduce.csv')\n",
        "retail_data2 = pd.read_csv('https://storage.googleapis.com/dqlab-dataset/10%25_original_randomstate%3D42/retail_data_from_4_until_6_reduce.csv')\n",
        "retail_data3 = pd.read_csv('https://storage.googleapis.com/dqlab-dataset/10%25_original_randomstate%3D42/retail_data_from_7_until_9_reduce.csv')\n",
        "retail_data4 = pd.read_csv('https://storage.googleapis.com/dqlab-dataset/10%25_original_randomstate%3D42/retail_data_from_10_until_12_reduce.csv')\n",
        "\n",
        "retail_table = pd.concat([retail_data1, retail_data2, retail_data3, retail_data4])\n",
        "\n",
        "cek = retail_table.loc[(retail_table['item_price'] < 0) | (retail_table['total_price'] < 0)]\n",
        "if cek.shape[0] != 0:\n",
        "\tretail_table = retail_table.loc[(retail_table['item_price'] > 0) & (retail_table['total_price'] > 0)]\n",
        "\n",
        "cek = retail_table.loc[retail_table['order_id'] == 'undefined']\n",
        "if cek.shape[0] != 0:\n",
        "\tretail_table = retail_table.loc[retail_table['order_id'] != 'undefined']\n",
        "\n",
        "retail_table['order_id'] = retail_table['order_id'].astype('int64')\n",
        "retail_table['order_date'] = pd.to_datetime(retail_table['order_date'])\n",
        "\n",
        "# [4]. Filter hanya 5 province terbesar di pulau Jawa\n",
        "print('\\nFILTER 5 PROVINCE TERBESAR DI PULAU JAWA\\n')\n",
        "java = ['DKI Jakarta','Jawa Barat','Jawa Tengah','Jawa Timur','Yogyakarta']\n",
        "retail_table = retail_table.loc[retail_table['province'].isin(java)]\n",
        "#      Untuk memastikan kolom provinsi isinya sudah sama dengan java\n",
        "print(retail_table['province'].unique())\n",
        "\n",
        "# [5]. Kelompokkan sesuai dengan order_date dan province kemudian aggregasikan\n",
        "groupby_city_province = retail_table.groupby(['order_date','province']).agg({\n",
        "   'order_id': 'nunique',\n",
        "   'customer_id': 'nunique',\n",
        "   'product_id': 'nunique',\n",
        "   'brand': 'nunique',\n",
        "   'total_price': sum\n",
        "})\n",
        "#      Ubah nama kolomnya menjadi 'order','customer','product','brand','GMV'\n",
        "groupby_city_province.columns = ['order','customer','product','brand','GMV']\n",
        "print('\\ngroupby_city_province (10 data teratas):\\n', groupby_city_province.head(10))\n",
        "\n",
        "# [6]. Unstack untuk mendapatkan order_date di bagian baris dan province di bagian column\n",
        "unstack_city_province = groupby_city_province.unstack('province').fillna(0)\n",
        "print('\\nunstack_city_province (5 data teratas):\\n', unstack_city_province.head())"
      ],
      "metadata": {
        "colab": {
          "base_uri": "https://localhost:8080/"
        },
        "id": "l8it2c4HHfhv",
        "outputId": "3d42af34-24fa-4cc0-e7f4-8703fc7ff8fa"
      },
      "execution_count": 61,
      "outputs": [
        {
          "output_type": "stream",
          "name": "stdout",
          "text": [
            "\n",
            "FILTER 5 PROVINCE TERBESAR DI PULAU JAWA\n",
            "\n",
            "['Jawa Timur' 'Jawa Barat' 'Jawa Tengah' 'Yogyakarta' 'DKI Jakarta']\n",
            "\n",
            "groupby_city_province (10 data teratas):\n",
            "                         order  customer  product  brand         GMV\n",
            "order_date province                                                \n",
            "2019-01-01 DKI Jakarta     21        20       40     16   357607000\n",
            "           Jawa Barat       6         6       21      9    94335000\n",
            "           Jawa Tengah      3         3       19     11    53933000\n",
            "           Jawa Timur       3         3        9      9    69116000\n",
            "           Yogyakarta       4         3       10      6  2884114000\n",
            "2019-01-02 DKI Jakarta     10        10       28     14   149577000\n",
            "           Jawa Barat       7         7       26     11   172395000\n",
            "           Jawa Tengah      1         1        2      2    13760000\n",
            "           Jawa Timur       2         2        3      2    92570000\n",
            "           Yogyakarta       1         1        6      4   122160000\n",
            "\n",
            "unstack_city_province (5 data teratas):\n",
            "                  order             ...         GMV              \n",
            "province   DKI Jakarta Jawa Barat  ...  Jawa Timur    Yogyakarta\n",
            "order_date                         ...                          \n",
            "2019-01-01        21.0        6.0  ...  69116000.0  2.884114e+09\n",
            "2019-01-02        10.0        7.0  ...  92570000.0  1.221600e+08\n",
            "2019-01-03         9.0        2.0  ...  32195000.0  6.404500e+07\n",
            "2019-01-04        18.0        5.0  ...         0.0  3.508500e+07\n",
            "2019-01-05        13.0        7.0  ...  38523000.0  1.749900e+07\n",
            "\n",
            "[5 rows x 25 columns]\n"
          ]
        }
      ]
    },
    {
      "cell_type": "markdown",
      "source": [
        "#Performa Penjualan di setiap Cabang - Part 4\n"
      ],
      "metadata": {
        "id": "wuEcqNJQIvRD"
      }
    },
    {
      "cell_type": "code",
      "source": [
        "import pandas as pd\n",
        "import matplotlib.pyplot as plt\n",
        "\n",
        "retail_data1 = pd.read_csv('https://storage.googleapis.com/dqlab-dataset/10%25_original_randomstate%3D42/retail_data_from_1_until_3_reduce.csv')\n",
        "retail_data2 = pd.read_csv('https://storage.googleapis.com/dqlab-dataset/10%25_original_randomstate%3D42/retail_data_from_4_until_6_reduce.csv')\n",
        "retail_data3 = pd.read_csv('https://storage.googleapis.com/dqlab-dataset/10%25_original_randomstate%3D42/retail_data_from_7_until_9_reduce.csv')\n",
        "retail_data4 = pd.read_csv('https://storage.googleapis.com/dqlab-dataset/10%25_original_randomstate%3D42/retail_data_from_10_until_12_reduce.csv')\n",
        "\n",
        "retail_table = pd.concat([retail_data1, retail_data2, retail_data3, retail_data4])\n",
        "\n",
        "cek = retail_table.loc[(retail_table['item_price'] < 0) | (retail_table['total_price'] < 0)]\n",
        "if cek.shape[0] != 0:\n",
        "\tretail_table = retail_table.loc[(retail_table['item_price'] > 0) & (retail_table['total_price'] > 0)]\n",
        "\n",
        "cek = retail_table.loc[retail_table['order_id'] == 'undefined']\n",
        "if cek.shape[0] != 0:\n",
        "\tretail_table = retail_table.loc[retail_table['order_id'] != 'undefined']\n",
        "\n",
        "retail_table['order_id'] = retail_table['order_id'].astype('int64')\n",
        "retail_table['order_date'] = pd.to_datetime(retail_table['order_date'])\n",
        "\n",
        "java = ['DKI Jakarta','Jawa Barat','Jawa Tengah','Jawa Timur','Yogyakarta']\n",
        "retail_table = retail_table.loc[retail_table['province'].isin(java)]\n",
        "\n",
        "groupby_city_province = retail_table.groupby(['order_date','province']).agg({\n",
        "   'order_id': 'nunique',\n",
        "   'customer_id': 'nunique',\n",
        "   'product_id': 'nunique',\n",
        "   'brand': 'nunique',\n",
        "   'total_price': sum\n",
        "})\n",
        "groupby_city_province.columns = ['order','customer','product','brand','GMV']\n",
        "\n",
        "unstack_city_province = groupby_city_province.unstack('province').fillna(0)\n",
        "\n",
        "# [7]. Slicing data untuk masing-masing measurement, misal: order\n",
        "idx = pd.IndexSlice\n",
        "by_order = unstack_city_province.loc[:,idx['order']]\n",
        "print('\\nby order (5 data teratas):\\n', by_order.head())\n",
        "\n",
        "# [8]. Lakukan resampling pada data tersebut untuk dilakukan perhitungan rata-rata bulanan \n",
        "by_order_monthly_mean = by_order.resample('M').mean()\n",
        "print('\\nby_order_monthly_mean (5 data teratas):\\n', by_order_monthly_mean.head())"
      ],
      "metadata": {
        "colab": {
          "base_uri": "https://localhost:8080/"
        },
        "id": "Y5mGjSblI4kJ",
        "outputId": "e6a82c1a-ae87-4a5f-f20e-0b95bf81d0b8"
      },
      "execution_count": 70,
      "outputs": [
        {
          "output_type": "stream",
          "name": "stdout",
          "text": [
            "\n",
            "by order (5 data teratas):\n",
            " province    DKI Jakarta  Jawa Barat  Jawa Tengah  Jawa Timur  Yogyakarta\n",
            "order_date                                                              \n",
            "2019-01-01         21.0         6.0          3.0         3.0         4.0\n",
            "2019-01-02         10.0         7.0          1.0         2.0         1.0\n",
            "2019-01-03          9.0         2.0          8.0         4.0         3.0\n",
            "2019-01-04         18.0         5.0          5.0         0.0         4.0\n",
            "2019-01-05         13.0         7.0          2.0         2.0         2.0\n",
            "\n",
            "by_order_monthly_mean (5 data teratas):\n",
            " province    DKI Jakarta  Jawa Barat  Jawa Tengah  Jawa Timur  Yogyakarta\n",
            "order_date                                                              \n",
            "2019-01-31    14.052632    5.684211     2.631579    2.210526    3.052632\n",
            "2019-02-28    17.043478    5.956522     2.043478    2.652174    3.130435\n",
            "2019-03-31    18.259259    5.296296     2.555556    2.777778    2.703704\n",
            "2019-04-30    18.269231    6.653846     3.153846    2.538462    2.807692\n",
            "2019-05-31    19.136364    6.863636     2.590909    3.363636    3.727273\n"
          ]
        }
      ]
    },
    {
      "cell_type": "markdown",
      "source": [
        "#Performa Penjualan di setiap Cabang - Part 5\n"
      ],
      "metadata": {
        "id": "_BkHiJmrJ3wF"
      }
    },
    {
      "cell_type": "code",
      "source": [
        "import pandas as pd\n",
        "import matplotlib.pyplot as plt\n",
        "\n",
        "retail_data1 = pd.read_csv('https://storage.googleapis.com/dqlab-dataset/10%25_original_randomstate%3D42/retail_data_from_1_until_3_reduce.csv')\n",
        "retail_data2 = pd.read_csv('https://storage.googleapis.com/dqlab-dataset/10%25_original_randomstate%3D42/retail_data_from_4_until_6_reduce.csv')\n",
        "retail_data3 = pd.read_csv('https://storage.googleapis.com/dqlab-dataset/10%25_original_randomstate%3D42/retail_data_from_7_until_9_reduce.csv')\n",
        "retail_data4 = pd.read_csv('https://storage.googleapis.com/dqlab-dataset/10%25_original_randomstate%3D42/retail_data_from_10_until_12_reduce.csv')\n",
        "\n",
        "retail_table = pd.concat([retail_data1, retail_data2, retail_data3, retail_data4])\n",
        "\n",
        "cek = retail_table.loc[(retail_table['item_price'] < 0) | (retail_table['total_price'] < 0)]\n",
        "if cek.shape[0] != 0:\n",
        "\tretail_table = retail_table.loc[(retail_table['item_price'] > 0) & (retail_table['total_price'] > 0)]\n",
        "\n",
        "cek = retail_table.loc[retail_table['order_id'] == 'undefined']\n",
        "if cek.shape[0] != 0:\n",
        "\tretail_table = retail_table.loc[retail_table['order_id'] != 'undefined']\n",
        "\n",
        "retail_table['order_id'] = retail_table['order_id'].astype('int64')\n",
        "retail_table['order_date'] = pd.to_datetime(retail_table['order_date'])\n",
        "\n",
        "java = ['DKI Jakarta','Jawa Barat','Jawa Tengah','Jawa Timur','Yogyakarta']\n",
        "retail_table = retail_table.loc[retail_table['province'].isin(java)]\n",
        "\n",
        "groupby_city_province = retail_table.groupby(['order_date','province']).agg({\n",
        "   'order_id': 'nunique',\n",
        "   'customer_id': 'nunique',\n",
        "   'product_id': 'nunique',\n",
        "   'brand': 'nunique',\n",
        "   'total_price': sum\n",
        "})\n",
        "groupby_city_province.columns = ['order','customer','product','brand','GMV']\n",
        "\n",
        "unstack_city_province = groupby_city_province.unstack('province').fillna(0)\n",
        "\n",
        "idx = pd.IndexSlice\n",
        "by_order = unstack_city_province.loc[:,idx['order']]\n",
        "by_order_monthly_mean = by_order.resample('M').mean()\n",
        "\n",
        "# [9]. Plot untuk hasil pada langkah #[8]\n",
        "by_order_monthly_mean.plot(\n",
        "   figsize = (8,5),\n",
        "   title = 'Average Daily order Size in Month View for all Province'\n",
        ")\n",
        "plt.ylabel('avg order size')\n",
        "plt.xlabel('month')\n",
        "plt.show()"
      ],
      "metadata": {
        "colab": {
          "base_uri": "https://localhost:8080/",
          "height": 361
        },
        "id": "DiX-2C9VJ5fn",
        "outputId": "33a188e5-ca96-4d58-c739-e19a89c063bc"
      },
      "execution_count": 71,
      "outputs": [
        {
          "output_type": "display_data",
          "data": {
            "image/png": "[encoded data removed]",
            "text/plain": [
              "<Figure size 576x360 with 1 Axes>"
            ]
          },
          "metadata": {
            "needs_background": "light"
          }
        }
      ]
    },
    {
      "cell_type": "markdown",
      "source": [
        "#Performa Penjualan di setiap Cabang - Part 6\n"
      ],
      "metadata": {
        "id": "GXMbIr3_KXCk"
      }
    },
    {
      "cell_type": "code",
      "source": [
        "import pandas as pd\n",
        "import matplotlib.pyplot as plt\n",
        "\n",
        "retail_data1 = pd.read_csv('https://storage.googleapis.com/dqlab-dataset/10%25_original_randomstate%3D42/retail_data_from_1_until_3_reduce.csv')\n",
        "retail_data2 = pd.read_csv('https://storage.googleapis.com/dqlab-dataset/10%25_original_randomstate%3D42/retail_data_from_4_until_6_reduce.csv')\n",
        "retail_data3 = pd.read_csv('https://storage.googleapis.com/dqlab-dataset/10%25_original_randomstate%3D42/retail_data_from_7_until_9_reduce.csv')\n",
        "retail_data4 = pd.read_csv('https://storage.googleapis.com/dqlab-dataset/10%25_original_randomstate%3D42/retail_data_from_10_until_12_reduce.csv')\n",
        "\n",
        "retail_table = pd.concat([retail_data1, retail_data2, retail_data3, retail_data4])\n",
        "\n",
        "cek = retail_table.loc[(retail_table['item_price'] < 0) | (retail_table['total_price'] < 0)]\n",
        "if cek.shape[0] != 0:\n",
        "\tretail_table = retail_table.loc[(retail_table['item_price'] > 0) & (retail_table['total_price'] > 0)]\n",
        "\n",
        "cek = retail_table.loc[retail_table['order_id'] == 'undefined']\n",
        "if cek.shape[0] != 0:\n",
        "\tretail_table = retail_table.loc[retail_table['order_id'] != 'undefined']\n",
        "\n",
        "retail_table['order_id'] = retail_table['order_id'].astype('int64')\n",
        "retail_table['order_date'] = pd.to_datetime(retail_table['order_date'])\n",
        "\n",
        "java = ['DKI Jakarta','Jawa Barat','Jawa Tengah','Jawa Timur','Yogyakarta']\n",
        "retail_table = retail_table.loc[retail_table['province'].isin(java)]\n",
        "\n",
        "groupby_city_province = retail_table.groupby(['order_date','province']).agg({\n",
        "   'order_id': 'nunique',\n",
        "   'customer_id': 'nunique',\n",
        "   'product_id': 'nunique',\n",
        "   'brand': 'nunique',\n",
        "   'total_price': sum\n",
        "})\n",
        "groupby_city_province.columns = ['order','customer','product','brand','GMV']\n",
        "\n",
        "unstack_city_province = groupby_city_province.unstack('province').fillna(0)\n",
        "\n",
        "# Create figure canvas dan axes for 5 line plots\n",
        "fig, axes = plt.subplots(5, 1, figsize=(8, 25))\n",
        "\n",
        "# Slicing index\n",
        "idx = pd.IndexSlice\n",
        "for i, measurement in enumerate(groupby_city_province.columns):\n",
        "    # Slicing data untuk masing-masing measurement\n",
        "    by_measurement = unstack_city_province.loc[:,idx[measurement]]\n",
        "    # Lakukan resampling pada data tersebut untuk dilakukan perhitungan rata-rata bulanan \n",
        "    by_measurement_monthly_mean = by_measurement.resample('M').mean()\n",
        "    # Plot by_measurement_monthly_mean\n",
        "    by_measurement_monthly_mean.plot(\n",
        "        title = 'Average Daily ' + measurement + ' Size in Month View for all Province',\n",
        "        ax = axes[i]\n",
        "    )\n",
        "    axes[i].set_ylabel('avg ' + measurement + ' size')\n",
        "    axes[i].set_xlabel('month')\n",
        "\n",
        "# Adjust the layout and show the plot\n",
        "plt.tight_layout()\n",
        "plt.show()"
      ],
      "metadata": {
        "colab": {
          "base_uri": "https://localhost:8080/",
          "height": 1000
        },
        "id": "JtSsFP_3KYri",
        "outputId": "decd9ca2-1c18-4542-d01a-fb87695360f2"
      },
      "execution_count": 72,
      "outputs": [
        {
          "output_type": "display_data",
          "data": {
            "image/png": "[encoded data removed]",
            "text/plain": [
              "<Figure size 576x1800 with 5 Axes>"
            ]
          },
          "metadata": {
            "needs_background": "light"
          }
        }
      ]
    }
  ]
}