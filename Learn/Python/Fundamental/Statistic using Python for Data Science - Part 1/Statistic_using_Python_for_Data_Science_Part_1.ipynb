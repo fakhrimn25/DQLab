{
  "nbformat": 4,
  "nbformat_minor": 0,
  "metadata": {
    "colab": {
      "name": "Statistic using Python for Data Science - Part 1",
      "provenance": [],
      "collapsed_sections": [],
      "toc_visible": true
    },
    "kernelspec": {
      "name": "python3",
      "display_name": "Python 3"
    },
    "language_info": {
      "name": "python"
    }
  },
  "cells": [
    {
      "cell_type": "markdown",
      "source": [
        "#Load Library"
      ],
      "metadata": {
        "id": "XNbiMpCQd8_h"
      }
    },
    {
      "cell_type": "code",
      "execution_count": 1,
      "metadata": {
        "id": "hqcxiCAXd6Ev"
      },
      "outputs": [],
      "source": [
        "# memuat numpy sebagai np\n",
        "import numpy as np\n",
        " \n",
        "# memuat pandas sebagai pd\n",
        "import pandas as pd"
      ]
    },
    {
      "cell_type": "markdown",
      "source": [
        "#Load Dataset"
      ],
      "metadata": {
        "id": "4-9V2l3ieFVX"
      }
    },
    {
      "cell_type": "code",
      "source": [
        "# memuat data bernama 'dataset_statistics.csv' dan memasukkan hasilnya ke dalam 'raw_data'\n",
        "raw_data = pd.read_csv(\"https://dqlab-dataset.s3-ap-southeast-1.amazonaws.com/dataset_statistic.csv\", sep=';')"
      ],
      "metadata": {
        "id": "VVqt_lmfeHHt"
      },
      "execution_count": 2,
      "outputs": []
    },
    {
      "cell_type": "markdown",
      "source": [
        "#Inspeksi Data"
      ],
      "metadata": {
        "id": "AJ-tFkRieMeg"
      }
    },
    {
      "cell_type": "code",
      "source": [
        "print(raw_data)\n",
        "# melihat 10 data pada baris pertama\n",
        "print(raw_data.head(10))\n",
        "\n",
        "# melihat 5 data pada baris terakhir\n",
        "print(raw_data.tail())"
      ],
      "metadata": {
        "colab": {
          "base_uri": "https://localhost:8080/"
        },
        "id": "Yw7ss_MWeNkj",
        "outputId": "283f878e-812f-44b4-f219-5c130dde3901"
      },
      "execution_count": 31,
      "outputs": [
        {
          "output_type": "stream",
          "name": "stdout",
          "text": [
            "    ID Pelanggan     Nama  Jenis Kelamin  ...  Jumlah     Total  Tingkat Kepuasan\n",
            "0              1     Arif              1  ...        4   400000                 2\n",
            "1              2     Dian              2  ...        4  1000000                 2\n",
            "2              3    Dinda              2  ...        3   750000                 3\n",
            "3              4    Fajar              1  ...        2   200000                 3\n",
            "4              5      Ika              2  ...        4  1000000                 2\n",
            "5              6    Ilham              1  ...        4   600000                 3\n",
            "6              7    Indra              1  ...        5   750000                 1\n",
            "7              8  Kartika              2  ...        3   900000                 3\n",
            "8              9  Lestari              2  ...        2   600000                 1\n",
            "9             10      Lia              2  ...        5  1500000                 1\n",
            "10            11    Maria              2  ...        4   400000                 3\n",
            "11            12     Maya              2  ...        5   750000                 3\n",
            "12            13     Mila              2  ...        1   200000                 2\n",
            "13            14    Nurul              2  ...        5  1250000                 1\n",
            "14            15    Retno              2  ...        4   800000                 2\n",
            "15            16     Rini              2  ...        4   600000                 1\n",
            "16            17    Rizki              1  ...        5  1000000                 3\n",
            "17            18     Sari              2  ...        2   500000                 1\n",
            "18            19     Tyas              2  ...        4   400000                 3\n",
            "19            20    Wahyu              1  ...        3   600000                 1\n",
            "\n",
            "[20 rows x 9 columns]\n",
            "   ID Pelanggan     Nama  Jenis Kelamin  ...  Jumlah     Total  Tingkat Kepuasan\n",
            "0             1     Arif              1  ...        4   400000                 2\n",
            "1             2     Dian              2  ...        4  1000000                 2\n",
            "2             3    Dinda              2  ...        3   750000                 3\n",
            "3             4    Fajar              1  ...        2   200000                 3\n",
            "4             5      Ika              2  ...        4  1000000                 2\n",
            "5             6    Ilham              1  ...        4   600000                 3\n",
            "6             7    Indra              1  ...        5   750000                 1\n",
            "7             8  Kartika              2  ...        3   900000                 3\n",
            "8             9  Lestari              2  ...        2   600000                 1\n",
            "9            10      Lia              2  ...        5  1500000                 1\n",
            "\n",
            "[10 rows x 9 columns]\n",
            "    ID Pelanggan   Nama  Jenis Kelamin  ...  Jumlah     Total  Tingkat Kepuasan\n",
            "15            16   Rini              2  ...        4   600000                 1\n",
            "16            17  Rizki              1  ...        5  1000000                 3\n",
            "17            18   Sari              2  ...        2   500000                 1\n",
            "18            19   Tyas              2  ...        4   400000                 3\n",
            "19            20  Wahyu              1  ...        3   600000                 1\n",
            "\n",
            "[5 rows x 9 columns]\n"
          ]
        }
      ]
    },
    {
      "cell_type": "markdown",
      "source": [
        "#Metode Shape"
      ],
      "metadata": {
        "id": "hsqhFBsfeQ9f"
      }
    },
    {
      "cell_type": "code",
      "source": [
        "# melihat dimensi dari raw_data\n",
        "print(raw_data.shape)\n",
        "\n",
        "# mengambil jumlah data\n",
        "print(raw_data.shape[0])"
      ],
      "metadata": {
        "colab": {
          "base_uri": "https://localhost:8080/"
        },
        "id": "xd44QLA_eaPf",
        "outputId": "7d584f0b-9eb7-4905-c08e-40ed2d81facc"
      },
      "execution_count": 30,
      "outputs": [
        {
          "output_type": "stream",
          "name": "stdout",
          "text": [
            "(20, 9)\n",
            "20\n"
          ]
        }
      ]
    },
    {
      "cell_type": "markdown",
      "source": [
        "#Melihat Kolom Dalam Dataset"
      ],
      "metadata": {
        "id": "W4opEETmedJz"
      }
    },
    {
      "cell_type": "code",
      "source": [
        "print(raw_data)\n",
        "print(raw_data.columns)"
      ],
      "metadata": {
        "colab": {
          "base_uri": "https://localhost:8080/"
        },
        "id": "qQGVJyTmefny",
        "outputId": "ee9155f7-cc07-4779-fee4-bddad04f10cd"
      },
      "execution_count": 5,
      "outputs": [
        {
          "output_type": "stream",
          "name": "stdout",
          "text": [
            "    ID Pelanggan     Nama  Jenis Kelamin  ...  Jumlah     Total  Tingkat Kepuasan\n",
            "0              1     Arif              1  ...        4   400000                 2\n",
            "1              2     Dian              2  ...        4  1000000                 2\n",
            "2              3    Dinda              2  ...        3   750000                 3\n",
            "3              4    Fajar              1  ...        2   200000                 3\n",
            "4              5      Ika              2  ...        4  1000000                 2\n",
            "5              6    Ilham              1  ...        4   600000                 3\n",
            "6              7    Indra              1  ...        5   750000                 1\n",
            "7              8  Kartika              2  ...        3   900000                 3\n",
            "8              9  Lestari              2  ...        2   600000                 1\n",
            "9             10      Lia              2  ...        5  1500000                 1\n",
            "10            11    Maria              2  ...        4   400000                 3\n",
            "11            12     Maya              2  ...        5   750000                 3\n",
            "12            13     Mila              2  ...        1   200000                 2\n",
            "13            14    Nurul              2  ...        5  1250000                 1\n",
            "14            15    Retno              2  ...        4   800000                 2\n",
            "15            16     Rini              2  ...        4   600000                 1\n",
            "16            17    Rizki              1  ...        5  1000000                 3\n",
            "17            18     Sari              2  ...        2   500000                 1\n",
            "18            19     Tyas              2  ...        4   400000                 3\n",
            "19            20    Wahyu              1  ...        3   600000                 1\n",
            "\n",
            "[20 rows x 9 columns]\n",
            "Index(['ID Pelanggan', 'Nama', 'Jenis Kelamin', 'Pendapatan', 'Produk',\n",
            "       'Harga', 'Jumlah ', 'Total', 'Tingkat Kepuasan'],\n",
            "      dtype='object')\n"
          ]
        }
      ]
    },
    {
      "cell_type": "markdown",
      "source": [
        "#Metode Isna"
      ],
      "metadata": {
        "id": "PcPHpjcxeivT"
      }
    },
    {
      "cell_type": "code",
      "source": [
        "print(raw_data.isna())\n",
        "print(raw_data.isna().sum())"
      ],
      "metadata": {
        "colab": {
          "base_uri": "https://localhost:8080/"
        },
        "id": "X15pIpW5emO4",
        "outputId": "6945f608-9810-498e-f80e-a27290eff94b"
      },
      "execution_count": 29,
      "outputs": [
        {
          "output_type": "stream",
          "name": "stdout",
          "text": [
            "    ID Pelanggan   Nama  Jenis Kelamin  ...  Jumlah   Total  Tingkat Kepuasan\n",
            "0          False  False          False  ...    False  False             False\n",
            "1          False  False          False  ...    False  False             False\n",
            "2          False  False          False  ...    False  False             False\n",
            "3          False  False          False  ...    False  False             False\n",
            "4          False  False          False  ...    False  False             False\n",
            "5          False  False          False  ...    False  False             False\n",
            "6          False  False          False  ...    False  False             False\n",
            "7          False  False          False  ...    False  False             False\n",
            "8          False  False          False  ...    False  False             False\n",
            "9          False  False          False  ...    False  False             False\n",
            "10         False  False          False  ...    False  False             False\n",
            "11         False  False          False  ...    False  False             False\n",
            "12         False  False          False  ...    False  False             False\n",
            "13         False  False          False  ...    False  False             False\n",
            "14         False  False          False  ...    False  False             False\n",
            "15         False  False          False  ...    False  False             False\n",
            "16         False  False          False  ...    False  False             False\n",
            "17         False  False          False  ...    False  False             False\n",
            "18         False  False          False  ...    False  False             False\n",
            "19         False  False          False  ...    False  False             False\n",
            "\n",
            "[20 rows x 9 columns]\n",
            "ID Pelanggan        0\n",
            "Nama                0\n",
            "Jenis Kelamin       0\n",
            "Pendapatan          0\n",
            "Produk              0\n",
            "Harga               0\n",
            "Jumlah              0\n",
            "Total               0\n",
            "Tingkat Kepuasan    0\n",
            "dtype: int64\n"
          ]
        }
      ]
    },
    {
      "cell_type": "markdown",
      "source": [
        "#Metode Describe"
      ],
      "metadata": {
        "id": "E5Puwq_lezRI"
      }
    },
    {
      "cell_type": "code",
      "source": [
        "import pandas as pd\n",
        "raw_data = pd.read_csv(\"https://storage.googleapis.com/dqlab-dataset/dataset_statistic.csv\", sep=';')\n",
        "\n",
        "print(raw_data.describe())\n",
        "\n",
        "# Mencari nilai maksimum dari tiap kolom\n",
        "raw_data.max()\n",
        " \n",
        "# Mencari nilai maksimum dari kolom 'Harga'\n",
        "raw_data['Harga'].max()\n",
        " \n",
        "# Mencari nilai minimum dari kolom 'Harga'\n",
        "raw_data['Harga'].min()"
      ],
      "metadata": {
        "colab": {
          "base_uri": "https://localhost:8080/"
        },
        "id": "xXMJXi85e0Wt",
        "outputId": "a9aa5dee-c4b3-4404-de70-af5043a1ca03"
      },
      "execution_count": 28,
      "outputs": [
        {
          "output_type": "stream",
          "name": "stdout",
          "text": [
            "       ID Pelanggan  Jenis Kelamin  ...         Total  Tingkat Kepuasan\n",
            "count      20.00000      20.000000  ...  2.000000e+01         20.000000\n",
            "mean       10.50000       1.700000  ...  7.100000e+05          2.050000\n",
            "std         5.91608       0.470162  ...  3.338768e+05          0.887041\n",
            "min         1.00000       1.000000  ...  2.000000e+05          1.000000\n",
            "25%         5.75000       1.000000  ...  4.750000e+05          1.000000\n",
            "50%        10.50000       2.000000  ...  6.750000e+05          2.000000\n",
            "75%        15.25000       2.000000  ...  9.250000e+05          3.000000\n",
            "max        20.00000       2.000000  ...  1.500000e+06          3.000000\n",
            "\n",
            "[8 rows x 7 columns]\n"
          ]
        },
        {
          "output_type": "execute_result",
          "data": {
            "text/plain": [
              "100000"
            ]
          },
          "metadata": {},
          "execution_count": 28
        }
      ]
    },
    {
      "cell_type": "markdown",
      "source": [
        "#Metode Sum"
      ],
      "metadata": {
        "id": "pOY60VqUfO0u"
      }
    },
    {
      "cell_type": "code",
      "source": [
        "import pandas as pd\n",
        "raw_data = pd.read_csv(\"https://storage.googleapis.com/dqlab-dataset/dataset_statistic.csv\", sep=';')\n",
        "\n",
        "# menghitung jumlah dari semua kolom\n",
        "print(raw_data.sum())\n",
        " \n",
        "# menghitung jumlah dari semua kolom bertipe data numerik saja\n",
        "raw_data.sum(numeric_only=True)\n",
        " \n",
        "# menghitung jumlah dari kolom 'Harga' dan 'Pendapatan'\n",
        "raw_data[['Harga', 'Pendapatan']].sum()"
      ],
      "metadata": {
        "colab": {
          "base_uri": "https://localhost:8080/"
        },
        "id": "bzbXn3i6fPzc",
        "outputId": "87899871-69db-4720-8aa6-0bd90b233770"
      },
      "execution_count": 27,
      "outputs": [
        {
          "output_type": "stream",
          "name": "stdout",
          "text": [
            "ID Pelanggan                                                      210\n",
            "Nama                ArifDianDindaFajarIkaIlhamIndraKartikaLestariL...\n",
            "Jenis Kelamin                                                      34\n",
            "Pendapatan                                                   23200000\n",
            "Produk                                           ADDADBBEEEABCDCBCDAC\n",
            "Harga                                                         3950000\n",
            "Jumlah                                                             73\n",
            "Total                                                        14200000\n",
            "Tingkat Kepuasan                                                   41\n",
            "dtype: object\n"
          ]
        },
        {
          "output_type": "execute_result",
          "data": {
            "text/plain": [
              "Harga          3950000\n",
              "Pendapatan    23200000\n",
              "dtype: int64"
            ]
          },
          "metadata": {},
          "execution_count": 27
        }
      ]
    },
    {
      "cell_type": "markdown",
      "source": [
        "#Manipulasi Dataframe - Memilih Kolom dan Baris"
      ],
      "metadata": {
        "id": "xeVd-J1TfwXz"
      }
    },
    {
      "cell_type": "code",
      "source": [
        "import pandas as pd\n",
        "raw_data = pd.read_csv(\"https://storage.googleapis.com/dqlab-dataset/dataset_statistic.csv\", sep=';')\n",
        "\n",
        "# Memilih kolom 'Pendapatan' saja\n",
        "print(raw_data['Pendapatan'])\n",
        " \n",
        "# Memilih kolom 'Jenis Kelamin' dan 'Pendapatan'\n",
        "print(raw_data[['Jenis Kelamin', 'Pendapatan']])"
      ],
      "metadata": {
        "colab": {
          "base_uri": "https://localhost:8080/"
        },
        "id": "Rf6wE1bffzfT",
        "outputId": "ad910497-948a-4c4b-9533-d689276c3b0c"
      },
      "execution_count": 26,
      "outputs": [
        {
          "output_type": "stream",
          "name": "stdout",
          "text": [
            "0      600000\n",
            "1     1200000\n",
            "2      950000\n",
            "3      400000\n",
            "4     1200000\n",
            "5      800000\n",
            "6      950000\n",
            "7     1100000\n",
            "8      800000\n",
            "9     1700000\n",
            "10     600000\n",
            "11     950000\n",
            "12     400000\n",
            "13    6450000\n",
            "14    1000000\n",
            "15     800000\n",
            "16    1200000\n",
            "17     700000\n",
            "18     600000\n",
            "19     800000\n",
            "Name: Pendapatan, dtype: int64\n",
            "    Jenis Kelamin  Pendapatan\n",
            "0               1      600000\n",
            "1               2     1200000\n",
            "2               2      950000\n",
            "3               1      400000\n",
            "4               2     1200000\n",
            "5               1      800000\n",
            "6               1      950000\n",
            "7               2     1100000\n",
            "8               2      800000\n",
            "9               2     1700000\n",
            "10              2      600000\n",
            "11              2      950000\n",
            "12              2      400000\n",
            "13              2     6450000\n",
            "14              2     1000000\n",
            "15              2      800000\n",
            "16              1     1200000\n",
            "17              2      700000\n",
            "18              2      600000\n",
            "19              1      800000\n"
          ]
        }
      ]
    },
    {
      "cell_type": "markdown",
      "source": [
        "#Metode Loc"
      ],
      "metadata": {
        "id": "wmKUSYnLgMar"
      }
    },
    {
      "cell_type": "code",
      "source": [
        "import pandas as pd\n",
        "raw_data = pd.read_csv(\"https://storage.googleapis.com/dqlab-dataset/dataset_statistic.csv\", sep=';')\n",
        "\n",
        "# mengambil data dari baris ke-0 sampai baris ke-(10-1) atau baris ke-9\n",
        "print(raw_data[:10])\n",
        " \n",
        "# mengambil data dari baris ke-3 sampai baris ke-(5-1) atau baris ke-4\n",
        "print(raw_data[3:5])\n",
        " \n",
        "# mengambil data pada baris ke-1, ke-3 dan ke-10\n",
        "print(raw_data.loc[[1,3,10]])\n",
        "\n",
        "# Mengambil kolom 'Jenis Kelamin' dan 'Pendapatan' dan ambil baris ke-1 sampai ke-9\n",
        "print(raw_data[['Jenis Kelamin', 'Pendapatan']][1:10])\n",
        " \n",
        "# Mengambil kolom 'Harga' dan 'Tingkat Kepuasan' dan ambil baris ke-1, ke-10 dan ke-15\n",
        "print(raw_data[['Harga', 'Tingkat Kepuasan']].loc[[1,10,15]])"
      ],
      "metadata": {
        "colab": {
          "base_uri": "https://localhost:8080/"
        },
        "id": "NUP7cCqNgOyN",
        "outputId": "f6186eb0-90dd-4973-869f-8cf4538fb94f"
      },
      "execution_count": 13,
      "outputs": [
        {
          "output_type": "stream",
          "name": "stdout",
          "text": [
            "   ID Pelanggan     Nama  Jenis Kelamin  ...  Jumlah     Total  Tingkat Kepuasan\n",
            "0             1     Arif              1  ...        4   400000                 2\n",
            "1             2     Dian              2  ...        4  1000000                 2\n",
            "2             3    Dinda              2  ...        3   750000                 3\n",
            "3             4    Fajar              1  ...        2   200000                 3\n",
            "4             5      Ika              2  ...        4  1000000                 2\n",
            "5             6    Ilham              1  ...        4   600000                 3\n",
            "6             7    Indra              1  ...        5   750000                 1\n",
            "7             8  Kartika              2  ...        3   900000                 3\n",
            "8             9  Lestari              2  ...        2   600000                 1\n",
            "9            10      Lia              2  ...        5  1500000                 1\n",
            "\n",
            "[10 rows x 9 columns]\n",
            "   ID Pelanggan   Nama  Jenis Kelamin  ...  Jumlah     Total  Tingkat Kepuasan\n",
            "3             4  Fajar              1  ...        2   200000                 3\n",
            "4             5    Ika              2  ...        4  1000000                 2\n",
            "\n",
            "[2 rows x 9 columns]\n",
            "    ID Pelanggan   Nama  Jenis Kelamin  ...  Jumlah     Total  Tingkat Kepuasan\n",
            "1              2   Dian              2  ...        4  1000000                 2\n",
            "3              4  Fajar              1  ...        2   200000                 3\n",
            "10            11  Maria              2  ...        4   400000                 3\n",
            "\n",
            "[3 rows x 9 columns]\n",
            "   Jenis Kelamin  Pendapatan\n",
            "1              2     1200000\n",
            "2              2      950000\n",
            "3              1      400000\n",
            "4              2     1200000\n",
            "5              1      800000\n",
            "6              1      950000\n",
            "7              2     1100000\n",
            "8              2      800000\n",
            "9              2     1700000\n",
            "     Harga  Tingkat Kepuasan\n",
            "1   250000                 2\n",
            "10  100000                 3\n",
            "15  150000                 1\n"
          ]
        }
      ]
    },
    {
      "cell_type": "markdown",
      "source": [
        "#Rata-rata (Mean)"
      ],
      "metadata": {
        "id": "3H5Gw3aehSml"
      }
    },
    {
      "cell_type": "code",
      "source": [
        "import numpy as np\n",
        "import pandas as pd\n",
        "raw_data = pd.read_csv(\"https://storage.googleapis.com/dqlab-dataset/dataset_statistic.csv\", sep=';')\n",
        "\n",
        "# mengambil hanya data untuk produk 'A'\n",
        "produk_A = raw_data[raw_data['Produk'] == 'A']\n",
        "display(produk_A)\n",
        "print()\n",
        " \n",
        "# menghitung rerata pendapatan menggunakan method .mean pada objek pandas DataFrame\n",
        "print(produk_A['Pendapatan'].mean())\n",
        " \n",
        "# menghitung rerata pendapatan menggunakan method .mean pada objek pandas DataFrame dengan numpy\n",
        "print(np.mean(produk_A['Pendapatan']))"
      ],
      "metadata": {
        "colab": {
          "base_uri": "https://localhost:8080/",
          "height": 227
        },
        "id": "PtC98vEWijR-",
        "outputId": "a0baa883-b5ee-4459-cb41-13cb564a831f"
      },
      "execution_count": 21,
      "outputs": [
        {
          "output_type": "display_data",
          "data": {
            "text/html": [
              "<div>\n",
              "<style scoped>\n",
              "    .dataframe tbody tr th:only-of-type {\n",
              "        vertical-align: middle;\n",
              "    }\n",
              "\n",
              "    .dataframe tbody tr th {\n",
              "        vertical-align: top;\n",
              "    }\n",
              "\n",
              "    .dataframe thead th {\n",
              "        text-align: right;\n",
              "    }\n",
              "</style>\n",
              "<table border=\"1\" class=\"dataframe\">\n",
              "  <thead>\n",
              "    <tr style=\"text-align: right;\">\n",
              "      <th></th>\n",
              "      <th>ID Pelanggan</th>\n",
              "      <th>Nama</th>\n",
              "      <th>Jenis Kelamin</th>\n",
              "      <th>Pendapatan</th>\n",
              "      <th>Produk</th>\n",
              "      <th>Harga</th>\n",
              "      <th>Jumlah</th>\n",
              "      <th>Total</th>\n",
              "      <th>Tingkat Kepuasan</th>\n",
              "    </tr>\n",
              "  </thead>\n",
              "  <tbody>\n",
              "    <tr>\n",
              "      <th>0</th>\n",
              "      <td>1</td>\n",
              "      <td>Arif</td>\n",
              "      <td>1</td>\n",
              "      <td>600000</td>\n",
              "      <td>A</td>\n",
              "      <td>100000</td>\n",
              "      <td>4</td>\n",
              "      <td>400000</td>\n",
              "      <td>2</td>\n",
              "    </tr>\n",
              "    <tr>\n",
              "      <th>3</th>\n",
              "      <td>4</td>\n",
              "      <td>Fajar</td>\n",
              "      <td>1</td>\n",
              "      <td>400000</td>\n",
              "      <td>A</td>\n",
              "      <td>100000</td>\n",
              "      <td>2</td>\n",
              "      <td>200000</td>\n",
              "      <td>3</td>\n",
              "    </tr>\n",
              "    <tr>\n",
              "      <th>10</th>\n",
              "      <td>11</td>\n",
              "      <td>Maria</td>\n",
              "      <td>2</td>\n",
              "      <td>600000</td>\n",
              "      <td>A</td>\n",
              "      <td>100000</td>\n",
              "      <td>4</td>\n",
              "      <td>400000</td>\n",
              "      <td>3</td>\n",
              "    </tr>\n",
              "    <tr>\n",
              "      <th>18</th>\n",
              "      <td>19</td>\n",
              "      <td>Tyas</td>\n",
              "      <td>2</td>\n",
              "      <td>600000</td>\n",
              "      <td>A</td>\n",
              "      <td>100000</td>\n",
              "      <td>4</td>\n",
              "      <td>400000</td>\n",
              "      <td>3</td>\n",
              "    </tr>\n",
              "  </tbody>\n",
              "</table>\n",
              "</div>"
            ],
            "text/plain": [
              "    ID Pelanggan   Nama  Jenis Kelamin  ...  Jumlah    Total  Tingkat Kepuasan\n",
              "0              1   Arif              1  ...        4  400000                 2\n",
              "3              4  Fajar              1  ...        2  200000                 3\n",
              "10            11  Maria              2  ...        4  400000                 3\n",
              "18            19   Tyas              2  ...        4  400000                 3\n",
              "\n",
              "[4 rows x 9 columns]"
            ]
          },
          "metadata": {}
        },
        {
          "output_type": "stream",
          "name": "stdout",
          "text": [
            "\n",
            "550000.0\n",
            "550000.0\n"
          ]
        }
      ]
    },
    {
      "cell_type": "markdown",
      "source": [
        "#Median"
      ],
      "metadata": {
        "id": "3_ut8VtqjZUh"
      }
    },
    {
      "cell_type": "code",
      "source": [
        "import numpy as np\n",
        "import pandas as pd\n",
        "raw_data = pd.read_csv(\"https://storage.googleapis.com/dqlab-dataset/dataset_statistic.csv\", sep=';')\n",
        "produk_A = raw_data[raw_data['Produk'] == 'A']\n",
        "\n",
        "print(raw_data)\n",
        "# Hitung median dari pendapatan menggunakan pandas\n",
        "print(produk_A['Pendapatan'].median())\n",
        "\n",
        "# Hitung median dari pendapatan menggunakan numpy\n",
        "print(np.median(produk_A['Pendapatan']))"
      ],
      "metadata": {
        "colab": {
          "base_uri": "https://localhost:8080/"
        },
        "id": "oIb72U5KjaTr",
        "outputId": "24c83281-3c8e-4611-ba05-e45429e81d69"
      },
      "execution_count": 23,
      "outputs": [
        {
          "output_type": "stream",
          "name": "stdout",
          "text": [
            "    ID Pelanggan     Nama  Jenis Kelamin  ...  Jumlah     Total  Tingkat Kepuasan\n",
            "0              1     Arif              1  ...        4   400000                 2\n",
            "1              2     Dian              2  ...        4  1000000                 2\n",
            "2              3    Dinda              2  ...        3   750000                 3\n",
            "3              4    Fajar              1  ...        2   200000                 3\n",
            "4              5      Ika              2  ...        4  1000000                 2\n",
            "5              6    Ilham              1  ...        4   600000                 3\n",
            "6              7    Indra              1  ...        5   750000                 1\n",
            "7              8  Kartika              2  ...        3   900000                 3\n",
            "8              9  Lestari              2  ...        2   600000                 1\n",
            "9             10      Lia              2  ...        5  1500000                 1\n",
            "10            11    Maria              2  ...        4   400000                 3\n",
            "11            12     Maya              2  ...        5   750000                 3\n",
            "12            13     Mila              2  ...        1   200000                 2\n",
            "13            14    Nurul              2  ...        5  1250000                 1\n",
            "14            15    Retno              2  ...        4   800000                 2\n",
            "15            16     Rini              2  ...        4   600000                 1\n",
            "16            17    Rizki              1  ...        5  1000000                 3\n",
            "17            18     Sari              2  ...        2   500000                 1\n",
            "18            19     Tyas              2  ...        4   400000                 3\n",
            "19            20    Wahyu              1  ...        3   600000                 1\n",
            "\n",
            "[20 rows x 9 columns]\n",
            "600000.0\n",
            "600000.0\n"
          ]
        }
      ]
    },
    {
      "cell_type": "markdown",
      "source": [
        "#Modus"
      ],
      "metadata": {
        "id": "2s1LgA3G1bVL"
      }
    },
    {
      "cell_type": "code",
      "source": [
        " import pandas as pd\n",
        "raw_data = pd.read_csv(\"https://storage.googleapis.com/dqlab-dataset/dataset_statistic.csv\", sep=';')\n",
        "\n",
        "# Melihat jumlah dari masing-masing produk\n",
        "print(raw_data['Produk'].value_counts())"
      ],
      "metadata": {
        "colab": {
          "base_uri": "https://localhost:8080/"
        },
        "id": "jphe-MFn1i6c",
        "outputId": "60f1de01-c773-44cc-b88e-15c9135f2bec"
      },
      "execution_count": 25,
      "outputs": [
        {
          "output_type": "stream",
          "name": "stdout",
          "text": [
            "D    5\n",
            "A    4\n",
            "C    4\n",
            "B    4\n",
            "E    3\n",
            "Name: Produk, dtype: int64\n"
          ]
        }
      ]
    },
    {
      "cell_type": "markdown",
      "source": [
        "#Kuantil"
      ],
      "metadata": {
        "id": "OD0PFbnP2ETt"
      }
    },
    {
      "cell_type": "code",
      "source": [
        "import numpy as np\n",
        "import pandas as pd\n",
        "raw_data = pd.read_csv(\"https://storage.googleapis.com/dqlab-dataset/dataset_statistic.csv\", sep=';')\n",
        "\n",
        "# mencari median atau 50% dari data menggunakan pandas\n",
        "print(raw_data['Pendapatan'].quantile(q = 0.5))\n",
        "\n",
        "# mencari median atau 50% dari data menggunakan numpy\n",
        "print(np.quantile(raw_data['Pendapatan'], q=0.5))"
      ],
      "metadata": {
        "colab": {
          "base_uri": "https://localhost:8080/"
        },
        "id": "JtAEDoTO3S-U",
        "outputId": "60b0bd4d-73a8-4074-a12d-463c99412ae5"
      },
      "execution_count": 33,
      "outputs": [
        {
          "output_type": "stream",
          "name": "stdout",
          "text": [
            "875000.0\n",
            "875000.0\n"
          ]
        }
      ]
    },
    {
      "cell_type": "markdown",
      "source": [
        "#Agregasi Data dengan method .agg()"
      ],
      "metadata": {
        "id": "pXqjk9ja4LIv"
      }
    },
    {
      "cell_type": "code",
      "source": [
        "import numpy as np\n",
        "import pandas as pd\n",
        "raw_data = pd.read_csv(\"https://storage.googleapis.com/dqlab-dataset/dataset_statistic.csv\", sep=';')\n",
        "\n",
        "# menghitung rerata dan median usia (age) dan insulin (insu)\n",
        "print(raw_data[['Pendapatan', 'Harga']].agg([np.mean, np.median]))\n",
        "\n",
        "# menghitung rerata dan median Pendapatan dan Harga dari tiap produk\n",
        "print(raw_data[['Pendapatan', 'Harga', 'Produk']].groupby('Produk').agg([np.mean, np.median]))"
      ],
      "metadata": {
        "colab": {
          "base_uri": "https://localhost:8080/"
        },
        "id": "lFOgf-0f4Mod",
        "outputId": "acb60a48-8f1b-4da0-8374-a69500372b0c"
      },
      "execution_count": 35,
      "outputs": [
        {
          "output_type": "stream",
          "name": "stdout",
          "text": [
            "        Pendapatan     Harga\n",
            "mean     1160000.0  197500.0\n",
            "median    875000.0  200000.0\n",
            "       Pendapatan            Harga        \n",
            "             mean   median    mean  median\n",
            "Produk                                    \n",
            "A          550000   600000  100000  100000\n",
            "B          875000   875000  150000  150000\n",
            "C          850000   900000  200000  200000\n",
            "D         2100000  1200000  250000  250000\n",
            "E         1200000  1100000  300000  300000\n"
          ]
        }
      ]
    },
    {
      "cell_type": "markdown",
      "source": [
        "#Proporsi Kategori"
      ],
      "metadata": {
        "id": "FgVpOvvT5xTy"
      }
    },
    {
      "cell_type": "code",
      "source": [
        "import pandas as pd\n",
        "raw_data = pd.read_csv(\"https://storage.googleapis.com/dqlab-dataset/dataset_statistic.csv\", sep=';')\n",
        "\n",
        "# cari proporsi tiap Produk\n",
        "print(raw_data['Produk'].value_counts()/raw_data.shape[0])"
      ],
      "metadata": {
        "colab": {
          "base_uri": "https://localhost:8080/"
        },
        "id": "y3Ck0Bul6cM7",
        "outputId": "7e412514-d9ae-42b6-8538-8c34bc591469"
      },
      "execution_count": 40,
      "outputs": [
        {
          "output_type": "stream",
          "name": "stdout",
          "text": [
            "D    0.25\n",
            "A    0.20\n",
            "C    0.20\n",
            "B    0.20\n",
            "E    0.15\n",
            "Name: Produk, dtype: float64\n"
          ]
        }
      ]
    },
    {
      "cell_type": "markdown",
      "source": [
        "#Ukuran Sebaran pada Data Interval dan Rasio"
      ],
      "metadata": {
        "id": "K1enD2UA7A7S"
      }
    },
    {
      "cell_type": "code",
      "source": [
        "import pandas as pd\n",
        "raw_data = pd.read_csv(\"https://storage.googleapis.com/dqlab-dataset/dataset_statistic.csv\", sep=';')\n",
        "\n",
        "# Cari nilai rentang dari kolom 'Pendapatan'\n",
        "print(raw_data['Pendapatan'].max() - raw_data['Pendapatan'].min())"
      ],
      "metadata": {
        "colab": {
          "base_uri": "https://localhost:8080/"
        },
        "id": "U8cHDj2f7CK4",
        "outputId": "5a6fab76-e855-4cfb-cf6c-5dc26867da1d"
      },
      "execution_count": 41,
      "outputs": [
        {
          "output_type": "stream",
          "name": "stdout",
          "text": [
            "6050000\n"
          ]
        }
      ]
    },
    {
      "cell_type": "markdown",
      "source": [
        "#Variansi"
      ],
      "metadata": {
        "id": "BkdRAHdG7hqW"
      }
    },
    {
      "cell_type": "code",
      "source": [
        "import numpy as np\n",
        "import pandas as pd\n",
        "raw_data = pd.read_csv(\"https://storage.googleapis.com/dqlab-dataset/dataset_statistic.csv\", sep=';')\n",
        "\n",
        "# menghitung variansi pendapatan menggunakan method .var() dari pandas\n",
        "print(raw_data['Pendapatan'].var())\n",
        " \n",
        "# menghitung variansi pendapatan menggunakan method .var() dari numpy\n",
        "print(np.var(raw_data['Pendapatan']))\n",
        "\n",
        "# mengatur variansi populasi dengan method `.var()` dari pandas\n",
        "print(raw_data['Pendapatan'].var(ddof=0))"
      ],
      "metadata": {
        "colab": {
          "base_uri": "https://localhost:8080/"
        },
        "id": "bR0mTylv7hGn",
        "outputId": "6673e267-fa1e-4638-8fe4-b0fba39ddf25"
      },
      "execution_count": 42,
      "outputs": [
        {
          "output_type": "stream",
          "name": "stdout",
          "text": [
            "1645684210526.3157\n",
            "1563400000000.0\n",
            "1563400000000.0\n"
          ]
        }
      ]
    },
    {
      "cell_type": "markdown",
      "source": [
        "#Deviasi Baku (Standard Deviation)"
      ],
      "metadata": {
        "id": "tJFkLOwO8Tvg"
      }
    },
    {
      "cell_type": "code",
      "source": [
        "import numpy as np\n",
        "import pandas as pd\n",
        "raw_data = pd.read_csv(\"https://storage.googleapis.com/dqlab-dataset/dataset_statistic.csv\", sep=';')\n",
        "\n",
        "# menghitung deviasi baku sampel pendapatan menggunakan method std() dari pandas\n",
        "print(raw_data['Pendapatan'].std())\n",
        " \n",
        "# menghitung deviasi baku sampel pendapatan menggunakan method std() dari numpy\n",
        "print(np.std(raw_data['Pendapatan'], ddof = 1))"
      ],
      "metadata": {
        "colab": {
          "base_uri": "https://localhost:8080/"
        },
        "id": "sIU7Ubr68Rn3",
        "outputId": "fa5f16f0-42d5-4982-8e68-141798f42dcc"
      },
      "execution_count": 43,
      "outputs": [
        {
          "output_type": "stream",
          "name": "stdout",
          "text": [
            "1282842.2391417876\n",
            "1282842.2391417876\n"
          ]
        }
      ]
    },
    {
      "cell_type": "markdown",
      "source": [
        "#Menghitung Korelasi"
      ],
      "metadata": {
        "id": "-IM8qbmK-F-8"
      }
    },
    {
      "cell_type": "code",
      "source": [
        "import pandas as pd\n",
        "raw_data = pd.read_csv(\"https://storage.googleapis.com/dqlab-dataset/dataset_statistic.csv\", sep=';')\n",
        "\n",
        "# menghitung korelasi dari setiap pasang variabel pada raw_data\n",
        "print(raw_data.corr())\n",
        "\n",
        "# mencari korelasi 'kendall' untuk tiap pasang variabel\n",
        "print(raw_data.corr(method='kendall'))\n",
        " \n",
        "# mencari korelasi 'spearman' untuk tiap pasang variabel\n",
        "print(raw_data.corr(method='spearman'))"
      ],
      "metadata": {
        "colab": {
          "base_uri": "https://localhost:8080/"
        },
        "id": "CIZ_5-Xn-JRz",
        "outputId": "739093eb-17d4-40f3-e164-58696b44e224"
      },
      "execution_count": 48,
      "outputs": [
        {
          "output_type": "stream",
          "name": "stdout",
          "text": [
            "                  ID Pelanggan  Jenis Kelamin  ...     Total  Tingkat Kepuasan\n",
            "ID Pelanggan          1.000000       0.151375  ... -0.039968         -0.245717\n",
            "Jenis Kelamin         0.151375       1.000000  ...  0.238051         -0.088339\n",
            "Pendapatan            0.110958       0.192849  ...  0.592044         -0.312663\n",
            "Harga                -0.028707       0.457555  ...  0.645455         -0.380798\n",
            "Jumlah                0.011289      -0.104168  ...  0.636097          0.017568\n",
            "Total                -0.039968       0.238051  ...  1.000000         -0.268345\n",
            "Tingkat Kepuasan     -0.245717      -0.088339  ... -0.268345          1.000000\n",
            "\n",
            "[7 rows x 7 columns]\n",
            "                  ID Pelanggan  Jenis Kelamin  ...     Total  Tingkat Kepuasan\n",
            "ID Pelanggan          1.000000       0.126650  ... -0.065998         -0.183817\n",
            "Jenis Kelamin         0.126650       1.000000  ...  0.190245         -0.085796\n",
            "Pendapatan           -0.054998       0.190245  ...  0.988506         -0.165588\n",
            "Harga                -0.005753       0.415339  ...  0.535078         -0.325659\n",
            "Jumlah                0.024016      -0.090299  ...  0.501925         -0.028923\n",
            "Total                -0.065998       0.190245  ...  1.000000         -0.165588\n",
            "Tingkat Kepuasan     -0.183817      -0.085796  ... -0.165588          1.000000\n",
            "\n",
            "[7 rows x 7 columns]\n",
            "                  ID Pelanggan  Jenis Kelamin  ...     Total  Tingkat Kepuasan\n",
            "ID Pelanggan          1.000000       0.151375  ... -0.069779         -0.238890\n",
            "Jenis Kelamin         0.151375       1.000000  ...  0.219508         -0.090784\n",
            "Pendapatan           -0.063711       0.219508  ...  0.998470         -0.192463\n",
            "Harga                -0.039149       0.463635  ...  0.646194         -0.378933\n",
            "Jumlah                0.046356      -0.098864  ...  0.607110         -0.023874\n",
            "Total                -0.069779       0.219508  ...  1.000000         -0.192463\n",
            "Tingkat Kepuasan     -0.238890      -0.090784  ... -0.192463          1.000000\n",
            "\n",
            "[7 rows x 7 columns]\n"
          ]
        }
      ]
    }
  ]
}